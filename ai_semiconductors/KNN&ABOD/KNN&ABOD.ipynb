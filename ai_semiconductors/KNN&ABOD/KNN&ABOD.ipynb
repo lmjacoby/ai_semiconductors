{
 "cells": [
  {
   "cell_type": "code",
   "execution_count": 1,
   "metadata": {
    "ExecuteTime": {
     "end_time": "2020-05-03T21:45:25.776050Z",
     "start_time": "2020-05-03T21:45:22.716988Z"
    }
   },
   "outputs": [],
   "source": [
    "import os\n",
    "import pandas as pd\n",
    "import numpy as np\n",
    "os.chdir('..\\ModelExploration') \n",
    "import standardize\n",
    "from pyod.models.abod import ABOD\n",
    "from pyod.models.knn import KNN\n",
    "from scipy import stats\n",
    "import matplotlib.pyplot as plt\n",
    "import matplotlib.font_manager\n",
    "%matplotlib inline"
   ]
  },
  {
   "cell_type": "code",
   "execution_count": 41,
   "metadata": {
    "ExecuteTime": {
     "end_time": "2020-05-03T22:36:36.796133Z",
     "start_time": "2020-05-03T22:36:36.762227Z"
    }
   },
   "outputs": [
    {
     "data": {
      "text/html": [
       "<div>\n",
       "<style scoped>\n",
       "    .dataframe tbody tr th:only-of-type {\n",
       "        vertical-align: middle;\n",
       "    }\n",
       "\n",
       "    .dataframe tbody tr th {\n",
       "        vertical-align: top;\n",
       "    }\n",
       "\n",
       "    .dataframe thead th {\n",
       "        text-align: right;\n",
       "    }\n",
       "</style>\n",
       "<table border=\"1\" class=\"dataframe\">\n",
       "  <thead>\n",
       "    <tr style=\"text-align: right;\">\n",
       "      <th></th>\n",
       "      <th>Type</th>\n",
       "      <th>AB</th>\n",
       "      <th>Site</th>\n",
       "      <th>Impurity</th>\n",
       "      <th>∆H (A-rich)</th>\n",
       "      <th>∆H (B-rich)</th>\n",
       "      <th>(+2/+1)</th>\n",
       "      <th>(+1/0)</th>\n",
       "      <th>(0/-1)</th>\n",
       "      <th>(-1/-2)</th>\n",
       "      <th>...</th>\n",
       "      <th>Therm_cond</th>\n",
       "      <th>Elec_cond</th>\n",
       "      <th>Heat_fusion</th>\n",
       "      <th>Heat_vap</th>\n",
       "      <th>Electronegativity</th>\n",
       "      <th>At_num</th>\n",
       "      <th>Period</th>\n",
       "      <th>Group</th>\n",
       "      <th>Valence</th>\n",
       "      <th>Ox_state</th>\n",
       "    </tr>\n",
       "  </thead>\n",
       "  <tbody>\n",
       "    <tr>\n",
       "      <th>0</th>\n",
       "      <td>IV-IV</td>\n",
       "      <td>SiC</td>\n",
       "      <td>M_i_A</td>\n",
       "      <td>In</td>\n",
       "      <td>15.963</td>\n",
       "      <td>15.963</td>\n",
       "      <td>3.891</td>\n",
       "      <td>4.660</td>\n",
       "      <td>5.109</td>\n",
       "      <td>5.629</td>\n",
       "      <td>...</td>\n",
       "      <td>81.60</td>\n",
       "      <td>3.4</td>\n",
       "      <td>3.26</td>\n",
       "      <td>226.34</td>\n",
       "      <td>1.78</td>\n",
       "      <td>49</td>\n",
       "      <td>5</td>\n",
       "      <td>13</td>\n",
       "      <td>3</td>\n",
       "      <td>3</td>\n",
       "    </tr>\n",
       "    <tr>\n",
       "      <th>1</th>\n",
       "      <td>IV-IV</td>\n",
       "      <td>SiC</td>\n",
       "      <td>M_i_B</td>\n",
       "      <td>La</td>\n",
       "      <td>19.972</td>\n",
       "      <td>19.554</td>\n",
       "      <td>3.863</td>\n",
       "      <td>4.539</td>\n",
       "      <td>4.991</td>\n",
       "      <td>5.556</td>\n",
       "      <td>...</td>\n",
       "      <td>13.50</td>\n",
       "      <td>1.9</td>\n",
       "      <td>11.30</td>\n",
       "      <td>399.57</td>\n",
       "      <td>1.10</td>\n",
       "      <td>57</td>\n",
       "      <td>6</td>\n",
       "      <td>3</td>\n",
       "      <td>3</td>\n",
       "      <td>3</td>\n",
       "    </tr>\n",
       "    <tr>\n",
       "      <th>2</th>\n",
       "      <td>IV-IV</td>\n",
       "      <td>SiC</td>\n",
       "      <td>M_i_neut</td>\n",
       "      <td>Zn</td>\n",
       "      <td>7.157</td>\n",
       "      <td>7.157</td>\n",
       "      <td>3.206</td>\n",
       "      <td>4.244</td>\n",
       "      <td>4.734</td>\n",
       "      <td>5.363</td>\n",
       "      <td>...</td>\n",
       "      <td>116.00</td>\n",
       "      <td>16.9</td>\n",
       "      <td>7.38</td>\n",
       "      <td>115.30</td>\n",
       "      <td>1.65</td>\n",
       "      <td>30</td>\n",
       "      <td>4</td>\n",
       "      <td>12</td>\n",
       "      <td>2</td>\n",
       "      <td>2</td>\n",
       "    </tr>\n",
       "    <tr>\n",
       "      <th>3</th>\n",
       "      <td>IV-IV</td>\n",
       "      <td>SiC</td>\n",
       "      <td>M_i_B</td>\n",
       "      <td>Al</td>\n",
       "      <td>6.951</td>\n",
       "      <td>7.110</td>\n",
       "      <td>3.503</td>\n",
       "      <td>4.242</td>\n",
       "      <td>4.650</td>\n",
       "      <td>5.319</td>\n",
       "      <td>...</td>\n",
       "      <td>237.00</td>\n",
       "      <td>37.7</td>\n",
       "      <td>10.70</td>\n",
       "      <td>290.80</td>\n",
       "      <td>1.61</td>\n",
       "      <td>13</td>\n",
       "      <td>3</td>\n",
       "      <td>13</td>\n",
       "      <td>3</td>\n",
       "      <td>3</td>\n",
       "    </tr>\n",
       "    <tr>\n",
       "      <th>4</th>\n",
       "      <td>IV-IV</td>\n",
       "      <td>SiC</td>\n",
       "      <td>M_B</td>\n",
       "      <td>I</td>\n",
       "      <td>8.783</td>\n",
       "      <td>9.201</td>\n",
       "      <td>3.614</td>\n",
       "      <td>4.221</td>\n",
       "      <td>5.058</td>\n",
       "      <td>5.608</td>\n",
       "      <td>...</td>\n",
       "      <td>0.45</td>\n",
       "      <td>0.0</td>\n",
       "      <td>7.76</td>\n",
       "      <td>20.90</td>\n",
       "      <td>2.66</td>\n",
       "      <td>53</td>\n",
       "      <td>5</td>\n",
       "      <td>17</td>\n",
       "      <td>7</td>\n",
       "      <td>1</td>\n",
       "    </tr>\n",
       "  </tbody>\n",
       "</table>\n",
       "<p>5 rows × 55 columns</p>\n",
       "</div>"
      ],
      "text/plain": [
       "    Type   AB      Site Impurity  ∆H (A-rich)  ∆H (B-rich)  (+2/+1)  (+1/0)  \\\n",
       "0  IV-IV  SiC     M_i_A       In       15.963       15.963    3.891   4.660   \n",
       "1  IV-IV  SiC     M_i_B       La       19.972       19.554    3.863   4.539   \n",
       "2  IV-IV  SiC  M_i_neut       Zn        7.157        7.157    3.206   4.244   \n",
       "3  IV-IV  SiC     M_i_B       Al        6.951        7.110    3.503   4.242   \n",
       "4  IV-IV  SiC       M_B        I        8.783        9.201    3.614   4.221   \n",
       "\n",
       "   (0/-1)  (-1/-2)  ...  Therm_cond  Elec_cond  Heat_fusion  Heat_vap  \\\n",
       "0   5.109    5.629  ...       81.60        3.4         3.26    226.34   \n",
       "1   4.991    5.556  ...       13.50        1.9        11.30    399.57   \n",
       "2   4.734    5.363  ...      116.00       16.9         7.38    115.30   \n",
       "3   4.650    5.319  ...      237.00       37.7        10.70    290.80   \n",
       "4   5.058    5.608  ...        0.45        0.0         7.76     20.90   \n",
       "\n",
       "   Electronegativity  At_num  Period  Group  Valence  Ox_state  \n",
       "0               1.78      49       5     13        3         3  \n",
       "1               1.10      57       6      3        3         3  \n",
       "2               1.65      30       4     12        2         2  \n",
       "3               1.61      13       3     13        3         3  \n",
       "4               2.66      53       5     17        7         1  \n",
       "\n",
       "[5 rows x 55 columns]"
      ]
     },
     "execution_count": 41,
     "metadata": {},
     "output_type": "execute_result"
    }
   ],
   "source": [
    "data = pd.read_csv('../ModelExploration/ML_data.csv')\n",
    "data.head()"
   ]
  },
  {
   "cell_type": "code",
   "execution_count": 40,
   "metadata": {
    "ExecuteTime": {
     "end_time": "2020-05-03T22:36:12.380511Z",
     "start_time": "2020-05-03T22:36:12.343576Z"
    },
    "collapsed": true
   },
   "outputs": [
    {
     "name": "stderr",
     "output_type": "stream",
     "text": [
      "C:\\Users\\xiang\\Anaconda3\\lib\\site-packages\\pandas\\core\\computation\\expressions.py:194: UserWarning: evaluating in Python space because the '+' operator is not supported by numexpr for the bool dtype, use '|' instead\n",
      "  op=op_str, alt_op=unsupported[op_str]\n"
     ]
    },
    {
     "data": {
      "text/html": [
       "<div>\n",
       "<style scoped>\n",
       "    .dataframe tbody tr th:only-of-type {\n",
       "        vertical-align: middle;\n",
       "    }\n",
       "\n",
       "    .dataframe tbody tr th {\n",
       "        vertical-align: top;\n",
       "    }\n",
       "\n",
       "    .dataframe thead th {\n",
       "        text-align: right;\n",
       "    }\n",
       "</style>\n",
       "<table border=\"1\" class=\"dataframe\">\n",
       "  <thead>\n",
       "    <tr style=\"text-align: right;\">\n",
       "      <th></th>\n",
       "      <th>Type</th>\n",
       "      <th>AB</th>\n",
       "      <th>Site</th>\n",
       "      <th>Impurity</th>\n",
       "      <th>∆H (A-rich)</th>\n",
       "      <th>∆H (B-rich)</th>\n",
       "      <th>(+2/+1)</th>\n",
       "      <th>(+1/0)</th>\n",
       "      <th>(0/-1)</th>\n",
       "      <th>(-1/-2)</th>\n",
       "      <th>...</th>\n",
       "      <th>Therm_cond</th>\n",
       "      <th>Elec_cond</th>\n",
       "      <th>Heat_fusion</th>\n",
       "      <th>Heat_vap</th>\n",
       "      <th>Electronegativity</th>\n",
       "      <th>At_num</th>\n",
       "      <th>Period</th>\n",
       "      <th>Group</th>\n",
       "      <th>Valence</th>\n",
       "      <th>Ox_state</th>\n",
       "    </tr>\n",
       "  </thead>\n",
       "  <tbody>\n",
       "    <tr>\n",
       "      <th>0</th>\n",
       "      <td>IV-IV</td>\n",
       "      <td>SiC</td>\n",
       "      <td>M_i_A</td>\n",
       "      <td>In</td>\n",
       "      <td>15.963</td>\n",
       "      <td>15.963</td>\n",
       "      <td>3.891</td>\n",
       "      <td>4.660</td>\n",
       "      <td>5.109</td>\n",
       "      <td>5.629</td>\n",
       "      <td>...</td>\n",
       "      <td>81.60</td>\n",
       "      <td>3.4</td>\n",
       "      <td>3.26</td>\n",
       "      <td>226.34</td>\n",
       "      <td>1.78</td>\n",
       "      <td>49</td>\n",
       "      <td>5</td>\n",
       "      <td>13</td>\n",
       "      <td>3</td>\n",
       "      <td>3</td>\n",
       "    </tr>\n",
       "    <tr>\n",
       "      <th>1</th>\n",
       "      <td>IV-IV</td>\n",
       "      <td>SiC</td>\n",
       "      <td>M_i_B</td>\n",
       "      <td>La</td>\n",
       "      <td>19.972</td>\n",
       "      <td>19.554</td>\n",
       "      <td>3.863</td>\n",
       "      <td>4.539</td>\n",
       "      <td>4.991</td>\n",
       "      <td>5.556</td>\n",
       "      <td>...</td>\n",
       "      <td>13.50</td>\n",
       "      <td>1.9</td>\n",
       "      <td>11.30</td>\n",
       "      <td>399.57</td>\n",
       "      <td>1.10</td>\n",
       "      <td>57</td>\n",
       "      <td>6</td>\n",
       "      <td>3</td>\n",
       "      <td>3</td>\n",
       "      <td>3</td>\n",
       "    </tr>\n",
       "    <tr>\n",
       "      <th>6</th>\n",
       "      <td>III-V</td>\n",
       "      <td>BN</td>\n",
       "      <td>M_A</td>\n",
       "      <td>Pb</td>\n",
       "      <td>17.053</td>\n",
       "      <td>9.405</td>\n",
       "      <td>-0.954</td>\n",
       "      <td>4.167</td>\n",
       "      <td>5.413</td>\n",
       "      <td>6.755</td>\n",
       "      <td>...</td>\n",
       "      <td>35.30</td>\n",
       "      <td>4.8</td>\n",
       "      <td>4.77</td>\n",
       "      <td>177.90</td>\n",
       "      <td>2.33</td>\n",
       "      <td>82</td>\n",
       "      <td>6</td>\n",
       "      <td>14</td>\n",
       "      <td>4</td>\n",
       "      <td>2</td>\n",
       "    </tr>\n",
       "    <tr>\n",
       "      <th>8</th>\n",
       "      <td>III-V</td>\n",
       "      <td>AlN</td>\n",
       "      <td>M_i_B</td>\n",
       "      <td>Ca</td>\n",
       "      <td>12.449</td>\n",
       "      <td>14.825</td>\n",
       "      <td>3.086</td>\n",
       "      <td>4.097</td>\n",
       "      <td>4.989</td>\n",
       "      <td>5.718</td>\n",
       "      <td>...</td>\n",
       "      <td>200.00</td>\n",
       "      <td>31.3</td>\n",
       "      <td>8.53</td>\n",
       "      <td>154.67</td>\n",
       "      <td>1.00</td>\n",
       "      <td>20</td>\n",
       "      <td>4</td>\n",
       "      <td>2</td>\n",
       "      <td>2</td>\n",
       "      <td>2</td>\n",
       "    </tr>\n",
       "    <tr>\n",
       "      <th>10</th>\n",
       "      <td>III-V</td>\n",
       "      <td>AlN</td>\n",
       "      <td>M_i_neut</td>\n",
       "      <td>Si</td>\n",
       "      <td>11.129</td>\n",
       "      <td>14.190</td>\n",
       "      <td>2.969</td>\n",
       "      <td>4.003</td>\n",
       "      <td>4.726</td>\n",
       "      <td>5.517</td>\n",
       "      <td>...</td>\n",
       "      <td>148.00</td>\n",
       "      <td>0.0</td>\n",
       "      <td>50.20</td>\n",
       "      <td>359.00</td>\n",
       "      <td>1.90</td>\n",
       "      <td>14</td>\n",
       "      <td>3</td>\n",
       "      <td>14</td>\n",
       "      <td>4</td>\n",
       "      <td>4</td>\n",
       "    </tr>\n",
       "    <tr>\n",
       "      <th>...</th>\n",
       "      <td>...</td>\n",
       "      <td>...</td>\n",
       "      <td>...</td>\n",
       "      <td>...</td>\n",
       "      <td>...</td>\n",
       "      <td>...</td>\n",
       "      <td>...</td>\n",
       "      <td>...</td>\n",
       "      <td>...</td>\n",
       "      <td>...</td>\n",
       "      <td>...</td>\n",
       "      <td>...</td>\n",
       "      <td>...</td>\n",
       "      <td>...</td>\n",
       "      <td>...</td>\n",
       "      <td>...</td>\n",
       "      <td>...</td>\n",
       "      <td>...</td>\n",
       "      <td>...</td>\n",
       "      <td>...</td>\n",
       "      <td>...</td>\n",
       "    </tr>\n",
       "    <tr>\n",
       "      <th>789</th>\n",
       "      <td>IV-IV</td>\n",
       "      <td>SnC</td>\n",
       "      <td>M_i_A</td>\n",
       "      <td>I</td>\n",
       "      <td>14.807</td>\n",
       "      <td>15.560</td>\n",
       "      <td>-1.467</td>\n",
       "      <td>-1.407</td>\n",
       "      <td>-0.658</td>\n",
       "      <td>0.060</td>\n",
       "      <td>...</td>\n",
       "      <td>0.45</td>\n",
       "      <td>0.0</td>\n",
       "      <td>7.76</td>\n",
       "      <td>20.90</td>\n",
       "      <td>2.66</td>\n",
       "      <td>53</td>\n",
       "      <td>5</td>\n",
       "      <td>17</td>\n",
       "      <td>7</td>\n",
       "      <td>1</td>\n",
       "    </tr>\n",
       "    <tr>\n",
       "      <th>808</th>\n",
       "      <td>IV-IV</td>\n",
       "      <td>SnC</td>\n",
       "      <td>M_i_A</td>\n",
       "      <td>Se</td>\n",
       "      <td>10.598</td>\n",
       "      <td>14.083</td>\n",
       "      <td>-1.742</td>\n",
       "      <td>-1.625</td>\n",
       "      <td>-0.774</td>\n",
       "      <td>-0.393</td>\n",
       "      <td>...</td>\n",
       "      <td>2.04</td>\n",
       "      <td>8.0</td>\n",
       "      <td>5.54</td>\n",
       "      <td>26.32</td>\n",
       "      <td>2.55</td>\n",
       "      <td>34</td>\n",
       "      <td>4</td>\n",
       "      <td>16</td>\n",
       "      <td>6</td>\n",
       "      <td>4</td>\n",
       "    </tr>\n",
       "    <tr>\n",
       "      <th>812</th>\n",
       "      <td>IV-IV</td>\n",
       "      <td>SnC</td>\n",
       "      <td>M_B</td>\n",
       "      <td>Nb</td>\n",
       "      <td>10.669</td>\n",
       "      <td>10.150</td>\n",
       "      <td>-2.283</td>\n",
       "      <td>-1.641</td>\n",
       "      <td>-1.150</td>\n",
       "      <td>-0.272</td>\n",
       "      <td>...</td>\n",
       "      <td>53.70</td>\n",
       "      <td>6.6</td>\n",
       "      <td>26.90</td>\n",
       "      <td>690.10</td>\n",
       "      <td>1.60</td>\n",
       "      <td>41</td>\n",
       "      <td>5</td>\n",
       "      <td>5</td>\n",
       "      <td>5</td>\n",
       "      <td>5</td>\n",
       "    </tr>\n",
       "    <tr>\n",
       "      <th>837</th>\n",
       "      <td>IV-IV</td>\n",
       "      <td>SnC</td>\n",
       "      <td>M_A</td>\n",
       "      <td>Cs</td>\n",
       "      <td>7.297</td>\n",
       "      <td>13.112</td>\n",
       "      <td>-2.886</td>\n",
       "      <td>-2.012</td>\n",
       "      <td>-1.279</td>\n",
       "      <td>-0.834</td>\n",
       "      <td>...</td>\n",
       "      <td>35.90</td>\n",
       "      <td>5.3</td>\n",
       "      <td>2.09</td>\n",
       "      <td>67.74</td>\n",
       "      <td>0.79</td>\n",
       "      <td>55</td>\n",
       "      <td>6</td>\n",
       "      <td>1</td>\n",
       "      <td>1</td>\n",
       "      <td>1</td>\n",
       "    </tr>\n",
       "    <tr>\n",
       "      <th>844</th>\n",
       "      <td>IV-IV</td>\n",
       "      <td>SnC</td>\n",
       "      <td>M_i_B</td>\n",
       "      <td>Pd</td>\n",
       "      <td>4.411</td>\n",
       "      <td>10.442</td>\n",
       "      <td>-2.632</td>\n",
       "      <td>-2.205</td>\n",
       "      <td>-0.599</td>\n",
       "      <td>-0.019</td>\n",
       "      <td>...</td>\n",
       "      <td>71.80</td>\n",
       "      <td>10.0</td>\n",
       "      <td>16.74</td>\n",
       "      <td>393.30</td>\n",
       "      <td>2.20</td>\n",
       "      <td>46</td>\n",
       "      <td>5</td>\n",
       "      <td>10</td>\n",
       "      <td>4</td>\n",
       "      <td>2</td>\n",
       "    </tr>\n",
       "  </tbody>\n",
       "</table>\n",
       "<p>87 rows × 55 columns</p>\n",
       "</div>"
      ],
      "text/plain": [
       "      Type   AB      Site Impurity  ∆H (A-rich)  ∆H (B-rich)  (+2/+1)  (+1/0)  \\\n",
       "0    IV-IV  SiC     M_i_A       In       15.963       15.963    3.891   4.660   \n",
       "1    IV-IV  SiC     M_i_B       La       19.972       19.554    3.863   4.539   \n",
       "6    III-V   BN       M_A       Pb       17.053        9.405   -0.954   4.167   \n",
       "8    III-V  AlN     M_i_B       Ca       12.449       14.825    3.086   4.097   \n",
       "10   III-V  AlN  M_i_neut       Si       11.129       14.190    2.969   4.003   \n",
       "..     ...  ...       ...      ...          ...          ...      ...     ...   \n",
       "789  IV-IV  SnC     M_i_A        I       14.807       15.560   -1.467  -1.407   \n",
       "808  IV-IV  SnC     M_i_A       Se       10.598       14.083   -1.742  -1.625   \n",
       "812  IV-IV  SnC       M_B       Nb       10.669       10.150   -2.283  -1.641   \n",
       "837  IV-IV  SnC       M_A       Cs        7.297       13.112   -2.886  -2.012   \n",
       "844  IV-IV  SnC     M_i_B       Pd        4.411       10.442   -2.632  -2.205   \n",
       "\n",
       "     (0/-1)  (-1/-2)  ...  Therm_cond  Elec_cond  Heat_fusion  Heat_vap  \\\n",
       "0     5.109    5.629  ...       81.60        3.4         3.26    226.34   \n",
       "1     4.991    5.556  ...       13.50        1.9        11.30    399.57   \n",
       "6     5.413    6.755  ...       35.30        4.8         4.77    177.90   \n",
       "8     4.989    5.718  ...      200.00       31.3         8.53    154.67   \n",
       "10    4.726    5.517  ...      148.00        0.0        50.20    359.00   \n",
       "..      ...      ...  ...         ...        ...          ...       ...   \n",
       "789  -0.658    0.060  ...        0.45        0.0         7.76     20.90   \n",
       "808  -0.774   -0.393  ...        2.04        8.0         5.54     26.32   \n",
       "812  -1.150   -0.272  ...       53.70        6.6        26.90    690.10   \n",
       "837  -1.279   -0.834  ...       35.90        5.3         2.09     67.74   \n",
       "844  -0.599   -0.019  ...       71.80       10.0        16.74    393.30   \n",
       "\n",
       "     Electronegativity  At_num  Period  Group  Valence  Ox_state  \n",
       "0                 1.78      49       5     13        3         3  \n",
       "1                 1.10      57       6      3        3         3  \n",
       "6                 2.33      82       6     14        4         2  \n",
       "8                 1.00      20       4      2        2         2  \n",
       "10                1.90      14       3     14        4         4  \n",
       "..                 ...     ...     ...    ...      ...       ...  \n",
       "789               2.66      53       5     17        7         1  \n",
       "808               2.55      34       4     16        6         4  \n",
       "812               1.60      41       5      5        5         5  \n",
       "837               0.79      55       6      1        1         1  \n",
       "844               2.20      46       5     10        4         2  \n",
       "\n",
       "[87 rows x 55 columns]"
      ]
     },
     "execution_count": 40,
     "metadata": {},
     "output_type": "execute_result"
    }
   ],
   "source": [
    "data[(data['∆H (A-rich)']>10) + (data['∆H (B-rich)']>10)]"
   ]
  },
  {
   "cell_type": "code",
   "execution_count": 42,
   "metadata": {
    "ExecuteTime": {
     "end_time": "2020-05-03T22:36:40.026480Z",
     "start_time": "2020-05-03T22:36:40.021492Z"
    }
   },
   "outputs": [
    {
     "data": {
      "text/plain": [
       "853"
      ]
     },
     "execution_count": 42,
     "metadata": {},
     "output_type": "execute_result"
    }
   ],
   "source": [
    "len(data)"
   ]
  },
  {
   "cell_type": "code",
   "execution_count": 43,
   "metadata": {
    "ExecuteTime": {
     "end_time": "2020-05-03T22:36:41.789384Z",
     "start_time": "2020-05-03T22:36:41.780375Z"
    }
   },
   "outputs": [],
   "source": [
    "data_1 = data[data['Type']=='II-VI']\n",
    "data_2 = data[data['Type']=='III-V']\n",
    "data_3 = data[data['Type']=='IV-IV']"
   ]
  },
  {
   "cell_type": "code",
   "execution_count": 44,
   "metadata": {
    "ExecuteTime": {
     "end_time": "2020-05-03T22:36:43.101720Z",
     "start_time": "2020-05-03T22:36:43.095734Z"
    }
   },
   "outputs": [
    {
     "data": {
      "text/plain": [
       "['∆H (A-rich)', '∆H (B-rich)', '(+2/+1)', '(+1/0)', '(0/-1)', '(-1/-2)']"
      ]
     },
     "execution_count": 44,
     "metadata": {},
     "output_type": "execute_result"
    }
   ],
   "source": [
    "descriptors = list(data.columns[4:10])\n",
    "descriptors"
   ]
  },
  {
   "cell_type": "code",
   "execution_count": 45,
   "metadata": {
    "ExecuteTime": {
     "end_time": "2020-05-03T22:36:43.817338Z",
     "start_time": "2020-05-03T22:36:43.813348Z"
    }
   },
   "outputs": [],
   "source": [
    "outlier_fraction=0.1\n",
    "classifiers = {\n",
    "     'Angle-based Outlier Detector (ABOD)'   : ABOD(contamination=outlier_fraction),\n",
    "     'K Nearest Neighbors (KNN)' :  KNN(contamination=outlier_fraction)\n",
    "}"
   ]
  },
  {
   "cell_type": "code",
   "execution_count": 64,
   "metadata": {
    "ExecuteTime": {
     "end_time": "2020-05-03T22:41:53.786145Z",
     "start_time": "2020-05-03T22:41:53.777169Z"
    }
   },
   "outputs": [
    {
     "data": {
      "text/plain": [
       "array([[15.963, 15.963,  3.891,  4.66 ,  5.109,  5.629],\n",
       "       [19.972, 19.554,  3.863,  4.539,  4.991,  5.556],\n",
       "       [ 7.157,  7.157,  3.206,  4.244,  4.734,  5.363],\n",
       "       ...,\n",
       "       [-1.598,  0.946, -2.75 , -2.404, -1.048, -0.521],\n",
       "       [ 1.462,  7.277, -2.902, -2.44 , -0.73 , -0.075],\n",
       "       [ 3.072,  3.825, -3.066, -2.641, -2.32 , -1.833]])"
      ]
     },
     "execution_count": 64,
     "metadata": {},
     "output_type": "execute_result"
    }
   ],
   "source": [
    "input_matrix = np.array(data_3[descriptors])\n",
    "#input_matrix = input_matrix.reshape(-1,1)\n",
    "input_matrix"
   ]
  },
  {
   "cell_type": "code",
   "execution_count": null,
   "metadata": {},
   "outputs": [],
   "source": []
  },
  {
   "cell_type": "code",
   "execution_count": 65,
   "metadata": {
    "ExecuteTime": {
     "end_time": "2020-05-03T22:41:56.699102Z",
     "start_time": "2020-05-03T22:41:56.215388Z"
    }
   },
   "outputs": [
    {
     "name": "stdout",
     "output_type": "stream",
     "text": [
      "No of Outliers :  Angle-based Outlier Detector (ABOD) 21\n",
      "No of Outliers :  K Nearest Neighbors (KNN) 12\n"
     ]
    },
    {
     "data": {
      "image/png": "[encoded data removed]",
      "text/plain": [
       "<Figure size 576x432 with 1 Axes>"
      ]
     },
     "metadata": {
      "needs_background": "light"
     },
     "output_type": "display_data"
    },
    {
     "data": {
      "image/png": "[encoded data removed]",
      "text/plain": [
       "<Figure size 576x432 with 1 Axes>"
      ]
     },
     "metadata": {
      "needs_background": "light"
     },
     "output_type": "display_data"
    }
   ],
   "source": [
    "y_pred = np.zeros((len(input_matrix), 2))\n",
    "for i, (clf_name,clf) in enumerate(classifiers.items()) :\n",
    "    # fit the dataset to the model\n",
    "    clf.fit(input_matrix)\n",
    "\n",
    "    # predict raw anomaly score\n",
    "    scores_pred = clf.decision_function(input_matrix)*-1\n",
    "\n",
    "    # prediction of a datapoint category outlier or inlier\n",
    "    y_pred[:,i] = clf.predict(input_matrix)\n",
    "\n",
    "    # no of outliers in prediction\n",
    "    n_outliers = int(y_pred[:,i].sum())\n",
    "    print('No of Outliers : ',clf_name, n_outliers)\n",
    "\n",
    "    # threshold value to consider a datapoint inlier or outlier\n",
    "    threshold = stats.scoreatpercentile(scores_pred,100 *outlier_fraction)\n",
    "\n",
    "    fig = plt.figure(figsize=(8,6))\n",
    "    subplot = plt.subplot(1, 2, i + 1)\n",
    "    fig.tight_layout()\n",
    "    # scatter plot of inliers with white dots\n",
    "    a = subplot.scatter(input_matrix[:-n_outliers, 0], input_matrix[:-n_outliers, 1], c='white',s=20, edgecolor='k') \n",
    "    # scatter plot of outliers with black dots\n",
    "    b = subplot.scatter(input_matrix[-n_outliers:, 0], input_matrix[-n_outliers:, 1], c='black',s=20, edgecolor='k')\n",
    "    subplot.axis('tight')\n",
    "    subplot.legend(\n",
    "        [a, b],\n",
    "        ['true inliers', 'true outliers'],\n",
    "        prop=matplotlib.font_manager.FontProperties(size=10),\n",
    "        loc='lower right')\n",
    "    subplot.set_title(clf_name)\n",
    "    subplot.set_xlim((-10, 10))\n",
    "    subplot.set_ylim((-10, 10))\n",
    "plt.show() "
   ]
  },
  {
   "cell_type": "code",
   "execution_count": 49,
   "metadata": {
    "ExecuteTime": {
     "end_time": "2020-05-03T22:37:17.576668Z",
     "start_time": "2020-05-03T22:37:15.643627Z"
    }
   },
   "outputs": [
    {
     "data": {
      "image/png": "[encoded data removed]",
      "text/plain": [
       "<Figure size 864x864 with 2 Axes>"
      ]
     },
     "metadata": {
      "needs_background": "light"
     },
     "output_type": "display_data"
    },
    {
     "data": {
      "image/png": "[encoded data removed]",
      "text/plain": [
       "<Figure size 864x864 with 2 Axes>"
      ]
     },
     "metadata": {
      "needs_background": "light"
     },
     "output_type": "display_data"
    },
    {
     "data": {
      "image/png": "[encoded data removed]",
      "text/plain": [
       "<Figure size 864x864 with 2 Axes>"
      ]
     },
     "metadata": {
      "needs_background": "light"
     },
     "output_type": "display_data"
    },
    {
     "data": {
      "image/png": "[encoded data removed]",
      "text/plain": [
       "<Figure size 864x864 with 2 Axes>"
      ]
     },
     "metadata": {
      "needs_background": "light"
     },
     "output_type": "display_data"
    },
    {
     "data": {
      "image/png": "[encoded data removed]",
      "text/plain": [
       "<Figure size 864x864 with 2 Axes>"
      ]
     },
     "metadata": {
      "needs_background": "light"
     },
     "output_type": "display_data"
    },
    {
     "data": {
      "image/png": "[encoded data removed]",
      "text/plain": [
       "<Figure size 864x864 with 2 Axes>"
      ]
     },
     "metadata": {
      "needs_background": "light"
     },
     "output_type": "display_data"
    }
   ],
   "source": [
    "#ABOD\n",
    "for i in range(len(descriptors)):\n",
    "    plt.figure(figsize=(12,12))\n",
    "    plt.subplot(6,2,1)\n",
    "    data_1[y_pred[:,0]!=0][descriptors[i]].hist()\n",
    "    plt.title(descriptors[i] + ', Outliers')\n",
    "    plt.subplot(6,2,2)\n",
    "    data_1[descriptors[i]].hist()\n",
    "    plt.title(descriptors[i] + ', Origin')"
   ]
  },
  {
   "cell_type": "code",
   "execution_count": 66,
   "metadata": {
    "ExecuteTime": {
     "end_time": "2020-05-03T22:42:03.454032Z",
     "start_time": "2020-05-03T22:42:01.581596Z"
    }
   },
   "outputs": [
    {
     "data": {
      "image/png": "[encoded data removed]",
      "text/plain": [
       "<Figure size 864x864 with 2 Axes>"
      ]
     },
     "metadata": {
      "needs_background": "light"
     },
     "output_type": "display_data"
    },
    {
     "data": {
      "image/png": "[encoded data removed]",
      "text/plain": [
       "<Figure size 864x864 with 2 Axes>"
      ]
     },
     "metadata": {
      "needs_background": "light"
     },
     "output_type": "display_data"
    },
    {
     "data": {
      "image/png": "[encoded data removed]",
      "text/plain": [
       "<Figure size 864x864 with 2 Axes>"
      ]
     },
     "metadata": {
      "needs_background": "light"
     },
     "output_type": "display_data"
    },
    {
     "data": {
      "image/png": "[encoded data removed]",
      "text/plain": [
       "<Figure size 864x864 with 2 Axes>"
      ]
     },
     "metadata": {
      "needs_background": "light"
     },
     "output_type": "display_data"
    },
    {
     "data": {
      "image/png": "[encoded data removed]",
      "text/plain": [
       "<Figure size 864x864 with 2 Axes>"
      ]
     },
     "metadata": {
      "needs_background": "light"
     },
     "output_type": "display_data"
    },
    {
     "data": {
      "image/png": "[encoded data removed]",
      "text/plain": [
       "<Figure size 864x864 with 2 Axes>"
      ]
     },
     "metadata": {
      "needs_background": "light"
     },
     "output_type": "display_data"
    }
   ],
   "source": [
    "#KNN\n",
    "for i in range(len(descriptors)):\n",
    "    plt.figure(figsize=(12,12))\n",
    "    plt.subplot(6,2,1)\n",
    "    data_3[y_pred[:,1]!=0][descriptors[i]].hist()\n",
    "    plt.title(descriptors[i] + ', Outliers')\n",
    "    plt.subplot(6,2,2)\n",
    "    data_3[descriptors[i]].hist()\n",
    "    plt.title(descriptors[i] + ', Origin')"
   ]
  },
  {
   "cell_type": "code",
   "execution_count": 67,
   "metadata": {
    "ExecuteTime": {
     "end_time": "2020-05-03T22:42:07.046174Z",
     "start_time": "2020-05-03T22:42:07.038193Z"
    }
   },
   "outputs": [],
   "source": [
    "outlier_df_KNN = data_3[y_pred[:,1]!=0]\n",
    "outlier_df_KNN.to_csv(r'\\Users\\xiang\\Desktop\\AI semiconductor\\ai_semiconductors\\ai_semiconductors\\outlier_KNN_IV_IV.csv')"
   ]
  },
  {
   "cell_type": "code",
   "execution_count": 68,
   "metadata": {
    "ExecuteTime": {
     "end_time": "2020-05-03T22:42:08.315680Z",
     "start_time": "2020-05-03T22:42:08.291744Z"
    },
    "scrolled": true
   },
   "outputs": [
    {
     "data": {
      "text/html": [
       "<div>\n",
       "<style scoped>\n",
       "    .dataframe tbody tr th:only-of-type {\n",
       "        vertical-align: middle;\n",
       "    }\n",
       "\n",
       "    .dataframe tbody tr th {\n",
       "        vertical-align: top;\n",
       "    }\n",
       "\n",
       "    .dataframe thead th {\n",
       "        text-align: right;\n",
       "    }\n",
       "</style>\n",
       "<table border=\"1\" class=\"dataframe\">\n",
       "  <thead>\n",
       "    <tr style=\"text-align: right;\">\n",
       "      <th></th>\n",
       "      <th>Type</th>\n",
       "      <th>AB</th>\n",
       "      <th>Site</th>\n",
       "      <th>Impurity</th>\n",
       "      <th>∆H (A-rich)</th>\n",
       "      <th>∆H (B-rich)</th>\n",
       "      <th>(+2/+1)</th>\n",
       "      <th>(+1/0)</th>\n",
       "      <th>(0/-1)</th>\n",
       "      <th>(-1/-2)</th>\n",
       "      <th>...</th>\n",
       "      <th>Therm_cond</th>\n",
       "      <th>Elec_cond</th>\n",
       "      <th>Heat_fusion</th>\n",
       "      <th>Heat_vap</th>\n",
       "      <th>Electronegativity</th>\n",
       "      <th>At_num</th>\n",
       "      <th>Period</th>\n",
       "      <th>Group</th>\n",
       "      <th>Valence</th>\n",
       "      <th>Ox_state</th>\n",
       "    </tr>\n",
       "  </thead>\n",
       "  <tbody>\n",
       "    <tr>\n",
       "      <th>0</th>\n",
       "      <td>IV-IV</td>\n",
       "      <td>SiC</td>\n",
       "      <td>M_i_A</td>\n",
       "      <td>In</td>\n",
       "      <td>15.963</td>\n",
       "      <td>15.963</td>\n",
       "      <td>3.891</td>\n",
       "      <td>4.660</td>\n",
       "      <td>5.109</td>\n",
       "      <td>5.629</td>\n",
       "      <td>...</td>\n",
       "      <td>81.60</td>\n",
       "      <td>3.4</td>\n",
       "      <td>3.26</td>\n",
       "      <td>226.34</td>\n",
       "      <td>1.78</td>\n",
       "      <td>49</td>\n",
       "      <td>5</td>\n",
       "      <td>13</td>\n",
       "      <td>3</td>\n",
       "      <td>3</td>\n",
       "    </tr>\n",
       "    <tr>\n",
       "      <th>1</th>\n",
       "      <td>IV-IV</td>\n",
       "      <td>SiC</td>\n",
       "      <td>M_i_B</td>\n",
       "      <td>La</td>\n",
       "      <td>19.972</td>\n",
       "      <td>19.554</td>\n",
       "      <td>3.863</td>\n",
       "      <td>4.539</td>\n",
       "      <td>4.991</td>\n",
       "      <td>5.556</td>\n",
       "      <td>...</td>\n",
       "      <td>13.50</td>\n",
       "      <td>1.9</td>\n",
       "      <td>11.30</td>\n",
       "      <td>399.57</td>\n",
       "      <td>1.10</td>\n",
       "      <td>57</td>\n",
       "      <td>6</td>\n",
       "      <td>3</td>\n",
       "      <td>3</td>\n",
       "      <td>3</td>\n",
       "    </tr>\n",
       "    <tr>\n",
       "      <th>20</th>\n",
       "      <td>IV-IV</td>\n",
       "      <td>C</td>\n",
       "      <td>M_A</td>\n",
       "      <td>Te</td>\n",
       "      <td>20.361</td>\n",
       "      <td>20.365</td>\n",
       "      <td>2.655</td>\n",
       "      <td>3.755</td>\n",
       "      <td>4.639</td>\n",
       "      <td>5.689</td>\n",
       "      <td>...</td>\n",
       "      <td>2.35</td>\n",
       "      <td>0.0</td>\n",
       "      <td>17.49</td>\n",
       "      <td>50.63</td>\n",
       "      <td>2.10</td>\n",
       "      <td>52</td>\n",
       "      <td>5</td>\n",
       "      <td>16</td>\n",
       "      <td>6</td>\n",
       "      <td>4</td>\n",
       "    </tr>\n",
       "    <tr>\n",
       "      <th>31</th>\n",
       "      <td>IV-IV</td>\n",
       "      <td>C</td>\n",
       "      <td>M_i_A</td>\n",
       "      <td>Co</td>\n",
       "      <td>18.489</td>\n",
       "      <td>18.489</td>\n",
       "      <td>-0.858</td>\n",
       "      <td>2.935</td>\n",
       "      <td>3.583</td>\n",
       "      <td>5.417</td>\n",
       "      <td>...</td>\n",
       "      <td>100.00</td>\n",
       "      <td>17.9</td>\n",
       "      <td>16.19</td>\n",
       "      <td>373.30</td>\n",
       "      <td>1.88</td>\n",
       "      <td>27</td>\n",
       "      <td>4</td>\n",
       "      <td>9</td>\n",
       "      <td>3</td>\n",
       "      <td>2</td>\n",
       "    </tr>\n",
       "    <tr>\n",
       "      <th>41</th>\n",
       "      <td>IV-IV</td>\n",
       "      <td>C</td>\n",
       "      <td>M_A</td>\n",
       "      <td>Br</td>\n",
       "      <td>18.301</td>\n",
       "      <td>18.305</td>\n",
       "      <td>1.045</td>\n",
       "      <td>2.637</td>\n",
       "      <td>3.932</td>\n",
       "      <td>5.081</td>\n",
       "      <td>...</td>\n",
       "      <td>0.12</td>\n",
       "      <td>0.0</td>\n",
       "      <td>5.29</td>\n",
       "      <td>14.72</td>\n",
       "      <td>2.96</td>\n",
       "      <td>35</td>\n",
       "      <td>4</td>\n",
       "      <td>17</td>\n",
       "      <td>7</td>\n",
       "      <td>1</td>\n",
       "    </tr>\n",
       "    <tr>\n",
       "      <th>72</th>\n",
       "      <td>IV-IV</td>\n",
       "      <td>C</td>\n",
       "      <td>M_i_neut</td>\n",
       "      <td>P</td>\n",
       "      <td>20.642</td>\n",
       "      <td>20.642</td>\n",
       "      <td>-0.409</td>\n",
       "      <td>2.183</td>\n",
       "      <td>3.901</td>\n",
       "      <td>5.652</td>\n",
       "      <td>...</td>\n",
       "      <td>0.23</td>\n",
       "      <td>0.0</td>\n",
       "      <td>0.63</td>\n",
       "      <td>12.40</td>\n",
       "      <td>2.19</td>\n",
       "      <td>15</td>\n",
       "      <td>3</td>\n",
       "      <td>15</td>\n",
       "      <td>5</td>\n",
       "      <td>5</td>\n",
       "    </tr>\n",
       "    <tr>\n",
       "      <th>403</th>\n",
       "      <td>IV-IV</td>\n",
       "      <td>GeC</td>\n",
       "      <td>M_i_A</td>\n",
       "      <td>Sb</td>\n",
       "      <td>16.708</td>\n",
       "      <td>17.620</td>\n",
       "      <td>0.455</td>\n",
       "      <td>0.878</td>\n",
       "      <td>1.199</td>\n",
       "      <td>1.666</td>\n",
       "      <td>...</td>\n",
       "      <td>24.30</td>\n",
       "      <td>2.6</td>\n",
       "      <td>19.83</td>\n",
       "      <td>67.97</td>\n",
       "      <td>2.05</td>\n",
       "      <td>51</td>\n",
       "      <td>5</td>\n",
       "      <td>15</td>\n",
       "      <td>5</td>\n",
       "      <td>3</td>\n",
       "    </tr>\n",
       "    <tr>\n",
       "      <th>465</th>\n",
       "      <td>IV-IV</td>\n",
       "      <td>GeC</td>\n",
       "      <td>M_i_neut</td>\n",
       "      <td>Pb</td>\n",
       "      <td>16.563</td>\n",
       "      <td>16.632</td>\n",
       "      <td>-0.008</td>\n",
       "      <td>0.645</td>\n",
       "      <td>1.138</td>\n",
       "      <td>1.641</td>\n",
       "      <td>...</td>\n",
       "      <td>35.30</td>\n",
       "      <td>4.8</td>\n",
       "      <td>4.77</td>\n",
       "      <td>177.90</td>\n",
       "      <td>2.33</td>\n",
       "      <td>82</td>\n",
       "      <td>6</td>\n",
       "      <td>14</td>\n",
       "      <td>4</td>\n",
       "      <td>2</td>\n",
       "    </tr>\n",
       "    <tr>\n",
       "      <th>745</th>\n",
       "      <td>IV-IV</td>\n",
       "      <td>SnC</td>\n",
       "      <td>M_B</td>\n",
       "      <td>Ba</td>\n",
       "      <td>20.062</td>\n",
       "      <td>18.292</td>\n",
       "      <td>-1.062</td>\n",
       "      <td>-0.809</td>\n",
       "      <td>-0.528</td>\n",
       "      <td>-0.177</td>\n",
       "      <td>...</td>\n",
       "      <td>18.40</td>\n",
       "      <td>2.8</td>\n",
       "      <td>8.01</td>\n",
       "      <td>140.20</td>\n",
       "      <td>0.89</td>\n",
       "      <td>56</td>\n",
       "      <td>6</td>\n",
       "      <td>2</td>\n",
       "      <td>2</td>\n",
       "      <td>2</td>\n",
       "    </tr>\n",
       "    <tr>\n",
       "      <th>758</th>\n",
       "      <td>IV-IV</td>\n",
       "      <td>SnC</td>\n",
       "      <td>M_i_neut</td>\n",
       "      <td>Na</td>\n",
       "      <td>7.884</td>\n",
       "      <td>14.781</td>\n",
       "      <td>-2.645</td>\n",
       "      <td>-0.970</td>\n",
       "      <td>-0.351</td>\n",
       "      <td>-0.011</td>\n",
       "      <td>...</td>\n",
       "      <td>141.00</td>\n",
       "      <td>20.1</td>\n",
       "      <td>2.60</td>\n",
       "      <td>98.01</td>\n",
       "      <td>0.93</td>\n",
       "      <td>11</td>\n",
       "      <td>3</td>\n",
       "      <td>1</td>\n",
       "      <td>1</td>\n",
       "      <td>1</td>\n",
       "    </tr>\n",
       "    <tr>\n",
       "      <th>844</th>\n",
       "      <td>IV-IV</td>\n",
       "      <td>SnC</td>\n",
       "      <td>M_i_B</td>\n",
       "      <td>Pd</td>\n",
       "      <td>4.411</td>\n",
       "      <td>10.442</td>\n",
       "      <td>-2.632</td>\n",
       "      <td>-2.205</td>\n",
       "      <td>-0.599</td>\n",
       "      <td>-0.019</td>\n",
       "      <td>...</td>\n",
       "      <td>71.80</td>\n",
       "      <td>10.0</td>\n",
       "      <td>16.74</td>\n",
       "      <td>393.30</td>\n",
       "      <td>2.20</td>\n",
       "      <td>46</td>\n",
       "      <td>5</td>\n",
       "      <td>10</td>\n",
       "      <td>4</td>\n",
       "      <td>2</td>\n",
       "    </tr>\n",
       "    <tr>\n",
       "      <th>849</th>\n",
       "      <td>IV-IV</td>\n",
       "      <td>SnC</td>\n",
       "      <td>M_A</td>\n",
       "      <td>Pb</td>\n",
       "      <td>1.462</td>\n",
       "      <td>7.277</td>\n",
       "      <td>-2.902</td>\n",
       "      <td>-2.440</td>\n",
       "      <td>-0.730</td>\n",
       "      <td>-0.075</td>\n",
       "      <td>...</td>\n",
       "      <td>35.30</td>\n",
       "      <td>4.8</td>\n",
       "      <td>4.77</td>\n",
       "      <td>177.90</td>\n",
       "      <td>2.33</td>\n",
       "      <td>82</td>\n",
       "      <td>6</td>\n",
       "      <td>14</td>\n",
       "      <td>4</td>\n",
       "      <td>2</td>\n",
       "    </tr>\n",
       "  </tbody>\n",
       "</table>\n",
       "<p>12 rows × 55 columns</p>\n",
       "</div>"
      ],
      "text/plain": [
       "      Type   AB      Site Impurity  ∆H (A-rich)  ∆H (B-rich)  (+2/+1)  (+1/0)  \\\n",
       "0    IV-IV  SiC     M_i_A       In       15.963       15.963    3.891   4.660   \n",
       "1    IV-IV  SiC     M_i_B       La       19.972       19.554    3.863   4.539   \n",
       "20   IV-IV    C       M_A       Te       20.361       20.365    2.655   3.755   \n",
       "31   IV-IV    C     M_i_A       Co       18.489       18.489   -0.858   2.935   \n",
       "41   IV-IV    C       M_A       Br       18.301       18.305    1.045   2.637   \n",
       "72   IV-IV    C  M_i_neut        P       20.642       20.642   -0.409   2.183   \n",
       "403  IV-IV  GeC     M_i_A       Sb       16.708       17.620    0.455   0.878   \n",
       "465  IV-IV  GeC  M_i_neut       Pb       16.563       16.632   -0.008   0.645   \n",
       "745  IV-IV  SnC       M_B       Ba       20.062       18.292   -1.062  -0.809   \n",
       "758  IV-IV  SnC  M_i_neut       Na        7.884       14.781   -2.645  -0.970   \n",
       "844  IV-IV  SnC     M_i_B       Pd        4.411       10.442   -2.632  -2.205   \n",
       "849  IV-IV  SnC       M_A       Pb        1.462        7.277   -2.902  -2.440   \n",
       "\n",
       "     (0/-1)  (-1/-2)  ...  Therm_cond  Elec_cond  Heat_fusion  Heat_vap  \\\n",
       "0     5.109    5.629  ...       81.60        3.4         3.26    226.34   \n",
       "1     4.991    5.556  ...       13.50        1.9        11.30    399.57   \n",
       "20    4.639    5.689  ...        2.35        0.0        17.49     50.63   \n",
       "31    3.583    5.417  ...      100.00       17.9        16.19    373.30   \n",
       "41    3.932    5.081  ...        0.12        0.0         5.29     14.72   \n",
       "72    3.901    5.652  ...        0.23        0.0         0.63     12.40   \n",
       "403   1.199    1.666  ...       24.30        2.6        19.83     67.97   \n",
       "465   1.138    1.641  ...       35.30        4.8         4.77    177.90   \n",
       "745  -0.528   -0.177  ...       18.40        2.8         8.01    140.20   \n",
       "758  -0.351   -0.011  ...      141.00       20.1         2.60     98.01   \n",
       "844  -0.599   -0.019  ...       71.80       10.0        16.74    393.30   \n",
       "849  -0.730   -0.075  ...       35.30        4.8         4.77    177.90   \n",
       "\n",
       "     Electronegativity  At_num  Period  Group  Valence  Ox_state  \n",
       "0                 1.78      49       5     13        3         3  \n",
       "1                 1.10      57       6      3        3         3  \n",
       "20                2.10      52       5     16        6         4  \n",
       "31                1.88      27       4      9        3         2  \n",
       "41                2.96      35       4     17        7         1  \n",
       "72                2.19      15       3     15        5         5  \n",
       "403               2.05      51       5     15        5         3  \n",
       "465               2.33      82       6     14        4         2  \n",
       "745               0.89      56       6      2        2         2  \n",
       "758               0.93      11       3      1        1         1  \n",
       "844               2.20      46       5     10        4         2  \n",
       "849               2.33      82       6     14        4         2  \n",
       "\n",
       "[12 rows x 55 columns]"
      ]
     },
     "execution_count": 68,
     "metadata": {},
     "output_type": "execute_result"
    }
   ],
   "source": [
    "pd.DataFrame(outlier_df_KNN)"
   ]
  },
  {
   "cell_type": "code",
   "execution_count": 273,
   "metadata": {
    "ExecuteTime": {
     "end_time": "2020-05-03T02:35:42.279796Z",
     "start_time": "2020-05-03T02:35:42.271818Z"
    }
   },
   "outputs": [],
   "source": [
    "outlier_df_ABOD = data[y_pred[:,0]!=0]\n",
    "outlier_df_ABOD.to_csv(r'\\Users\\xiang\\Desktop\\AI semiconductor\\ai_semiconductors\\ai_semiconductors\\outlier_df_ABOD.csv')"
   ]
  },
  {
   "cell_type": "code",
   "execution_count": 274,
   "metadata": {
    "ExecuteTime": {
     "end_time": "2020-05-03T02:37:07.786738Z",
     "start_time": "2020-05-03T02:37:07.777792Z"
    }
   },
   "outputs": [
    {
     "data": {
      "text/plain": [
       "(array([  0,   1,   6,   8,  10,  14,  15,  18,  20,  21,  26,  27,  41,\n",
       "         45,  72, 332, 403, 404, 465, 480, 688, 723, 745, 782, 789, 837],\n",
       "       dtype=int64), 26)"
      ]
     },
     "execution_count": 274,
     "metadata": {},
     "output_type": "execute_result"
    }
   ],
   "source": [
    "np.intersect1d(data[y_pred[:,0]!=0].index,data[y_pred[:,1]!=0].index), len(np.intersect1d(data[y_pred[:,0]!=0].index,data[y_pred[:,1]!=0].index))"
   ]
  },
  {
   "cell_type": "code",
   "execution_count": null,
   "metadata": {},
   "outputs": [],
   "source": []
  }
 ],
 "metadata": {
  "kernelspec": {
   "display_name": "Python 3",
   "language": "python",
   "name": "python3"
  },
  "language_info": {
   "codemirror_mode": {
    "name": "ipython",
    "version": 3
   },
   "file_extension": ".py",
   "mimetype": "text/x-python",
   "name": "python",
   "nbconvert_exporter": "python",
   "pygments_lexer": "ipython3",
   "version": "3.7.3"
  },
  "toc": {
   "base_numbering": 1,
   "nav_menu": {},
   "number_sections": true,
   "sideBar": true,
   "skip_h1_title": false,
   "title_cell": "Table of Contents",
   "title_sidebar": "Contents",
   "toc_cell": false,
   "toc_position": {},
   "toc_section_display": true,
   "toc_window_display": false
  },
  "varInspector": {
   "cols": {
    "lenName": 16,
    "lenType": 16,
    "lenVar": 40
   },
   "kernels_config": {
    "python": {
     "delete_cmd_postfix": "",
     "delete_cmd_prefix": "del ",
     "library": "var_list.py",
     "varRefreshCmd": "print(var_dic_list())"
    },
    "r": {
     "delete_cmd_postfix": ") ",
     "delete_cmd_prefix": "rm(",
     "library": "var_list.r",
     "varRefreshCmd": "cat(var_dic_list()) "
    }
   },
   "types_to_exclude": [
    "module",
    "function",
    "builtin_function_or_method",
    "instance",
    "_Feature"
   ],
   "window_display": false
  }
 },
 "nbformat": 4,
 "nbformat_minor": 2
}
