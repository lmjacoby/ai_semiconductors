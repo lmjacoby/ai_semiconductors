{
 "cells": [
  {
   "cell_type": "code",
   "execution_count": 27,
   "metadata": {
    "ExecuteTime": {
     "end_time": "2020-04-26T22:45:41.602416Z",
     "start_time": "2020-04-26T22:45:41.599390Z"
    }
   },
   "outputs": [],
   "source": [
    "import pandas as pd\n",
    "import numpy as np\n",
    "from math import sqrt"
   ]
  },
  {
   "cell_type": "code",
   "execution_count": 28,
   "metadata": {
    "ExecuteTime": {
     "end_time": "2020-04-26T22:45:42.115408Z",
     "start_time": "2020-04-26T22:45:42.090474Z"
    }
   },
   "outputs": [
    {
     "data": {
      "text/html": [
       "<div>\n",
       "<style scoped>\n",
       "    .dataframe tbody tr th:only-of-type {\n",
       "        vertical-align: middle;\n",
       "    }\n",
       "\n",
       "    .dataframe tbody tr th {\n",
       "        vertical-align: top;\n",
       "    }\n",
       "\n",
       "    .dataframe thead th {\n",
       "        text-align: right;\n",
       "    }\n",
       "</style>\n",
       "<table border=\"1\" class=\"dataframe\">\n",
       "  <thead>\n",
       "    <tr style=\"text-align: right;\">\n",
       "      <th></th>\n",
       "      <th>M</th>\n",
       "      <th>CdX</th>\n",
       "      <th>Doping Site</th>\n",
       "      <th>∆H(Cd-rich)</th>\n",
       "      <th>∆H(Te-rich)</th>\n",
       "      <th>(+2/+1)</th>\n",
       "      <th>(+1/0)</th>\n",
       "      <th>(0/-1)</th>\n",
       "      <th>(-1/-2)</th>\n",
       "      <th>Period</th>\n",
       "      <th>...</th>\n",
       "      <th>Delta EN</th>\n",
       "      <th>Delta At. Num.</th>\n",
       "      <th>Delta Val.</th>\n",
       "      <th># Cd Neighbors</th>\n",
       "      <th># Te Neighbors</th>\n",
       "      <th>Corrected VBM (eV)</th>\n",
       "      <th>Corrected CBM (eV)</th>\n",
       "      <th>∆H(Cd-rich).1</th>\n",
       "      <th>∆H(Mod)</th>\n",
       "      <th>∆H(Te-rich).1</th>\n",
       "    </tr>\n",
       "  </thead>\n",
       "  <tbody>\n",
       "    <tr>\n",
       "      <th>0</th>\n",
       "      <td>S</td>\n",
       "      <td>CdTe</td>\n",
       "      <td>M_Cd</td>\n",
       "      <td>5.043</td>\n",
       "      <td>3.147</td>\n",
       "      <td>-1.556</td>\n",
       "      <td>0.433</td>\n",
       "      <td>0.433</td>\n",
       "      <td>1.081</td>\n",
       "      <td>3</td>\n",
       "      <td>...</td>\n",
       "      <td>0.89</td>\n",
       "      <td>-32</td>\n",
       "      <td>4</td>\n",
       "      <td>0</td>\n",
       "      <td>4</td>\n",
       "      <td>2.557</td>\n",
       "      <td>2.542</td>\n",
       "      <td>4.544</td>\n",
       "      <td>3.596</td>\n",
       "      <td>2.648</td>\n",
       "    </tr>\n",
       "    <tr>\n",
       "      <th>1</th>\n",
       "      <td>Br</td>\n",
       "      <td>CdTe</td>\n",
       "      <td>M_Cd</td>\n",
       "      <td>4.532</td>\n",
       "      <td>3.110</td>\n",
       "      <td>-0.816</td>\n",
       "      <td>0.617</td>\n",
       "      <td>0.933</td>\n",
       "      <td>1.579</td>\n",
       "      <td>4</td>\n",
       "      <td>...</td>\n",
       "      <td>1.27</td>\n",
       "      <td>-13</td>\n",
       "      <td>5</td>\n",
       "      <td>0</td>\n",
       "      <td>4</td>\n",
       "      <td>2.560</td>\n",
       "      <td>2.545</td>\n",
       "      <td>4.336</td>\n",
       "      <td>3.625</td>\n",
       "      <td>2.914</td>\n",
       "    </tr>\n",
       "    <tr>\n",
       "      <th>2</th>\n",
       "      <td>O</td>\n",
       "      <td>CdSe_0.5S_0.5</td>\n",
       "      <td>M_Se</td>\n",
       "      <td>0.742</td>\n",
       "      <td>1.380</td>\n",
       "      <td>-0.732</td>\n",
       "      <td>-0.405</td>\n",
       "      <td>1.277</td>\n",
       "      <td>1.820</td>\n",
       "      <td>2</td>\n",
       "      <td>...</td>\n",
       "      <td>0.89</td>\n",
       "      <td>26</td>\n",
       "      <td>4</td>\n",
       "      <td>4</td>\n",
       "      <td>0</td>\n",
       "      <td>0.178</td>\n",
       "      <td>0.793</td>\n",
       "      <td>1.145</td>\n",
       "      <td>1.141</td>\n",
       "      <td>1.783</td>\n",
       "    </tr>\n",
       "    <tr>\n",
       "      <th>3</th>\n",
       "      <td>O</td>\n",
       "      <td>CdTe_0.5Se_0.5</td>\n",
       "      <td>M_Se</td>\n",
       "      <td>0.995</td>\n",
       "      <td>1.589</td>\n",
       "      <td>-0.681</td>\n",
       "      <td>-0.366</td>\n",
       "      <td>0.969</td>\n",
       "      <td>1.433</td>\n",
       "      <td>2</td>\n",
       "      <td>...</td>\n",
       "      <td>0.89</td>\n",
       "      <td>26</td>\n",
       "      <td>4</td>\n",
       "      <td>4</td>\n",
       "      <td>0</td>\n",
       "      <td>0.786</td>\n",
       "      <td>1.011</td>\n",
       "      <td>1.439</td>\n",
       "      <td>1.610</td>\n",
       "      <td>2.034</td>\n",
       "    </tr>\n",
       "    <tr>\n",
       "      <th>4</th>\n",
       "      <td>Os</td>\n",
       "      <td>CdTe</td>\n",
       "      <td>M_Te</td>\n",
       "      <td>5.718</td>\n",
       "      <td>6.666</td>\n",
       "      <td>-0.676</td>\n",
       "      <td>-0.235</td>\n",
       "      <td>0.970</td>\n",
       "      <td>1.437</td>\n",
       "      <td>6</td>\n",
       "      <td>...</td>\n",
       "      <td>0.10</td>\n",
       "      <td>24</td>\n",
       "      <td>2</td>\n",
       "      <td>4</td>\n",
       "      <td>0</td>\n",
       "      <td>1.728</td>\n",
       "      <td>2.223</td>\n",
       "      <td>5.722</td>\n",
       "      <td>6.196</td>\n",
       "      <td>6.670</td>\n",
       "    </tr>\n",
       "  </tbody>\n",
       "</table>\n",
       "<p>5 rows × 28 columns</p>\n",
       "</div>"
      ],
      "text/plain": [
       "    M             CdX Doping Site  ∆H(Cd-rich)  ∆H(Te-rich)  (+2/+1)  (+1/0)  \\\n",
       "0   S            CdTe        M_Cd        5.043        3.147   -1.556   0.433   \n",
       "1  Br            CdTe        M_Cd        4.532        3.110   -0.816   0.617   \n",
       "2   O   CdSe_0.5S_0.5        M_Se        0.742        1.380   -0.732  -0.405   \n",
       "3   O  CdTe_0.5Se_0.5        M_Se        0.995        1.589   -0.681  -0.366   \n",
       "4  Os            CdTe        M_Te        5.718        6.666   -0.676  -0.235   \n",
       "\n",
       "   (0/-1)  (-1/-2)  Period  ...  Delta EN  Delta At. Num.  Delta Val.  \\\n",
       "0   0.433    1.081       3  ...      0.89             -32           4   \n",
       "1   0.933    1.579       4  ...      1.27             -13           5   \n",
       "2   1.277    1.820       2  ...      0.89              26           4   \n",
       "3   0.969    1.433       2  ...      0.89              26           4   \n",
       "4   0.970    1.437       6  ...      0.10              24           2   \n",
       "\n",
       "   # Cd Neighbors  # Te Neighbors  Corrected VBM (eV)  Corrected CBM (eV)  \\\n",
       "0               0               4               2.557               2.542   \n",
       "1               0               4               2.560               2.545   \n",
       "2               4               0               0.178               0.793   \n",
       "3               4               0               0.786               1.011   \n",
       "4               4               0               1.728               2.223   \n",
       "\n",
       "   ∆H(Cd-rich).1  ∆H(Mod)  ∆H(Te-rich).1  \n",
       "0          4.544    3.596          2.648  \n",
       "1          4.336    3.625          2.914  \n",
       "2          1.145    1.141          1.783  \n",
       "3          1.439    1.610          2.034  \n",
       "4          5.722    6.196          6.670  \n",
       "\n",
       "[5 rows x 28 columns]"
      ]
     },
     "execution_count": 28,
     "metadata": {},
     "output_type": "execute_result"
    }
   ],
   "source": [
    "data = pd.read_csv('Initial_data.csv')\n",
    "data = data.drop(columns = ['Unnamed: 9'])\n",
    "data.head()"
   ]
  },
  {
   "cell_type": "code",
   "execution_count": 29,
   "metadata": {
    "ExecuteTime": {
     "end_time": "2020-04-26T22:45:42.770917Z",
     "start_time": "2020-04-26T22:45:42.745028Z"
    }
   },
   "outputs": [],
   "source": [
    "predictors = list(data.columns[3:9])\n",
    "features = list(data.columns[9:27])\n",
    "all_features = []\n",
    "for feat in features:\n",
    "    square_feat = feat + '_square' \n",
    "    data[square_feat] = data[feat] ** 2\n",
    "    if data[feat].min() >= 0:\n",
    "        sqrt_feat = feat + '_sqrt'\n",
    "        data[sqrt_feat] = data[feat].apply(sqrt)\n",
    "        all_features.extend([feat, square_feat, sqrt_feat])\n",
    "    else:\n",
    "        all_features.extend([feat, square_feat])"
   ]
  },
  {
   "cell_type": "code",
   "execution_count": 30,
   "metadata": {
    "ExecuteTime": {
     "end_time": "2020-04-26T22:45:43.370022Z",
     "start_time": "2020-04-26T22:45:43.314205Z"
    }
   },
   "outputs": [
    {
     "data": {
      "text/html": [
       "<div>\n",
       "<style scoped>\n",
       "    .dataframe tbody tr th:only-of-type {\n",
       "        vertical-align: middle;\n",
       "    }\n",
       "\n",
       "    .dataframe tbody tr th {\n",
       "        vertical-align: top;\n",
       "    }\n",
       "\n",
       "    .dataframe thead th {\n",
       "        text-align: right;\n",
       "    }\n",
       "</style>\n",
       "<table border=\"1\" class=\"dataframe\">\n",
       "  <thead>\n",
       "    <tr style=\"text-align: right;\">\n",
       "      <th></th>\n",
       "      <th>M</th>\n",
       "      <th>CdX</th>\n",
       "      <th>Doping Site</th>\n",
       "      <th>∆H(Cd-rich)</th>\n",
       "      <th>∆H(Te-rich)</th>\n",
       "      <th>(+2/+1)</th>\n",
       "      <th>(+1/0)</th>\n",
       "      <th>(0/-1)</th>\n",
       "      <th>(-1/-2)</th>\n",
       "      <th>Period</th>\n",
       "      <th>...</th>\n",
       "      <th># Te Neighbors_square</th>\n",
       "      <th># Te Neighbors_sqrt</th>\n",
       "      <th>Corrected VBM (eV)_square</th>\n",
       "      <th>Corrected VBM (eV)_sqrt</th>\n",
       "      <th>Corrected CBM (eV)_square</th>\n",
       "      <th>Corrected CBM (eV)_sqrt</th>\n",
       "      <th>∆H(Cd-rich).1_square</th>\n",
       "      <th>∆H(Cd-rich).1_sqrt</th>\n",
       "      <th>∆H(Mod)_square</th>\n",
       "      <th>∆H(Mod)_sqrt</th>\n",
       "    </tr>\n",
       "  </thead>\n",
       "  <tbody>\n",
       "    <tr>\n",
       "      <th>0</th>\n",
       "      <td>S</td>\n",
       "      <td>CdTe</td>\n",
       "      <td>M_Cd</td>\n",
       "      <td>1.848614</td>\n",
       "      <td>-0.470445</td>\n",
       "      <td>-1.698014</td>\n",
       "      <td>-0.394115</td>\n",
       "      <td>-0.975473</td>\n",
       "      <td>-0.857633</td>\n",
       "      <td>-1.108704</td>\n",
       "      <td>...</td>\n",
       "      <td>1.008398</td>\n",
       "      <td>0.672706</td>\n",
       "      <td>-0.673641</td>\n",
       "      <td>-0.399537</td>\n",
       "      <td>-0.774966</td>\n",
       "      <td>-0.536864</td>\n",
       "      <td>0.732711</td>\n",
       "      <td>0.864289</td>\n",
       "      <td>-0.055435</td>\n",
       "      <td>0.278804</td>\n",
       "    </tr>\n",
       "    <tr>\n",
       "      <th>1</th>\n",
       "      <td>Br</td>\n",
       "      <td>CdTe</td>\n",
       "      <td>M_Cd</td>\n",
       "      <td>1.337614</td>\n",
       "      <td>-0.507445</td>\n",
       "      <td>-0.958014</td>\n",
       "      <td>-0.210115</td>\n",
       "      <td>-0.475473</td>\n",
       "      <td>-0.359633</td>\n",
       "      <td>-0.294888</td>\n",
       "      <td>...</td>\n",
       "      <td>1.008398</td>\n",
       "      <td>0.672706</td>\n",
       "      <td>-0.670493</td>\n",
       "      <td>-0.396207</td>\n",
       "      <td>-0.771660</td>\n",
       "      <td>-0.533180</td>\n",
       "      <td>0.559898</td>\n",
       "      <td>0.751924</td>\n",
       "      <td>-0.037694</td>\n",
       "      <td>0.295312</td>\n",
       "    </tr>\n",
       "    <tr>\n",
       "      <th>2</th>\n",
       "      <td>O</td>\n",
       "      <td>CdSe_0.5S_0.5</td>\n",
       "      <td>M_Se</td>\n",
       "      <td>-2.452386</td>\n",
       "      <td>-2.237445</td>\n",
       "      <td>-0.874014</td>\n",
       "      <td>-1.232115</td>\n",
       "      <td>-0.131473</td>\n",
       "      <td>-0.118633</td>\n",
       "      <td>-1.922519</td>\n",
       "      <td>...</td>\n",
       "      <td>-1.676451</td>\n",
       "      <td>-1.944474</td>\n",
       "      <td>-2.008097</td>\n",
       "      <td>-4.579015</td>\n",
       "      <td>-2.038645</td>\n",
       "      <td>-3.294268</td>\n",
       "      <td>-1.076498</td>\n",
       "      <td>-1.552456</td>\n",
       "      <td>-1.040668</td>\n",
       "      <td>-1.512643</td>\n",
       "    </tr>\n",
       "    <tr>\n",
       "      <th>3</th>\n",
       "      <td>O</td>\n",
       "      <td>CdTe_0.5Se_0.5</td>\n",
       "      <td>M_Se</td>\n",
       "      <td>-2.199386</td>\n",
       "      <td>-2.028445</td>\n",
       "      <td>-0.823014</td>\n",
       "      <td>-1.193115</td>\n",
       "      <td>-0.439473</td>\n",
       "      <td>-0.505633</td>\n",
       "      <td>-1.922519</td>\n",
       "      <td>...</td>\n",
       "      <td>-1.676451</td>\n",
       "      <td>-1.944474</td>\n",
       "      <td>-1.887889</td>\n",
       "      <td>-2.929232</td>\n",
       "      <td>-1.953444</td>\n",
       "      <td>-2.843831</td>\n",
       "      <td>-1.005419</td>\n",
       "      <td>-1.257570</td>\n",
       "      <td>-0.931361</td>\n",
       "      <td>-1.078523</td>\n",
       "    </tr>\n",
       "    <tr>\n",
       "      <th>4</th>\n",
       "      <td>Os</td>\n",
       "      <td>CdTe</td>\n",
       "      <td>M_Te</td>\n",
       "      <td>2.523614</td>\n",
       "      <td>3.048555</td>\n",
       "      <td>-0.818014</td>\n",
       "      <td>-1.062115</td>\n",
       "      <td>-0.438473</td>\n",
       "      <td>-0.501633</td>\n",
       "      <td>1.332742</td>\n",
       "      <td>...</td>\n",
       "      <td>-1.676451</td>\n",
       "      <td>-1.944474</td>\n",
       "      <td>-1.402189</td>\n",
       "      <td>-1.409745</td>\n",
       "      <td>-1.104276</td>\n",
       "      <td>-0.941908</td>\n",
       "      <td>1.864195</td>\n",
       "      <td>1.457092</td>\n",
       "      <td>2.101458</td>\n",
       "      <td>1.561305</td>\n",
       "    </tr>\n",
       "  </tbody>\n",
       "</table>\n",
       "<p>5 rows × 55 columns</p>\n",
       "</div>"
      ],
      "text/plain": [
       "    M             CdX Doping Site  ∆H(Cd-rich)  ∆H(Te-rich)   (+2/+1)  \\\n",
       "0   S            CdTe        M_Cd     1.848614    -0.470445 -1.698014   \n",
       "1  Br            CdTe        M_Cd     1.337614    -0.507445 -0.958014   \n",
       "2   O   CdSe_0.5S_0.5        M_Se    -2.452386    -2.237445 -0.874014   \n",
       "3   O  CdTe_0.5Se_0.5        M_Se    -2.199386    -2.028445 -0.823014   \n",
       "4  Os            CdTe        M_Te     2.523614     3.048555 -0.818014   \n",
       "\n",
       "     (+1/0)    (0/-1)   (-1/-2)    Period  ...  # Te Neighbors_square  \\\n",
       "0 -0.394115 -0.975473 -0.857633 -1.108704  ...               1.008398   \n",
       "1 -0.210115 -0.475473 -0.359633 -0.294888  ...               1.008398   \n",
       "2 -1.232115 -0.131473 -0.118633 -1.922519  ...              -1.676451   \n",
       "3 -1.193115 -0.439473 -0.505633 -1.922519  ...              -1.676451   \n",
       "4 -1.062115 -0.438473 -0.501633  1.332742  ...              -1.676451   \n",
       "\n",
       "   # Te Neighbors_sqrt  Corrected VBM (eV)_square  Corrected VBM (eV)_sqrt  \\\n",
       "0             0.672706                  -0.673641                -0.399537   \n",
       "1             0.672706                  -0.670493                -0.396207   \n",
       "2            -1.944474                  -2.008097                -4.579015   \n",
       "3            -1.944474                  -1.887889                -2.929232   \n",
       "4            -1.944474                  -1.402189                -1.409745   \n",
       "\n",
       "   Corrected CBM (eV)_square  Corrected CBM (eV)_sqrt  ∆H(Cd-rich).1_square  \\\n",
       "0                  -0.774966                -0.536864              0.732711   \n",
       "1                  -0.771660                -0.533180              0.559898   \n",
       "2                  -2.038645                -3.294268             -1.076498   \n",
       "3                  -1.953444                -2.843831             -1.005419   \n",
       "4                  -1.104276                -0.941908              1.864195   \n",
       "\n",
       "   ∆H(Cd-rich).1_sqrt  ∆H(Mod)_square  ∆H(Mod)_sqrt  \n",
       "0            0.864289       -0.055435      0.278804  \n",
       "1            0.751924       -0.037694      0.295312  \n",
       "2           -1.552456       -1.040668     -1.512643  \n",
       "3           -1.257570       -0.931361     -1.078523  \n",
       "4            1.457092        2.101458      1.561305  \n",
       "\n",
       "[5 rows x 55 columns]"
      ]
     },
     "execution_count": 30,
     "metadata": {},
     "output_type": "execute_result"
    }
   ],
   "source": [
    "def standardize(v):\n",
    "    \"\"\"\n",
    "    Takes a single column of a DataFrame and returns a new column \n",
    "    with the data standardized (mean 0, std deviation 1)\n",
    "    \"\"\"\n",
    "    std = v.std()\n",
    "    if std == 0:\n",
    "        return np.zeros(len(v))\n",
    "    else:\n",
    "        return (v - v.mean()) / std\n",
    "\n",
    "# Standardize each of the features\n",
    "for feature in all_features:\n",
    "    data[feature] = standardize(data[feature])\n",
    "    \n",
    "# Make the predictors have mean 0 \n",
    "for predictor in predictors:\n",
    "    mean_pre = data[predictor].mean() \n",
    "    data[predictor] -= mean_pre\n",
    "\n",
    "# Preview\n",
    "data.head()"
   ]
  },
  {
   "cell_type": "code",
   "execution_count": 43,
   "metadata": {
    "ExecuteTime": {
     "end_time": "2020-04-26T22:47:19.697524Z",
     "start_time": "2020-04-26T22:47:19.687583Z"
    }
   },
   "outputs": [],
   "source": [
    "X = data.iloc[:, 9:55]\n",
    "y1 = data.iloc[:, 3]\n",
    "y2 = data.iloc[:, 4]\n",
    "y3 = data.iloc[:, 5]\n",
    "y4 = data.iloc[:, 6]\n",
    "y5 = data.iloc[:, 7]\n",
    "y6 = data.iloc[:, 8]\n",
    "y1 = y1.astype(int)\n",
    "y2 = y2.astype(int)\n",
    "y3 = y3.astype(int)\n",
    "y4 = y4.astype(int)\n",
    "y5 = y5.astype(int)\n",
    "y6 = y6.astype(int)"
   ]
  },
  {
   "cell_type": "code",
   "execution_count": 44,
   "metadata": {
    "ExecuteTime": {
     "end_time": "2020-04-26T22:47:20.728181Z",
     "start_time": "2020-04-26T22:47:20.505772Z"
    }
   },
   "outputs": [
    {
     "name": "stderr",
     "output_type": "stream",
     "text": [
      "C:\\Users\\xiang\\Anaconda3\\lib\\site-packages\\sklearn\\ensemble\\forest.py:246: FutureWarning: The default value of n_estimators will change from 10 in version 0.20 to 100 in 0.22.\n",
      "  \"10 in version 0.20 to 100 in 0.22.\", FutureWarning)\n"
     ]
    },
    {
     "data": {
      "image/png": "[encoded data removed]",
      "text/plain": [
       "<Figure size 432x288 with 1 Axes>"
      ]
     },
     "metadata": {
      "needs_background": "light"
     },
     "output_type": "display_data"
    }
   ],
   "source": [
    "from sklearn.ensemble import ExtraTreesClassifier\n",
    "import matplotlib.pyplot as plt\n",
    "%matplotlib inline\n",
    "#use inbuilt class feature_importances of tree based classifiers\n",
    "#plot graph of feature importances for better visualization\n",
    "model = ExtraTreesClassifier()\n",
    "model.fit(X,y1)\n",
    "feat_importances = pd.Series(model.feature_importances_, index=X.columns)\n",
    "feat_importances.nlargest(20).plot(kind='barh', color = 'b', title = predictors[0])\n",
    "plt.show()"
   ]
  },
  {
   "cell_type": "code",
   "execution_count": 45,
   "metadata": {
    "ExecuteTime": {
     "end_time": "2020-04-26T22:47:21.731371Z",
     "start_time": "2020-04-26T22:47:21.479040Z"
    }
   },
   "outputs": [
    {
     "data": {
      "text/plain": [
       "<matplotlib.axes._subplots.AxesSubplot at 0x19ffadb11d0>"
      ]
     },
     "execution_count": 45,
     "metadata": {},
     "output_type": "execute_result"
    },
    {
     "data": {
      "image/png": "[encoded data removed]",
      "text/plain": [
       "<Figure size 432x288 with 1 Axes>"
      ]
     },
     "metadata": {
      "needs_background": "light"
     },
     "output_type": "display_data"
    }
   ],
   "source": [
    "model.fit(X,y2)\n",
    "feat_importances = pd.Series(model.feature_importances_, index=X.columns)\n",
    "feat_importances.nlargest(20).plot(kind='barh', color = 'b', title = predictors[1])"
   ]
  },
  {
   "cell_type": "code",
   "execution_count": 46,
   "metadata": {
    "ExecuteTime": {
     "end_time": "2020-04-26T22:47:22.762904Z",
     "start_time": "2020-04-26T22:47:22.515409Z"
    }
   },
   "outputs": [
    {
     "data": {
      "text/plain": [
       "<matplotlib.axes._subplots.AxesSubplot at 0x19ffae677b8>"
      ]
     },
     "execution_count": 46,
     "metadata": {},
     "output_type": "execute_result"
    },
    {
     "data": {
      "image/png": "[encoded data removed]",
      "text/plain": [
       "<Figure size 432x288 with 1 Axes>"
      ]
     },
     "metadata": {
      "needs_background": "light"
     },
     "output_type": "display_data"
    }
   ],
   "source": [
    "model.fit(X,y3)\n",
    "feat_importances = pd.Series(model.feature_importances_, index=X.columns)\n",
    "feat_importances.nlargest(20).plot(kind='barh', color = 'b', title = predictors[2])"
   ]
  },
  {
   "cell_type": "code",
   "execution_count": 47,
   "metadata": {
    "ExecuteTime": {
     "end_time": "2020-04-26T22:47:24.580287Z",
     "start_time": "2020-04-26T22:47:24.321924Z"
    }
   },
   "outputs": [
    {
     "data": {
      "text/plain": [
       "<matplotlib.axes._subplots.AxesSubplot at 0x19ffaf01eb8>"
      ]
     },
     "execution_count": 47,
     "metadata": {},
     "output_type": "execute_result"
    },
    {
     "data": {
      "image/png": "[encoded data removed]",
      "text/plain": [
       "<Figure size 432x288 with 1 Axes>"
      ]
     },
     "metadata": {
      "needs_background": "light"
     },
     "output_type": "display_data"
    }
   ],
   "source": [
    "model.fit(X,y4)\n",
    "feat_importances = pd.Series(model.feature_importances_, index=X.columns)\n",
    "feat_importances.nlargest(20).plot(kind='barh', color = 'b', title = predictors[3])"
   ]
  },
  {
   "cell_type": "code",
   "execution_count": 48,
   "metadata": {
    "ExecuteTime": {
     "end_time": "2020-04-26T22:47:25.585683Z",
     "start_time": "2020-04-26T22:47:25.332444Z"
    }
   },
   "outputs": [
    {
     "data": {
      "text/plain": [
       "<matplotlib.axes._subplots.AxesSubplot at 0x19ffafa3710>"
      ]
     },
     "execution_count": 48,
     "metadata": {},
     "output_type": "execute_result"
    },
    {
     "data": {
      "image/png": "[encoded data removed]",
      "text/plain": [
       "<Figure size 432x288 with 1 Axes>"
      ]
     },
     "metadata": {
      "needs_background": "light"
     },
     "output_type": "display_data"
    }
   ],
   "source": [
    "model.fit(X,y5)\n",
    "feat_importances = pd.Series(model.feature_importances_, index=X.columns)\n",
    "feat_importances.nlargest(20).plot(kind='barh', color = 'b', title = predictors[4])"
   ]
  },
  {
   "cell_type": "code",
   "execution_count": 49,
   "metadata": {
    "ExecuteTime": {
     "end_time": "2020-04-26T22:47:26.815246Z",
     "start_time": "2020-04-26T22:47:26.577740Z"
    }
   },
   "outputs": [
    {
     "data": {
      "text/plain": [
       "<matplotlib.axes._subplots.AxesSubplot at 0x19ffb03fc18>"
      ]
     },
     "execution_count": 49,
     "metadata": {},
     "output_type": "execute_result"
    },
    {
     "data": {
      "image/png": "[encoded data removed]",
      "text/plain": [
       "<Figure size 432x288 with 1 Axes>"
      ]
     },
     "metadata": {
      "needs_background": "light"
     },
     "output_type": "display_data"
    }
   ],
   "source": [
    "model.fit(X,y6)\n",
    "feat_importances = pd.Series(model.feature_importances_, index=X.columns)\n",
    "feat_importances.nlargest(20).plot(kind='barh', color = 'b', title = predictors[5])"
   ]
  },
  {
   "cell_type": "code",
   "execution_count": null,
   "metadata": {},
   "outputs": [],
   "source": []
  }
 ],
 "metadata": {
  "kernelspec": {
   "display_name": "Python 3",
   "language": "python",
   "name": "python3"
  },
  "language_info": {
   "codemirror_mode": {
    "name": "ipython",
    "version": 3
   },
   "file_extension": ".py",
   "mimetype": "text/x-python",
   "name": "python",
   "nbconvert_exporter": "python",
   "pygments_lexer": "ipython3",
   "version": "3.7.3"
  },
  "toc": {
   "base_numbering": 1,
   "nav_menu": {},
   "number_sections": true,
   "sideBar": true,
   "skip_h1_title": false,
   "title_cell": "Table of Contents",
   "title_sidebar": "Contents",
   "toc_cell": false,
   "toc_position": {},
   "toc_section_display": true,
   "toc_window_display": false
  },
  "varInspector": {
   "cols": {
    "lenName": 16,
    "lenType": 16,
    "lenVar": 40
   },
   "kernels_config": {
    "python": {
     "delete_cmd_postfix": "",
     "delete_cmd_prefix": "del ",
     "library": "var_list.py",
     "varRefreshCmd": "print(var_dic_list())"
    },
    "r": {
     "delete_cmd_postfix": ") ",
     "delete_cmd_prefix": "rm(",
     "library": "var_list.r",
     "varRefreshCmd": "cat(var_dic_list()) "
    }
   },
   "types_to_exclude": [
    "module",
    "function",
    "builtin_function_or_method",
    "instance",
    "_Feature"
   ],
   "window_display": false
  }
 },
 "nbformat": 4,
 "nbformat_minor": 2
}
