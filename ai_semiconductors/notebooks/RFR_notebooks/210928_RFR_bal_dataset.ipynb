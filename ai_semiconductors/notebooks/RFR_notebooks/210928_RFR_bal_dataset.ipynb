{
 "cells": [
  {
   "cell_type": "code",
   "execution_count": 112,
   "metadata": {},
   "outputs": [],
   "source": [
    "import pandas as pd\n",
    "import numpy as np\n",
    "\n",
    "\n",
    "import rfr_remote\n",
    "import rfr_ipynb"
   ]
  },
  {
   "cell_type": "code",
   "execution_count": 113,
   "metadata": {},
   "outputs": [],
   "source": [
    "def rmse_calc (traindf, testdf, output_type='none'):\n",
    "    \n",
    "    y_train = traindf['dft_train']\n",
    "    y_test = testdf['dft_test']\n",
    "    pred_train = traindf['mean_train']\n",
    "    pred_test = testdf['mean_test']\n",
    "        \n",
    "    train_rmse, test_rmse = rfr_remote.rmse(y_train=y_train, y_test=y_test,\n",
    "                                        trainpred=pred_train, testpred=pred_test)\n",
    "    if output_type == 'none':\n",
    "        rmse_df = pd.DataFrame(data={'train_rmse':[train_rmse], 'test_rmse':[test_rmse]})\n",
    "    \n",
    "    elif output_type == 'type':\n",
    "        rmse_df = pd.DataFrame(data={'Type':[traindf['Type'].iloc[0]], \n",
    "                                     'train_rmse':[train_rmse], 'test_rmse':[test_rmse]})\n",
    "    elif output_type == 'site':\n",
    "        rmse_df = pd.DataFrame(data={'Site':[traindf['Site'].iloc[0]], \n",
    "                                     'train_rmse':[train_rmse], 'test_rmse':[test_rmse]})\n",
    "    \n",
    "    return rmse_df"
   ]
  },
  {
   "cell_type": "code",
   "execution_count": 114,
   "metadata": {},
   "outputs": [],
   "source": [
    "def df_type(output_df):\n",
    "    frames={}\n",
    "    for typ, df_typ in output_df.groupby('Type'):\n",
    "        frames[typ] = df_typ\n",
    "    return frames"
   ]
  },
  {
   "cell_type": "code",
   "execution_count": 115,
   "metadata": {},
   "outputs": [],
   "source": [
    "def pp_rmse_cal(traindf, testdf, output_type='none'):\n",
    "    if output_type == 'none':\n",
    "        rmse_df = rmse_calc(traindf, testdf, output_type='none')\n",
    "        \n",
    "        return rmse_df\n",
    "    \n",
    "    if output_type == 'type':\n",
    "        \n",
    "        train_type_frames = df_type(traindf)\n",
    "        test_type_frames = df_type(testdf)\n",
    "        \n",
    "        type_list = []\n",
    "        for typ in ['II-VI', 'III-V', 'IV-IV']:\n",
    "            rmse_df = rmse_calc(train_type_frames[typ], test_type_frames[typ], output_type='type')\n",
    "            type_list.append(rmse_df)\n",
    "            \n",
    "        type_df = pd.concat(type_list)\n",
    "        \n",
    "        return type_df"
   ]
  },
  {
   "cell_type": "code",
   "execution_count": 116,
   "metadata": {},
   "outputs": [],
   "source": [
    "ha_bal_type = pd.read_csv('./xiaofeng_lasso/210928_balanceddata/balanced_type/Lasso_HA_type.csv')\n",
    "ha_bal_type=ha_bal_type.iloc[:, 1:]"
   ]
  },
  {
   "cell_type": "code",
   "execution_count": 117,
   "metadata": {},
   "outputs": [],
   "source": [
    "hb_bal_type = pd.read_csv('./xiaofeng_lasso/210928_balanceddata/balanced_type/Lasso_HB_type.csv')\n",
    "hb_bal_type=hb_bal_type.iloc[:, 1:]"
   ]
  },
  {
   "cell_type": "code",
   "execution_count": 118,
   "metadata": {},
   "outputs": [
    {
     "name": "stdout",
     "output_type": "stream",
     "text": [
      "Total entries:  645\n"
     ]
    },
    {
     "data": {
      "text/html": [
       "<div>\n",
       "<style scoped>\n",
       "    .dataframe tbody tr th:only-of-type {\n",
       "        vertical-align: middle;\n",
       "    }\n",
       "\n",
       "    .dataframe tbody tr th {\n",
       "        vertical-align: top;\n",
       "    }\n",
       "\n",
       "    .dataframe thead th {\n",
       "        text-align: right;\n",
       "    }\n",
       "</style>\n",
       "<table border=\"1\" class=\"dataframe\">\n",
       "  <thead>\n",
       "    <tr style=\"text-align: right;\">\n",
       "      <th></th>\n",
       "      <th>Type</th>\n",
       "      <th>percent</th>\n",
       "    </tr>\n",
       "  </thead>\n",
       "  <tbody>\n",
       "    <tr>\n",
       "      <th>III-V</th>\n",
       "      <td>218</td>\n",
       "      <td>33.8</td>\n",
       "    </tr>\n",
       "    <tr>\n",
       "      <th>II-VI</th>\n",
       "      <td>218</td>\n",
       "      <td>33.8</td>\n",
       "    </tr>\n",
       "    <tr>\n",
       "      <th>IV-IV</th>\n",
       "      <td>209</td>\n",
       "      <td>32.4</td>\n",
       "    </tr>\n",
       "  </tbody>\n",
       "</table>\n",
       "</div>"
      ],
      "text/plain": [
       "       Type  percent\n",
       "III-V   218     33.8\n",
       "II-VI   218     33.8\n",
       "IV-IV   209     32.4"
      ]
     },
     "execution_count": 118,
     "metadata": {},
     "output_type": "execute_result"
    }
   ],
   "source": [
    "rfr_ipynb.counter(ha_bal_type, 'Type')"
   ]
  },
  {
   "cell_type": "code",
   "execution_count": 119,
   "metadata": {
    "scrolled": true
   },
   "outputs": [
    {
     "name": "stdout",
     "output_type": "stream",
     "text": [
      "Total entries:  645\n"
     ]
    },
    {
     "data": {
      "text/html": [
       "<div>\n",
       "<style scoped>\n",
       "    .dataframe tbody tr th:only-of-type {\n",
       "        vertical-align: middle;\n",
       "    }\n",
       "\n",
       "    .dataframe tbody tr th {\n",
       "        vertical-align: top;\n",
       "    }\n",
       "\n",
       "    .dataframe thead th {\n",
       "        text-align: right;\n",
       "    }\n",
       "</style>\n",
       "<table border=\"1\" class=\"dataframe\">\n",
       "  <thead>\n",
       "    <tr style=\"text-align: right;\">\n",
       "      <th></th>\n",
       "      <th>Type</th>\n",
       "      <th>percent</th>\n",
       "    </tr>\n",
       "  </thead>\n",
       "  <tbody>\n",
       "    <tr>\n",
       "      <th>III-V</th>\n",
       "      <td>218</td>\n",
       "      <td>33.8</td>\n",
       "    </tr>\n",
       "    <tr>\n",
       "      <th>II-VI</th>\n",
       "      <td>218</td>\n",
       "      <td>33.8</td>\n",
       "    </tr>\n",
       "    <tr>\n",
       "      <th>IV-IV</th>\n",
       "      <td>209</td>\n",
       "      <td>32.4</td>\n",
       "    </tr>\n",
       "  </tbody>\n",
       "</table>\n",
       "</div>"
      ],
      "text/plain": [
       "       Type  percent\n",
       "III-V   218     33.8\n",
       "II-VI   218     33.8\n",
       "IV-IV   209     32.4"
      ]
     },
     "execution_count": 119,
     "metadata": {},
     "output_type": "execute_result"
    }
   ],
   "source": [
    "rfr_ipynb.counter(hb_bal_type, 'Type')"
   ]
  },
  {
   "cell_type": "code",
   "execution_count": 120,
   "metadata": {},
   "outputs": [],
   "source": [
    "p32_bal_type = pd.read_csv('./xiaofeng_lasso/210928_balanceddata/balanced_type/Lasso_(+3,+2)_type.csv')\n",
    "p32_bal_type = p32_bal_type.iloc[:, 1:]"
   ]
  },
  {
   "cell_type": "code",
   "execution_count": 121,
   "metadata": {},
   "outputs": [],
   "source": [
    "p21_bal_type = pd.read_csv('./xiaofeng_lasso/210928_balanceddata/balanced_type/Lasso_(+2,+1)_type.csv')\n",
    "p21_bal_type = p21_bal_type.iloc[:, 1:]"
   ]
  },
  {
   "cell_type": "code",
   "execution_count": 122,
   "metadata": {},
   "outputs": [],
   "source": [
    "p0p1_bal_type = pd.read_csv('./xiaofeng_lasso/210928_balanceddata/balanced_type/Lasso_(+1,0)_type.csv')\n",
    "p0p1_bal_type = p0p1_bal_type.iloc[:, 1:]"
   ]
  },
  {
   "cell_type": "code",
   "execution_count": 123,
   "metadata": {},
   "outputs": [],
   "source": [
    "m0m1_bal_type = pd.read_csv('./xiaofeng_lasso/210928_balanceddata/balanced_type/Lasso_(0,-1)_type.csv')\n",
    "m0m1_bal_type = m0m1_bal_type.iloc[:, 1:]"
   ]
  },
  {
   "cell_type": "code",
   "execution_count": 124,
   "metadata": {},
   "outputs": [],
   "source": [
    "m12_bal_type = pd.read_csv('./xiaofeng_lasso/210928_balanceddata/balanced_type/Lasso_(-1,-2)_type.csv')\n",
    "m12_bal_type = m12_bal_type.iloc[:, 1:]"
   ]
  },
  {
   "cell_type": "code",
   "execution_count": 125,
   "metadata": {},
   "outputs": [],
   "source": [
    "m23_bal_type = pd.read_csv('./xiaofeng_lasso/210928_balanceddata/balanced_type/Lasso_(-2,-3)_type.csv')\n",
    "m23_bal_type = m23_bal_type.iloc[:, 1:]"
   ]
  },
  {
   "cell_type": "code",
   "execution_count": 126,
   "metadata": {},
   "outputs": [
    {
     "name": "stdout",
     "output_type": "stream",
     "text": [
      "Total entries:  690\n"
     ]
    },
    {
     "data": {
      "text/html": [
       "<div>\n",
       "<style scoped>\n",
       "    .dataframe tbody tr th:only-of-type {\n",
       "        vertical-align: middle;\n",
       "    }\n",
       "\n",
       "    .dataframe tbody tr th {\n",
       "        vertical-align: top;\n",
       "    }\n",
       "\n",
       "    .dataframe thead th {\n",
       "        text-align: right;\n",
       "    }\n",
       "</style>\n",
       "<table border=\"1\" class=\"dataframe\">\n",
       "  <thead>\n",
       "    <tr style=\"text-align: right;\">\n",
       "      <th></th>\n",
       "      <th>Type</th>\n",
       "      <th>percent</th>\n",
       "    </tr>\n",
       "  </thead>\n",
       "  <tbody>\n",
       "    <tr>\n",
       "      <th>II-VI</th>\n",
       "      <td>230</td>\n",
       "      <td>33.33</td>\n",
       "    </tr>\n",
       "    <tr>\n",
       "      <th>III-V</th>\n",
       "      <td>230</td>\n",
       "      <td>33.33</td>\n",
       "    </tr>\n",
       "    <tr>\n",
       "      <th>IV-IV</th>\n",
       "      <td>230</td>\n",
       "      <td>33.33</td>\n",
       "    </tr>\n",
       "  </tbody>\n",
       "</table>\n",
       "</div>"
      ],
      "text/plain": [
       "       Type  percent\n",
       "II-VI   230    33.33\n",
       "III-V   230    33.33\n",
       "IV-IV   230    33.33"
      ]
     },
     "execution_count": 126,
     "metadata": {},
     "output_type": "execute_result"
    }
   ],
   "source": [
    "rfr_ipynb.counter(p32_bal_type, 'Type')"
   ]
  },
  {
   "cell_type": "code",
   "execution_count": 127,
   "metadata": {
    "scrolled": true
   },
   "outputs": [
    {
     "name": "stdout",
     "output_type": "stream",
     "text": [
      "Total entries:  690\n"
     ]
    },
    {
     "data": {
      "text/html": [
       "<div>\n",
       "<style scoped>\n",
       "    .dataframe tbody tr th:only-of-type {\n",
       "        vertical-align: middle;\n",
       "    }\n",
       "\n",
       "    .dataframe tbody tr th {\n",
       "        vertical-align: top;\n",
       "    }\n",
       "\n",
       "    .dataframe thead th {\n",
       "        text-align: right;\n",
       "    }\n",
       "</style>\n",
       "<table border=\"1\" class=\"dataframe\">\n",
       "  <thead>\n",
       "    <tr style=\"text-align: right;\">\n",
       "      <th></th>\n",
       "      <th>Type</th>\n",
       "      <th>percent</th>\n",
       "    </tr>\n",
       "  </thead>\n",
       "  <tbody>\n",
       "    <tr>\n",
       "      <th>II-VI</th>\n",
       "      <td>230</td>\n",
       "      <td>33.33</td>\n",
       "    </tr>\n",
       "    <tr>\n",
       "      <th>III-V</th>\n",
       "      <td>230</td>\n",
       "      <td>33.33</td>\n",
       "    </tr>\n",
       "    <tr>\n",
       "      <th>IV-IV</th>\n",
       "      <td>230</td>\n",
       "      <td>33.33</td>\n",
       "    </tr>\n",
       "  </tbody>\n",
       "</table>\n",
       "</div>"
      ],
      "text/plain": [
       "       Type  percent\n",
       "II-VI   230    33.33\n",
       "III-V   230    33.33\n",
       "IV-IV   230    33.33"
      ]
     },
     "execution_count": 127,
     "metadata": {},
     "output_type": "execute_result"
    }
   ],
   "source": [
    "rfr_ipynb.counter(m23_bal_type, 'Type')"
   ]
  },
  {
   "cell_type": "markdown",
   "metadata": {},
   "source": [
    "# Type"
   ]
  },
  {
   "cell_type": "markdown",
   "metadata": {},
   "source": [
    "# dHA"
   ]
  },
  {
   "cell_type": "code",
   "execution_count": 14,
   "metadata": {},
   "outputs": [],
   "source": [
    "ha_type_traindic, ha_type_testdic= \\\n",
    "    rfr_remote.rfr_predictor(ha_bal_type, d_start=5, max_depth=10, max_feat='auto', \n",
    "                             min_samp_leaf=2, min_samples_split=15,\n",
    "                             num_trees=600, folds=5)"
   ]
  },
  {
   "cell_type": "code",
   "execution_count": 15,
   "metadata": {},
   "outputs": [],
   "source": [
    "dHA_type_rmse = rfr_remote.rmse_calculator(ha_type_traindic, ha_type_testdic,\n",
    "                                      output_type='none')\n",
    "\n",
    "dHA_type_rmse_26, dHA_type_rmse_35, dHA_type_rmse_44 = \\\n",
    "    rfr_remote.rmse_calculator(ha_type_traindic, ha_type_testdic,\n",
    "                                      output_type='type')\n",
    "\n",
    "dHA_type_rmse_sub, dHA_type_rmse_int = \\\n",
    "    rfr_remote.rmse_calculator(ha_type_traindic, ha_type_testdic,\n",
    "                                      output_type='site')"
   ]
  },
  {
   "cell_type": "code",
   "execution_count": 16,
   "metadata": {
    "scrolled": true
   },
   "outputs": [
    {
     "data": {
      "text/html": [
       "<div>\n",
       "<style scoped>\n",
       "    .dataframe tbody tr th:only-of-type {\n",
       "        vertical-align: middle;\n",
       "    }\n",
       "\n",
       "    .dataframe tbody tr th {\n",
       "        vertical-align: top;\n",
       "    }\n",
       "\n",
       "    .dataframe thead th {\n",
       "        text-align: right;\n",
       "    }\n",
       "</style>\n",
       "<table border=\"1\" class=\"dataframe\">\n",
       "  <thead>\n",
       "    <tr style=\"text-align: right;\">\n",
       "      <th></th>\n",
       "      <th>output</th>\n",
       "      <th>train rmse</th>\n",
       "      <th>test rmse</th>\n",
       "    </tr>\n",
       "  </thead>\n",
       "  <tbody>\n",
       "    <tr>\n",
       "      <th>0</th>\n",
       "      <td>II-VI</td>\n",
       "      <td>0.65 +/- 0.023</td>\n",
       "      <td>1.11 +/- 0.237</td>\n",
       "    </tr>\n",
       "    <tr>\n",
       "      <th>1</th>\n",
       "      <td>III-V</td>\n",
       "      <td>0.83 +/- 0.036</td>\n",
       "      <td>1.38 +/- 0.231</td>\n",
       "    </tr>\n",
       "    <tr>\n",
       "      <th>2</th>\n",
       "      <td>IV-IV</td>\n",
       "      <td>1.07 +/- 0.053</td>\n",
       "      <td>1.75 +/- 0.27</td>\n",
       "    </tr>\n",
       "  </tbody>\n",
       "</table>\n",
       "</div>"
      ],
      "text/plain": [
       "  output      train rmse       test rmse\n",
       "0  II-VI  0.65 +/- 0.023  1.11 +/- 0.237\n",
       "1  III-V  0.83 +/- 0.036  1.38 +/- 0.231\n",
       "2  IV-IV  1.07 +/- 0.053   1.75 +/- 0.27"
      ]
     },
     "execution_count": 16,
     "metadata": {},
     "output_type": "execute_result"
    }
   ],
   "source": [
    "rfr_ipynb.type_site_df('type', [dHA_type_rmse_26, dHA_type_rmse_35, dHA_type_rmse_44], folds=5)"
   ]
  },
  {
   "cell_type": "code",
   "execution_count": 17,
   "metadata": {
    "scrolled": true
   },
   "outputs": [
    {
     "data": {
      "text/html": [
       "<div>\n",
       "<style scoped>\n",
       "    .dataframe tbody tr th:only-of-type {\n",
       "        vertical-align: middle;\n",
       "    }\n",
       "\n",
       "    .dataframe tbody tr th {\n",
       "        vertical-align: top;\n",
       "    }\n",
       "\n",
       "    .dataframe thead th {\n",
       "        text-align: right;\n",
       "    }\n",
       "</style>\n",
       "<table border=\"1\" class=\"dataframe\">\n",
       "  <thead>\n",
       "    <tr style=\"text-align: right;\">\n",
       "      <th></th>\n",
       "      <th>train rmse</th>\n",
       "      <th>test rmse</th>\n",
       "    </tr>\n",
       "  </thead>\n",
       "  <tbody>\n",
       "    <tr>\n",
       "      <th>0</th>\n",
       "      <td>0.872041</td>\n",
       "      <td>1.4807</td>\n",
       "    </tr>\n",
       "    <tr>\n",
       "      <th>1</th>\n",
       "      <td>0.869669</td>\n",
       "      <td>1.5269</td>\n",
       "    </tr>\n",
       "    <tr>\n",
       "      <th>2</th>\n",
       "      <td>0.870291</td>\n",
       "      <td>1.24523</td>\n",
       "    </tr>\n",
       "    <tr>\n",
       "      <th>3</th>\n",
       "      <td>0.838889</td>\n",
       "      <td>1.52562</td>\n",
       "    </tr>\n",
       "    <tr>\n",
       "      <th>4</th>\n",
       "      <td>0.870606</td>\n",
       "      <td>1.45673</td>\n",
       "    </tr>\n",
       "    <tr>\n",
       "      <th>5</th>\n",
       "      <td>0.86 +/- 0.014</td>\n",
       "      <td>1.45 +/- 0.117</td>\n",
       "    </tr>\n",
       "  </tbody>\n",
       "</table>\n",
       "</div>"
      ],
      "text/plain": [
       "       train rmse       test rmse\n",
       "0        0.872041          1.4807\n",
       "1        0.869669          1.5269\n",
       "2        0.870291         1.24523\n",
       "3        0.838889         1.52562\n",
       "4        0.870606         1.45673\n",
       "5  0.86 +/- 0.014  1.45 +/- 0.117"
      ]
     },
     "execution_count": 17,
     "metadata": {},
     "output_type": "execute_result"
    }
   ],
   "source": [
    "dHA_type_rmse"
   ]
  },
  {
   "cell_type": "code",
   "execution_count": 18,
   "metadata": {},
   "outputs": [
    {
     "data": {
      "application/vnd.jupyter.widget-view+json": {
       "model_id": "d27c07eb9ac0476c8761325608a02731",
       "version_major": 2,
       "version_minor": 0
      },
      "text/plain": [
       "HBox(children=(FloatProgress(value=0.0, max=5.0), HTML(value='')))"
      ]
     },
     "metadata": {},
     "output_type": "display_data"
    },
    {
     "name": "stdout",
     "output_type": "stream",
     "text": [
      "\n"
     ]
    }
   ],
   "source": [
    "dHA_traindf, dHA_testdf = \\\n",
    "    rfr_remote.rfr_pp_predictor(ha_bal_type, d_start=5, max_depth=10, max_feat='auto', \n",
    "                                min_samp_leaf=2, min_samples_split=15, num_trees=600,\n",
    "                                folds=5)"
   ]
  },
  {
   "cell_type": "code",
   "execution_count": 110,
   "metadata": {},
   "outputs": [
    {
     "data": {
      "text/html": [
       "<div>\n",
       "<style scoped>\n",
       "    .dataframe tbody tr th:only-of-type {\n",
       "        vertical-align: middle;\n",
       "    }\n",
       "\n",
       "    .dataframe tbody tr th {\n",
       "        vertical-align: top;\n",
       "    }\n",
       "\n",
       "    .dataframe thead th {\n",
       "        text-align: right;\n",
       "    }\n",
       "</style>\n",
       "<table border=\"1\" class=\"dataframe\">\n",
       "  <thead>\n",
       "    <tr style=\"text-align: right;\">\n",
       "      <th></th>\n",
       "      <th>train_rmse</th>\n",
       "      <th>test_rmse</th>\n",
       "    </tr>\n",
       "  </thead>\n",
       "  <tbody>\n",
       "    <tr>\n",
       "      <th>0</th>\n",
       "      <td>0.847214</td>\n",
       "      <td>1.473305</td>\n",
       "    </tr>\n",
       "  </tbody>\n",
       "</table>\n",
       "</div>"
      ],
      "text/plain": [
       "   train_rmse  test_rmse\n",
       "0    0.847214   1.473305"
      ]
     },
     "execution_count": 110,
     "metadata": {},
     "output_type": "execute_result"
    }
   ],
   "source": [
    "rmse_df = pp_rmse_cal(dHA_traindf, dHA_testdf, output_type='none')\n",
    "rmse_df"
   ]
  },
  {
   "cell_type": "code",
   "execution_count": 111,
   "metadata": {},
   "outputs": [
    {
     "data": {
      "text/html": [
       "<div>\n",
       "<style scoped>\n",
       "    .dataframe tbody tr th:only-of-type {\n",
       "        vertical-align: middle;\n",
       "    }\n",
       "\n",
       "    .dataframe tbody tr th {\n",
       "        vertical-align: top;\n",
       "    }\n",
       "\n",
       "    .dataframe thead th {\n",
       "        text-align: right;\n",
       "    }\n",
       "</style>\n",
       "<table border=\"1\" class=\"dataframe\">\n",
       "  <thead>\n",
       "    <tr style=\"text-align: right;\">\n",
       "      <th></th>\n",
       "      <th>Type</th>\n",
       "      <th>train_rmse</th>\n",
       "      <th>test_rmse</th>\n",
       "    </tr>\n",
       "  </thead>\n",
       "  <tbody>\n",
       "    <tr>\n",
       "      <th>0</th>\n",
       "      <td>II-VI</td>\n",
       "      <td>0.640779</td>\n",
       "      <td>1.154302</td>\n",
       "    </tr>\n",
       "    <tr>\n",
       "      <th>0</th>\n",
       "      <td>III-V</td>\n",
       "      <td>0.808338</td>\n",
       "      <td>1.392128</td>\n",
       "    </tr>\n",
       "    <tr>\n",
       "      <th>0</th>\n",
       "      <td>IV-IV</td>\n",
       "      <td>1.051335</td>\n",
       "      <td>1.813164</td>\n",
       "    </tr>\n",
       "  </tbody>\n",
       "</table>\n",
       "</div>"
      ],
      "text/plain": [
       "    Type  train_rmse  test_rmse\n",
       "0  II-VI    0.640779   1.154302\n",
       "0  III-V    0.808338   1.392128\n",
       "0  IV-IV    1.051335   1.813164"
      ]
     },
     "execution_count": 111,
     "metadata": {},
     "output_type": "execute_result"
    }
   ],
   "source": [
    "rmse_df = pp_rmse_cal(dHA_traindf, dHA_testdf, output_type='type')\n",
    "rmse_df"
   ]
  },
  {
   "cell_type": "markdown",
   "metadata": {},
   "source": [
    "# dHB"
   ]
  },
  {
   "cell_type": "code",
   "execution_count": 161,
   "metadata": {},
   "outputs": [],
   "source": [
    "dHB_type_traindic, dHB_type_testdic= \\\n",
    "    rfr_remote.rfr_predictor(hb_bal_type, d_start=5,  max_depth=10, max_feat='auto', \n",
    "                             min_samp_leaf=3, min_samples_split=15,\n",
    "                             num_trees=1000, folds=5)"
   ]
  },
  {
   "cell_type": "code",
   "execution_count": 19,
   "metadata": {},
   "outputs": [],
   "source": [
    "dHB_type_rmse = rfr_remote.rmse_calculator(dHB_type_traindic, dHB_type_testdic,\n",
    "                                      output_type='none')\n",
    "\n",
    "dHB_type_rmse_26, dHB_type_rmse_35, dHB_type_rmse_44 = \\\n",
    "    rfr_remote.rmse_calculator(dHB_type_traindic, dHB_type_testdic,\n",
    "                                      output_type='type')\n",
    "\n",
    "dHB_type_rmse_sub, dHB_type_rmse_int = \\\n",
    "    rfr_remote.rmse_calculator(dHB_type_traindic, dHB_type_testdic,\n",
    "                                      output_type='site')"
   ]
  },
  {
   "cell_type": "code",
   "execution_count": 20,
   "metadata": {
    "scrolled": false
   },
   "outputs": [
    {
     "data": {
      "text/html": [
       "<div>\n",
       "<style scoped>\n",
       "    .dataframe tbody tr th:only-of-type {\n",
       "        vertical-align: middle;\n",
       "    }\n",
       "\n",
       "    .dataframe tbody tr th {\n",
       "        vertical-align: top;\n",
       "    }\n",
       "\n",
       "    .dataframe thead th {\n",
       "        text-align: right;\n",
       "    }\n",
       "</style>\n",
       "<table border=\"1\" class=\"dataframe\">\n",
       "  <thead>\n",
       "    <tr style=\"text-align: right;\">\n",
       "      <th></th>\n",
       "      <th>output</th>\n",
       "      <th>train rmse</th>\n",
       "      <th>test rmse</th>\n",
       "    </tr>\n",
       "  </thead>\n",
       "  <tbody>\n",
       "    <tr>\n",
       "      <th>0</th>\n",
       "      <td>II-VI</td>\n",
       "      <td>0.91 +/- 0.021</td>\n",
       "      <td>1.52 +/- 0.105</td>\n",
       "    </tr>\n",
       "    <tr>\n",
       "      <th>1</th>\n",
       "      <td>III-V</td>\n",
       "      <td>0.9 +/- 0.022</td>\n",
       "      <td>1.56 +/- 0.175</td>\n",
       "    </tr>\n",
       "    <tr>\n",
       "      <th>2</th>\n",
       "      <td>IV-IV</td>\n",
       "      <td>1.04 +/- 0.03</td>\n",
       "      <td>1.69 +/- 0.21</td>\n",
       "    </tr>\n",
       "  </tbody>\n",
       "</table>\n",
       "</div>"
      ],
      "text/plain": [
       "  output      train rmse       test rmse\n",
       "0  II-VI  0.91 +/- 0.021  1.52 +/- 0.105\n",
       "1  III-V   0.9 +/- 0.022  1.56 +/- 0.175\n",
       "2  IV-IV   1.04 +/- 0.03   1.69 +/- 0.21"
      ]
     },
     "execution_count": 20,
     "metadata": {},
     "output_type": "execute_result"
    }
   ],
   "source": [
    "rfr_ipynb.type_site_df('type', [dHB_type_rmse_26, dHB_type_rmse_35, dHB_type_rmse_44], folds=5)"
   ]
  },
  {
   "cell_type": "code",
   "execution_count": 21,
   "metadata": {
    "scrolled": false
   },
   "outputs": [
    {
     "data": {
      "text/html": [
       "<div>\n",
       "<style scoped>\n",
       "    .dataframe tbody tr th:only-of-type {\n",
       "        vertical-align: middle;\n",
       "    }\n",
       "\n",
       "    .dataframe tbody tr th {\n",
       "        vertical-align: top;\n",
       "    }\n",
       "\n",
       "    .dataframe thead th {\n",
       "        text-align: right;\n",
       "    }\n",
       "</style>\n",
       "<table border=\"1\" class=\"dataframe\">\n",
       "  <thead>\n",
       "    <tr style=\"text-align: right;\">\n",
       "      <th></th>\n",
       "      <th>train rmse</th>\n",
       "      <th>test rmse</th>\n",
       "    </tr>\n",
       "  </thead>\n",
       "  <tbody>\n",
       "    <tr>\n",
       "      <th>0</th>\n",
       "      <td>0.947842</td>\n",
       "      <td>1.50542</td>\n",
       "    </tr>\n",
       "    <tr>\n",
       "      <th>1</th>\n",
       "      <td>0.973825</td>\n",
       "      <td>1.68822</td>\n",
       "    </tr>\n",
       "    <tr>\n",
       "      <th>2</th>\n",
       "      <td>0.953942</td>\n",
       "      <td>1.52399</td>\n",
       "    </tr>\n",
       "    <tr>\n",
       "      <th>3</th>\n",
       "      <td>0.950028</td>\n",
       "      <td>1.65329</td>\n",
       "    </tr>\n",
       "    <tr>\n",
       "      <th>4</th>\n",
       "      <td>0.933123</td>\n",
       "      <td>1.61149</td>\n",
       "    </tr>\n",
       "    <tr>\n",
       "      <th>5</th>\n",
       "      <td>0.95 +/- 0.015</td>\n",
       "      <td>1.6 +/- 0.08</td>\n",
       "    </tr>\n",
       "  </tbody>\n",
       "</table>\n",
       "</div>"
      ],
      "text/plain": [
       "       train rmse     test rmse\n",
       "0        0.947842       1.50542\n",
       "1        0.973825       1.68822\n",
       "2        0.953942       1.52399\n",
       "3        0.950028       1.65329\n",
       "4        0.933123       1.61149\n",
       "5  0.95 +/- 0.015  1.6 +/- 0.08"
      ]
     },
     "execution_count": 21,
     "metadata": {},
     "output_type": "execute_result"
    }
   ],
   "source": [
    "dHB_type_rmse"
   ]
  },
  {
   "cell_type": "code",
   "execution_count": 128,
   "metadata": {},
   "outputs": [
    {
     "data": {
      "application/vnd.jupyter.widget-view+json": {
       "model_id": "3906d5a65915450799f0766fa9856638",
       "version_major": 2,
       "version_minor": 0
      },
      "text/plain": [
       "HBox(children=(FloatProgress(value=0.0, max=5.0), HTML(value='')))"
      ]
     },
     "metadata": {},
     "output_type": "display_data"
    },
    {
     "name": "stdout",
     "output_type": "stream",
     "text": [
      "\n"
     ]
    }
   ],
   "source": [
    "dHB_traindf, dHB_testdf = \\\n",
    "    rfr_remote.rfr_pp_predictor(hb_bal_type, d_start=5,  max_depth=10, max_feat='auto', \n",
    "                                min_samp_leaf=3, min_samples_split=15,\n",
    "                                num_trees=1000, folds=5)"
   ]
  },
  {
   "cell_type": "code",
   "execution_count": 135,
   "metadata": {},
   "outputs": [
    {
     "data": {
      "text/html": [
       "<div>\n",
       "<style scoped>\n",
       "    .dataframe tbody tr th:only-of-type {\n",
       "        vertical-align: middle;\n",
       "    }\n",
       "\n",
       "    .dataframe tbody tr th {\n",
       "        vertical-align: top;\n",
       "    }\n",
       "\n",
       "    .dataframe thead th {\n",
       "        text-align: right;\n",
       "    }\n",
       "</style>\n",
       "<table border=\"1\" class=\"dataframe\">\n",
       "  <thead>\n",
       "    <tr style=\"text-align: right;\">\n",
       "      <th></th>\n",
       "      <th>train_rmse</th>\n",
       "      <th>test_rmse</th>\n",
       "    </tr>\n",
       "  </thead>\n",
       "  <tbody>\n",
       "    <tr>\n",
       "      <th>0</th>\n",
       "      <td>0.934856</td>\n",
       "      <td>1.597869</td>\n",
       "    </tr>\n",
       "  </tbody>\n",
       "</table>\n",
       "</div>"
      ],
      "text/plain": [
       "   train_rmse  test_rmse\n",
       "0    0.934856   1.597869"
      ]
     },
     "execution_count": 135,
     "metadata": {},
     "output_type": "execute_result"
    }
   ],
   "source": [
    "dHB_type25_rmse = pp_rmse_cal(dHB_traindf, dHB_testdf, output_type='none')\n",
    "dHB_type25_rmse"
   ]
  },
  {
   "cell_type": "code",
   "execution_count": 131,
   "metadata": {},
   "outputs": [
    {
     "data": {
      "text/html": [
       "<div>\n",
       "<style scoped>\n",
       "    .dataframe tbody tr th:only-of-type {\n",
       "        vertical-align: middle;\n",
       "    }\n",
       "\n",
       "    .dataframe tbody tr th {\n",
       "        vertical-align: top;\n",
       "    }\n",
       "\n",
       "    .dataframe thead th {\n",
       "        text-align: right;\n",
       "    }\n",
       "</style>\n",
       "<table border=\"1\" class=\"dataframe\">\n",
       "  <thead>\n",
       "    <tr style=\"text-align: right;\">\n",
       "      <th></th>\n",
       "      <th>Type</th>\n",
       "      <th>train_rmse</th>\n",
       "      <th>test_rmse</th>\n",
       "    </tr>\n",
       "  </thead>\n",
       "  <tbody>\n",
       "    <tr>\n",
       "      <th>0</th>\n",
       "      <td>II-VI</td>\n",
       "      <td>0.892950</td>\n",
       "      <td>1.540014</td>\n",
       "    </tr>\n",
       "    <tr>\n",
       "      <th>0</th>\n",
       "      <td>III-V</td>\n",
       "      <td>0.891473</td>\n",
       "      <td>1.538100</td>\n",
       "    </tr>\n",
       "    <tr>\n",
       "      <th>0</th>\n",
       "      <td>IV-IV</td>\n",
       "      <td>1.018084</td>\n",
       "      <td>1.714076</td>\n",
       "    </tr>\n",
       "  </tbody>\n",
       "</table>\n",
       "</div>"
      ],
      "text/plain": [
       "    Type  train_rmse  test_rmse\n",
       "0  II-VI    0.892950   1.540014\n",
       "0  III-V    0.891473   1.538100\n",
       "0  IV-IV    1.018084   1.714076"
      ]
     },
     "execution_count": 131,
     "metadata": {},
     "output_type": "execute_result"
    }
   ],
   "source": [
    "dHB_type25type_rmse = pp_rmse_cal(dHB_traindf, dHB_testdf, output_type='type')\n",
    "dHB_type25type_rmse"
   ]
  },
  {
   "cell_type": "markdown",
   "metadata": {},
   "source": [
    "# (+3, +2)"
   ]
  },
  {
   "cell_type": "code",
   "execution_count": 22,
   "metadata": {},
   "outputs": [],
   "source": [
    "p32_type_traindic, p32_type_testdic= \\\n",
    "    rfr_remote.rfr_predictor(p32_bal_type, d_start=5, max_depth=7, max_feat='auto', \n",
    "                             min_samp_leaf=3, min_samples_split=3,\n",
    "                             num_trees=450, folds=5)"
   ]
  },
  {
   "cell_type": "code",
   "execution_count": 23,
   "metadata": {},
   "outputs": [],
   "source": [
    "#output_type = 'none' returns the overall RMSE of train and test\n",
    "p32_type_rmse = rfr_remote.rmse_calculator(p32_type_traindic, p32_type_testdic,\n",
    "                                      output_type='none')\n",
    "\n",
    "#output_type = 'type' returns the RMSE of train and test separated by type\n",
    "p32_type_rmse_26, p32_type_rmse_35, p32_type_rmse_44 = \\\n",
    "    rfr_remote.rmse_calculator(p32_type_traindic, p32_type_testdic,\n",
    "                                      output_type='type')\n",
    "\n",
    "#output_type = 'site' returns the RMSE of train and test separated by site\n",
    "p32_type_rmse_sub, p32_type_rmse_int = \\\n",
    "    rfr_remote.rmse_calculator(p32_type_traindic, p32_type_testdic,\n",
    "                                      output_type='site')"
   ]
  },
  {
   "cell_type": "code",
   "execution_count": 24,
   "metadata": {
    "scrolled": false
   },
   "outputs": [
    {
     "data": {
      "text/html": [
       "<div>\n",
       "<style scoped>\n",
       "    .dataframe tbody tr th:only-of-type {\n",
       "        vertical-align: middle;\n",
       "    }\n",
       "\n",
       "    .dataframe tbody tr th {\n",
       "        vertical-align: top;\n",
       "    }\n",
       "\n",
       "    .dataframe thead th {\n",
       "        text-align: right;\n",
       "    }\n",
       "</style>\n",
       "<table border=\"1\" class=\"dataframe\">\n",
       "  <thead>\n",
       "    <tr style=\"text-align: right;\">\n",
       "      <th></th>\n",
       "      <th>output</th>\n",
       "      <th>train rmse</th>\n",
       "      <th>test rmse</th>\n",
       "    </tr>\n",
       "  </thead>\n",
       "  <tbody>\n",
       "    <tr>\n",
       "      <th>0</th>\n",
       "      <td>II-VI</td>\n",
       "      <td>0.22 +/- 0.015</td>\n",
       "      <td>0.38 +/- 0.108</td>\n",
       "    </tr>\n",
       "    <tr>\n",
       "      <th>1</th>\n",
       "      <td>III-V</td>\n",
       "      <td>0.25 +/- 0.016</td>\n",
       "      <td>0.4 +/- 0.093</td>\n",
       "    </tr>\n",
       "    <tr>\n",
       "      <th>2</th>\n",
       "      <td>IV-IV</td>\n",
       "      <td>0.19 +/- 0.006</td>\n",
       "      <td>0.31 +/- 0.042</td>\n",
       "    </tr>\n",
       "  </tbody>\n",
       "</table>\n",
       "</div>"
      ],
      "text/plain": [
       "  output      train rmse       test rmse\n",
       "0  II-VI  0.22 +/- 0.015  0.38 +/- 0.108\n",
       "1  III-V  0.25 +/- 0.016   0.4 +/- 0.093\n",
       "2  IV-IV  0.19 +/- 0.006  0.31 +/- 0.042"
      ]
     },
     "execution_count": 24,
     "metadata": {},
     "output_type": "execute_result"
    }
   ],
   "source": [
    "rfr_ipynb.type_site_df('type', [p32_type_rmse_26, p32_type_rmse_35, p32_type_rmse_44], folds=5)"
   ]
  },
  {
   "cell_type": "code",
   "execution_count": 25,
   "metadata": {
    "scrolled": true
   },
   "outputs": [
    {
     "data": {
      "text/html": [
       "<div>\n",
       "<style scoped>\n",
       "    .dataframe tbody tr th:only-of-type {\n",
       "        vertical-align: middle;\n",
       "    }\n",
       "\n",
       "    .dataframe tbody tr th {\n",
       "        vertical-align: top;\n",
       "    }\n",
       "\n",
       "    .dataframe thead th {\n",
       "        text-align: right;\n",
       "    }\n",
       "</style>\n",
       "<table border=\"1\" class=\"dataframe\">\n",
       "  <thead>\n",
       "    <tr style=\"text-align: right;\">\n",
       "      <th></th>\n",
       "      <th>train rmse</th>\n",
       "      <th>test rmse</th>\n",
       "    </tr>\n",
       "  </thead>\n",
       "  <tbody>\n",
       "    <tr>\n",
       "      <th>0</th>\n",
       "      <td>0.226419</td>\n",
       "      <td>0.336944</td>\n",
       "    </tr>\n",
       "    <tr>\n",
       "      <th>1</th>\n",
       "      <td>0.213719</td>\n",
       "      <td>0.441454</td>\n",
       "    </tr>\n",
       "    <tr>\n",
       "      <th>2</th>\n",
       "      <td>0.219403</td>\n",
       "      <td>0.376722</td>\n",
       "    </tr>\n",
       "    <tr>\n",
       "      <th>3</th>\n",
       "      <td>0.224143</td>\n",
       "      <td>0.405148</td>\n",
       "    </tr>\n",
       "    <tr>\n",
       "      <th>4</th>\n",
       "      <td>0.237869</td>\n",
       "      <td>0.28158</td>\n",
       "    </tr>\n",
       "    <tr>\n",
       "      <th>5</th>\n",
       "      <td>0.22 +/- 0.009</td>\n",
       "      <td>0.37 +/- 0.062</td>\n",
       "    </tr>\n",
       "  </tbody>\n",
       "</table>\n",
       "</div>"
      ],
      "text/plain": [
       "       train rmse       test rmse\n",
       "0        0.226419        0.336944\n",
       "1        0.213719        0.441454\n",
       "2        0.219403        0.376722\n",
       "3        0.224143        0.405148\n",
       "4        0.237869         0.28158\n",
       "5  0.22 +/- 0.009  0.37 +/- 0.062"
      ]
     },
     "execution_count": 25,
     "metadata": {},
     "output_type": "execute_result"
    }
   ],
   "source": [
    "p32_type_rmse"
   ]
  },
  {
   "cell_type": "code",
   "execution_count": 132,
   "metadata": {},
   "outputs": [
    {
     "data": {
      "application/vnd.jupyter.widget-view+json": {
       "model_id": "9f6144e304994dd085ddcd9378e5121b",
       "version_major": 2,
       "version_minor": 0
      },
      "text/plain": [
       "HBox(children=(FloatProgress(value=0.0, max=5.0), HTML(value='')))"
      ]
     },
     "metadata": {},
     "output_type": "display_data"
    },
    {
     "name": "stdout",
     "output_type": "stream",
     "text": [
      "\n"
     ]
    }
   ],
   "source": [
    "p32_traindf, p32_testdf = \\\n",
    "    rfr_remote.rfr_pp_predictor(p32_bal_type, d_start=5, max_depth=7, max_feat='auto', \n",
    "                                min_samp_leaf=3, min_samples_split=3,\n",
    "                                num_trees=450, folds=5)"
   ]
  },
  {
   "cell_type": "code",
   "execution_count": 133,
   "metadata": {},
   "outputs": [
    {
     "data": {
      "text/html": [
       "<div>\n",
       "<style scoped>\n",
       "    .dataframe tbody tr th:only-of-type {\n",
       "        vertical-align: middle;\n",
       "    }\n",
       "\n",
       "    .dataframe tbody tr th {\n",
       "        vertical-align: top;\n",
       "    }\n",
       "\n",
       "    .dataframe thead th {\n",
       "        text-align: right;\n",
       "    }\n",
       "</style>\n",
       "<table border=\"1\" class=\"dataframe\">\n",
       "  <thead>\n",
       "    <tr style=\"text-align: right;\">\n",
       "      <th></th>\n",
       "      <th>train_rmse</th>\n",
       "      <th>test_rmse</th>\n",
       "    </tr>\n",
       "  </thead>\n",
       "  <tbody>\n",
       "    <tr>\n",
       "      <th>0</th>\n",
       "      <td>0.220743</td>\n",
       "      <td>0.375574</td>\n",
       "    </tr>\n",
       "  </tbody>\n",
       "</table>\n",
       "</div>"
      ],
      "text/plain": [
       "   train_rmse  test_rmse\n",
       "0    0.220743   0.375574"
      ]
     },
     "execution_count": 133,
     "metadata": {},
     "output_type": "execute_result"
    }
   ],
   "source": [
    "p32_type25_rmse = pp_rmse_cal(p32_traindf, p32_testdf, output_type='none')\n",
    "p32_type25_rmse"
   ]
  },
  {
   "cell_type": "code",
   "execution_count": 134,
   "metadata": {},
   "outputs": [
    {
     "data": {
      "text/html": [
       "<div>\n",
       "<style scoped>\n",
       "    .dataframe tbody tr th:only-of-type {\n",
       "        vertical-align: middle;\n",
       "    }\n",
       "\n",
       "    .dataframe tbody tr th {\n",
       "        vertical-align: top;\n",
       "    }\n",
       "\n",
       "    .dataframe thead th {\n",
       "        text-align: right;\n",
       "    }\n",
       "</style>\n",
       "<table border=\"1\" class=\"dataframe\">\n",
       "  <thead>\n",
       "    <tr style=\"text-align: right;\">\n",
       "      <th></th>\n",
       "      <th>Type</th>\n",
       "      <th>train_rmse</th>\n",
       "      <th>test_rmse</th>\n",
       "    </tr>\n",
       "  </thead>\n",
       "  <tbody>\n",
       "    <tr>\n",
       "      <th>0</th>\n",
       "      <td>II-VI</td>\n",
       "      <td>0.223227</td>\n",
       "      <td>0.390967</td>\n",
       "    </tr>\n",
       "    <tr>\n",
       "      <th>0</th>\n",
       "      <td>III-V</td>\n",
       "      <td>0.249051</td>\n",
       "      <td>0.411015</td>\n",
       "    </tr>\n",
       "    <tr>\n",
       "      <th>0</th>\n",
       "      <td>IV-IV</td>\n",
       "      <td>0.185274</td>\n",
       "      <td>0.318401</td>\n",
       "    </tr>\n",
       "  </tbody>\n",
       "</table>\n",
       "</div>"
      ],
      "text/plain": [
       "    Type  train_rmse  test_rmse\n",
       "0  II-VI    0.223227   0.390967\n",
       "0  III-V    0.249051   0.411015\n",
       "0  IV-IV    0.185274   0.318401"
      ]
     },
     "execution_count": 134,
     "metadata": {},
     "output_type": "execute_result"
    }
   ],
   "source": [
    "p32_type25type_rmse = pp_rmse_cal(p32_traindf, p32_testdf, output_type='type')\n",
    "p32_type25type_rmse"
   ]
  },
  {
   "cell_type": "markdown",
   "metadata": {},
   "source": [
    "# (+2, +1)"
   ]
  },
  {
   "cell_type": "code",
   "execution_count": 26,
   "metadata": {},
   "outputs": [],
   "source": [
    "p21_type_traindic, p21_type_testdic= \\\n",
    "    rfr_remote.rfr_predictor(p21_bal_type, d_start=5, max_depth=9, max_feat='auto', \n",
    "                             min_samp_leaf=7, min_samples_split=2,\n",
    "                             num_trees=600, folds=5)"
   ]
  },
  {
   "cell_type": "code",
   "execution_count": 27,
   "metadata": {},
   "outputs": [],
   "source": [
    "#output_type = 'none' returns the overall RMSE of train and test\n",
    "p21_type_rmse = rfr_remote.rmse_calculator(p21_type_traindic, p21_type_testdic,\n",
    "                                      output_type='none')\n",
    "\n",
    "#output_type = 'type' returns the RMSE of train and test separated by type\n",
    "p21_type_rmse_26, p21_type_rmse_35, p21_type_rmse_44 = \\\n",
    "    rfr_remote.rmse_calculator(p21_type_traindic, p21_type_testdic,\n",
    "                                      output_type='type')\n",
    "\n",
    "#output_type = 'site' returns the RMSE of train and test separated by site\n",
    "p21_type_rmse_sub, p21_type_rmse_int = \\\n",
    "    rfr_remote.rmse_calculator(p21_type_traindic, p21_type_testdic,\n",
    "                                      output_type='site')"
   ]
  },
  {
   "cell_type": "code",
   "execution_count": 28,
   "metadata": {
    "scrolled": false
   },
   "outputs": [
    {
     "data": {
      "text/html": [
       "<div>\n",
       "<style scoped>\n",
       "    .dataframe tbody tr th:only-of-type {\n",
       "        vertical-align: middle;\n",
       "    }\n",
       "\n",
       "    .dataframe tbody tr th {\n",
       "        vertical-align: top;\n",
       "    }\n",
       "\n",
       "    .dataframe thead th {\n",
       "        text-align: right;\n",
       "    }\n",
       "</style>\n",
       "<table border=\"1\" class=\"dataframe\">\n",
       "  <thead>\n",
       "    <tr style=\"text-align: right;\">\n",
       "      <th></th>\n",
       "      <th>output</th>\n",
       "      <th>train rmse</th>\n",
       "      <th>test rmse</th>\n",
       "    </tr>\n",
       "  </thead>\n",
       "  <tbody>\n",
       "    <tr>\n",
       "      <th>0</th>\n",
       "      <td>II-VI</td>\n",
       "      <td>0.3 +/- 0.008</td>\n",
       "      <td>0.45 +/- 0.065</td>\n",
       "    </tr>\n",
       "    <tr>\n",
       "      <th>1</th>\n",
       "      <td>III-V</td>\n",
       "      <td>0.29 +/- 0.006</td>\n",
       "      <td>0.43 +/- 0.041</td>\n",
       "    </tr>\n",
       "    <tr>\n",
       "      <th>2</th>\n",
       "      <td>IV-IV</td>\n",
       "      <td>0.27 +/- 0.012</td>\n",
       "      <td>0.39 +/- 0.075</td>\n",
       "    </tr>\n",
       "  </tbody>\n",
       "</table>\n",
       "</div>"
      ],
      "text/plain": [
       "  output      train rmse       test rmse\n",
       "0  II-VI   0.3 +/- 0.008  0.45 +/- 0.065\n",
       "1  III-V  0.29 +/- 0.006  0.43 +/- 0.041\n",
       "2  IV-IV  0.27 +/- 0.012  0.39 +/- 0.075"
      ]
     },
     "execution_count": 28,
     "metadata": {},
     "output_type": "execute_result"
    }
   ],
   "source": [
    "rfr_ipynb.type_site_df('type', [p21_type_rmse_26, p21_type_rmse_35, p21_type_rmse_44], folds=5)"
   ]
  },
  {
   "cell_type": "code",
   "execution_count": 29,
   "metadata": {
    "scrolled": true
   },
   "outputs": [
    {
     "data": {
      "text/html": [
       "<div>\n",
       "<style scoped>\n",
       "    .dataframe tbody tr th:only-of-type {\n",
       "        vertical-align: middle;\n",
       "    }\n",
       "\n",
       "    .dataframe tbody tr th {\n",
       "        vertical-align: top;\n",
       "    }\n",
       "\n",
       "    .dataframe thead th {\n",
       "        text-align: right;\n",
       "    }\n",
       "</style>\n",
       "<table border=\"1\" class=\"dataframe\">\n",
       "  <thead>\n",
       "    <tr style=\"text-align: right;\">\n",
       "      <th></th>\n",
       "      <th>train rmse</th>\n",
       "      <th>test rmse</th>\n",
       "    </tr>\n",
       "  </thead>\n",
       "  <tbody>\n",
       "    <tr>\n",
       "      <th>0</th>\n",
       "      <td>0.278347</td>\n",
       "      <td>0.440129</td>\n",
       "    </tr>\n",
       "    <tr>\n",
       "      <th>1</th>\n",
       "      <td>0.2911</td>\n",
       "      <td>0.468522</td>\n",
       "    </tr>\n",
       "    <tr>\n",
       "      <th>2</th>\n",
       "      <td>0.287208</td>\n",
       "      <td>0.427426</td>\n",
       "    </tr>\n",
       "    <tr>\n",
       "      <th>3</th>\n",
       "      <td>0.285281</td>\n",
       "      <td>0.436584</td>\n",
       "    </tr>\n",
       "    <tr>\n",
       "      <th>4</th>\n",
       "      <td>0.2966</td>\n",
       "      <td>0.349371</td>\n",
       "    </tr>\n",
       "    <tr>\n",
       "      <th>5</th>\n",
       "      <td>0.29 +/- 0.007</td>\n",
       "      <td>0.42 +/- 0.045</td>\n",
       "    </tr>\n",
       "  </tbody>\n",
       "</table>\n",
       "</div>"
      ],
      "text/plain": [
       "       train rmse       test rmse\n",
       "0        0.278347        0.440129\n",
       "1          0.2911        0.468522\n",
       "2        0.287208        0.427426\n",
       "3        0.285281        0.436584\n",
       "4          0.2966        0.349371\n",
       "5  0.29 +/- 0.007  0.42 +/- 0.045"
      ]
     },
     "execution_count": 29,
     "metadata": {},
     "output_type": "execute_result"
    }
   ],
   "source": [
    "p21_type_rmse"
   ]
  },
  {
   "cell_type": "code",
   "execution_count": 136,
   "metadata": {},
   "outputs": [
    {
     "data": {
      "application/vnd.jupyter.widget-view+json": {
       "model_id": "0f07c73ba2244f0cb0af9265f139417c",
       "version_major": 2,
       "version_minor": 0
      },
      "text/plain": [
       "HBox(children=(FloatProgress(value=0.0, max=5.0), HTML(value='')))"
      ]
     },
     "metadata": {},
     "output_type": "display_data"
    },
    {
     "name": "stdout",
     "output_type": "stream",
     "text": [
      "\n"
     ]
    }
   ],
   "source": [
    "p21_traindf, p21_testdf = \\\n",
    "    rfr_remote.rfr_pp_predictor(p21_bal_type, d_start=5, max_depth=9, max_feat='auto', \n",
    "                                min_samp_leaf=7, min_samples_split=2,\n",
    "                                num_trees=600, folds=5)"
   ]
  },
  {
   "cell_type": "code",
   "execution_count": 140,
   "metadata": {},
   "outputs": [
    {
     "data": {
      "text/html": [
       "<div>\n",
       "<style scoped>\n",
       "    .dataframe tbody tr th:only-of-type {\n",
       "        vertical-align: middle;\n",
       "    }\n",
       "\n",
       "    .dataframe tbody tr th {\n",
       "        vertical-align: top;\n",
       "    }\n",
       "\n",
       "    .dataframe thead th {\n",
       "        text-align: right;\n",
       "    }\n",
       "</style>\n",
       "<table border=\"1\" class=\"dataframe\">\n",
       "  <thead>\n",
       "    <tr style=\"text-align: right;\">\n",
       "      <th></th>\n",
       "      <th>train_rmse</th>\n",
       "      <th>test_rmse</th>\n",
       "    </tr>\n",
       "  </thead>\n",
       "  <tbody>\n",
       "    <tr>\n",
       "      <th>0</th>\n",
       "      <td>0.283364</td>\n",
       "      <td>0.425789</td>\n",
       "    </tr>\n",
       "  </tbody>\n",
       "</table>\n",
       "</div>"
      ],
      "text/plain": [
       "   train_rmse  test_rmse\n",
       "0    0.283364   0.425789"
      ]
     },
     "execution_count": 140,
     "metadata": {},
     "output_type": "execute_result"
    }
   ],
   "source": [
    "p21_type25_rmse = pp_rmse_cal(p21_traindf, p21_testdf, output_type='none')\n",
    "p21_type25_rmse"
   ]
  },
  {
   "cell_type": "code",
   "execution_count": 141,
   "metadata": {},
   "outputs": [
    {
     "data": {
      "text/html": [
       "<div>\n",
       "<style scoped>\n",
       "    .dataframe tbody tr th:only-of-type {\n",
       "        vertical-align: middle;\n",
       "    }\n",
       "\n",
       "    .dataframe tbody tr th {\n",
       "        vertical-align: top;\n",
       "    }\n",
       "\n",
       "    .dataframe thead th {\n",
       "        text-align: right;\n",
       "    }\n",
       "</style>\n",
       "<table border=\"1\" class=\"dataframe\">\n",
       "  <thead>\n",
       "    <tr style=\"text-align: right;\">\n",
       "      <th></th>\n",
       "      <th>Type</th>\n",
       "      <th>train_rmse</th>\n",
       "      <th>test_rmse</th>\n",
       "    </tr>\n",
       "  </thead>\n",
       "  <tbody>\n",
       "    <tr>\n",
       "      <th>0</th>\n",
       "      <td>II-VI</td>\n",
       "      <td>0.299259</td>\n",
       "      <td>0.456919</td>\n",
       "    </tr>\n",
       "    <tr>\n",
       "      <th>0</th>\n",
       "      <td>III-V</td>\n",
       "      <td>0.283528</td>\n",
       "      <td>0.424996</td>\n",
       "    </tr>\n",
       "    <tr>\n",
       "      <th>0</th>\n",
       "      <td>IV-IV</td>\n",
       "      <td>0.266349</td>\n",
       "      <td>0.393055</td>\n",
       "    </tr>\n",
       "  </tbody>\n",
       "</table>\n",
       "</div>"
      ],
      "text/plain": [
       "    Type  train_rmse  test_rmse\n",
       "0  II-VI    0.299259   0.456919\n",
       "0  III-V    0.283528   0.424996\n",
       "0  IV-IV    0.266349   0.393055"
      ]
     },
     "execution_count": 141,
     "metadata": {},
     "output_type": "execute_result"
    }
   ],
   "source": [
    "p21_type25type_rmse = pp_rmse_cal(p21_traindf, p21_testdf, output_type='type')\n",
    "p21_type25type_rmse"
   ]
  },
  {
   "cell_type": "markdown",
   "metadata": {},
   "source": [
    "# (+1, 0)"
   ]
  },
  {
   "cell_type": "code",
   "execution_count": 30,
   "metadata": {},
   "outputs": [],
   "source": [
    "p01_type_traindic, p01_type_testdic= \\\n",
    "    rfr_remote.rfr_predictor(p0p1_bal_type, d_start=5, max_depth=10, max_feat='auto', \n",
    "                             min_samp_leaf=8, min_samples_split=12,\n",
    "                             num_trees=150, folds=5)"
   ]
  },
  {
   "cell_type": "code",
   "execution_count": 31,
   "metadata": {},
   "outputs": [],
   "source": [
    "#output_type = 'none' returns the overall RMSE of train and test\n",
    "p01_type_rmse = rfr_remote.rmse_calculator(p01_type_traindic, p01_type_testdic,\n",
    "                                      output_type='none')\n",
    "\n",
    "#output_type = 'type' returns the RMSE of train and test separated by type\n",
    "p01_type_rmse_26, p01_type_rmse_35, p01_type_rmse_44 = \\\n",
    "    rfr_remote.rmse_calculator(p01_type_traindic, p01_type_testdic,\n",
    "                                      output_type='type')\n",
    "\n",
    "#output_type = 'site' returns the RMSE of train and test separated by site\n",
    "p01_type_rmse_sub, p01_type_rmse_int = \\\n",
    "    rfr_remote.rmse_calculator(p01_type_traindic, p01_type_testdic,\n",
    "                                      output_type='site')"
   ]
  },
  {
   "cell_type": "code",
   "execution_count": 32,
   "metadata": {
    "scrolled": false
   },
   "outputs": [
    {
     "data": {
      "text/html": [
       "<div>\n",
       "<style scoped>\n",
       "    .dataframe tbody tr th:only-of-type {\n",
       "        vertical-align: middle;\n",
       "    }\n",
       "\n",
       "    .dataframe tbody tr th {\n",
       "        vertical-align: top;\n",
       "    }\n",
       "\n",
       "    .dataframe thead th {\n",
       "        text-align: right;\n",
       "    }\n",
       "</style>\n",
       "<table border=\"1\" class=\"dataframe\">\n",
       "  <thead>\n",
       "    <tr style=\"text-align: right;\">\n",
       "      <th></th>\n",
       "      <th>output</th>\n",
       "      <th>train rmse</th>\n",
       "      <th>test rmse</th>\n",
       "    </tr>\n",
       "  </thead>\n",
       "  <tbody>\n",
       "    <tr>\n",
       "      <th>0</th>\n",
       "      <td>II-VI</td>\n",
       "      <td>0.31 +/- 0.012</td>\n",
       "      <td>0.46 +/- 0.062</td>\n",
       "    </tr>\n",
       "    <tr>\n",
       "      <th>1</th>\n",
       "      <td>III-V</td>\n",
       "      <td>0.26 +/- 0.004</td>\n",
       "      <td>0.39 +/- 0.039</td>\n",
       "    </tr>\n",
       "    <tr>\n",
       "      <th>2</th>\n",
       "      <td>IV-IV</td>\n",
       "      <td>0.27 +/- 0.012</td>\n",
       "      <td>0.38 +/- 0.073</td>\n",
       "    </tr>\n",
       "  </tbody>\n",
       "</table>\n",
       "</div>"
      ],
      "text/plain": [
       "  output      train rmse       test rmse\n",
       "0  II-VI  0.31 +/- 0.012  0.46 +/- 0.062\n",
       "1  III-V  0.26 +/- 0.004  0.39 +/- 0.039\n",
       "2  IV-IV  0.27 +/- 0.012  0.38 +/- 0.073"
      ]
     },
     "execution_count": 32,
     "metadata": {},
     "output_type": "execute_result"
    }
   ],
   "source": [
    "rfr_ipynb.type_site_df('type', [p01_type_rmse_26, p01_type_rmse_35, p01_type_rmse_44], folds=5)"
   ]
  },
  {
   "cell_type": "code",
   "execution_count": 33,
   "metadata": {
    "scrolled": true
   },
   "outputs": [
    {
     "data": {
      "text/html": [
       "<div>\n",
       "<style scoped>\n",
       "    .dataframe tbody tr th:only-of-type {\n",
       "        vertical-align: middle;\n",
       "    }\n",
       "\n",
       "    .dataframe tbody tr th {\n",
       "        vertical-align: top;\n",
       "    }\n",
       "\n",
       "    .dataframe thead th {\n",
       "        text-align: right;\n",
       "    }\n",
       "</style>\n",
       "<table border=\"1\" class=\"dataframe\">\n",
       "  <thead>\n",
       "    <tr style=\"text-align: right;\">\n",
       "      <th></th>\n",
       "      <th>train rmse</th>\n",
       "      <th>test rmse</th>\n",
       "    </tr>\n",
       "  </thead>\n",
       "  <tbody>\n",
       "    <tr>\n",
       "      <th>0</th>\n",
       "      <td>0.274933</td>\n",
       "      <td>0.462349</td>\n",
       "    </tr>\n",
       "    <tr>\n",
       "      <th>1</th>\n",
       "      <td>0.27827</td>\n",
       "      <td>0.429531</td>\n",
       "    </tr>\n",
       "    <tr>\n",
       "      <th>2</th>\n",
       "      <td>0.282051</td>\n",
       "      <td>0.421277</td>\n",
       "    </tr>\n",
       "    <tr>\n",
       "      <th>3</th>\n",
       "      <td>0.288867</td>\n",
       "      <td>0.391544</td>\n",
       "    </tr>\n",
       "    <tr>\n",
       "      <th>4</th>\n",
       "      <td>0.289407</td>\n",
       "      <td>0.351929</td>\n",
       "    </tr>\n",
       "    <tr>\n",
       "      <th>5</th>\n",
       "      <td>0.28 +/- 0.006</td>\n",
       "      <td>0.41 +/- 0.042</td>\n",
       "    </tr>\n",
       "  </tbody>\n",
       "</table>\n",
       "</div>"
      ],
      "text/plain": [
       "       train rmse       test rmse\n",
       "0        0.274933        0.462349\n",
       "1         0.27827        0.429531\n",
       "2        0.282051        0.421277\n",
       "3        0.288867        0.391544\n",
       "4        0.289407        0.351929\n",
       "5  0.28 +/- 0.006  0.41 +/- 0.042"
      ]
     },
     "execution_count": 33,
     "metadata": {},
     "output_type": "execute_result"
    }
   ],
   "source": [
    "p01_type_rmse"
   ]
  },
  {
   "cell_type": "code",
   "execution_count": 142,
   "metadata": {},
   "outputs": [
    {
     "data": {
      "application/vnd.jupyter.widget-view+json": {
       "model_id": "e99e06c2dd894108b1f221d97eed305d",
       "version_major": 2,
       "version_minor": 0
      },
      "text/plain": [
       "HBox(children=(FloatProgress(value=0.0, max=5.0), HTML(value='')))"
      ]
     },
     "metadata": {},
     "output_type": "display_data"
    },
    {
     "name": "stdout",
     "output_type": "stream",
     "text": [
      "\n"
     ]
    }
   ],
   "source": [
    "p01_traindf, p01_testdf = \\\n",
    "    rfr_remote.rfr_pp_predictor(p0p1_bal_type, d_start=5, max_depth=10, max_feat='auto', \n",
    "                                min_samp_leaf=8, min_samples_split=12,\n",
    "                                num_trees=150, folds=5)"
   ]
  },
  {
   "cell_type": "code",
   "execution_count": 143,
   "metadata": {},
   "outputs": [
    {
     "data": {
      "text/html": [
       "<div>\n",
       "<style scoped>\n",
       "    .dataframe tbody tr th:only-of-type {\n",
       "        vertical-align: middle;\n",
       "    }\n",
       "\n",
       "    .dataframe tbody tr th {\n",
       "        vertical-align: top;\n",
       "    }\n",
       "\n",
       "    .dataframe thead th {\n",
       "        text-align: right;\n",
       "    }\n",
       "</style>\n",
       "<table border=\"1\" class=\"dataframe\">\n",
       "  <thead>\n",
       "    <tr style=\"text-align: right;\">\n",
       "      <th></th>\n",
       "      <th>train_rmse</th>\n",
       "      <th>test_rmse</th>\n",
       "    </tr>\n",
       "  </thead>\n",
       "  <tbody>\n",
       "    <tr>\n",
       "      <th>0</th>\n",
       "      <td>0.27645</td>\n",
       "      <td>0.411788</td>\n",
       "    </tr>\n",
       "  </tbody>\n",
       "</table>\n",
       "</div>"
      ],
      "text/plain": [
       "   train_rmse  test_rmse\n",
       "0     0.27645   0.411788"
      ]
     },
     "execution_count": 143,
     "metadata": {},
     "output_type": "execute_result"
    }
   ],
   "source": [
    "p01_type25_rmse = pp_rmse_cal(p01_traindf, p01_testdf, output_type='none')\n",
    "p01_type25_rmse"
   ]
  },
  {
   "cell_type": "code",
   "execution_count": 144,
   "metadata": {
    "scrolled": true
   },
   "outputs": [
    {
     "data": {
      "text/html": [
       "<div>\n",
       "<style scoped>\n",
       "    .dataframe tbody tr th:only-of-type {\n",
       "        vertical-align: middle;\n",
       "    }\n",
       "\n",
       "    .dataframe tbody tr th {\n",
       "        vertical-align: top;\n",
       "    }\n",
       "\n",
       "    .dataframe thead th {\n",
       "        text-align: right;\n",
       "    }\n",
       "</style>\n",
       "<table border=\"1\" class=\"dataframe\">\n",
       "  <thead>\n",
       "    <tr style=\"text-align: right;\">\n",
       "      <th></th>\n",
       "      <th>Type</th>\n",
       "      <th>train_rmse</th>\n",
       "      <th>test_rmse</th>\n",
       "    </tr>\n",
       "  </thead>\n",
       "  <tbody>\n",
       "    <tr>\n",
       "      <th>0</th>\n",
       "      <td>II-VI</td>\n",
       "      <td>0.304622</td>\n",
       "      <td>0.453458</td>\n",
       "    </tr>\n",
       "    <tr>\n",
       "      <th>0</th>\n",
       "      <td>III-V</td>\n",
       "      <td>0.254079</td>\n",
       "      <td>0.380669</td>\n",
       "    </tr>\n",
       "    <tr>\n",
       "      <th>0</th>\n",
       "      <td>IV-IV</td>\n",
       "      <td>0.268185</td>\n",
       "      <td>0.397711</td>\n",
       "    </tr>\n",
       "  </tbody>\n",
       "</table>\n",
       "</div>"
      ],
      "text/plain": [
       "    Type  train_rmse  test_rmse\n",
       "0  II-VI    0.304622   0.453458\n",
       "0  III-V    0.254079   0.380669\n",
       "0  IV-IV    0.268185   0.397711"
      ]
     },
     "execution_count": 144,
     "metadata": {},
     "output_type": "execute_result"
    }
   ],
   "source": [
    "p01_type25type_rmse = pp_rmse_cal(p01_traindf, p01_testdf, output_type='type')\n",
    "p01_type25type_rmse"
   ]
  },
  {
   "cell_type": "markdown",
   "metadata": {},
   "source": [
    "# (0, -1)"
   ]
  },
  {
   "cell_type": "code",
   "execution_count": 34,
   "metadata": {},
   "outputs": [],
   "source": [
    "m01_type_traindic, m01_type_testdic= \\\n",
    "    rfr_remote.rfr_predictor(m0m1_bal_type, d_start=5, max_depth=8, max_feat='auto', \n",
    "                             min_samp_leaf=5, min_samples_split=3,\n",
    "                             num_trees=150, folds=5)"
   ]
  },
  {
   "cell_type": "code",
   "execution_count": 35,
   "metadata": {},
   "outputs": [],
   "source": [
    "#output_type = 'none' returns the overall RMSE of train and test\n",
    "m01_type_rmse = rfr_remote.rmse_calculator(m01_type_traindic, m01_type_testdic,\n",
    "                                      output_type='none')\n",
    "\n",
    "#output_type = 'type' returns the RMSE of train and test separated by type\n",
    "m01_type_rmse_26, m01_type_rmse_35, m01_type_rmse_44 = \\\n",
    "    rfr_remote.rmse_calculator(m01_type_traindic, m01_type_testdic,\n",
    "                                      output_type='type')\n",
    "\n",
    "#output_type = 'site' returns the RMSE of train and test separated by site\n",
    "m01_type_rmse_sub, m01_type_rmse_int = \\\n",
    "    rfr_remote.rmse_calculator(m01_type_traindic, m01_type_testdic,\n",
    "                                      output_type='site')"
   ]
  },
  {
   "cell_type": "code",
   "execution_count": 36,
   "metadata": {},
   "outputs": [
    {
     "data": {
      "text/html": [
       "<div>\n",
       "<style scoped>\n",
       "    .dataframe tbody tr th:only-of-type {\n",
       "        vertical-align: middle;\n",
       "    }\n",
       "\n",
       "    .dataframe tbody tr th {\n",
       "        vertical-align: top;\n",
       "    }\n",
       "\n",
       "    .dataframe thead th {\n",
       "        text-align: right;\n",
       "    }\n",
       "</style>\n",
       "<table border=\"1\" class=\"dataframe\">\n",
       "  <thead>\n",
       "    <tr style=\"text-align: right;\">\n",
       "      <th></th>\n",
       "      <th>output</th>\n",
       "      <th>train rmse</th>\n",
       "      <th>test rmse</th>\n",
       "    </tr>\n",
       "  </thead>\n",
       "  <tbody>\n",
       "    <tr>\n",
       "      <th>0</th>\n",
       "      <td>II-VI</td>\n",
       "      <td>0.26 +/- 0.011</td>\n",
       "      <td>0.42 +/- 0.07</td>\n",
       "    </tr>\n",
       "    <tr>\n",
       "      <th>1</th>\n",
       "      <td>III-V</td>\n",
       "      <td>0.23 +/- 0.009</td>\n",
       "      <td>0.39 +/- 0.063</td>\n",
       "    </tr>\n",
       "    <tr>\n",
       "      <th>2</th>\n",
       "      <td>IV-IV</td>\n",
       "      <td>0.2 +/- 0.01</td>\n",
       "      <td>0.34 +/- 0.055</td>\n",
       "    </tr>\n",
       "  </tbody>\n",
       "</table>\n",
       "</div>"
      ],
      "text/plain": [
       "  output      train rmse       test rmse\n",
       "0  II-VI  0.26 +/- 0.011   0.42 +/- 0.07\n",
       "1  III-V  0.23 +/- 0.009  0.39 +/- 0.063\n",
       "2  IV-IV    0.2 +/- 0.01  0.34 +/- 0.055"
      ]
     },
     "execution_count": 36,
     "metadata": {},
     "output_type": "execute_result"
    }
   ],
   "source": [
    "rfr_ipynb.type_site_df('type', [m01_type_rmse_26, m01_type_rmse_35, m01_type_rmse_44], folds=5)"
   ]
  },
  {
   "cell_type": "code",
   "execution_count": 37,
   "metadata": {
    "scrolled": true
   },
   "outputs": [
    {
     "data": {
      "text/html": [
       "<div>\n",
       "<style scoped>\n",
       "    .dataframe tbody tr th:only-of-type {\n",
       "        vertical-align: middle;\n",
       "    }\n",
       "\n",
       "    .dataframe tbody tr th {\n",
       "        vertical-align: top;\n",
       "    }\n",
       "\n",
       "    .dataframe thead th {\n",
       "        text-align: right;\n",
       "    }\n",
       "</style>\n",
       "<table border=\"1\" class=\"dataframe\">\n",
       "  <thead>\n",
       "    <tr style=\"text-align: right;\">\n",
       "      <th></th>\n",
       "      <th>train rmse</th>\n",
       "      <th>test rmse</th>\n",
       "    </tr>\n",
       "  </thead>\n",
       "  <tbody>\n",
       "    <tr>\n",
       "      <th>0</th>\n",
       "      <td>0.240736</td>\n",
       "      <td>0.328408</td>\n",
       "    </tr>\n",
       "    <tr>\n",
       "      <th>1</th>\n",
       "      <td>0.235962</td>\n",
       "      <td>0.387724</td>\n",
       "    </tr>\n",
       "    <tr>\n",
       "      <th>2</th>\n",
       "      <td>0.228474</td>\n",
       "      <td>0.448719</td>\n",
       "    </tr>\n",
       "    <tr>\n",
       "      <th>3</th>\n",
       "      <td>0.233114</td>\n",
       "      <td>0.405759</td>\n",
       "    </tr>\n",
       "    <tr>\n",
       "      <th>4</th>\n",
       "      <td>0.234982</td>\n",
       "      <td>0.365878</td>\n",
       "    </tr>\n",
       "    <tr>\n",
       "      <th>5</th>\n",
       "      <td>0.23 +/- 0.004</td>\n",
       "      <td>0.39 +/- 0.045</td>\n",
       "    </tr>\n",
       "  </tbody>\n",
       "</table>\n",
       "</div>"
      ],
      "text/plain": [
       "       train rmse       test rmse\n",
       "0        0.240736        0.328408\n",
       "1        0.235962        0.387724\n",
       "2        0.228474        0.448719\n",
       "3        0.233114        0.405759\n",
       "4        0.234982        0.365878\n",
       "5  0.23 +/- 0.004  0.39 +/- 0.045"
      ]
     },
     "execution_count": 37,
     "metadata": {},
     "output_type": "execute_result"
    }
   ],
   "source": [
    "m01_type_rmse"
   ]
  },
  {
   "cell_type": "code",
   "execution_count": 145,
   "metadata": {},
   "outputs": [
    {
     "data": {
      "application/vnd.jupyter.widget-view+json": {
       "model_id": "7885af63982e4b4e88623d7d2188543f",
       "version_major": 2,
       "version_minor": 0
      },
      "text/plain": [
       "HBox(children=(FloatProgress(value=0.0, max=5.0), HTML(value='')))"
      ]
     },
     "metadata": {},
     "output_type": "display_data"
    },
    {
     "name": "stdout",
     "output_type": "stream",
     "text": [
      "\n"
     ]
    }
   ],
   "source": [
    "m01_traindf, m01_testdf = \\\n",
    "    rfr_remote.rfr_pp_predictor(m0m1_bal_type, d_start=5, max_depth=8, max_feat='auto', \n",
    "                                min_samp_leaf=5, min_samples_split=3,\n",
    "                                num_trees=150, folds=5)"
   ]
  },
  {
   "cell_type": "code",
   "execution_count": 146,
   "metadata": {},
   "outputs": [
    {
     "data": {
      "text/html": [
       "<div>\n",
       "<style scoped>\n",
       "    .dataframe tbody tr th:only-of-type {\n",
       "        vertical-align: middle;\n",
       "    }\n",
       "\n",
       "    .dataframe tbody tr th {\n",
       "        vertical-align: top;\n",
       "    }\n",
       "\n",
       "    .dataframe thead th {\n",
       "        text-align: right;\n",
       "    }\n",
       "</style>\n",
       "<table border=\"1\" class=\"dataframe\">\n",
       "  <thead>\n",
       "    <tr style=\"text-align: right;\">\n",
       "      <th></th>\n",
       "      <th>train_rmse</th>\n",
       "      <th>test_rmse</th>\n",
       "    </tr>\n",
       "  </thead>\n",
       "  <tbody>\n",
       "    <tr>\n",
       "      <th>0</th>\n",
       "      <td>0.228891</td>\n",
       "      <td>0.386261</td>\n",
       "    </tr>\n",
       "  </tbody>\n",
       "</table>\n",
       "</div>"
      ],
      "text/plain": [
       "   train_rmse  test_rmse\n",
       "0    0.228891   0.386261"
      ]
     },
     "execution_count": 146,
     "metadata": {},
     "output_type": "execute_result"
    }
   ],
   "source": [
    "m01_type25_rmse = pp_rmse_cal(m01_traindf, m01_testdf, output_type='none')\n",
    "m01_type25_rmse"
   ]
  },
  {
   "cell_type": "code",
   "execution_count": 147,
   "metadata": {
    "scrolled": true
   },
   "outputs": [
    {
     "data": {
      "text/html": [
       "<div>\n",
       "<style scoped>\n",
       "    .dataframe tbody tr th:only-of-type {\n",
       "        vertical-align: middle;\n",
       "    }\n",
       "\n",
       "    .dataframe tbody tr th {\n",
       "        vertical-align: top;\n",
       "    }\n",
       "\n",
       "    .dataframe thead th {\n",
       "        text-align: right;\n",
       "    }\n",
       "</style>\n",
       "<table border=\"1\" class=\"dataframe\">\n",
       "  <thead>\n",
       "    <tr style=\"text-align: right;\">\n",
       "      <th></th>\n",
       "      <th>Type</th>\n",
       "      <th>train_rmse</th>\n",
       "      <th>test_rmse</th>\n",
       "    </tr>\n",
       "  </thead>\n",
       "  <tbody>\n",
       "    <tr>\n",
       "      <th>0</th>\n",
       "      <td>II-VI</td>\n",
       "      <td>0.255318</td>\n",
       "      <td>0.428762</td>\n",
       "    </tr>\n",
       "    <tr>\n",
       "      <th>0</th>\n",
       "      <td>III-V</td>\n",
       "      <td>0.228607</td>\n",
       "      <td>0.389178</td>\n",
       "    </tr>\n",
       "    <tr>\n",
       "      <th>0</th>\n",
       "      <td>IV-IV</td>\n",
       "      <td>0.199309</td>\n",
       "      <td>0.335108</td>\n",
       "    </tr>\n",
       "  </tbody>\n",
       "</table>\n",
       "</div>"
      ],
      "text/plain": [
       "    Type  train_rmse  test_rmse\n",
       "0  II-VI    0.255318   0.428762\n",
       "0  III-V    0.228607   0.389178\n",
       "0  IV-IV    0.199309   0.335108"
      ]
     },
     "execution_count": 147,
     "metadata": {},
     "output_type": "execute_result"
    }
   ],
   "source": [
    "m01_type25type_rmse = pp_rmse_cal(m01_traindf, m01_testdf, output_type='type')\n",
    "m01_type25type_rmse"
   ]
  },
  {
   "cell_type": "markdown",
   "metadata": {},
   "source": [
    "# (-1, -2)"
   ]
  },
  {
   "cell_type": "code",
   "execution_count": 38,
   "metadata": {},
   "outputs": [],
   "source": [
    "m12_type_traindic, m12_type_testdic= \\\n",
    "    rfr_remote.rfr_predictor(m12_bal_type, d_start=5, max_depth=10, max_feat='auto', \n",
    "                             min_samp_leaf=8, min_samples_split=12,\n",
    "                             num_trees=750, folds=5)"
   ]
  },
  {
   "cell_type": "code",
   "execution_count": 39,
   "metadata": {},
   "outputs": [],
   "source": [
    "#output_type = 'none' returns the overall RMSE of train and test\n",
    "m12_type_rmse = rfr_remote.rmse_calculator(m12_type_traindic, m12_type_testdic,\n",
    "                                      output_type='none')\n",
    "\n",
    "#output_type = 'type' returns the RMSE of train and test separated by type\n",
    "m12_type_rmse_26, m12_type_rmse_35, m12_type_rmse_44 = \\\n",
    "    rfr_remote.rmse_calculator(m12_type_traindic, m12_type_testdic,\n",
    "                                      output_type='type')\n",
    "\n",
    "#output_type = 'site' returns the RMSE of train and test separated by site\n",
    "m12_type_rmse_sub, m12_type_rmse_int = \\\n",
    "    rfr_remote.rmse_calculator(m12_type_traindic, m12_type_testdic,\n",
    "                                      output_type='site')"
   ]
  },
  {
   "cell_type": "code",
   "execution_count": 40,
   "metadata": {
    "scrolled": true
   },
   "outputs": [
    {
     "data": {
      "text/html": [
       "<div>\n",
       "<style scoped>\n",
       "    .dataframe tbody tr th:only-of-type {\n",
       "        vertical-align: middle;\n",
       "    }\n",
       "\n",
       "    .dataframe tbody tr th {\n",
       "        vertical-align: top;\n",
       "    }\n",
       "\n",
       "    .dataframe thead th {\n",
       "        text-align: right;\n",
       "    }\n",
       "</style>\n",
       "<table border=\"1\" class=\"dataframe\">\n",
       "  <thead>\n",
       "    <tr style=\"text-align: right;\">\n",
       "      <th></th>\n",
       "      <th>output</th>\n",
       "      <th>train rmse</th>\n",
       "      <th>test rmse</th>\n",
       "    </tr>\n",
       "  </thead>\n",
       "  <tbody>\n",
       "    <tr>\n",
       "      <th>0</th>\n",
       "      <td>II-VI</td>\n",
       "      <td>0.27 +/- 0.009</td>\n",
       "      <td>0.36 +/- 0.066</td>\n",
       "    </tr>\n",
       "    <tr>\n",
       "      <th>1</th>\n",
       "      <td>III-V</td>\n",
       "      <td>0.27 +/- 0.007</td>\n",
       "      <td>0.37 +/- 0.044</td>\n",
       "    </tr>\n",
       "    <tr>\n",
       "      <th>2</th>\n",
       "      <td>IV-IV</td>\n",
       "      <td>0.22 +/- 0.013</td>\n",
       "      <td>0.31 +/- 0.074</td>\n",
       "    </tr>\n",
       "  </tbody>\n",
       "</table>\n",
       "</div>"
      ],
      "text/plain": [
       "  output      train rmse       test rmse\n",
       "0  II-VI  0.27 +/- 0.009  0.36 +/- 0.066\n",
       "1  III-V  0.27 +/- 0.007  0.37 +/- 0.044\n",
       "2  IV-IV  0.22 +/- 0.013  0.31 +/- 0.074"
      ]
     },
     "execution_count": 40,
     "metadata": {},
     "output_type": "execute_result"
    }
   ],
   "source": [
    "rfr_ipynb.type_site_df('type', [m12_type_rmse_26, m12_type_rmse_35, m12_type_rmse_44], folds=5)"
   ]
  },
  {
   "cell_type": "code",
   "execution_count": 41,
   "metadata": {
    "scrolled": true
   },
   "outputs": [
    {
     "data": {
      "text/html": [
       "<div>\n",
       "<style scoped>\n",
       "    .dataframe tbody tr th:only-of-type {\n",
       "        vertical-align: middle;\n",
       "    }\n",
       "\n",
       "    .dataframe tbody tr th {\n",
       "        vertical-align: top;\n",
       "    }\n",
       "\n",
       "    .dataframe thead th {\n",
       "        text-align: right;\n",
       "    }\n",
       "</style>\n",
       "<table border=\"1\" class=\"dataframe\">\n",
       "  <thead>\n",
       "    <tr style=\"text-align: right;\">\n",
       "      <th></th>\n",
       "      <th>train rmse</th>\n",
       "      <th>test rmse</th>\n",
       "    </tr>\n",
       "  </thead>\n",
       "  <tbody>\n",
       "    <tr>\n",
       "      <th>0</th>\n",
       "      <td>0.263474</td>\n",
       "      <td>0.307459</td>\n",
       "    </tr>\n",
       "    <tr>\n",
       "      <th>1</th>\n",
       "      <td>0.263554</td>\n",
       "      <td>0.314294</td>\n",
       "    </tr>\n",
       "    <tr>\n",
       "      <th>2</th>\n",
       "      <td>0.248667</td>\n",
       "      <td>0.414343</td>\n",
       "    </tr>\n",
       "    <tr>\n",
       "      <th>3</th>\n",
       "      <td>0.249422</td>\n",
       "      <td>0.403763</td>\n",
       "    </tr>\n",
       "    <tr>\n",
       "      <th>4</th>\n",
       "      <td>0.259191</td>\n",
       "      <td>0.32226</td>\n",
       "    </tr>\n",
       "    <tr>\n",
       "      <th>5</th>\n",
       "      <td>0.26 +/- 0.007</td>\n",
       "      <td>0.35 +/- 0.052</td>\n",
       "    </tr>\n",
       "  </tbody>\n",
       "</table>\n",
       "</div>"
      ],
      "text/plain": [
       "       train rmse       test rmse\n",
       "0        0.263474        0.307459\n",
       "1        0.263554        0.314294\n",
       "2        0.248667        0.414343\n",
       "3        0.249422        0.403763\n",
       "4        0.259191         0.32226\n",
       "5  0.26 +/- 0.007  0.35 +/- 0.052"
      ]
     },
     "execution_count": 41,
     "metadata": {},
     "output_type": "execute_result"
    }
   ],
   "source": [
    "m12_type_rmse"
   ]
  },
  {
   "cell_type": "code",
   "execution_count": 148,
   "metadata": {},
   "outputs": [
    {
     "data": {
      "application/vnd.jupyter.widget-view+json": {
       "model_id": "0cd3afa72ddf4bb384821752445fe5de",
       "version_major": 2,
       "version_minor": 0
      },
      "text/plain": [
       "HBox(children=(FloatProgress(value=0.0, max=5.0), HTML(value='')))"
      ]
     },
     "metadata": {},
     "output_type": "display_data"
    },
    {
     "name": "stdout",
     "output_type": "stream",
     "text": [
      "\n"
     ]
    }
   ],
   "source": [
    "m12_traindf, m12_testdf = \\\n",
    "    rfr_remote.rfr_pp_predictor(m12_bal_type, d_start=5, max_depth=10, max_feat='auto', \n",
    "                                min_samp_leaf=8, min_samples_split=12,\n",
    "                                num_trees=750, folds=5)"
   ]
  },
  {
   "cell_type": "code",
   "execution_count": 149,
   "metadata": {},
   "outputs": [
    {
     "data": {
      "text/html": [
       "<div>\n",
       "<style scoped>\n",
       "    .dataframe tbody tr th:only-of-type {\n",
       "        vertical-align: middle;\n",
       "    }\n",
       "\n",
       "    .dataframe tbody tr th {\n",
       "        vertical-align: top;\n",
       "    }\n",
       "\n",
       "    .dataframe thead th {\n",
       "        text-align: right;\n",
       "    }\n",
       "</style>\n",
       "<table border=\"1\" class=\"dataframe\">\n",
       "  <thead>\n",
       "    <tr style=\"text-align: right;\">\n",
       "      <th></th>\n",
       "      <th>train_rmse</th>\n",
       "      <th>test_rmse</th>\n",
       "    </tr>\n",
       "  </thead>\n",
       "  <tbody>\n",
       "    <tr>\n",
       "      <th>0</th>\n",
       "      <td>0.253829</td>\n",
       "      <td>0.354199</td>\n",
       "    </tr>\n",
       "  </tbody>\n",
       "</table>\n",
       "</div>"
      ],
      "text/plain": [
       "   train_rmse  test_rmse\n",
       "0    0.253829   0.354199"
      ]
     },
     "execution_count": 149,
     "metadata": {},
     "output_type": "execute_result"
    }
   ],
   "source": [
    "m12_type25_rmse = pp_rmse_cal(m12_traindf, m12_testdf, output_type='none')\n",
    "m12_type25_rmse"
   ]
  },
  {
   "cell_type": "code",
   "execution_count": 150,
   "metadata": {
    "scrolled": true
   },
   "outputs": [
    {
     "data": {
      "text/html": [
       "<div>\n",
       "<style scoped>\n",
       "    .dataframe tbody tr th:only-of-type {\n",
       "        vertical-align: middle;\n",
       "    }\n",
       "\n",
       "    .dataframe tbody tr th {\n",
       "        vertical-align: top;\n",
       "    }\n",
       "\n",
       "    .dataframe thead th {\n",
       "        text-align: right;\n",
       "    }\n",
       "</style>\n",
       "<table border=\"1\" class=\"dataframe\">\n",
       "  <thead>\n",
       "    <tr style=\"text-align: right;\">\n",
       "      <th></th>\n",
       "      <th>Type</th>\n",
       "      <th>train_rmse</th>\n",
       "      <th>test_rmse</th>\n",
       "    </tr>\n",
       "  </thead>\n",
       "  <tbody>\n",
       "    <tr>\n",
       "      <th>0</th>\n",
       "      <td>II-VI</td>\n",
       "      <td>0.267775</td>\n",
       "      <td>0.372890</td>\n",
       "    </tr>\n",
       "    <tr>\n",
       "      <th>0</th>\n",
       "      <td>III-V</td>\n",
       "      <td>0.269111</td>\n",
       "      <td>0.374219</td>\n",
       "    </tr>\n",
       "    <tr>\n",
       "      <th>0</th>\n",
       "      <td>IV-IV</td>\n",
       "      <td>0.221728</td>\n",
       "      <td>0.311904</td>\n",
       "    </tr>\n",
       "  </tbody>\n",
       "</table>\n",
       "</div>"
      ],
      "text/plain": [
       "    Type  train_rmse  test_rmse\n",
       "0  II-VI    0.267775   0.372890\n",
       "0  III-V    0.269111   0.374219\n",
       "0  IV-IV    0.221728   0.311904"
      ]
     },
     "execution_count": 150,
     "metadata": {},
     "output_type": "execute_result"
    }
   ],
   "source": [
    "m12_type25type_rmse = pp_rmse_cal(m12_traindf, m12_testdf, output_type='type')\n",
    "m12_type25type_rmse"
   ]
  },
  {
   "cell_type": "markdown",
   "metadata": {},
   "source": [
    "# (-2, -3)"
   ]
  },
  {
   "cell_type": "code",
   "execution_count": 42,
   "metadata": {},
   "outputs": [],
   "source": [
    "m23_type_traindic, m23_type_testdic= \\\n",
    "    rfr_remote.rfr_predictor(m23_bal_type, d_start=5, max_depth=10, max_feat='sqrt', \n",
    "                             min_samp_leaf=2, min_samples_split=14,\n",
    "                             num_trees=450, folds=5)"
   ]
  },
  {
   "cell_type": "code",
   "execution_count": 43,
   "metadata": {},
   "outputs": [],
   "source": [
    "#output_type = 'none' returns the overall RMSE of train and test\n",
    "m23_type_rmse = rfr_remote.rmse_calculator(m23_type_traindic, m23_type_testdic,\n",
    "                                      output_type='none')\n",
    "\n",
    "#output_type = 'type' returns the RMSE of train and test separated by type\n",
    "m23_type_rmse_26, m23_type_rmse_35, m23_type_rmse_44 = \\\n",
    "    rfr_remote.rmse_calculator(m23_type_traindic, m23_type_testdic,\n",
    "                                      output_type='type')\n",
    "\n",
    "#output_type = 'site' returns the RMSE of train and test separated by site\n",
    "m23_type_rmse_sub, m23_type_rmse_int = \\\n",
    "    rfr_remote.rmse_calculator(m23_type_traindic, m23_type_testdic,\n",
    "                                      output_type='site')"
   ]
  },
  {
   "cell_type": "code",
   "execution_count": 44,
   "metadata": {
    "scrolled": true
   },
   "outputs": [
    {
     "data": {
      "text/html": [
       "<div>\n",
       "<style scoped>\n",
       "    .dataframe tbody tr th:only-of-type {\n",
       "        vertical-align: middle;\n",
       "    }\n",
       "\n",
       "    .dataframe tbody tr th {\n",
       "        vertical-align: top;\n",
       "    }\n",
       "\n",
       "    .dataframe thead th {\n",
       "        text-align: right;\n",
       "    }\n",
       "</style>\n",
       "<table border=\"1\" class=\"dataframe\">\n",
       "  <thead>\n",
       "    <tr style=\"text-align: right;\">\n",
       "      <th></th>\n",
       "      <th>output</th>\n",
       "      <th>train rmse</th>\n",
       "      <th>test rmse</th>\n",
       "    </tr>\n",
       "  </thead>\n",
       "  <tbody>\n",
       "    <tr>\n",
       "      <th>0</th>\n",
       "      <td>II-VI</td>\n",
       "      <td>0.23 +/- 0.008</td>\n",
       "      <td>0.3 +/- 0.057</td>\n",
       "    </tr>\n",
       "    <tr>\n",
       "      <th>1</th>\n",
       "      <td>III-V</td>\n",
       "      <td>0.19 +/- 0.016</td>\n",
       "      <td>0.25 +/- 0.069</td>\n",
       "    </tr>\n",
       "    <tr>\n",
       "      <th>2</th>\n",
       "      <td>IV-IV</td>\n",
       "      <td>0.17 +/- 0.007</td>\n",
       "      <td>0.23 +/- 0.04</td>\n",
       "    </tr>\n",
       "  </tbody>\n",
       "</table>\n",
       "</div>"
      ],
      "text/plain": [
       "  output      train rmse       test rmse\n",
       "0  II-VI  0.23 +/- 0.008   0.3 +/- 0.057\n",
       "1  III-V  0.19 +/- 0.016  0.25 +/- 0.069\n",
       "2  IV-IV  0.17 +/- 0.007   0.23 +/- 0.04"
      ]
     },
     "execution_count": 44,
     "metadata": {},
     "output_type": "execute_result"
    }
   ],
   "source": [
    "rfr_ipynb.type_site_df('type', [m23_type_rmse_26, m23_type_rmse_35, m23_type_rmse_44], folds=5)"
   ]
  },
  {
   "cell_type": "code",
   "execution_count": 45,
   "metadata": {
    "scrolled": true
   },
   "outputs": [
    {
     "data": {
      "text/html": [
       "<div>\n",
       "<style scoped>\n",
       "    .dataframe tbody tr th:only-of-type {\n",
       "        vertical-align: middle;\n",
       "    }\n",
       "\n",
       "    .dataframe tbody tr th {\n",
       "        vertical-align: top;\n",
       "    }\n",
       "\n",
       "    .dataframe thead th {\n",
       "        text-align: right;\n",
       "    }\n",
       "</style>\n",
       "<table border=\"1\" class=\"dataframe\">\n",
       "  <thead>\n",
       "    <tr style=\"text-align: right;\">\n",
       "      <th></th>\n",
       "      <th>train rmse</th>\n",
       "      <th>test rmse</th>\n",
       "    </tr>\n",
       "  </thead>\n",
       "  <tbody>\n",
       "    <tr>\n",
       "      <th>0</th>\n",
       "      <td>0.202723</td>\n",
       "      <td>0.214469</td>\n",
       "    </tr>\n",
       "    <tr>\n",
       "      <th>1</th>\n",
       "      <td>0.198835</td>\n",
       "      <td>0.277896</td>\n",
       "    </tr>\n",
       "    <tr>\n",
       "      <th>2</th>\n",
       "      <td>0.181501</td>\n",
       "      <td>0.325089</td>\n",
       "    </tr>\n",
       "    <tr>\n",
       "      <th>3</th>\n",
       "      <td>0.198734</td>\n",
       "      <td>0.259607</td>\n",
       "    </tr>\n",
       "    <tr>\n",
       "      <th>4</th>\n",
       "      <td>0.195333</td>\n",
       "      <td>0.253196</td>\n",
       "    </tr>\n",
       "    <tr>\n",
       "      <th>5</th>\n",
       "      <td>0.2 +/- 0.008</td>\n",
       "      <td>0.27 +/- 0.04</td>\n",
       "    </tr>\n",
       "  </tbody>\n",
       "</table>\n",
       "</div>"
      ],
      "text/plain": [
       "      train rmse      test rmse\n",
       "0       0.202723       0.214469\n",
       "1       0.198835       0.277896\n",
       "2       0.181501       0.325089\n",
       "3       0.198734       0.259607\n",
       "4       0.195333       0.253196\n",
       "5  0.2 +/- 0.008  0.27 +/- 0.04"
      ]
     },
     "execution_count": 45,
     "metadata": {},
     "output_type": "execute_result"
    }
   ],
   "source": [
    "m23_type_rmse"
   ]
  },
  {
   "cell_type": "code",
   "execution_count": 151,
   "metadata": {},
   "outputs": [
    {
     "data": {
      "application/vnd.jupyter.widget-view+json": {
       "model_id": "6186ce08eaa947c28f9d7d0efbba4043",
       "version_major": 2,
       "version_minor": 0
      },
      "text/plain": [
       "HBox(children=(FloatProgress(value=0.0, max=5.0), HTML(value='')))"
      ]
     },
     "metadata": {},
     "output_type": "display_data"
    },
    {
     "name": "stdout",
     "output_type": "stream",
     "text": [
      "\n"
     ]
    }
   ],
   "source": [
    "m23_traindf, m23_testdf = \\\n",
    "    rfr_remote.rfr_pp_predictor(m23_bal_type, d_start=5, max_depth=10, max_feat='sqrt', \n",
    "                             min_samp_leaf=2, min_samples_split=14,\n",
    "                             num_trees=450, folds=5)"
   ]
  },
  {
   "cell_type": "code",
   "execution_count": 152,
   "metadata": {},
   "outputs": [
    {
     "data": {
      "text/html": [
       "<div>\n",
       "<style scoped>\n",
       "    .dataframe tbody tr th:only-of-type {\n",
       "        vertical-align: middle;\n",
       "    }\n",
       "\n",
       "    .dataframe tbody tr th {\n",
       "        vertical-align: top;\n",
       "    }\n",
       "\n",
       "    .dataframe thead th {\n",
       "        text-align: right;\n",
       "    }\n",
       "</style>\n",
       "<table border=\"1\" class=\"dataframe\">\n",
       "  <thead>\n",
       "    <tr style=\"text-align: right;\">\n",
       "      <th></th>\n",
       "      <th>train_rmse</th>\n",
       "      <th>test_rmse</th>\n",
       "    </tr>\n",
       "  </thead>\n",
       "  <tbody>\n",
       "    <tr>\n",
       "      <th>0</th>\n",
       "      <td>0.192926</td>\n",
       "      <td>0.264484</td>\n",
       "    </tr>\n",
       "  </tbody>\n",
       "</table>\n",
       "</div>"
      ],
      "text/plain": [
       "   train_rmse  test_rmse\n",
       "0    0.192926   0.264484"
      ]
     },
     "execution_count": 152,
     "metadata": {},
     "output_type": "execute_result"
    }
   ],
   "source": [
    "m23_type25_rmse = pp_rmse_cal(m23_traindf, m23_testdf, output_type='none')\n",
    "m23_type25_rmse"
   ]
  },
  {
   "cell_type": "code",
   "execution_count": 153,
   "metadata": {
    "scrolled": true
   },
   "outputs": [
    {
     "data": {
      "text/html": [
       "<div>\n",
       "<style scoped>\n",
       "    .dataframe tbody tr th:only-of-type {\n",
       "        vertical-align: middle;\n",
       "    }\n",
       "\n",
       "    .dataframe tbody tr th {\n",
       "        vertical-align: top;\n",
       "    }\n",
       "\n",
       "    .dataframe thead th {\n",
       "        text-align: right;\n",
       "    }\n",
       "</style>\n",
       "<table border=\"1\" class=\"dataframe\">\n",
       "  <thead>\n",
       "    <tr style=\"text-align: right;\">\n",
       "      <th></th>\n",
       "      <th>Type</th>\n",
       "      <th>train_rmse</th>\n",
       "      <th>test_rmse</th>\n",
       "    </tr>\n",
       "  </thead>\n",
       "  <tbody>\n",
       "    <tr>\n",
       "      <th>0</th>\n",
       "      <td>II-VI</td>\n",
       "      <td>0.224106</td>\n",
       "      <td>0.305995</td>\n",
       "    </tr>\n",
       "    <tr>\n",
       "      <th>0</th>\n",
       "      <td>III-V</td>\n",
       "      <td>0.186078</td>\n",
       "      <td>0.253710</td>\n",
       "    </tr>\n",
       "    <tr>\n",
       "      <th>0</th>\n",
       "      <td>IV-IV</td>\n",
       "      <td>0.163746</td>\n",
       "      <td>0.227715</td>\n",
       "    </tr>\n",
       "  </tbody>\n",
       "</table>\n",
       "</div>"
      ],
      "text/plain": [
       "    Type  train_rmse  test_rmse\n",
       "0  II-VI    0.224106   0.305995\n",
       "0  III-V    0.186078   0.253710\n",
       "0  IV-IV    0.163746   0.227715"
      ]
     },
     "execution_count": 153,
     "metadata": {},
     "output_type": "execute_result"
    }
   ],
   "source": [
    "m23_type25type_rmse = pp_rmse_cal(m23_traindf, m23_testdf, output_type='type')\n",
    "m23_type25type_rmse"
   ]
  },
  {
   "cell_type": "markdown",
   "metadata": {},
   "source": [
    "# Site"
   ]
  },
  {
   "cell_type": "code",
   "execution_count": 155,
   "metadata": {},
   "outputs": [],
   "source": [
    "ha_bal_site = pd.read_csv('./xiaofeng_lasso/210928_balanceddata/balanced_site/Lasso_HA_site.csv')\n",
    "ha_bal_site=ha_bal_site.iloc[:, 1:]"
   ]
  },
  {
   "cell_type": "code",
   "execution_count": 156,
   "metadata": {},
   "outputs": [],
   "source": [
    "hb_bal_site = pd.read_csv('./xiaofeng_lasso/210928_balanceddata/balanced_site/Lasso_HB_site.csv')\n",
    "hb_bal_site=hb_bal_site.iloc[:, 1:]"
   ]
  },
  {
   "cell_type": "code",
   "execution_count": 157,
   "metadata": {},
   "outputs": [
    {
     "name": "stdout",
     "output_type": "stream",
     "text": [
      "Total entries:  1104\n"
     ]
    },
    {
     "data": {
      "text/html": [
       "<div>\n",
       "<style scoped>\n",
       "    .dataframe tbody tr th:only-of-type {\n",
       "        vertical-align: middle;\n",
       "    }\n",
       "\n",
       "    .dataframe tbody tr th {\n",
       "        vertical-align: top;\n",
       "    }\n",
       "\n",
       "    .dataframe thead th {\n",
       "        text-align: right;\n",
       "    }\n",
       "</style>\n",
       "<table border=\"1\" class=\"dataframe\">\n",
       "  <thead>\n",
       "    <tr style=\"text-align: right;\">\n",
       "      <th></th>\n",
       "      <th>Site</th>\n",
       "      <th>percent</th>\n",
       "    </tr>\n",
       "  </thead>\n",
       "  <tbody>\n",
       "    <tr>\n",
       "      <th>M_A</th>\n",
       "      <td>293</td>\n",
       "      <td>26.54</td>\n",
       "    </tr>\n",
       "    <tr>\n",
       "      <th>M_B</th>\n",
       "      <td>259</td>\n",
       "      <td>23.46</td>\n",
       "    </tr>\n",
       "    <tr>\n",
       "      <th>M_i_A</th>\n",
       "      <td>192</td>\n",
       "      <td>17.39</td>\n",
       "    </tr>\n",
       "    <tr>\n",
       "      <th>M_i_neut</th>\n",
       "      <td>183</td>\n",
       "      <td>16.58</td>\n",
       "    </tr>\n",
       "    <tr>\n",
       "      <th>M_i_B</th>\n",
       "      <td>177</td>\n",
       "      <td>16.03</td>\n",
       "    </tr>\n",
       "  </tbody>\n",
       "</table>\n",
       "</div>"
      ],
      "text/plain": [
       "          Site  percent\n",
       "M_A        293    26.54\n",
       "M_B        259    23.46\n",
       "M_i_A      192    17.39\n",
       "M_i_neut   183    16.58\n",
       "M_i_B      177    16.03"
      ]
     },
     "execution_count": 157,
     "metadata": {},
     "output_type": "execute_result"
    }
   ],
   "source": [
    "rfr_ipynb.counter(ha_bal_site, 'Site')"
   ]
  },
  {
   "cell_type": "code",
   "execution_count": 158,
   "metadata": {
    "scrolled": true
   },
   "outputs": [
    {
     "name": "stdout",
     "output_type": "stream",
     "text": [
      "Total entries:  1104\n"
     ]
    },
    {
     "data": {
      "text/html": [
       "<div>\n",
       "<style scoped>\n",
       "    .dataframe tbody tr th:only-of-type {\n",
       "        vertical-align: middle;\n",
       "    }\n",
       "\n",
       "    .dataframe tbody tr th {\n",
       "        vertical-align: top;\n",
       "    }\n",
       "\n",
       "    .dataframe thead th {\n",
       "        text-align: right;\n",
       "    }\n",
       "</style>\n",
       "<table border=\"1\" class=\"dataframe\">\n",
       "  <thead>\n",
       "    <tr style=\"text-align: right;\">\n",
       "      <th></th>\n",
       "      <th>Site</th>\n",
       "      <th>percent</th>\n",
       "    </tr>\n",
       "  </thead>\n",
       "  <tbody>\n",
       "    <tr>\n",
       "      <th>M_A</th>\n",
       "      <td>293</td>\n",
       "      <td>26.54</td>\n",
       "    </tr>\n",
       "    <tr>\n",
       "      <th>M_B</th>\n",
       "      <td>259</td>\n",
       "      <td>23.46</td>\n",
       "    </tr>\n",
       "    <tr>\n",
       "      <th>M_i_A</th>\n",
       "      <td>192</td>\n",
       "      <td>17.39</td>\n",
       "    </tr>\n",
       "    <tr>\n",
       "      <th>M_i_neut</th>\n",
       "      <td>183</td>\n",
       "      <td>16.58</td>\n",
       "    </tr>\n",
       "    <tr>\n",
       "      <th>M_i_B</th>\n",
       "      <td>177</td>\n",
       "      <td>16.03</td>\n",
       "    </tr>\n",
       "  </tbody>\n",
       "</table>\n",
       "</div>"
      ],
      "text/plain": [
       "          Site  percent\n",
       "M_A        293    26.54\n",
       "M_B        259    23.46\n",
       "M_i_A      192    17.39\n",
       "M_i_neut   183    16.58\n",
       "M_i_B      177    16.03"
      ]
     },
     "execution_count": 158,
     "metadata": {},
     "output_type": "execute_result"
    }
   ],
   "source": [
    "rfr_ipynb.counter(hb_bal_site, 'Site')"
   ]
  },
  {
   "cell_type": "code",
   "execution_count": 159,
   "metadata": {},
   "outputs": [],
   "source": [
    "p32_bal_site = pd.read_csv('./xiaofeng_lasso/210928_balanceddata/balanced_site/Lasso_(+3,+2)_site.csv')\n",
    "p32_bal_site = p32_bal_site.iloc[:, 1:]"
   ]
  },
  {
   "cell_type": "code",
   "execution_count": 160,
   "metadata": {},
   "outputs": [],
   "source": [
    "p21_bal_site = pd.read_csv('./xiaofeng_lasso/210928_balanceddata/balanced_site/Lasso_(+2,+1)_site.csv')\n",
    "p21_bal_site = p21_bal_site.iloc[:, 1:]"
   ]
  },
  {
   "cell_type": "code",
   "execution_count": 161,
   "metadata": {},
   "outputs": [],
   "source": [
    "p0p1_bal_site = pd.read_csv('./xiaofeng_lasso/210928_balanceddata/balanced_site/Lasso_(+1,0)_site.csv')\n",
    "p0p1_bal_site = p0p1_bal_site.iloc[:, 1:]"
   ]
  },
  {
   "cell_type": "code",
   "execution_count": 162,
   "metadata": {},
   "outputs": [],
   "source": [
    "m0m1_bal_site = pd.read_csv('./xiaofeng_lasso/210928_balanceddata/balanced_site/Lasso_(0,-1)_site.csv')\n",
    "m0m1_bal_site = m0m1_bal_site.iloc[:, 1:]"
   ]
  },
  {
   "cell_type": "code",
   "execution_count": 163,
   "metadata": {},
   "outputs": [],
   "source": [
    "m12_bal_site = pd.read_csv('./xiaofeng_lasso/210928_balanceddata/balanced_site/Lasso_(-1,-2)_site.csv')\n",
    "m12_bal_site = m12_bal_site.iloc[:, 1:]"
   ]
  },
  {
   "cell_type": "code",
   "execution_count": 164,
   "metadata": {},
   "outputs": [],
   "source": [
    "m23_bal_site = pd.read_csv('./xiaofeng_lasso/210928_balanceddata/balanced_site/Lasso_(-2,-3)_site.csv')\n",
    "m23_bal_site = m23_bal_site.iloc[:, 1:]"
   ]
  },
  {
   "cell_type": "code",
   "execution_count": 165,
   "metadata": {},
   "outputs": [
    {
     "name": "stdout",
     "output_type": "stream",
     "text": [
      "Total entries:  706\n"
     ]
    },
    {
     "data": {
      "text/html": [
       "<div>\n",
       "<style scoped>\n",
       "    .dataframe tbody tr th:only-of-type {\n",
       "        vertical-align: middle;\n",
       "    }\n",
       "\n",
       "    .dataframe tbody tr th {\n",
       "        vertical-align: top;\n",
       "    }\n",
       "\n",
       "    .dataframe thead th {\n",
       "        text-align: right;\n",
       "    }\n",
       "</style>\n",
       "<table border=\"1\" class=\"dataframe\">\n",
       "  <thead>\n",
       "    <tr style=\"text-align: right;\">\n",
       "      <th></th>\n",
       "      <th>Site</th>\n",
       "      <th>percent</th>\n",
       "    </tr>\n",
       "  </thead>\n",
       "  <tbody>\n",
       "    <tr>\n",
       "      <th>M_A</th>\n",
       "      <td>188</td>\n",
       "      <td>26.63</td>\n",
       "    </tr>\n",
       "    <tr>\n",
       "      <th>M_B</th>\n",
       "      <td>165</td>\n",
       "      <td>23.37</td>\n",
       "    </tr>\n",
       "    <tr>\n",
       "      <th>M_i_A</th>\n",
       "      <td>123</td>\n",
       "      <td>17.42</td>\n",
       "    </tr>\n",
       "    <tr>\n",
       "      <th>M_i_B</th>\n",
       "      <td>118</td>\n",
       "      <td>16.71</td>\n",
       "    </tr>\n",
       "    <tr>\n",
       "      <th>M_i_neut</th>\n",
       "      <td>112</td>\n",
       "      <td>15.86</td>\n",
       "    </tr>\n",
       "  </tbody>\n",
       "</table>\n",
       "</div>"
      ],
      "text/plain": [
       "          Site  percent\n",
       "M_A        188    26.63\n",
       "M_B        165    23.37\n",
       "M_i_A      123    17.42\n",
       "M_i_B      118    16.71\n",
       "M_i_neut   112    15.86"
      ]
     },
     "execution_count": 165,
     "metadata": {},
     "output_type": "execute_result"
    }
   ],
   "source": [
    "rfr_ipynb.counter(p32_bal_site, 'Site')"
   ]
  },
  {
   "cell_type": "code",
   "execution_count": 166,
   "metadata": {},
   "outputs": [
    {
     "name": "stdout",
     "output_type": "stream",
     "text": [
      "Total entries:  706\n"
     ]
    },
    {
     "data": {
      "text/html": [
       "<div>\n",
       "<style scoped>\n",
       "    .dataframe tbody tr th:only-of-type {\n",
       "        vertical-align: middle;\n",
       "    }\n",
       "\n",
       "    .dataframe tbody tr th {\n",
       "        vertical-align: top;\n",
       "    }\n",
       "\n",
       "    .dataframe thead th {\n",
       "        text-align: right;\n",
       "    }\n",
       "</style>\n",
       "<table border=\"1\" class=\"dataframe\">\n",
       "  <thead>\n",
       "    <tr style=\"text-align: right;\">\n",
       "      <th></th>\n",
       "      <th>Site</th>\n",
       "      <th>percent</th>\n",
       "    </tr>\n",
       "  </thead>\n",
       "  <tbody>\n",
       "    <tr>\n",
       "      <th>M_A</th>\n",
       "      <td>188</td>\n",
       "      <td>26.63</td>\n",
       "    </tr>\n",
       "    <tr>\n",
       "      <th>M_B</th>\n",
       "      <td>165</td>\n",
       "      <td>23.37</td>\n",
       "    </tr>\n",
       "    <tr>\n",
       "      <th>M_i_A</th>\n",
       "      <td>123</td>\n",
       "      <td>17.42</td>\n",
       "    </tr>\n",
       "    <tr>\n",
       "      <th>M_i_B</th>\n",
       "      <td>118</td>\n",
       "      <td>16.71</td>\n",
       "    </tr>\n",
       "    <tr>\n",
       "      <th>M_i_neut</th>\n",
       "      <td>112</td>\n",
       "      <td>15.86</td>\n",
       "    </tr>\n",
       "  </tbody>\n",
       "</table>\n",
       "</div>"
      ],
      "text/plain": [
       "          Site  percent\n",
       "M_A        188    26.63\n",
       "M_B        165    23.37\n",
       "M_i_A      123    17.42\n",
       "M_i_B      118    16.71\n",
       "M_i_neut   112    15.86"
      ]
     },
     "execution_count": 166,
     "metadata": {},
     "output_type": "execute_result"
    }
   ],
   "source": [
    "rfr_ipynb.counter(m23_bal_site, 'Site')"
   ]
  },
  {
   "cell_type": "markdown",
   "metadata": {},
   "source": [
    "# dHA"
   ]
  },
  {
   "cell_type": "code",
   "execution_count": 100,
   "metadata": {},
   "outputs": [],
   "source": [
    "dHa_site_traindic, dHa_site_testdic= \\\n",
    "    rfr_remote.rfr_predictor(ha_bal_site, d_start=5, max_depth=10, max_feat='auto', \n",
    "                             min_samp_leaf=2, min_samples_split=15,\n",
    "                             num_trees=600, folds=5)"
   ]
  },
  {
   "cell_type": "code",
   "execution_count": 101,
   "metadata": {},
   "outputs": [],
   "source": [
    "dHA_site_rmse = rfr_remote.rmse_calculator(dHa_site_traindic, dHa_site_testdic,\n",
    "                                      output_type='none')\n",
    "\n",
    "dHA_site_rmse_26, dHA_site_rmse_35, dHA_site_rmse_44 = \\\n",
    "    rfr_remote.rmse_calculator(dHa_site_traindic, dHa_site_testdic,\n",
    "                                      output_type='type')\n",
    "\n",
    "dHA_site_rmse_sub, dHA_site_rmse_int = \\\n",
    "    rfr_remote.rmse_calculator(dHa_site_traindic, dHa_site_testdic,\n",
    "                                      output_type='site')"
   ]
  },
  {
   "cell_type": "code",
   "execution_count": 103,
   "metadata": {
    "scrolled": true
   },
   "outputs": [
    {
     "data": {
      "text/html": [
       "<div>\n",
       "<style scoped>\n",
       "    .dataframe tbody tr th:only-of-type {\n",
       "        vertical-align: middle;\n",
       "    }\n",
       "\n",
       "    .dataframe tbody tr th {\n",
       "        vertical-align: top;\n",
       "    }\n",
       "\n",
       "    .dataframe thead th {\n",
       "        text-align: right;\n",
       "    }\n",
       "</style>\n",
       "<table border=\"1\" class=\"dataframe\">\n",
       "  <thead>\n",
       "    <tr style=\"text-align: right;\">\n",
       "      <th></th>\n",
       "      <th>output</th>\n",
       "      <th>train rmse</th>\n",
       "      <th>test rmse</th>\n",
       "    </tr>\n",
       "  </thead>\n",
       "  <tbody>\n",
       "    <tr>\n",
       "      <th>0</th>\n",
       "      <td>sub</td>\n",
       "      <td>0.7 +/- 0.022</td>\n",
       "      <td>1.22 +/- 0.158</td>\n",
       "    </tr>\n",
       "    <tr>\n",
       "      <th>1</th>\n",
       "      <td>int</td>\n",
       "      <td>0.63 +/- 0.013</td>\n",
       "      <td>1.05 +/- 0.137</td>\n",
       "    </tr>\n",
       "  </tbody>\n",
       "</table>\n",
       "</div>"
      ],
      "text/plain": [
       "  output      train rmse       test rmse\n",
       "0    sub   0.7 +/- 0.022  1.22 +/- 0.158\n",
       "1    int  0.63 +/- 0.013  1.05 +/- 0.137"
      ]
     },
     "execution_count": 103,
     "metadata": {},
     "output_type": "execute_result"
    }
   ],
   "source": [
    "rfr_ipynb.type_site_df('site', [dHA_site_rmse_sub, dHA_site_rmse_int], 5)"
   ]
  },
  {
   "cell_type": "code",
   "execution_count": 104,
   "metadata": {
    "scrolled": true
   },
   "outputs": [
    {
     "data": {
      "text/html": [
       "<div>\n",
       "<style scoped>\n",
       "    .dataframe tbody tr th:only-of-type {\n",
       "        vertical-align: middle;\n",
       "    }\n",
       "\n",
       "    .dataframe tbody tr th {\n",
       "        vertical-align: top;\n",
       "    }\n",
       "\n",
       "    .dataframe thead th {\n",
       "        text-align: right;\n",
       "    }\n",
       "</style>\n",
       "<table border=\"1\" class=\"dataframe\">\n",
       "  <thead>\n",
       "    <tr style=\"text-align: right;\">\n",
       "      <th></th>\n",
       "      <th>train rmse</th>\n",
       "      <th>test rmse</th>\n",
       "    </tr>\n",
       "  </thead>\n",
       "  <tbody>\n",
       "    <tr>\n",
       "      <th>0</th>\n",
       "      <td>0.68597</td>\n",
       "      <td>0.933506</td>\n",
       "    </tr>\n",
       "    <tr>\n",
       "      <th>1</th>\n",
       "      <td>0.67344</td>\n",
       "      <td>1.1203</td>\n",
       "    </tr>\n",
       "    <tr>\n",
       "      <th>2</th>\n",
       "      <td>0.650397</td>\n",
       "      <td>1.22153</td>\n",
       "    </tr>\n",
       "    <tr>\n",
       "      <th>3</th>\n",
       "      <td>0.652957</td>\n",
       "      <td>1.27422</td>\n",
       "    </tr>\n",
       "    <tr>\n",
       "      <th>4</th>\n",
       "      <td>0.680286</td>\n",
       "      <td>1.15097</td>\n",
       "    </tr>\n",
       "    <tr>\n",
       "      <th>5</th>\n",
       "      <td>0.67 +/- 0.016</td>\n",
       "      <td>1.14 +/- 0.13</td>\n",
       "    </tr>\n",
       "  </tbody>\n",
       "</table>\n",
       "</div>"
      ],
      "text/plain": [
       "       train rmse      test rmse\n",
       "0         0.68597       0.933506\n",
       "1         0.67344         1.1203\n",
       "2        0.650397        1.22153\n",
       "3        0.652957        1.27422\n",
       "4        0.680286        1.15097\n",
       "5  0.67 +/- 0.016  1.14 +/- 0.13"
      ]
     },
     "execution_count": 104,
     "metadata": {},
     "output_type": "execute_result"
    }
   ],
   "source": [
    "dHA_site_rmse"
   ]
  },
  {
   "cell_type": "code",
   "execution_count": 167,
   "metadata": {},
   "outputs": [
    {
     "data": {
      "application/vnd.jupyter.widget-view+json": {
       "model_id": "e9c58892504248e4955de08c50574291",
       "version_major": 2,
       "version_minor": 0
      },
      "text/plain": [
       "HBox(children=(FloatProgress(value=0.0, max=5.0), HTML(value='')))"
      ]
     },
     "metadata": {},
     "output_type": "display_data"
    },
    {
     "name": "stdout",
     "output_type": "stream",
     "text": [
      "\n"
     ]
    }
   ],
   "source": [
    "dHA_traindf, dHA_testdf = \\\n",
    "    rfr_remote.rfr_pp_predictor(ha_bal_site, d_start=5, max_depth=10, max_feat='auto', \n",
    "                                min_samp_leaf=2, min_samples_split=15, num_trees=600,\n",
    "                                folds=5)"
   ]
  },
  {
   "cell_type": "code",
   "execution_count": 168,
   "metadata": {},
   "outputs": [
    {
     "data": {
      "text/html": [
       "<div>\n",
       "<style scoped>\n",
       "    .dataframe tbody tr th:only-of-type {\n",
       "        vertical-align: middle;\n",
       "    }\n",
       "\n",
       "    .dataframe tbody tr th {\n",
       "        vertical-align: top;\n",
       "    }\n",
       "\n",
       "    .dataframe thead th {\n",
       "        text-align: right;\n",
       "    }\n",
       "</style>\n",
       "<table border=\"1\" class=\"dataframe\">\n",
       "  <thead>\n",
       "    <tr style=\"text-align: right;\">\n",
       "      <th></th>\n",
       "      <th>train_rmse</th>\n",
       "      <th>test_rmse</th>\n",
       "    </tr>\n",
       "  </thead>\n",
       "  <tbody>\n",
       "    <tr>\n",
       "      <th>0</th>\n",
       "      <td>0.655491</td>\n",
       "      <td>1.13783</td>\n",
       "    </tr>\n",
       "  </tbody>\n",
       "</table>\n",
       "</div>"
      ],
      "text/plain": [
       "   train_rmse  test_rmse\n",
       "0    0.655491    1.13783"
      ]
     },
     "execution_count": 168,
     "metadata": {},
     "output_type": "execute_result"
    }
   ],
   "source": [
    "rmse_df = pp_rmse_cal(dHA_traindf, dHA_testdf, output_type='none')\n",
    "rmse_df"
   ]
  },
  {
   "cell_type": "code",
   "execution_count": 169,
   "metadata": {},
   "outputs": [
    {
     "data": {
      "text/html": [
       "<div>\n",
       "<style scoped>\n",
       "    .dataframe tbody tr th:only-of-type {\n",
       "        vertical-align: middle;\n",
       "    }\n",
       "\n",
       "    .dataframe tbody tr th {\n",
       "        vertical-align: top;\n",
       "    }\n",
       "\n",
       "    .dataframe thead th {\n",
       "        text-align: right;\n",
       "    }\n",
       "</style>\n",
       "<table border=\"1\" class=\"dataframe\">\n",
       "  <thead>\n",
       "    <tr style=\"text-align: right;\">\n",
       "      <th></th>\n",
       "      <th>Type</th>\n",
       "      <th>train_rmse</th>\n",
       "      <th>test_rmse</th>\n",
       "    </tr>\n",
       "  </thead>\n",
       "  <tbody>\n",
       "    <tr>\n",
       "      <th>0</th>\n",
       "      <td>II-VI</td>\n",
       "      <td>0.443271</td>\n",
       "      <td>0.712512</td>\n",
       "    </tr>\n",
       "    <tr>\n",
       "      <th>0</th>\n",
       "      <td>III-V</td>\n",
       "      <td>0.898978</td>\n",
       "      <td>1.620797</td>\n",
       "    </tr>\n",
       "    <tr>\n",
       "      <th>0</th>\n",
       "      <td>IV-IV</td>\n",
       "      <td>1.129222</td>\n",
       "      <td>2.024300</td>\n",
       "    </tr>\n",
       "  </tbody>\n",
       "</table>\n",
       "</div>"
      ],
      "text/plain": [
       "    Type  train_rmse  test_rmse\n",
       "0  II-VI    0.443271   0.712512\n",
       "0  III-V    0.898978   1.620797\n",
       "0  IV-IV    1.129222   2.024300"
      ]
     },
     "execution_count": 169,
     "metadata": {},
     "output_type": "execute_result"
    }
   ],
   "source": [
    "rmse_df = pp_rmse_cal(dHA_traindf, dHA_testdf, output_type='type')\n",
    "rmse_df"
   ]
  },
  {
   "cell_type": "markdown",
   "metadata": {},
   "source": [
    "# dHB"
   ]
  },
  {
   "cell_type": "code",
   "execution_count": 117,
   "metadata": {},
   "outputs": [],
   "source": [
    "dHB_site_traindic, dHB_site_testdic= \\\n",
    "    rfr_remote.rfr_predictor(hb_bal_site, d_start=5,  max_depth=10, max_feat='auto', \n",
    "                             min_samp_leaf=3, min_samples_split=15,\n",
    "                             num_trees=1000, folds=5)"
   ]
  },
  {
   "cell_type": "code",
   "execution_count": 118,
   "metadata": {},
   "outputs": [],
   "source": [
    "dHB_site_rmse = rfr_remote.rmse_calculator(dHB_site_traindic, dHB_site_testdic,\n",
    "                                      output_type='none')\n",
    "\n",
    "dHB_site_rmse_26, dHB_site_rmse_35, dHB_site_rmse_44 = \\\n",
    "    rfr_remote.rmse_calculator(dHB_site_traindic, dHB_site_testdic,\n",
    "                                      output_type='type')\n",
    "\n",
    "dHB_site_rmse_sub, dHB_site_rmse_int = \\\n",
    "    rfr_remote.rmse_calculator(dHB_site_traindic, dHB_site_testdic,\n",
    "                                      output_type='site')"
   ]
  },
  {
   "cell_type": "code",
   "execution_count": 119,
   "metadata": {
    "scrolled": false
   },
   "outputs": [
    {
     "data": {
      "text/html": [
       "<div>\n",
       "<style scoped>\n",
       "    .dataframe tbody tr th:only-of-type {\n",
       "        vertical-align: middle;\n",
       "    }\n",
       "\n",
       "    .dataframe tbody tr th {\n",
       "        vertical-align: top;\n",
       "    }\n",
       "\n",
       "    .dataframe thead th {\n",
       "        text-align: right;\n",
       "    }\n",
       "</style>\n",
       "<table border=\"1\" class=\"dataframe\">\n",
       "  <thead>\n",
       "    <tr style=\"text-align: right;\">\n",
       "      <th></th>\n",
       "      <th>output</th>\n",
       "      <th>train rmse</th>\n",
       "      <th>test rmse</th>\n",
       "    </tr>\n",
       "  </thead>\n",
       "  <tbody>\n",
       "    <tr>\n",
       "      <th>0</th>\n",
       "      <td>sub</td>\n",
       "      <td>0.77 +/- 0.019</td>\n",
       "      <td>1.34 +/- 0.193</td>\n",
       "    </tr>\n",
       "    <tr>\n",
       "      <th>1</th>\n",
       "      <td>int</td>\n",
       "      <td>0.71 +/- 0.011</td>\n",
       "      <td>1.15 +/- 0.139</td>\n",
       "    </tr>\n",
       "  </tbody>\n",
       "</table>\n",
       "</div>"
      ],
      "text/plain": [
       "  output      train rmse       test rmse\n",
       "0    sub  0.77 +/- 0.019  1.34 +/- 0.193\n",
       "1    int  0.71 +/- 0.011  1.15 +/- 0.139"
      ]
     },
     "execution_count": 119,
     "metadata": {},
     "output_type": "execute_result"
    }
   ],
   "source": [
    "rfr_ipynb.type_site_df('site', [dHB_site_rmse_sub, dHB_site_rmse_int], 5)"
   ]
  },
  {
   "cell_type": "code",
   "execution_count": 120,
   "metadata": {
    "scrolled": false
   },
   "outputs": [
    {
     "data": {
      "text/html": [
       "<div>\n",
       "<style scoped>\n",
       "    .dataframe tbody tr th:only-of-type {\n",
       "        vertical-align: middle;\n",
       "    }\n",
       "\n",
       "    .dataframe tbody tr th {\n",
       "        vertical-align: top;\n",
       "    }\n",
       "\n",
       "    .dataframe thead th {\n",
       "        text-align: right;\n",
       "    }\n",
       "</style>\n",
       "<table border=\"1\" class=\"dataframe\">\n",
       "  <thead>\n",
       "    <tr style=\"text-align: right;\">\n",
       "      <th></th>\n",
       "      <th>train rmse</th>\n",
       "      <th>test rmse</th>\n",
       "    </tr>\n",
       "  </thead>\n",
       "  <tbody>\n",
       "    <tr>\n",
       "      <th>0</th>\n",
       "      <td>0.748585</td>\n",
       "      <td>1.03517</td>\n",
       "    </tr>\n",
       "    <tr>\n",
       "      <th>1</th>\n",
       "      <td>0.745533</td>\n",
       "      <td>1.35248</td>\n",
       "    </tr>\n",
       "    <tr>\n",
       "      <th>2</th>\n",
       "      <td>0.731314</td>\n",
       "      <td>1.33357</td>\n",
       "    </tr>\n",
       "    <tr>\n",
       "      <th>3</th>\n",
       "      <td>0.722017</td>\n",
       "      <td>1.40583</td>\n",
       "    </tr>\n",
       "    <tr>\n",
       "      <th>4</th>\n",
       "      <td>0.750797</td>\n",
       "      <td>1.10511</td>\n",
       "    </tr>\n",
       "    <tr>\n",
       "      <th>5</th>\n",
       "      <td>0.74 +/- 0.012</td>\n",
       "      <td>1.25 +/- 0.165</td>\n",
       "    </tr>\n",
       "  </tbody>\n",
       "</table>\n",
       "</div>"
      ],
      "text/plain": [
       "       train rmse       test rmse\n",
       "0        0.748585         1.03517\n",
       "1        0.745533         1.35248\n",
       "2        0.731314         1.33357\n",
       "3        0.722017         1.40583\n",
       "4        0.750797         1.10511\n",
       "5  0.74 +/- 0.012  1.25 +/- 0.165"
      ]
     },
     "execution_count": 120,
     "metadata": {},
     "output_type": "execute_result"
    }
   ],
   "source": [
    "dHB_site_rmse"
   ]
  },
  {
   "cell_type": "code",
   "execution_count": 170,
   "metadata": {},
   "outputs": [
    {
     "data": {
      "application/vnd.jupyter.widget-view+json": {
       "model_id": "8708141906d24a7391ad13ad7af4a51c",
       "version_major": 2,
       "version_minor": 0
      },
      "text/plain": [
       "HBox(children=(FloatProgress(value=0.0, max=5.0), HTML(value='')))"
      ]
     },
     "metadata": {},
     "output_type": "display_data"
    },
    {
     "name": "stdout",
     "output_type": "stream",
     "text": [
      "\n"
     ]
    }
   ],
   "source": [
    "dHB_traindf, dHB_testdf = \\\n",
    "    rfr_remote.rfr_pp_predictor(hb_bal_site, d_start=5,  max_depth=10, max_feat='auto', \n",
    "                                min_samp_leaf=3, min_samples_split=15,\n",
    "                                num_trees=1000, folds=5)"
   ]
  },
  {
   "cell_type": "code",
   "execution_count": 171,
   "metadata": {},
   "outputs": [
    {
     "data": {
      "text/html": [
       "<div>\n",
       "<style scoped>\n",
       "    .dataframe tbody tr th:only-of-type {\n",
       "        vertical-align: middle;\n",
       "    }\n",
       "\n",
       "    .dataframe tbody tr th {\n",
       "        vertical-align: top;\n",
       "    }\n",
       "\n",
       "    .dataframe thead th {\n",
       "        text-align: right;\n",
       "    }\n",
       "</style>\n",
       "<table border=\"1\" class=\"dataframe\">\n",
       "  <thead>\n",
       "    <tr style=\"text-align: right;\">\n",
       "      <th></th>\n",
       "      <th>train_rmse</th>\n",
       "      <th>test_rmse</th>\n",
       "    </tr>\n",
       "  </thead>\n",
       "  <tbody>\n",
       "    <tr>\n",
       "      <th>0</th>\n",
       "      <td>0.725188</td>\n",
       "      <td>1.233472</td>\n",
       "    </tr>\n",
       "  </tbody>\n",
       "</table>\n",
       "</div>"
      ],
      "text/plain": [
       "   train_rmse  test_rmse\n",
       "0    0.725188   1.233472"
      ]
     },
     "execution_count": 171,
     "metadata": {},
     "output_type": "execute_result"
    }
   ],
   "source": [
    "dHB_site25_rmse = pp_rmse_cal(dHB_traindf, dHB_testdf, output_type='none')\n",
    "dHB_site25_rmse"
   ]
  },
  {
   "cell_type": "code",
   "execution_count": 172,
   "metadata": {},
   "outputs": [
    {
     "data": {
      "text/html": [
       "<div>\n",
       "<style scoped>\n",
       "    .dataframe tbody tr th:only-of-type {\n",
       "        vertical-align: middle;\n",
       "    }\n",
       "\n",
       "    .dataframe tbody tr th {\n",
       "        vertical-align: top;\n",
       "    }\n",
       "\n",
       "    .dataframe thead th {\n",
       "        text-align: right;\n",
       "    }\n",
       "</style>\n",
       "<table border=\"1\" class=\"dataframe\">\n",
       "  <thead>\n",
       "    <tr style=\"text-align: right;\">\n",
       "      <th></th>\n",
       "      <th>Type</th>\n",
       "      <th>train_rmse</th>\n",
       "      <th>test_rmse</th>\n",
       "    </tr>\n",
       "  </thead>\n",
       "  <tbody>\n",
       "    <tr>\n",
       "      <th>0</th>\n",
       "      <td>II-VI</td>\n",
       "      <td>0.550353</td>\n",
       "      <td>0.911406</td>\n",
       "    </tr>\n",
       "    <tr>\n",
       "      <th>0</th>\n",
       "      <td>III-V</td>\n",
       "      <td>0.973140</td>\n",
       "      <td>1.709847</td>\n",
       "    </tr>\n",
       "    <tr>\n",
       "      <th>0</th>\n",
       "      <td>IV-IV</td>\n",
       "      <td>1.131491</td>\n",
       "      <td>1.941288</td>\n",
       "    </tr>\n",
       "  </tbody>\n",
       "</table>\n",
       "</div>"
      ],
      "text/plain": [
       "    Type  train_rmse  test_rmse\n",
       "0  II-VI    0.550353   0.911406\n",
       "0  III-V    0.973140   1.709847\n",
       "0  IV-IV    1.131491   1.941288"
      ]
     },
     "execution_count": 172,
     "metadata": {},
     "output_type": "execute_result"
    }
   ],
   "source": [
    "dHB_site25type_rmse = pp_rmse_cal(dHB_traindf, dHB_testdf, output_type='type')\n",
    "dHB_site25type_rmse"
   ]
  },
  {
   "cell_type": "markdown",
   "metadata": {},
   "source": [
    "# (+3, +2)"
   ]
  },
  {
   "cell_type": "code",
   "execution_count": 121,
   "metadata": {},
   "outputs": [],
   "source": [
    "p32_site_traindic, p32_site_testdic= \\\n",
    "    rfr_remote.rfr_predictor(p32_bal_site, d_start=5, max_depth=7, max_feat='auto', \n",
    "                             min_samp_leaf=3, min_samples_split=3,\n",
    "                             num_trees=450, folds=5)"
   ]
  },
  {
   "cell_type": "code",
   "execution_count": 122,
   "metadata": {},
   "outputs": [],
   "source": [
    "#output_type = 'none' returns the overall RMSE of train and test\n",
    "p32_site_rmse = rfr_remote.rmse_calculator(p32_site_traindic, p32_site_testdic,\n",
    "                                      output_type='none')\n",
    "\n",
    "#output_type = 'type' returns the RMSE of train and test separated by type\n",
    "p32_site_rmse_26, p32_site_rmse_35, p32_site_rmse_44 = \\\n",
    "    rfr_remote.rmse_calculator(p32_site_traindic, p32_site_testdic,\n",
    "                                      output_type='type')\n",
    "\n",
    "#output_type = 'site' returns the RMSE of train and test separated by site\n",
    "p32_site_rmse_sub, p32_site_rmse_int = \\\n",
    "    rfr_remote.rmse_calculator(p32_site_traindic, p32_site_testdic,\n",
    "                                      output_type='site')"
   ]
  },
  {
   "cell_type": "code",
   "execution_count": 123,
   "metadata": {
    "scrolled": true
   },
   "outputs": [
    {
     "data": {
      "text/html": [
       "<div>\n",
       "<style scoped>\n",
       "    .dataframe tbody tr th:only-of-type {\n",
       "        vertical-align: middle;\n",
       "    }\n",
       "\n",
       "    .dataframe tbody tr th {\n",
       "        vertical-align: top;\n",
       "    }\n",
       "\n",
       "    .dataframe thead th {\n",
       "        text-align: right;\n",
       "    }\n",
       "</style>\n",
       "<table border=\"1\" class=\"dataframe\">\n",
       "  <thead>\n",
       "    <tr style=\"text-align: right;\">\n",
       "      <th></th>\n",
       "      <th>output</th>\n",
       "      <th>train rmse</th>\n",
       "      <th>test rmse</th>\n",
       "    </tr>\n",
       "  </thead>\n",
       "  <tbody>\n",
       "    <tr>\n",
       "      <th>0</th>\n",
       "      <td>sub</td>\n",
       "      <td>0.19 +/- 0.009</td>\n",
       "      <td>0.34 +/- 0.042</td>\n",
       "    </tr>\n",
       "    <tr>\n",
       "      <th>1</th>\n",
       "      <td>int</td>\n",
       "      <td>0.21 +/- 0.008</td>\n",
       "      <td>0.35 +/- 0.026</td>\n",
       "    </tr>\n",
       "  </tbody>\n",
       "</table>\n",
       "</div>"
      ],
      "text/plain": [
       "  output      train rmse       test rmse\n",
       "0    sub  0.19 +/- 0.009  0.34 +/- 0.042\n",
       "1    int  0.21 +/- 0.008  0.35 +/- 0.026"
      ]
     },
     "execution_count": 123,
     "metadata": {},
     "output_type": "execute_result"
    }
   ],
   "source": [
    "rfr_ipynb.type_site_df('site', [p32_site_rmse_sub, p32_site_rmse_int], 5)"
   ]
  },
  {
   "cell_type": "code",
   "execution_count": 124,
   "metadata": {
    "scrolled": false
   },
   "outputs": [
    {
     "data": {
      "text/html": [
       "<div>\n",
       "<style scoped>\n",
       "    .dataframe tbody tr th:only-of-type {\n",
       "        vertical-align: middle;\n",
       "    }\n",
       "\n",
       "    .dataframe tbody tr th {\n",
       "        vertical-align: top;\n",
       "    }\n",
       "\n",
       "    .dataframe thead th {\n",
       "        text-align: right;\n",
       "    }\n",
       "</style>\n",
       "<table border=\"1\" class=\"dataframe\">\n",
       "  <thead>\n",
       "    <tr style=\"text-align: right;\">\n",
       "      <th></th>\n",
       "      <th>train rmse</th>\n",
       "      <th>test rmse</th>\n",
       "    </tr>\n",
       "  </thead>\n",
       "  <tbody>\n",
       "    <tr>\n",
       "      <th>0</th>\n",
       "      <td>0.207204</td>\n",
       "      <td>0.329996</td>\n",
       "    </tr>\n",
       "    <tr>\n",
       "      <th>1</th>\n",
       "      <td>0.195545</td>\n",
       "      <td>0.362601</td>\n",
       "    </tr>\n",
       "    <tr>\n",
       "      <th>2</th>\n",
       "      <td>0.197319</td>\n",
       "      <td>0.37699</td>\n",
       "    </tr>\n",
       "    <tr>\n",
       "      <th>3</th>\n",
       "      <td>0.203156</td>\n",
       "      <td>0.334964</td>\n",
       "    </tr>\n",
       "    <tr>\n",
       "      <th>4</th>\n",
       "      <td>0.206276</td>\n",
       "      <td>0.318563</td>\n",
       "    </tr>\n",
       "    <tr>\n",
       "      <th>5</th>\n",
       "      <td>0.2 +/- 0.005</td>\n",
       "      <td>0.34 +/- 0.024</td>\n",
       "    </tr>\n",
       "  </tbody>\n",
       "</table>\n",
       "</div>"
      ],
      "text/plain": [
       "      train rmse       test rmse\n",
       "0       0.207204        0.329996\n",
       "1       0.195545        0.362601\n",
       "2       0.197319         0.37699\n",
       "3       0.203156        0.334964\n",
       "4       0.206276        0.318563\n",
       "5  0.2 +/- 0.005  0.34 +/- 0.024"
      ]
     },
     "execution_count": 124,
     "metadata": {},
     "output_type": "execute_result"
    }
   ],
   "source": [
    "p32_site_rmse"
   ]
  },
  {
   "cell_type": "code",
   "execution_count": 173,
   "metadata": {},
   "outputs": [
    {
     "data": {
      "application/vnd.jupyter.widget-view+json": {
       "model_id": "d992d68aa5304645ae327969ac78f96d",
       "version_major": 2,
       "version_minor": 0
      },
      "text/plain": [
       "HBox(children=(FloatProgress(value=0.0, max=5.0), HTML(value='')))"
      ]
     },
     "metadata": {},
     "output_type": "display_data"
    },
    {
     "name": "stdout",
     "output_type": "stream",
     "text": [
      "\n"
     ]
    }
   ],
   "source": [
    "p32_traindf, p32_testdf = \\\n",
    "    rfr_remote.rfr_pp_predictor(p32_bal_site, d_start=5, max_depth=7, max_feat='auto', \n",
    "                                min_samp_leaf=3, min_samples_split=3,\n",
    "                                num_trees=450, folds=5)"
   ]
  },
  {
   "cell_type": "code",
   "execution_count": 174,
   "metadata": {},
   "outputs": [
    {
     "data": {
      "text/html": [
       "<div>\n",
       "<style scoped>\n",
       "    .dataframe tbody tr th:only-of-type {\n",
       "        vertical-align: middle;\n",
       "    }\n",
       "\n",
       "    .dataframe tbody tr th {\n",
       "        vertical-align: top;\n",
       "    }\n",
       "\n",
       "    .dataframe thead th {\n",
       "        text-align: right;\n",
       "    }\n",
       "</style>\n",
       "<table border=\"1\" class=\"dataframe\">\n",
       "  <thead>\n",
       "    <tr style=\"text-align: right;\">\n",
       "      <th></th>\n",
       "      <th>train_rmse</th>\n",
       "      <th>test_rmse</th>\n",
       "    </tr>\n",
       "  </thead>\n",
       "  <tbody>\n",
       "    <tr>\n",
       "      <th>0</th>\n",
       "      <td>0.197885</td>\n",
       "      <td>0.337541</td>\n",
       "    </tr>\n",
       "  </tbody>\n",
       "</table>\n",
       "</div>"
      ],
      "text/plain": [
       "   train_rmse  test_rmse\n",
       "0    0.197885   0.337541"
      ]
     },
     "execution_count": 174,
     "metadata": {},
     "output_type": "execute_result"
    }
   ],
   "source": [
    "p32_site25_rmse = pp_rmse_cal(p32_traindf, p32_testdf, output_type='none')\n",
    "p32_site25_rmse"
   ]
  },
  {
   "cell_type": "code",
   "execution_count": 175,
   "metadata": {},
   "outputs": [
    {
     "data": {
      "text/html": [
       "<div>\n",
       "<style scoped>\n",
       "    .dataframe tbody tr th:only-of-type {\n",
       "        vertical-align: middle;\n",
       "    }\n",
       "\n",
       "    .dataframe tbody tr th {\n",
       "        vertical-align: top;\n",
       "    }\n",
       "\n",
       "    .dataframe thead th {\n",
       "        text-align: right;\n",
       "    }\n",
       "</style>\n",
       "<table border=\"1\" class=\"dataframe\">\n",
       "  <thead>\n",
       "    <tr style=\"text-align: right;\">\n",
       "      <th></th>\n",
       "      <th>Type</th>\n",
       "      <th>train_rmse</th>\n",
       "      <th>test_rmse</th>\n",
       "    </tr>\n",
       "  </thead>\n",
       "  <tbody>\n",
       "    <tr>\n",
       "      <th>0</th>\n",
       "      <td>II-VI</td>\n",
       "      <td>0.186732</td>\n",
       "      <td>0.312872</td>\n",
       "    </tr>\n",
       "    <tr>\n",
       "      <th>0</th>\n",
       "      <td>III-V</td>\n",
       "      <td>0.219253</td>\n",
       "      <td>0.380436</td>\n",
       "    </tr>\n",
       "    <tr>\n",
       "      <th>0</th>\n",
       "      <td>IV-IV</td>\n",
       "      <td>0.200484</td>\n",
       "      <td>0.346660</td>\n",
       "    </tr>\n",
       "  </tbody>\n",
       "</table>\n",
       "</div>"
      ],
      "text/plain": [
       "    Type  train_rmse  test_rmse\n",
       "0  II-VI    0.186732   0.312872\n",
       "0  III-V    0.219253   0.380436\n",
       "0  IV-IV    0.200484   0.346660"
      ]
     },
     "execution_count": 175,
     "metadata": {},
     "output_type": "execute_result"
    }
   ],
   "source": [
    "p32_site25type_rmse = pp_rmse_cal(p32_traindf, p32_testdf, output_type='type')\n",
    "p32_site25type_rmse"
   ]
  },
  {
   "cell_type": "code",
   "execution_count": null,
   "metadata": {},
   "outputs": [],
   "source": []
  },
  {
   "cell_type": "markdown",
   "metadata": {},
   "source": [
    "# (+2, +1)"
   ]
  },
  {
   "cell_type": "code",
   "execution_count": 125,
   "metadata": {},
   "outputs": [],
   "source": [
    "p21_site_traindic, p21_site_testdic= \\\n",
    "    rfr_remote.rfr_predictor(p21_bal_site, d_start=5, max_depth=9, max_feat='auto', \n",
    "                             min_samp_leaf=7, min_samples_split=2,\n",
    "                             num_trees=600, folds=5)"
   ]
  },
  {
   "cell_type": "code",
   "execution_count": 126,
   "metadata": {},
   "outputs": [],
   "source": [
    "#output_type = 'none' returns the overall RMSE of train and test\n",
    "p21_site_rmse = rfr_remote.rmse_calculator(p21_site_traindic, p21_site_testdic,\n",
    "                                      output_type='none')\n",
    "\n",
    "#output_type = 'type' returns the RMSE of train and test separated by type\n",
    "p21_site_rmse_26, p21_site_rmse_35, p21_site_rmse_44 = \\\n",
    "    rfr_remote.rmse_calculator(p21_site_traindic, p21_site_testdic,\n",
    "                                      output_type='type')\n",
    "\n",
    "#output_type = 'site' returns the RMSE of train and test separated by site\n",
    "p21_site_rmse_sub, p21_site_rmse_int = \\\n",
    "    rfr_remote.rmse_calculator(p21_site_traindic, p21_site_testdic,\n",
    "                                      output_type='site')"
   ]
  },
  {
   "cell_type": "code",
   "execution_count": 128,
   "metadata": {
    "scrolled": true
   },
   "outputs": [
    {
     "data": {
      "text/html": [
       "<div>\n",
       "<style scoped>\n",
       "    .dataframe tbody tr th:only-of-type {\n",
       "        vertical-align: middle;\n",
       "    }\n",
       "\n",
       "    .dataframe tbody tr th {\n",
       "        vertical-align: top;\n",
       "    }\n",
       "\n",
       "    .dataframe thead th {\n",
       "        text-align: right;\n",
       "    }\n",
       "</style>\n",
       "<table border=\"1\" class=\"dataframe\">\n",
       "  <thead>\n",
       "    <tr style=\"text-align: right;\">\n",
       "      <th></th>\n",
       "      <th>output</th>\n",
       "      <th>train rmse</th>\n",
       "      <th>test rmse</th>\n",
       "    </tr>\n",
       "  </thead>\n",
       "  <tbody>\n",
       "    <tr>\n",
       "      <th>0</th>\n",
       "      <td>sub</td>\n",
       "      <td>0.28 +/- 0.004</td>\n",
       "      <td>0.43 +/- 0.013</td>\n",
       "    </tr>\n",
       "    <tr>\n",
       "      <th>1</th>\n",
       "      <td>int</td>\n",
       "      <td>0.26 +/- 0.01</td>\n",
       "      <td>0.37 +/- 0.056</td>\n",
       "    </tr>\n",
       "  </tbody>\n",
       "</table>\n",
       "</div>"
      ],
      "text/plain": [
       "  output      train rmse       test rmse\n",
       "0    sub  0.28 +/- 0.004  0.43 +/- 0.013\n",
       "1    int   0.26 +/- 0.01  0.37 +/- 0.056"
      ]
     },
     "execution_count": 128,
     "metadata": {},
     "output_type": "execute_result"
    }
   ],
   "source": [
    "rfr_ipynb.type_site_df('site', [p21_site_rmse_sub, p21_site_rmse_int], 5)"
   ]
  },
  {
   "cell_type": "code",
   "execution_count": 127,
   "metadata": {
    "scrolled": false
   },
   "outputs": [
    {
     "data": {
      "text/html": [
       "<div>\n",
       "<style scoped>\n",
       "    .dataframe tbody tr th:only-of-type {\n",
       "        vertical-align: middle;\n",
       "    }\n",
       "\n",
       "    .dataframe tbody tr th {\n",
       "        vertical-align: top;\n",
       "    }\n",
       "\n",
       "    .dataframe thead th {\n",
       "        text-align: right;\n",
       "    }\n",
       "</style>\n",
       "<table border=\"1\" class=\"dataframe\">\n",
       "  <thead>\n",
       "    <tr style=\"text-align: right;\">\n",
       "      <th></th>\n",
       "      <th>train rmse</th>\n",
       "      <th>test rmse</th>\n",
       "    </tr>\n",
       "  </thead>\n",
       "  <tbody>\n",
       "    <tr>\n",
       "      <th>0</th>\n",
       "      <td>0.271401</td>\n",
       "      <td>0.403144</td>\n",
       "    </tr>\n",
       "    <tr>\n",
       "      <th>1</th>\n",
       "      <td>0.26428</td>\n",
       "      <td>0.446676</td>\n",
       "    </tr>\n",
       "    <tr>\n",
       "      <th>2</th>\n",
       "      <td>0.272144</td>\n",
       "      <td>0.397924</td>\n",
       "    </tr>\n",
       "    <tr>\n",
       "      <th>3</th>\n",
       "      <td>0.27322</td>\n",
       "      <td>0.381705</td>\n",
       "    </tr>\n",
       "    <tr>\n",
       "      <th>4</th>\n",
       "      <td>0.274663</td>\n",
       "      <td>0.394668</td>\n",
       "    </tr>\n",
       "    <tr>\n",
       "      <th>5</th>\n",
       "      <td>0.27 +/- 0.004</td>\n",
       "      <td>0.4 +/- 0.025</td>\n",
       "    </tr>\n",
       "  </tbody>\n",
       "</table>\n",
       "</div>"
      ],
      "text/plain": [
       "       train rmse      test rmse\n",
       "0        0.271401       0.403144\n",
       "1         0.26428       0.446676\n",
       "2        0.272144       0.397924\n",
       "3         0.27322       0.381705\n",
       "4        0.274663       0.394668\n",
       "5  0.27 +/- 0.004  0.4 +/- 0.025"
      ]
     },
     "execution_count": 127,
     "metadata": {},
     "output_type": "execute_result"
    }
   ],
   "source": [
    "p21_site_rmse"
   ]
  },
  {
   "cell_type": "code",
   "execution_count": 176,
   "metadata": {},
   "outputs": [
    {
     "data": {
      "application/vnd.jupyter.widget-view+json": {
       "model_id": "8b2fcae4c043462ebb3bca272372ff78",
       "version_major": 2,
       "version_minor": 0
      },
      "text/plain": [
       "HBox(children=(FloatProgress(value=0.0, max=5.0), HTML(value='')))"
      ]
     },
     "metadata": {},
     "output_type": "display_data"
    },
    {
     "name": "stdout",
     "output_type": "stream",
     "text": [
      "\n"
     ]
    }
   ],
   "source": [
    "p21_traindf, p21_testdf = \\\n",
    "    rfr_remote.rfr_pp_predictor(p21_bal_site, d_start=5, max_depth=9, max_feat='auto', \n",
    "                                min_samp_leaf=7, min_samples_split=2,\n",
    "                                num_trees=600, folds=5)"
   ]
  },
  {
   "cell_type": "code",
   "execution_count": 177,
   "metadata": {},
   "outputs": [
    {
     "data": {
      "text/html": [
       "<div>\n",
       "<style scoped>\n",
       "    .dataframe tbody tr th:only-of-type {\n",
       "        vertical-align: middle;\n",
       "    }\n",
       "\n",
       "    .dataframe tbody tr th {\n",
       "        vertical-align: top;\n",
       "    }\n",
       "\n",
       "    .dataframe thead th {\n",
       "        text-align: right;\n",
       "    }\n",
       "</style>\n",
       "<table border=\"1\" class=\"dataframe\">\n",
       "  <thead>\n",
       "    <tr style=\"text-align: right;\">\n",
       "      <th></th>\n",
       "      <th>train_rmse</th>\n",
       "      <th>test_rmse</th>\n",
       "    </tr>\n",
       "  </thead>\n",
       "  <tbody>\n",
       "    <tr>\n",
       "      <th>0</th>\n",
       "      <td>0.265638</td>\n",
       "      <td>0.406083</td>\n",
       "    </tr>\n",
       "  </tbody>\n",
       "</table>\n",
       "</div>"
      ],
      "text/plain": [
       "   train_rmse  test_rmse\n",
       "0    0.265638   0.406083"
      ]
     },
     "execution_count": 177,
     "metadata": {},
     "output_type": "execute_result"
    }
   ],
   "source": [
    "p21_site25_rmse = pp_rmse_cal(p21_traindf, p21_testdf, output_type='none')\n",
    "p21_site25_rmse"
   ]
  },
  {
   "cell_type": "code",
   "execution_count": 178,
   "metadata": {},
   "outputs": [
    {
     "data": {
      "text/html": [
       "<div>\n",
       "<style scoped>\n",
       "    .dataframe tbody tr th:only-of-type {\n",
       "        vertical-align: middle;\n",
       "    }\n",
       "\n",
       "    .dataframe tbody tr th {\n",
       "        vertical-align: top;\n",
       "    }\n",
       "\n",
       "    .dataframe thead th {\n",
       "        text-align: right;\n",
       "    }\n",
       "</style>\n",
       "<table border=\"1\" class=\"dataframe\">\n",
       "  <thead>\n",
       "    <tr style=\"text-align: right;\">\n",
       "      <th></th>\n",
       "      <th>Type</th>\n",
       "      <th>train_rmse</th>\n",
       "      <th>test_rmse</th>\n",
       "    </tr>\n",
       "  </thead>\n",
       "  <tbody>\n",
       "    <tr>\n",
       "      <th>0</th>\n",
       "      <td>II-VI</td>\n",
       "      <td>0.244884</td>\n",
       "      <td>0.372875</td>\n",
       "    </tr>\n",
       "    <tr>\n",
       "      <th>0</th>\n",
       "      <td>III-V</td>\n",
       "      <td>0.288770</td>\n",
       "      <td>0.448080</td>\n",
       "    </tr>\n",
       "    <tr>\n",
       "      <th>0</th>\n",
       "      <td>IV-IV</td>\n",
       "      <td>0.285785</td>\n",
       "      <td>0.433337</td>\n",
       "    </tr>\n",
       "  </tbody>\n",
       "</table>\n",
       "</div>"
      ],
      "text/plain": [
       "    Type  train_rmse  test_rmse\n",
       "0  II-VI    0.244884   0.372875\n",
       "0  III-V    0.288770   0.448080\n",
       "0  IV-IV    0.285785   0.433337"
      ]
     },
     "execution_count": 178,
     "metadata": {},
     "output_type": "execute_result"
    }
   ],
   "source": [
    "p21_site25type_rmse = pp_rmse_cal(p21_traindf, p21_testdf, output_type='type')\n",
    "p21_site25type_rmse"
   ]
  },
  {
   "cell_type": "markdown",
   "metadata": {},
   "source": [
    "# (+1, 0)"
   ]
  },
  {
   "cell_type": "code",
   "execution_count": 179,
   "metadata": {},
   "outputs": [],
   "source": [
    "p01_site_traindic, p01_site_testdic= \\\n",
    "    rfr_remote.rfr_predictor(p0p1_bal_site, d_start=5, max_depth=10, max_feat='auto', \n",
    "                             min_samp_leaf=8, min_samples_split=12,\n",
    "                             num_trees=150, folds=5)"
   ]
  },
  {
   "cell_type": "code",
   "execution_count": 180,
   "metadata": {},
   "outputs": [],
   "source": [
    "#output_type = 'none' returns the overall RMSE of train and test\n",
    "p01_site_rmse = rfr_remote.rmse_calculator(p01_site_traindic, p01_site_testdic,\n",
    "                                      output_type='none')\n",
    "\n",
    "#output_type = 'type' returns the RMSE of train and test separated by type\n",
    "p01_site_rmse_26, p01_site_rmse_35, p01_site_rmse_44 = \\\n",
    "    rfr_remote.rmse_calculator(p01_site_traindic, p01_site_testdic,\n",
    "                                      output_type='type')\n",
    "\n",
    "#output_type = 'site' returns the RMSE of train and test separated by site\n",
    "p01_site_rmse_sub, p01_site_rmse_int = \\\n",
    "    rfr_remote.rmse_calculator(p01_site_traindic, p01_site_testdic,\n",
    "                                      output_type='site')"
   ]
  },
  {
   "cell_type": "code",
   "execution_count": 181,
   "metadata": {
    "scrolled": false
   },
   "outputs": [
    {
     "data": {
      "text/html": [
       "<div>\n",
       "<style scoped>\n",
       "    .dataframe tbody tr th:only-of-type {\n",
       "        vertical-align: middle;\n",
       "    }\n",
       "\n",
       "    .dataframe tbody tr th {\n",
       "        vertical-align: top;\n",
       "    }\n",
       "\n",
       "    .dataframe thead th {\n",
       "        text-align: right;\n",
       "    }\n",
       "</style>\n",
       "<table border=\"1\" class=\"dataframe\">\n",
       "  <thead>\n",
       "    <tr style=\"text-align: right;\">\n",
       "      <th></th>\n",
       "      <th>output</th>\n",
       "      <th>train rmse</th>\n",
       "      <th>test rmse</th>\n",
       "    </tr>\n",
       "  </thead>\n",
       "  <tbody>\n",
       "    <tr>\n",
       "      <th>0</th>\n",
       "      <td>sub</td>\n",
       "      <td>0.33 +/- 0.004</td>\n",
       "      <td>0.49 +/- 0.04</td>\n",
       "    </tr>\n",
       "    <tr>\n",
       "      <th>1</th>\n",
       "      <td>int</td>\n",
       "      <td>0.22 +/- 0.008</td>\n",
       "      <td>0.31 +/- 0.045</td>\n",
       "    </tr>\n",
       "  </tbody>\n",
       "</table>\n",
       "</div>"
      ],
      "text/plain": [
       "  output      train rmse       test rmse\n",
       "0    sub  0.33 +/- 0.004   0.49 +/- 0.04\n",
       "1    int  0.22 +/- 0.008  0.31 +/- 0.045"
      ]
     },
     "execution_count": 181,
     "metadata": {},
     "output_type": "execute_result"
    }
   ],
   "source": [
    "rfr_ipynb.type_site_df('site', [p01_site_rmse_sub, p01_site_rmse_int], 5)"
   ]
  },
  {
   "cell_type": "code",
   "execution_count": 182,
   "metadata": {
    "scrolled": true
   },
   "outputs": [
    {
     "data": {
      "text/html": [
       "<div>\n",
       "<style scoped>\n",
       "    .dataframe tbody tr th:only-of-type {\n",
       "        vertical-align: middle;\n",
       "    }\n",
       "\n",
       "    .dataframe tbody tr th {\n",
       "        vertical-align: top;\n",
       "    }\n",
       "\n",
       "    .dataframe thead th {\n",
       "        text-align: right;\n",
       "    }\n",
       "</style>\n",
       "<table border=\"1\" class=\"dataframe\">\n",
       "  <thead>\n",
       "    <tr style=\"text-align: right;\">\n",
       "      <th></th>\n",
       "      <th>train rmse</th>\n",
       "      <th>test rmse</th>\n",
       "    </tr>\n",
       "  </thead>\n",
       "  <tbody>\n",
       "    <tr>\n",
       "      <th>0</th>\n",
       "      <td>0.27962</td>\n",
       "      <td>0.417043</td>\n",
       "    </tr>\n",
       "    <tr>\n",
       "      <th>1</th>\n",
       "      <td>0.276755</td>\n",
       "      <td>0.412451</td>\n",
       "    </tr>\n",
       "    <tr>\n",
       "      <th>2</th>\n",
       "      <td>0.279728</td>\n",
       "      <td>0.428631</td>\n",
       "    </tr>\n",
       "    <tr>\n",
       "      <th>3</th>\n",
       "      <td>0.284275</td>\n",
       "      <td>0.376426</td>\n",
       "    </tr>\n",
       "    <tr>\n",
       "      <th>4</th>\n",
       "      <td>0.280035</td>\n",
       "      <td>0.407548</td>\n",
       "    </tr>\n",
       "    <tr>\n",
       "      <th>5</th>\n",
       "      <td>0.28 +/- 0.003</td>\n",
       "      <td>0.41 +/- 0.02</td>\n",
       "    </tr>\n",
       "  </tbody>\n",
       "</table>\n",
       "</div>"
      ],
      "text/plain": [
       "       train rmse      test rmse\n",
       "0         0.27962       0.417043\n",
       "1        0.276755       0.412451\n",
       "2        0.279728       0.428631\n",
       "3        0.284275       0.376426\n",
       "4        0.280035       0.407548\n",
       "5  0.28 +/- 0.003  0.41 +/- 0.02"
      ]
     },
     "execution_count": 182,
     "metadata": {},
     "output_type": "execute_result"
    }
   ],
   "source": [
    "p01_site_rmse"
   ]
  },
  {
   "cell_type": "code",
   "execution_count": 183,
   "metadata": {},
   "outputs": [
    {
     "data": {
      "application/vnd.jupyter.widget-view+json": {
       "model_id": "f30934eca6e0410a8cde1b2d942eeaf5",
       "version_major": 2,
       "version_minor": 0
      },
      "text/plain": [
       "HBox(children=(FloatProgress(value=0.0, max=5.0), HTML(value='')))"
      ]
     },
     "metadata": {},
     "output_type": "display_data"
    },
    {
     "name": "stdout",
     "output_type": "stream",
     "text": [
      "\n"
     ]
    }
   ],
   "source": [
    "p01_traindf, p01_testdf = \\\n",
    "    rfr_remote.rfr_pp_predictor(p0p1_bal_site, d_start=5, max_depth=10, max_feat='auto', \n",
    "                                min_samp_leaf=8, min_samples_split=12,\n",
    "                                num_trees=150, folds=5)"
   ]
  },
  {
   "cell_type": "code",
   "execution_count": 184,
   "metadata": {},
   "outputs": [
    {
     "data": {
      "text/html": [
       "<div>\n",
       "<style scoped>\n",
       "    .dataframe tbody tr th:only-of-type {\n",
       "        vertical-align: middle;\n",
       "    }\n",
       "\n",
       "    .dataframe tbody tr th {\n",
       "        vertical-align: top;\n",
       "    }\n",
       "\n",
       "    .dataframe thead th {\n",
       "        text-align: right;\n",
       "    }\n",
       "</style>\n",
       "<table border=\"1\" class=\"dataframe\">\n",
       "  <thead>\n",
       "    <tr style=\"text-align: right;\">\n",
       "      <th></th>\n",
       "      <th>train_rmse</th>\n",
       "      <th>test_rmse</th>\n",
       "    </tr>\n",
       "  </thead>\n",
       "  <tbody>\n",
       "    <tr>\n",
       "      <th>0</th>\n",
       "      <td>0.275257</td>\n",
       "      <td>0.409936</td>\n",
       "    </tr>\n",
       "  </tbody>\n",
       "</table>\n",
       "</div>"
      ],
      "text/plain": [
       "   train_rmse  test_rmse\n",
       "0    0.275257   0.409936"
      ]
     },
     "execution_count": 184,
     "metadata": {},
     "output_type": "execute_result"
    }
   ],
   "source": [
    "p01_site25_rmse = pp_rmse_cal(p01_traindf, p01_testdf, output_type='none')\n",
    "p01_site25_rmse"
   ]
  },
  {
   "cell_type": "code",
   "execution_count": 185,
   "metadata": {
    "scrolled": true
   },
   "outputs": [
    {
     "data": {
      "text/html": [
       "<div>\n",
       "<style scoped>\n",
       "    .dataframe tbody tr th:only-of-type {\n",
       "        vertical-align: middle;\n",
       "    }\n",
       "\n",
       "    .dataframe tbody tr th {\n",
       "        vertical-align: top;\n",
       "    }\n",
       "\n",
       "    .dataframe thead th {\n",
       "        text-align: right;\n",
       "    }\n",
       "</style>\n",
       "<table border=\"1\" class=\"dataframe\">\n",
       "  <thead>\n",
       "    <tr style=\"text-align: right;\">\n",
       "      <th></th>\n",
       "      <th>Type</th>\n",
       "      <th>train_rmse</th>\n",
       "      <th>test_rmse</th>\n",
       "    </tr>\n",
       "  </thead>\n",
       "  <tbody>\n",
       "    <tr>\n",
       "      <th>0</th>\n",
       "      <td>II-VI</td>\n",
       "      <td>0.272490</td>\n",
       "      <td>0.401790</td>\n",
       "    </tr>\n",
       "    <tr>\n",
       "      <th>0</th>\n",
       "      <td>III-V</td>\n",
       "      <td>0.275609</td>\n",
       "      <td>0.419125</td>\n",
       "    </tr>\n",
       "    <tr>\n",
       "      <th>0</th>\n",
       "      <td>IV-IV</td>\n",
       "      <td>0.280858</td>\n",
       "      <td>0.418734</td>\n",
       "    </tr>\n",
       "  </tbody>\n",
       "</table>\n",
       "</div>"
      ],
      "text/plain": [
       "    Type  train_rmse  test_rmse\n",
       "0  II-VI    0.272490   0.401790\n",
       "0  III-V    0.275609   0.419125\n",
       "0  IV-IV    0.280858   0.418734"
      ]
     },
     "execution_count": 185,
     "metadata": {},
     "output_type": "execute_result"
    }
   ],
   "source": [
    "p01_site25type_rmse = pp_rmse_cal(p01_traindf, p01_testdf, output_type='type')\n",
    "p01_site25type_rmse"
   ]
  },
  {
   "cell_type": "markdown",
   "metadata": {},
   "source": [
    "# (0, -1)"
   ]
  },
  {
   "cell_type": "code",
   "execution_count": 133,
   "metadata": {},
   "outputs": [],
   "source": [
    "m01_site_traindic, m01_site_testdic= \\\n",
    "    rfr_remote.rfr_predictor(m0m1_bal_site, d_start=5, max_depth=8, max_feat='auto', \n",
    "                             min_samp_leaf=5, min_samples_split=3,\n",
    "                             num_trees=150, folds=5)"
   ]
  },
  {
   "cell_type": "code",
   "execution_count": 134,
   "metadata": {},
   "outputs": [],
   "source": [
    "#output_type = 'none' returns the overall RMSE of train and test\n",
    "m01_site_rmse = rfr_remote.rmse_calculator(m01_site_traindic, m01_site_testdic,\n",
    "                                      output_type='none')\n",
    "\n",
    "#output_type = 'type' returns the RMSE of train and test separated by type\n",
    "m01_site_rmse_26, m01_site_rmse_35, m01_site_rmse_44 = \\\n",
    "    rfr_remote.rmse_calculator(m01_site_traindic, m01_site_testdic,\n",
    "                                      output_type='type')\n",
    "\n",
    "#output_type = 'site' returns the RMSE of train and test separated by site\n",
    "m01_site_rmse_sub, m01_site_rmse_int = \\\n",
    "    rfr_remote.rmse_calculator(m01_site_traindic, m01_site_testdic,\n",
    "                                      output_type='site')"
   ]
  },
  {
   "cell_type": "code",
   "execution_count": 135,
   "metadata": {},
   "outputs": [
    {
     "data": {
      "text/html": [
       "<div>\n",
       "<style scoped>\n",
       "    .dataframe tbody tr th:only-of-type {\n",
       "        vertical-align: middle;\n",
       "    }\n",
       "\n",
       "    .dataframe tbody tr th {\n",
       "        vertical-align: top;\n",
       "    }\n",
       "\n",
       "    .dataframe thead th {\n",
       "        text-align: right;\n",
       "    }\n",
       "</style>\n",
       "<table border=\"1\" class=\"dataframe\">\n",
       "  <thead>\n",
       "    <tr style=\"text-align: right;\">\n",
       "      <th></th>\n",
       "      <th>output</th>\n",
       "      <th>train rmse</th>\n",
       "      <th>test rmse</th>\n",
       "    </tr>\n",
       "  </thead>\n",
       "  <tbody>\n",
       "    <tr>\n",
       "      <th>0</th>\n",
       "      <td>sub</td>\n",
       "      <td>0.28 +/- 0.01</td>\n",
       "      <td>0.47 +/- 0.045</td>\n",
       "    </tr>\n",
       "    <tr>\n",
       "      <th>1</th>\n",
       "      <td>int</td>\n",
       "      <td>0.17 +/- 0.007</td>\n",
       "      <td>0.27 +/- 0.049</td>\n",
       "    </tr>\n",
       "  </tbody>\n",
       "</table>\n",
       "</div>"
      ],
      "text/plain": [
       "  output      train rmse       test rmse\n",
       "0    sub   0.28 +/- 0.01  0.47 +/- 0.045\n",
       "1    int  0.17 +/- 0.007  0.27 +/- 0.049"
      ]
     },
     "execution_count": 135,
     "metadata": {},
     "output_type": "execute_result"
    }
   ],
   "source": [
    "rfr_ipynb.type_site_df('site', [m01_site_rmse_sub, m01_site_rmse_int], 5)"
   ]
  },
  {
   "cell_type": "code",
   "execution_count": 136,
   "metadata": {
    "scrolled": true
   },
   "outputs": [
    {
     "data": {
      "text/html": [
       "<div>\n",
       "<style scoped>\n",
       "    .dataframe tbody tr th:only-of-type {\n",
       "        vertical-align: middle;\n",
       "    }\n",
       "\n",
       "    .dataframe tbody tr th {\n",
       "        vertical-align: top;\n",
       "    }\n",
       "\n",
       "    .dataframe thead th {\n",
       "        text-align: right;\n",
       "    }\n",
       "</style>\n",
       "<table border=\"1\" class=\"dataframe\">\n",
       "  <thead>\n",
       "    <tr style=\"text-align: right;\">\n",
       "      <th></th>\n",
       "      <th>train rmse</th>\n",
       "      <th>test rmse</th>\n",
       "    </tr>\n",
       "  </thead>\n",
       "  <tbody>\n",
       "    <tr>\n",
       "      <th>0</th>\n",
       "      <td>0.22691</td>\n",
       "      <td>0.404546</td>\n",
       "    </tr>\n",
       "    <tr>\n",
       "      <th>1</th>\n",
       "      <td>0.236385</td>\n",
       "      <td>0.369586</td>\n",
       "    </tr>\n",
       "    <tr>\n",
       "      <th>2</th>\n",
       "      <td>0.226044</td>\n",
       "      <td>0.400023</td>\n",
       "    </tr>\n",
       "    <tr>\n",
       "      <th>3</th>\n",
       "      <td>0.224632</td>\n",
       "      <td>0.391906</td>\n",
       "    </tr>\n",
       "    <tr>\n",
       "      <th>4</th>\n",
       "      <td>0.238724</td>\n",
       "      <td>0.354007</td>\n",
       "    </tr>\n",
       "    <tr>\n",
       "      <th>5</th>\n",
       "      <td>0.23 +/- 0.007</td>\n",
       "      <td>0.38 +/- 0.021</td>\n",
       "    </tr>\n",
       "  </tbody>\n",
       "</table>\n",
       "</div>"
      ],
      "text/plain": [
       "       train rmse       test rmse\n",
       "0         0.22691        0.404546\n",
       "1        0.236385        0.369586\n",
       "2        0.226044        0.400023\n",
       "3        0.224632        0.391906\n",
       "4        0.238724        0.354007\n",
       "5  0.23 +/- 0.007  0.38 +/- 0.021"
      ]
     },
     "execution_count": 136,
     "metadata": {},
     "output_type": "execute_result"
    }
   ],
   "source": [
    "m01_site_rmse"
   ]
  },
  {
   "cell_type": "code",
   "execution_count": 186,
   "metadata": {},
   "outputs": [
    {
     "data": {
      "application/vnd.jupyter.widget-view+json": {
       "model_id": "4817d64b41e8437ba4edfd5e704ba681",
       "version_major": 2,
       "version_minor": 0
      },
      "text/plain": [
       "HBox(children=(FloatProgress(value=0.0, max=5.0), HTML(value='')))"
      ]
     },
     "metadata": {},
     "output_type": "display_data"
    },
    {
     "name": "stdout",
     "output_type": "stream",
     "text": [
      "\n"
     ]
    }
   ],
   "source": [
    "m01_traindf, m01_testdf = \\\n",
    "    rfr_remote.rfr_pp_predictor(m0m1_bal_site, d_start=5, max_depth=8, max_feat='auto', \n",
    "                                min_samp_leaf=5, min_samples_split=3,\n",
    "                                num_trees=150, folds=5)"
   ]
  },
  {
   "cell_type": "code",
   "execution_count": 187,
   "metadata": {},
   "outputs": [
    {
     "data": {
      "text/html": [
       "<div>\n",
       "<style scoped>\n",
       "    .dataframe tbody tr th:only-of-type {\n",
       "        vertical-align: middle;\n",
       "    }\n",
       "\n",
       "    .dataframe tbody tr th {\n",
       "        vertical-align: top;\n",
       "    }\n",
       "\n",
       "    .dataframe thead th {\n",
       "        text-align: right;\n",
       "    }\n",
       "</style>\n",
       "<table border=\"1\" class=\"dataframe\">\n",
       "  <thead>\n",
       "    <tr style=\"text-align: right;\">\n",
       "      <th></th>\n",
       "      <th>train_rmse</th>\n",
       "      <th>test_rmse</th>\n",
       "    </tr>\n",
       "  </thead>\n",
       "  <tbody>\n",
       "    <tr>\n",
       "      <th>0</th>\n",
       "      <td>0.226249</td>\n",
       "      <td>0.384558</td>\n",
       "    </tr>\n",
       "  </tbody>\n",
       "</table>\n",
       "</div>"
      ],
      "text/plain": [
       "   train_rmse  test_rmse\n",
       "0    0.226249   0.384558"
      ]
     },
     "execution_count": 187,
     "metadata": {},
     "output_type": "execute_result"
    }
   ],
   "source": [
    "m01_site25_rmse = pp_rmse_cal(m01_traindf, m01_testdf, output_type='none')\n",
    "m01_site25_rmse"
   ]
  },
  {
   "cell_type": "code",
   "execution_count": 188,
   "metadata": {
    "scrolled": true
   },
   "outputs": [
    {
     "data": {
      "text/html": [
       "<div>\n",
       "<style scoped>\n",
       "    .dataframe tbody tr th:only-of-type {\n",
       "        vertical-align: middle;\n",
       "    }\n",
       "\n",
       "    .dataframe tbody tr th {\n",
       "        vertical-align: top;\n",
       "    }\n",
       "\n",
       "    .dataframe thead th {\n",
       "        text-align: right;\n",
       "    }\n",
       "</style>\n",
       "<table border=\"1\" class=\"dataframe\">\n",
       "  <thead>\n",
       "    <tr style=\"text-align: right;\">\n",
       "      <th></th>\n",
       "      <th>Type</th>\n",
       "      <th>train_rmse</th>\n",
       "      <th>test_rmse</th>\n",
       "    </tr>\n",
       "  </thead>\n",
       "  <tbody>\n",
       "    <tr>\n",
       "      <th>0</th>\n",
       "      <td>II-VI</td>\n",
       "      <td>0.223153</td>\n",
       "      <td>0.378418</td>\n",
       "    </tr>\n",
       "    <tr>\n",
       "      <th>0</th>\n",
       "      <td>III-V</td>\n",
       "      <td>0.246057</td>\n",
       "      <td>0.420274</td>\n",
       "    </tr>\n",
       "    <tr>\n",
       "      <th>0</th>\n",
       "      <td>IV-IV</td>\n",
       "      <td>0.213334</td>\n",
       "      <td>0.362397</td>\n",
       "    </tr>\n",
       "  </tbody>\n",
       "</table>\n",
       "</div>"
      ],
      "text/plain": [
       "    Type  train_rmse  test_rmse\n",
       "0  II-VI    0.223153   0.378418\n",
       "0  III-V    0.246057   0.420274\n",
       "0  IV-IV    0.213334   0.362397"
      ]
     },
     "execution_count": 188,
     "metadata": {},
     "output_type": "execute_result"
    }
   ],
   "source": [
    "m01_site25type_rmse = pp_rmse_cal(m01_traindf, m01_testdf, output_type='type')\n",
    "m01_site25type_rmse"
   ]
  },
  {
   "cell_type": "markdown",
   "metadata": {},
   "source": [
    "# (-1, -2)"
   ]
  },
  {
   "cell_type": "code",
   "execution_count": 137,
   "metadata": {},
   "outputs": [],
   "source": [
    "m12_site_traindic, m12_site_testdic= \\\n",
    "    rfr_remote.rfr_predictor(m12_bal_site, d_start=5, max_depth=10, max_feat='auto', \n",
    "                             min_samp_leaf=8, min_samples_split=12,\n",
    "                             num_trees=750, folds=5)"
   ]
  },
  {
   "cell_type": "code",
   "execution_count": 138,
   "metadata": {},
   "outputs": [],
   "source": [
    "#output_type = 'none' returns the overall RMSE of train and test\n",
    "m12_site_rmse = rfr_remote.rmse_calculator(m12_site_traindic, m12_site_testdic,\n",
    "                                      output_type='none')\n",
    "\n",
    "#output_type = 'type' returns the RMSE of train and test separated by type\n",
    "m12_site_rmse_26, m12_site_rmse_35, m12_site_rmse_44 = \\\n",
    "    rfr_remote.rmse_calculator(m12_site_traindic, m12_site_testdic,\n",
    "                                      output_type='type')\n",
    "\n",
    "#output_type = 'site' returns the RMSE of train and test separated by site\n",
    "m12_site_rmse_sub, m12_site_rmse_int = \\\n",
    "    rfr_remote.rmse_calculator(m12_site_traindic, m12_site_testdic,\n",
    "                                      output_type='site')"
   ]
  },
  {
   "cell_type": "code",
   "execution_count": 139,
   "metadata": {
    "scrolled": true
   },
   "outputs": [
    {
     "data": {
      "text/html": [
       "<div>\n",
       "<style scoped>\n",
       "    .dataframe tbody tr th:only-of-type {\n",
       "        vertical-align: middle;\n",
       "    }\n",
       "\n",
       "    .dataframe tbody tr th {\n",
       "        vertical-align: top;\n",
       "    }\n",
       "\n",
       "    .dataframe thead th {\n",
       "        text-align: right;\n",
       "    }\n",
       "</style>\n",
       "<table border=\"1\" class=\"dataframe\">\n",
       "  <thead>\n",
       "    <tr style=\"text-align: right;\">\n",
       "      <th></th>\n",
       "      <th>output</th>\n",
       "      <th>train rmse</th>\n",
       "      <th>test rmse</th>\n",
       "    </tr>\n",
       "  </thead>\n",
       "  <tbody>\n",
       "    <tr>\n",
       "      <th>0</th>\n",
       "      <td>sub</td>\n",
       "      <td>0.28 +/- 0.008</td>\n",
       "      <td>0.39 +/- 0.057</td>\n",
       "    </tr>\n",
       "    <tr>\n",
       "      <th>1</th>\n",
       "      <td>int</td>\n",
       "      <td>0.22 +/- 0.006</td>\n",
       "      <td>0.31 +/- 0.051</td>\n",
       "    </tr>\n",
       "  </tbody>\n",
       "</table>\n",
       "</div>"
      ],
      "text/plain": [
       "  output      train rmse       test rmse\n",
       "0    sub  0.28 +/- 0.008  0.39 +/- 0.057\n",
       "1    int  0.22 +/- 0.006  0.31 +/- 0.051"
      ]
     },
     "execution_count": 139,
     "metadata": {},
     "output_type": "execute_result"
    }
   ],
   "source": [
    "rfr_ipynb.type_site_df('site', [m12_site_rmse_sub, m12_site_rmse_int], 5)"
   ]
  },
  {
   "cell_type": "code",
   "execution_count": 140,
   "metadata": {
    "scrolled": true
   },
   "outputs": [
    {
     "data": {
      "text/html": [
       "<div>\n",
       "<style scoped>\n",
       "    .dataframe tbody tr th:only-of-type {\n",
       "        vertical-align: middle;\n",
       "    }\n",
       "\n",
       "    .dataframe tbody tr th {\n",
       "        vertical-align: top;\n",
       "    }\n",
       "\n",
       "    .dataframe thead th {\n",
       "        text-align: right;\n",
       "    }\n",
       "</style>\n",
       "<table border=\"1\" class=\"dataframe\">\n",
       "  <thead>\n",
       "    <tr style=\"text-align: right;\">\n",
       "      <th></th>\n",
       "      <th>train rmse</th>\n",
       "      <th>test rmse</th>\n",
       "    </tr>\n",
       "  </thead>\n",
       "  <tbody>\n",
       "    <tr>\n",
       "      <th>0</th>\n",
       "      <td>0.242909</td>\n",
       "      <td>0.387552</td>\n",
       "    </tr>\n",
       "    <tr>\n",
       "      <th>1</th>\n",
       "      <td>0.245115</td>\n",
       "      <td>0.393961</td>\n",
       "    </tr>\n",
       "    <tr>\n",
       "      <th>2</th>\n",
       "      <td>0.24933</td>\n",
       "      <td>0.347367</td>\n",
       "    </tr>\n",
       "    <tr>\n",
       "      <th>3</th>\n",
       "      <td>0.25437</td>\n",
       "      <td>0.319132</td>\n",
       "    </tr>\n",
       "    <tr>\n",
       "      <th>4</th>\n",
       "      <td>0.255056</td>\n",
       "      <td>0.317612</td>\n",
       "    </tr>\n",
       "    <tr>\n",
       "      <th>5</th>\n",
       "      <td>0.25 +/- 0.005</td>\n",
       "      <td>0.35 +/- 0.036</td>\n",
       "    </tr>\n",
       "  </tbody>\n",
       "</table>\n",
       "</div>"
      ],
      "text/plain": [
       "       train rmse       test rmse\n",
       "0        0.242909        0.387552\n",
       "1        0.245115        0.393961\n",
       "2         0.24933        0.347367\n",
       "3         0.25437        0.319132\n",
       "4        0.255056        0.317612\n",
       "5  0.25 +/- 0.005  0.35 +/- 0.036"
      ]
     },
     "execution_count": 140,
     "metadata": {},
     "output_type": "execute_result"
    }
   ],
   "source": [
    "m12_site_rmse"
   ]
  },
  {
   "cell_type": "code",
   "execution_count": 189,
   "metadata": {},
   "outputs": [
    {
     "data": {
      "application/vnd.jupyter.widget-view+json": {
       "model_id": "5d0a601392e8444780974f9448b8fd88",
       "version_major": 2,
       "version_minor": 0
      },
      "text/plain": [
       "HBox(children=(FloatProgress(value=0.0, max=5.0), HTML(value='')))"
      ]
     },
     "metadata": {},
     "output_type": "display_data"
    },
    {
     "name": "stdout",
     "output_type": "stream",
     "text": [
      "\n"
     ]
    }
   ],
   "source": [
    "m12_traindf, m12_testdf = \\\n",
    "    rfr_remote.rfr_pp_predictor(m12_bal_site, d_start=5, max_depth=10, max_feat='auto', \n",
    "                                min_samp_leaf=8, min_samples_split=12,\n",
    "                                num_trees=750, folds=5)"
   ]
  },
  {
   "cell_type": "code",
   "execution_count": 190,
   "metadata": {},
   "outputs": [
    {
     "data": {
      "text/html": [
       "<div>\n",
       "<style scoped>\n",
       "    .dataframe tbody tr th:only-of-type {\n",
       "        vertical-align: middle;\n",
       "    }\n",
       "\n",
       "    .dataframe tbody tr th {\n",
       "        vertical-align: top;\n",
       "    }\n",
       "\n",
       "    .dataframe thead th {\n",
       "        text-align: right;\n",
       "    }\n",
       "</style>\n",
       "<table border=\"1\" class=\"dataframe\">\n",
       "  <thead>\n",
       "    <tr style=\"text-align: right;\">\n",
       "      <th></th>\n",
       "      <th>train_rmse</th>\n",
       "      <th>test_rmse</th>\n",
       "    </tr>\n",
       "  </thead>\n",
       "  <tbody>\n",
       "    <tr>\n",
       "      <th>0</th>\n",
       "      <td>0.246445</td>\n",
       "      <td>0.347018</td>\n",
       "    </tr>\n",
       "  </tbody>\n",
       "</table>\n",
       "</div>"
      ],
      "text/plain": [
       "   train_rmse  test_rmse\n",
       "0    0.246445   0.347018"
      ]
     },
     "execution_count": 190,
     "metadata": {},
     "output_type": "execute_result"
    }
   ],
   "source": [
    "m12_site25_rmse = pp_rmse_cal(m12_traindf, m12_testdf, output_type='none')\n",
    "m12_site25_rmse"
   ]
  },
  {
   "cell_type": "code",
   "execution_count": 191,
   "metadata": {
    "scrolled": true
   },
   "outputs": [
    {
     "data": {
      "text/html": [
       "<div>\n",
       "<style scoped>\n",
       "    .dataframe tbody tr th:only-of-type {\n",
       "        vertical-align: middle;\n",
       "    }\n",
       "\n",
       "    .dataframe tbody tr th {\n",
       "        vertical-align: top;\n",
       "    }\n",
       "\n",
       "    .dataframe thead th {\n",
       "        text-align: right;\n",
       "    }\n",
       "</style>\n",
       "<table border=\"1\" class=\"dataframe\">\n",
       "  <thead>\n",
       "    <tr style=\"text-align: right;\">\n",
       "      <th></th>\n",
       "      <th>Type</th>\n",
       "      <th>train_rmse</th>\n",
       "      <th>test_rmse</th>\n",
       "    </tr>\n",
       "  </thead>\n",
       "  <tbody>\n",
       "    <tr>\n",
       "      <th>0</th>\n",
       "      <td>II-VI</td>\n",
       "      <td>0.241004</td>\n",
       "      <td>0.337175</td>\n",
       "    </tr>\n",
       "    <tr>\n",
       "      <th>0</th>\n",
       "      <td>III-V</td>\n",
       "      <td>0.273508</td>\n",
       "      <td>0.396339</td>\n",
       "    </tr>\n",
       "    <tr>\n",
       "      <th>0</th>\n",
       "      <td>IV-IV</td>\n",
       "      <td>0.231111</td>\n",
       "      <td>0.317744</td>\n",
       "    </tr>\n",
       "  </tbody>\n",
       "</table>\n",
       "</div>"
      ],
      "text/plain": [
       "    Type  train_rmse  test_rmse\n",
       "0  II-VI    0.241004   0.337175\n",
       "0  III-V    0.273508   0.396339\n",
       "0  IV-IV    0.231111   0.317744"
      ]
     },
     "execution_count": 191,
     "metadata": {},
     "output_type": "execute_result"
    }
   ],
   "source": [
    "m12_site25type_rmse = pp_rmse_cal(m12_traindf, m12_testdf, output_type='type')\n",
    "m12_site25type_rmse"
   ]
  },
  {
   "cell_type": "markdown",
   "metadata": {},
   "source": [
    "# (-2, -3)"
   ]
  },
  {
   "cell_type": "code",
   "execution_count": 199,
   "metadata": {},
   "outputs": [],
   "source": [
    "m23_site_traindic, m23_site_testdic= \\\n",
    "    rfr_remote.rfr_predictor(m23_bal_site, d_start=5, max_depth=10, max_feat='sqrt', \n",
    "                             min_samp_leaf=2, min_samples_split=14,\n",
    "                             num_trees=450, folds=5)"
   ]
  },
  {
   "cell_type": "code",
   "execution_count": 200,
   "metadata": {},
   "outputs": [],
   "source": [
    "#output_type = 'none' returns the overall RMSE of train and test\n",
    "m23_site_rmse = rfr_remote.rmse_calculator(m23_site_traindic, m23_site_testdic,\n",
    "                                      output_type='none')\n",
    "\n",
    "#output_type = 'type' returns the RMSE of train and test separated by type\n",
    "m23_site_rmse_26, m23_site_rmse_35, m23_site_rmse_44 = \\\n",
    "    rfr_remote.rmse_calculator(m23_site_traindic, m23_site_testdic,\n",
    "                                      output_type='type')\n",
    "\n",
    "#output_type = 'site' returns the RMSE of train and test separated by site\n",
    "m23_site_rmse_sub, m23_site_rmse_int = \\\n",
    "    rfr_remote.rmse_calculator(m23_site_traindic, m23_site_testdic,\n",
    "                                      output_type='site')"
   ]
  },
  {
   "cell_type": "code",
   "execution_count": 201,
   "metadata": {
    "scrolled": true
   },
   "outputs": [
    {
     "data": {
      "text/html": [
       "<div>\n",
       "<style scoped>\n",
       "    .dataframe tbody tr th:only-of-type {\n",
       "        vertical-align: middle;\n",
       "    }\n",
       "\n",
       "    .dataframe tbody tr th {\n",
       "        vertical-align: top;\n",
       "    }\n",
       "\n",
       "    .dataframe thead th {\n",
       "        text-align: right;\n",
       "    }\n",
       "</style>\n",
       "<table border=\"1\" class=\"dataframe\">\n",
       "  <thead>\n",
       "    <tr style=\"text-align: right;\">\n",
       "      <th></th>\n",
       "      <th>output</th>\n",
       "      <th>train rmse</th>\n",
       "      <th>test rmse</th>\n",
       "    </tr>\n",
       "  </thead>\n",
       "  <tbody>\n",
       "    <tr>\n",
       "      <th>0</th>\n",
       "      <td>sub</td>\n",
       "      <td>0.19 +/- 0.005</td>\n",
       "      <td>0.26 +/- 0.038</td>\n",
       "    </tr>\n",
       "    <tr>\n",
       "      <th>1</th>\n",
       "      <td>int</td>\n",
       "      <td>0.19 +/- 0.008</td>\n",
       "      <td>0.25 +/- 0.039</td>\n",
       "    </tr>\n",
       "  </tbody>\n",
       "</table>\n",
       "</div>"
      ],
      "text/plain": [
       "  output      train rmse       test rmse\n",
       "0    sub  0.19 +/- 0.005  0.26 +/- 0.038\n",
       "1    int  0.19 +/- 0.008  0.25 +/- 0.039"
      ]
     },
     "execution_count": 201,
     "metadata": {},
     "output_type": "execute_result"
    }
   ],
   "source": [
    "rfr_ipynb.type_site_df('site', [m23_site_rmse_sub, m23_site_rmse_int], folds=5)"
   ]
  },
  {
   "cell_type": "code",
   "execution_count": 202,
   "metadata": {
    "scrolled": true
   },
   "outputs": [
    {
     "data": {
      "text/html": [
       "<div>\n",
       "<style scoped>\n",
       "    .dataframe tbody tr th:only-of-type {\n",
       "        vertical-align: middle;\n",
       "    }\n",
       "\n",
       "    .dataframe tbody tr th {\n",
       "        vertical-align: top;\n",
       "    }\n",
       "\n",
       "    .dataframe thead th {\n",
       "        text-align: right;\n",
       "    }\n",
       "</style>\n",
       "<table border=\"1\" class=\"dataframe\">\n",
       "  <thead>\n",
       "    <tr style=\"text-align: right;\">\n",
       "      <th></th>\n",
       "      <th>train rmse</th>\n",
       "      <th>test rmse</th>\n",
       "    </tr>\n",
       "  </thead>\n",
       "  <tbody>\n",
       "    <tr>\n",
       "      <th>0</th>\n",
       "      <td>0.195068</td>\n",
       "      <td>0.246945</td>\n",
       "    </tr>\n",
       "    <tr>\n",
       "      <th>1</th>\n",
       "      <td>0.199802</td>\n",
       "      <td>0.2749</td>\n",
       "    </tr>\n",
       "    <tr>\n",
       "      <th>2</th>\n",
       "      <td>0.188098</td>\n",
       "      <td>0.288274</td>\n",
       "    </tr>\n",
       "    <tr>\n",
       "      <th>3</th>\n",
       "      <td>0.188892</td>\n",
       "      <td>0.251256</td>\n",
       "    </tr>\n",
       "    <tr>\n",
       "      <th>4</th>\n",
       "      <td>0.189819</td>\n",
       "      <td>0.244336</td>\n",
       "    </tr>\n",
       "    <tr>\n",
       "      <th>5</th>\n",
       "      <td>0.19 +/- 0.005</td>\n",
       "      <td>0.26 +/- 0.019</td>\n",
       "    </tr>\n",
       "  </tbody>\n",
       "</table>\n",
       "</div>"
      ],
      "text/plain": [
       "       train rmse       test rmse\n",
       "0        0.195068        0.246945\n",
       "1        0.199802          0.2749\n",
       "2        0.188098        0.288274\n",
       "3        0.188892        0.251256\n",
       "4        0.189819        0.244336\n",
       "5  0.19 +/- 0.005  0.26 +/- 0.019"
      ]
     },
     "execution_count": 202,
     "metadata": {},
     "output_type": "execute_result"
    }
   ],
   "source": [
    "m23_site_rmse"
   ]
  },
  {
   "cell_type": "code",
   "execution_count": 203,
   "metadata": {},
   "outputs": [
    {
     "data": {
      "application/vnd.jupyter.widget-view+json": {
       "model_id": "a081eb7423024b53b9d0e91c5f81a804",
       "version_major": 2,
       "version_minor": 0
      },
      "text/plain": [
       "HBox(children=(FloatProgress(value=0.0, max=5.0), HTML(value='')))"
      ]
     },
     "metadata": {},
     "output_type": "display_data"
    },
    {
     "name": "stdout",
     "output_type": "stream",
     "text": [
      "\n"
     ]
    }
   ],
   "source": [
    "m23_traindf, m23_testdf = \\\n",
    "    rfr_remote.rfr_pp_predictor(m23_bal_site, d_start=5, max_depth=10, max_feat='sqrt', \n",
    "                             min_samp_leaf=2, min_samples_split=14,\n",
    "                             num_trees=450, folds=5)"
   ]
  },
  {
   "cell_type": "code",
   "execution_count": 204,
   "metadata": {},
   "outputs": [
    {
     "data": {
      "text/html": [
       "<div>\n",
       "<style scoped>\n",
       "    .dataframe tbody tr th:only-of-type {\n",
       "        vertical-align: middle;\n",
       "    }\n",
       "\n",
       "    .dataframe tbody tr th {\n",
       "        vertical-align: top;\n",
       "    }\n",
       "\n",
       "    .dataframe thead th {\n",
       "        text-align: right;\n",
       "    }\n",
       "</style>\n",
       "<table border=\"1\" class=\"dataframe\">\n",
       "  <thead>\n",
       "    <tr style=\"text-align: right;\">\n",
       "      <th></th>\n",
       "      <th>train_rmse</th>\n",
       "      <th>test_rmse</th>\n",
       "    </tr>\n",
       "  </thead>\n",
       "  <tbody>\n",
       "    <tr>\n",
       "      <th>0</th>\n",
       "      <td>0.188989</td>\n",
       "      <td>0.263424</td>\n",
       "    </tr>\n",
       "  </tbody>\n",
       "</table>\n",
       "</div>"
      ],
      "text/plain": [
       "   train_rmse  test_rmse\n",
       "0    0.188989   0.263424"
      ]
     },
     "execution_count": 204,
     "metadata": {},
     "output_type": "execute_result"
    }
   ],
   "source": [
    "m23_site25_rmse = pp_rmse_cal(m23_traindf, m23_testdf, output_type='none')\n",
    "m23_site25_rmse"
   ]
  },
  {
   "cell_type": "code",
   "execution_count": 205,
   "metadata": {
    "scrolled": true
   },
   "outputs": [
    {
     "data": {
      "text/html": [
       "<div>\n",
       "<style scoped>\n",
       "    .dataframe tbody tr th:only-of-type {\n",
       "        vertical-align: middle;\n",
       "    }\n",
       "\n",
       "    .dataframe tbody tr th {\n",
       "        vertical-align: top;\n",
       "    }\n",
       "\n",
       "    .dataframe thead th {\n",
       "        text-align: right;\n",
       "    }\n",
       "</style>\n",
       "<table border=\"1\" class=\"dataframe\">\n",
       "  <thead>\n",
       "    <tr style=\"text-align: right;\">\n",
       "      <th></th>\n",
       "      <th>Type</th>\n",
       "      <th>train_rmse</th>\n",
       "      <th>test_rmse</th>\n",
       "    </tr>\n",
       "  </thead>\n",
       "  <tbody>\n",
       "    <tr>\n",
       "      <th>0</th>\n",
       "      <td>II-VI</td>\n",
       "      <td>0.194930</td>\n",
       "      <td>0.263620</td>\n",
       "    </tr>\n",
       "    <tr>\n",
       "      <th>0</th>\n",
       "      <td>III-V</td>\n",
       "      <td>0.194593</td>\n",
       "      <td>0.293796</td>\n",
       "    </tr>\n",
       "    <tr>\n",
       "      <th>0</th>\n",
       "      <td>IV-IV</td>\n",
       "      <td>0.169579</td>\n",
       "      <td>0.231137</td>\n",
       "    </tr>\n",
       "  </tbody>\n",
       "</table>\n",
       "</div>"
      ],
      "text/plain": [
       "    Type  train_rmse  test_rmse\n",
       "0  II-VI    0.194930   0.263620\n",
       "0  III-V    0.194593   0.293796\n",
       "0  IV-IV    0.169579   0.231137"
      ]
     },
     "execution_count": 205,
     "metadata": {},
     "output_type": "execute_result"
    }
   ],
   "source": [
    "m23_site25type_rmse = pp_rmse_cal(m23_traindf, m23_testdf, output_type='type')\n",
    "m23_site25type_rmse"
   ]
  }
 ],
 "metadata": {
  "kernelspec": {
   "display_name": "Python 3",
   "language": "python",
   "name": "python3"
  },
  "language_info": {
   "codemirror_mode": {
    "name": "ipython",
    "version": 3
   },
   "file_extension": ".py",
   "mimetype": "text/x-python",
   "name": "python",
   "nbconvert_exporter": "python",
   "pygments_lexer": "ipython3",
   "version": "3.7.7"
  }
 },
 "nbformat": 4,
 "nbformat_minor": 4
}
