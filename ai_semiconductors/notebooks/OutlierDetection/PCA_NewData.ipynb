{
 "cells": [
  {
   "cell_type": "code",
   "execution_count": 2,
   "metadata": {},
   "outputs": [],
   "source": [
    "import pandas as pd \n",
    "import numpy as np\n",
    "import matplotlib.pyplot as plt\n",
    "from sklearn.preprocessing import StandardScaler\n",
    "from sklearn.model_selection import train_test_split\n",
    "from sklearn.ensemble import RandomForestRegressor\n",
    "from sklearn.metrics import mean_squared_error\n",
    "\n",
    "from pyod.models.pca import PCA\n",
    "from pyod.utils.data import evaluate_print\n",
    "from pyod.utils.example import visualize\n",
    "\n",
    "%matplotlib inline"
   ]
  },
  {
   "cell_type": "code",
   "execution_count": 3,
   "metadata": {},
   "outputs": [],
   "source": [
    "pd.set_option('display.max_columns', None)"
   ]
  },
  {
   "cell_type": "code",
   "execution_count": 5,
   "metadata": {},
   "outputs": [],
   "source": [
    "df = pd.read_excel('../../../OldDatasets/ML_data.xlsx')\n",
    "#df.head()"
   ]
  },
  {
   "cell_type": "code",
   "execution_count": 7,
   "metadata": {},
   "outputs": [],
   "source": [
    "df.dropna(axis=1, inplace=True)\n",
    "#df.head()"
   ]
  },
  {
   "cell_type": "code",
   "execution_count": 8,
   "metadata": {},
   "outputs": [
    {
     "data": {
      "text/plain": [
       "Index(['Z_A', 'Z_B', 'PBE_delta_H', 'PBE_latt_const', 'PBE_gap', 'Eps_elec',\n",
       "       'Eps_ion', 'CM1', 'CM2', 'CM3', 'CM4', 'CM5', 'CM6', 'CM7', 'CM8',\n",
       "       'Ion_rad', 'BP', 'MP', 'Density', 'At_wt', 'ICSD_vol', 'Cov_rad',\n",
       "       'Ion_Energy', 'At_rad_1', 'Elec_Aff', 'At_rad_2', 'At_vol', 'Mend_num',\n",
       "       'Ion_pot_1', 'Ion_pot_2', 'Thermal_expn', 'Sp_heat_cap', 'Therm_cond',\n",
       "       'Elec_cond', 'Heat_fusion', 'Heat_vap', 'Electronegativity', 'At_num',\n",
       "       'Period', 'Group', 'Valence', 'Ox_state'],\n",
       "      dtype='object')"
      ]
     },
     "execution_count": 8,
     "metadata": {},
     "output_type": "execute_result"
    }
   ],
   "source": [
    "descriptors = df.columns[10:]\n",
    "descriptors"
   ]
  },
  {
   "cell_type": "code",
   "execution_count": 9,
   "metadata": {},
   "outputs": [
    {
     "data": {
      "text/plain": [
       "Index(['∆H (A-rich)', '∆H (B-rich)', '(+2/+1)', '(+1/0)', '(0/-1)', '(-1/-2)'], dtype='object')"
      ]
     },
     "execution_count": 9,
     "metadata": {},
     "output_type": "execute_result"
    }
   ],
   "source": [
    "output = df.columns[4:10]\n",
    "output"
   ]
  },
  {
   "cell_type": "code",
   "execution_count": 10,
   "metadata": {},
   "outputs": [],
   "source": [
    "df_nooutliers = df[(df['∆H (A-rich)'] <= 10) & (df['∆H (B-rich)'] <= 10)]\n",
    "#df_nooutliers"
   ]
  },
  {
   "cell_type": "code",
   "execution_count": 11,
   "metadata": {},
   "outputs": [],
   "source": [
    "def counter(dataframe, column):\n",
    "    \n",
    "    count = pd.value_counts(dataframe[column])\n",
    "    count_df = count.to_frame()\n",
    "    count_df['percent']=round(count_df[column]/sum(count)*100,2)\n",
    "    \n",
    "    print('Total entries: ', sum(count))\n",
    "    \n",
    "    return count_df"
   ]
  },
  {
   "cell_type": "markdown",
   "metadata": {},
   "source": [
    "## PCA using ``pyOD``\n",
    "\n",
    "- what DFT data is anomalous? Removing 10% of the data that appears anomalous based on the \"target\" values calculated from DFT, or the \"descriptor\" values."
   ]
  },
  {
   "cell_type": "code",
   "execution_count": 12,
   "metadata": {},
   "outputs": [],
   "source": [
    "def myPCA(dataframe, data_type, n_components=None, n_selected_components=None, contamination=0.1):\n",
    "    array = np.array(dataframe[data_type])\n",
    "    \n",
    "    # using PCA model from pymod\n",
    "    # model will identify ~ 10% of data as outliers\n",
    "    clf = PCA(contamination=contamination, n_components=n_components, n_selected_components=n_selected_components)\n",
    "\n",
    "    # fitting the data\n",
    "    clf.fit(array)\n",
    "\n",
    "    # classifying the targets as either inliers(0) or outliers(1)\n",
    "    ypred = clf.predict(array)\n",
    "    \n",
    "    # df of outliers\n",
    "    df_outlier = dataframe[ypred == 1]\n",
    "\n",
    "    # df without outliers\n",
    "    df_nooutlier = dataframe[ypred == 0]\n",
    "    \n",
    "    return df_outlier, df_nooutlier"
   ]
  },
  {
   "cell_type": "markdown",
   "metadata": {},
   "source": [
    "## Using ``df``"
   ]
  },
  {
   "cell_type": "markdown",
   "metadata": {},
   "source": [
    "### PCA with target vals"
   ]
  },
  {
   "cell_type": "code",
   "execution_count": 13,
   "metadata": {},
   "outputs": [],
   "source": [
    "df_pca_out_tar, df_pca_in_tar = myPCA(df, output)"
   ]
  },
  {
   "cell_type": "markdown",
   "metadata": {},
   "source": [
    "### PCA with descriptor vals"
   ]
  },
  {
   "cell_type": "code",
   "execution_count": 14,
   "metadata": {},
   "outputs": [],
   "source": [
    "df_pca_out_des, df_pca_in_des = myPCA(df, descriptors)"
   ]
  },
  {
   "cell_type": "markdown",
   "metadata": {},
   "source": [
    "### Similar outlier rows between the PCA models"
   ]
  },
  {
   "cell_type": "code",
   "execution_count": 15,
   "metadata": {},
   "outputs": [],
   "source": [
    "def similar_df(df1, df2):\n",
    "    df_comm = pd.concat([df1, df2])\n",
    "\n",
    "    df_comm = df_comm.reset_index(drop=True)\n",
    "\n",
    "    df_gpby = df_comm.groupby(list(df_comm.columns))\n",
    "\n",
    "    idx = [x[0] for x in df_gpby.groups.values() if len(x) != 1]\n",
    "    \n",
    "    \n",
    "    return df_comm.reindex(idx)"
   ]
  },
  {
   "cell_type": "code",
   "execution_count": 19,
   "metadata": {},
   "outputs": [],
   "source": [
    "sim = similar_df(df_pca_out_tar,df_pca_out_des)\n",
    "#sim"
   ]
  },
  {
   "cell_type": "markdown",
   "metadata": {},
   "source": [
    "### Differences between dataframes"
   ]
  },
  {
   "cell_type": "code",
   "execution_count": 20,
   "metadata": {},
   "outputs": [],
   "source": [
    "def diff_df(df1, df2):\n",
    "    df_diff = pd.concat([df1,df2]).drop_duplicates(keep=False)\n",
    "    \n",
    "    return df_diff"
   ]
  },
  {
   "cell_type": "code",
   "execution_count": 21,
   "metadata": {},
   "outputs": [],
   "source": [
    "diff = diff_df(df_pca_out_tar,df_pca_out_des)\n",
    "#diff"
   ]
  },
  {
   "cell_type": "code",
   "execution_count": 22,
   "metadata": {
    "scrolled": true
   },
   "outputs": [
    {
     "name": "stdout",
     "output_type": "stream",
     "text": [
      "Total entries:  86\n"
     ]
    },
    {
     "data": {
      "text/html": [
       "<div>\n",
       "<style scoped>\n",
       "    .dataframe tbody tr th:only-of-type {\n",
       "        vertical-align: middle;\n",
       "    }\n",
       "\n",
       "    .dataframe tbody tr th {\n",
       "        vertical-align: top;\n",
       "    }\n",
       "\n",
       "    .dataframe thead th {\n",
       "        text-align: right;\n",
       "    }\n",
       "</style>\n",
       "<table border=\"1\" class=\"dataframe\">\n",
       "  <thead>\n",
       "    <tr style=\"text-align: right;\">\n",
       "      <th></th>\n",
       "      <th>Type</th>\n",
       "      <th>percent</th>\n",
       "    </tr>\n",
       "  </thead>\n",
       "  <tbody>\n",
       "    <tr>\n",
       "      <th>IV-IV</th>\n",
       "      <td>63</td>\n",
       "      <td>73.26</td>\n",
       "    </tr>\n",
       "    <tr>\n",
       "      <th>III-V</th>\n",
       "      <td>16</td>\n",
       "      <td>18.60</td>\n",
       "    </tr>\n",
       "    <tr>\n",
       "      <th>II-VI</th>\n",
       "      <td>7</td>\n",
       "      <td>8.14</td>\n",
       "    </tr>\n",
       "  </tbody>\n",
       "</table>\n",
       "</div>"
      ],
      "text/plain": [
       "       Type  percent\n",
       "IV-IV    63    73.26\n",
       "III-V    16    18.60\n",
       "II-VI     7     8.14"
      ]
     },
     "execution_count": 22,
     "metadata": {},
     "output_type": "execute_result"
    }
   ],
   "source": [
    "counter(df_pca_out_tar, 'Type')"
   ]
  },
  {
   "cell_type": "code",
   "execution_count": 23,
   "metadata": {
    "scrolled": false
   },
   "outputs": [
    {
     "name": "stdout",
     "output_type": "stream",
     "text": [
      "Total entries:  767\n"
     ]
    },
    {
     "data": {
      "text/html": [
       "<div>\n",
       "<style scoped>\n",
       "    .dataframe tbody tr th:only-of-type {\n",
       "        vertical-align: middle;\n",
       "    }\n",
       "\n",
       "    .dataframe tbody tr th {\n",
       "        vertical-align: top;\n",
       "    }\n",
       "\n",
       "    .dataframe thead th {\n",
       "        text-align: right;\n",
       "    }\n",
       "</style>\n",
       "<table border=\"1\" class=\"dataframe\">\n",
       "  <thead>\n",
       "    <tr style=\"text-align: right;\">\n",
       "      <th></th>\n",
       "      <th>Type</th>\n",
       "      <th>percent</th>\n",
       "    </tr>\n",
       "  </thead>\n",
       "  <tbody>\n",
       "    <tr>\n",
       "      <th>II-VI</th>\n",
       "      <td>499</td>\n",
       "      <td>65.06</td>\n",
       "    </tr>\n",
       "    <tr>\n",
       "      <th>III-V</th>\n",
       "      <td>139</td>\n",
       "      <td>18.12</td>\n",
       "    </tr>\n",
       "    <tr>\n",
       "      <th>IV-IV</th>\n",
       "      <td>129</td>\n",
       "      <td>16.82</td>\n",
       "    </tr>\n",
       "  </tbody>\n",
       "</table>\n",
       "</div>"
      ],
      "text/plain": [
       "       Type  percent\n",
       "II-VI   499    65.06\n",
       "III-V   139    18.12\n",
       "IV-IV   129    16.82"
      ]
     },
     "execution_count": 23,
     "metadata": {},
     "output_type": "execute_result"
    }
   ],
   "source": [
    "counter(df_pca_in_tar, 'Type')"
   ]
  },
  {
   "cell_type": "code",
   "execution_count": 24,
   "metadata": {},
   "outputs": [
    {
     "name": "stdout",
     "output_type": "stream",
     "text": [
      "Total entries:  86\n"
     ]
    },
    {
     "data": {
      "text/html": [
       "<div>\n",
       "<style scoped>\n",
       "    .dataframe tbody tr th:only-of-type {\n",
       "        vertical-align: middle;\n",
       "    }\n",
       "\n",
       "    .dataframe tbody tr th {\n",
       "        vertical-align: top;\n",
       "    }\n",
       "\n",
       "    .dataframe thead th {\n",
       "        text-align: right;\n",
       "    }\n",
       "</style>\n",
       "<table border=\"1\" class=\"dataframe\">\n",
       "  <thead>\n",
       "    <tr style=\"text-align: right;\">\n",
       "      <th></th>\n",
       "      <th>Type</th>\n",
       "      <th>percent</th>\n",
       "    </tr>\n",
       "  </thead>\n",
       "  <tbody>\n",
       "    <tr>\n",
       "      <th>II-VI</th>\n",
       "      <td>45</td>\n",
       "      <td>52.33</td>\n",
       "    </tr>\n",
       "    <tr>\n",
       "      <th>III-V</th>\n",
       "      <td>22</td>\n",
       "      <td>25.58</td>\n",
       "    </tr>\n",
       "    <tr>\n",
       "      <th>IV-IV</th>\n",
       "      <td>19</td>\n",
       "      <td>22.09</td>\n",
       "    </tr>\n",
       "  </tbody>\n",
       "</table>\n",
       "</div>"
      ],
      "text/plain": [
       "       Type  percent\n",
       "II-VI    45    52.33\n",
       "III-V    22    25.58\n",
       "IV-IV    19    22.09"
      ]
     },
     "execution_count": 24,
     "metadata": {},
     "output_type": "execute_result"
    }
   ],
   "source": [
    "counter(df_pca_out_des, 'Type')"
   ]
  },
  {
   "cell_type": "code",
   "execution_count": 25,
   "metadata": {},
   "outputs": [
    {
     "name": "stdout",
     "output_type": "stream",
     "text": [
      "Total entries:  767\n"
     ]
    },
    {
     "data": {
      "text/html": [
       "<div>\n",
       "<style scoped>\n",
       "    .dataframe tbody tr th:only-of-type {\n",
       "        vertical-align: middle;\n",
       "    }\n",
       "\n",
       "    .dataframe tbody tr th {\n",
       "        vertical-align: top;\n",
       "    }\n",
       "\n",
       "    .dataframe thead th {\n",
       "        text-align: right;\n",
       "    }\n",
       "</style>\n",
       "<table border=\"1\" class=\"dataframe\">\n",
       "  <thead>\n",
       "    <tr style=\"text-align: right;\">\n",
       "      <th></th>\n",
       "      <th>Type</th>\n",
       "      <th>percent</th>\n",
       "    </tr>\n",
       "  </thead>\n",
       "  <tbody>\n",
       "    <tr>\n",
       "      <th>II-VI</th>\n",
       "      <td>461</td>\n",
       "      <td>60.10</td>\n",
       "    </tr>\n",
       "    <tr>\n",
       "      <th>IV-IV</th>\n",
       "      <td>173</td>\n",
       "      <td>22.56</td>\n",
       "    </tr>\n",
       "    <tr>\n",
       "      <th>III-V</th>\n",
       "      <td>133</td>\n",
       "      <td>17.34</td>\n",
       "    </tr>\n",
       "  </tbody>\n",
       "</table>\n",
       "</div>"
      ],
      "text/plain": [
       "       Type  percent\n",
       "II-VI   461    60.10\n",
       "IV-IV   173    22.56\n",
       "III-V   133    17.34"
      ]
     },
     "execution_count": 25,
     "metadata": {},
     "output_type": "execute_result"
    }
   ],
   "source": [
    "counter(df_pca_in_des, 'Type')"
   ]
  },
  {
   "cell_type": "markdown",
   "metadata": {},
   "source": [
    "## Using ``df_nooutliers``"
   ]
  },
  {
   "cell_type": "code",
   "execution_count": 26,
   "metadata": {},
   "outputs": [],
   "source": [
    "dfnout_pca_out_tar, dfnout_pca_in_tar = myPCA(df_nooutliers, output)"
   ]
  },
  {
   "cell_type": "code",
   "execution_count": 27,
   "metadata": {},
   "outputs": [
    {
     "name": "stdout",
     "output_type": "stream",
     "text": [
      "Total entries:  77\n"
     ]
    },
    {
     "data": {
      "text/html": [
       "<div>\n",
       "<style scoped>\n",
       "    .dataframe tbody tr th:only-of-type {\n",
       "        vertical-align: middle;\n",
       "    }\n",
       "\n",
       "    .dataframe tbody tr th {\n",
       "        vertical-align: top;\n",
       "    }\n",
       "\n",
       "    .dataframe thead th {\n",
       "        text-align: right;\n",
       "    }\n",
       "</style>\n",
       "<table border=\"1\" class=\"dataframe\">\n",
       "  <thead>\n",
       "    <tr style=\"text-align: right;\">\n",
       "      <th></th>\n",
       "      <th>Type</th>\n",
       "      <th>percent</th>\n",
       "    </tr>\n",
       "  </thead>\n",
       "  <tbody>\n",
       "    <tr>\n",
       "      <th>IV-IV</th>\n",
       "      <td>63</td>\n",
       "      <td>81.82</td>\n",
       "    </tr>\n",
       "    <tr>\n",
       "      <th>III-V</th>\n",
       "      <td>9</td>\n",
       "      <td>11.69</td>\n",
       "    </tr>\n",
       "    <tr>\n",
       "      <th>II-VI</th>\n",
       "      <td>5</td>\n",
       "      <td>6.49</td>\n",
       "    </tr>\n",
       "  </tbody>\n",
       "</table>\n",
       "</div>"
      ],
      "text/plain": [
       "       Type  percent\n",
       "IV-IV    63    81.82\n",
       "III-V     9    11.69\n",
       "II-VI     5     6.49"
      ]
     },
     "execution_count": 27,
     "metadata": {},
     "output_type": "execute_result"
    }
   ],
   "source": [
    "counter(dfnout_pca_out_tar, 'Type')"
   ]
  },
  {
   "cell_type": "code",
   "execution_count": 28,
   "metadata": {},
   "outputs": [],
   "source": [
    "dfnout_pca_out_des, dfnout_pca_in_des = myPCA(df_nooutliers, descriptors)"
   ]
  },
  {
   "cell_type": "code",
   "execution_count": 29,
   "metadata": {},
   "outputs": [],
   "source": [
    "#dfnout_pca_in_des"
   ]
  },
  {
   "cell_type": "code",
   "execution_count": 30,
   "metadata": {},
   "outputs": [],
   "source": [
    "#dfnout_pca_out_des"
   ]
  },
  {
   "cell_type": "code",
   "execution_count": 31,
   "metadata": {
    "scrolled": true
   },
   "outputs": [
    {
     "name": "stdout",
     "output_type": "stream",
     "text": [
      "Total entries:  77\n"
     ]
    },
    {
     "data": {
      "text/html": [
       "<div>\n",
       "<style scoped>\n",
       "    .dataframe tbody tr th:only-of-type {\n",
       "        vertical-align: middle;\n",
       "    }\n",
       "\n",
       "    .dataframe tbody tr th {\n",
       "        vertical-align: top;\n",
       "    }\n",
       "\n",
       "    .dataframe thead th {\n",
       "        text-align: right;\n",
       "    }\n",
       "</style>\n",
       "<table border=\"1\" class=\"dataframe\">\n",
       "  <thead>\n",
       "    <tr style=\"text-align: right;\">\n",
       "      <th></th>\n",
       "      <th>Type</th>\n",
       "      <th>percent</th>\n",
       "    </tr>\n",
       "  </thead>\n",
       "  <tbody>\n",
       "    <tr>\n",
       "      <th>II-VI</th>\n",
       "      <td>41</td>\n",
       "      <td>53.25</td>\n",
       "    </tr>\n",
       "    <tr>\n",
       "      <th>III-V</th>\n",
       "      <td>20</td>\n",
       "      <td>25.97</td>\n",
       "    </tr>\n",
       "    <tr>\n",
       "      <th>IV-IV</th>\n",
       "      <td>16</td>\n",
       "      <td>20.78</td>\n",
       "    </tr>\n",
       "  </tbody>\n",
       "</table>\n",
       "</div>"
      ],
      "text/plain": [
       "       Type  percent\n",
       "II-VI    41    53.25\n",
       "III-V    20    25.97\n",
       "IV-IV    16    20.78"
      ]
     },
     "execution_count": 31,
     "metadata": {},
     "output_type": "execute_result"
    }
   ],
   "source": [
    "counter(dfnout_pca_out_des, 'Type')"
   ]
  },
  {
   "cell_type": "markdown",
   "metadata": {},
   "source": [
    "----\n",
    "---"
   ]
  },
  {
   "cell_type": "markdown",
   "metadata": {},
   "source": [
    "## Comparing the effect of number of components on how PCA picks outliers\n",
    "- the only real difference I saw was going down to 2 components"
   ]
  },
  {
   "cell_type": "code",
   "execution_count": 32,
   "metadata": {},
   "outputs": [],
   "source": [
    "all_out, all_no = myPCA(df_nooutliers, descriptors)"
   ]
  },
  {
   "cell_type": "code",
   "execution_count": 33,
   "metadata": {},
   "outputs": [],
   "source": [
    "twenty_out, twenty_no = myPCA(df_nooutliers, descriptors, n_components=20, n_selected_components=20)"
   ]
  },
  {
   "cell_type": "code",
   "execution_count": 31,
   "metadata": {},
   "outputs": [],
   "source": [
    "#similar_df(all_out, twenty_out)"
   ]
  },
  {
   "cell_type": "code",
   "execution_count": 32,
   "metadata": {},
   "outputs": [],
   "source": [
    "#diff_df(all_out, twenty_out)"
   ]
  },
  {
   "cell_type": "markdown",
   "metadata": {},
   "source": [
    "---------------------\n",
    "---------"
   ]
  },
  {
   "cell_type": "markdown",
   "metadata": {},
   "source": [
    "## Evaluating RFR on data after PCA"
   ]
  },
  {
   "cell_type": "code",
   "execution_count": 28,
   "metadata": {},
   "outputs": [],
   "source": [
    "def RFR_abbr(df, o_start=4, o_end=10):\n",
    "    '''\n",
    "    o_start: int. column index of target value. (4 is the beginning)\n",
    "    o_end: int. column index of target value. (10 is the end)\n",
    "    '''\n",
    "    descriptors = df.columns[10:]\n",
    "    output = df.columns[o_start:o_end]\n",
    "    train,test = train_test_split(df,test_size=0.22, random_state=130)\n",
    "    clf = RandomForestRegressor(n_jobs=2, random_state=130)\n",
    "    \n",
    "    frames_list = []\n",
    "    train_rmse_list = [] \n",
    "    test_rmse_list = []\n",
    "    \n",
    "    for o in output:\n",
    "        clf.fit(train[descriptors], train[o])\n",
    "\n",
    "        trainpred = clf.predict(train[descriptors])\n",
    "        testpred = clf.predict(test[descriptors])\n",
    "        \n",
    "        train_rmse = mean_squared_error(train[o],trainpred, squared=False)\n",
    "        test_rmse = mean_squared_error(test[o],testpred, squared=False)\n",
    "        \n",
    "        train_rmse_list.append(train_rmse)\n",
    "        test_rmse_list.append(test_rmse)\n",
    "\n",
    "    \n",
    "    d = {'output': output, 'train rmse': train_rmse_list, 'test rmse': test_rmse_list}\n",
    "    \n",
    "    rmse_df = pd.DataFrame(data=d)\n",
    "\n",
    "    return rmse_df"
   ]
  },
  {
   "cell_type": "code",
   "execution_count": 29,
   "metadata": {},
   "outputs": [],
   "source": [
    "def RFR_type(df, o_start=4, o_end=10):\n",
    "    \n",
    "    descriptors = df.columns[10:]\n",
    "    output = df.columns[o_start:o_end]\n",
    "    train,test = train_test_split(df,test_size=0.22, random_state=130)\n",
    "    clf = RandomForestRegressor(n_jobs=2, random_state=130)\n",
    "    \n",
    "    train_26 = train[train['Type']=='II-VI']\n",
    "    train_35 = train[train['Type']=='III-V']\n",
    "    train_44 =  train[train['Type']=='IV-IV']\n",
    "\n",
    "    test_26 = test[test['Type']=='II-VI']\n",
    "    test_35 = test[test['Type']=='III-V']\n",
    "    test_44 = test[test['Type']=='IV-IV']\n",
    "    \n",
    "    traintest_list = [(train_26, test_26),(train_35, test_35),(train_44, test_44)]\n",
    "    \n",
    "    tt_dict = {}\n",
    "    \n",
    "    for tt in traintest_list:\n",
    "        \n",
    "        key = str(tt[0].Type.unique())\n",
    "        \n",
    "        train_rmse_list = [] \n",
    "        test_rmse_list = []\n",
    "        \n",
    "        for o in output:\n",
    "            clf.fit(train[descriptors], train[o])\n",
    "\n",
    "            trainpred = clf.predict(tt[0][descriptors])\n",
    "            testpred = clf.predict(tt[1][descriptors])\n",
    "\n",
    "            train_rmse = mean_squared_error(tt[0][o],trainpred, squared=False)\n",
    "            test_rmse = mean_squared_error(tt[1][o],testpred, squared=False)\n",
    "\n",
    "            \n",
    "            train_rmse_list.append(train_rmse)\n",
    "            test_rmse_list.append(test_rmse)\n",
    "        \n",
    "        #print('train', train_rmse_list)\n",
    "        #print('test', test_rmse_list)\n",
    "            \n",
    "        d = {'output': output, 'train rmse': train_rmse_list, 'test rmse': test_rmse_list}\n",
    "\n",
    "        rmse_df = pd.DataFrame(data=d)\n",
    "        \n",
    "        tt_dict[key] = (rmse_df)\n",
    "    \n",
    "    return tt_dict"
   ]
  },
  {
   "cell_type": "markdown",
   "metadata": {},
   "source": [
    "### PCA target"
   ]
  },
  {
   "cell_type": "code",
   "execution_count": 81,
   "metadata": {},
   "outputs": [
    {
     "data": {
      "text/html": [
       "<div>\n",
       "<style scoped>\n",
       "    .dataframe tbody tr th:only-of-type {\n",
       "        vertical-align: middle;\n",
       "    }\n",
       "\n",
       "    .dataframe tbody tr th {\n",
       "        vertical-align: top;\n",
       "    }\n",
       "\n",
       "    .dataframe thead th {\n",
       "        text-align: right;\n",
       "    }\n",
       "</style>\n",
       "<table border=\"1\" class=\"dataframe\">\n",
       "  <thead>\n",
       "    <tr style=\"text-align: right;\">\n",
       "      <th></th>\n",
       "      <th>output</th>\n",
       "      <th>train rmse</th>\n",
       "      <th>test rmse</th>\n",
       "    </tr>\n",
       "  </thead>\n",
       "  <tbody>\n",
       "    <tr>\n",
       "      <th>0</th>\n",
       "      <td>∆H (A-rich)</td>\n",
       "      <td>0.521188</td>\n",
       "      <td>1.711316</td>\n",
       "    </tr>\n",
       "    <tr>\n",
       "      <th>1</th>\n",
       "      <td>∆H (B-rich)</td>\n",
       "      <td>0.668668</td>\n",
       "      <td>1.969930</td>\n",
       "    </tr>\n",
       "    <tr>\n",
       "      <th>2</th>\n",
       "      <td>(+2/+1)</td>\n",
       "      <td>0.180982</td>\n",
       "      <td>0.627352</td>\n",
       "    </tr>\n",
       "    <tr>\n",
       "      <th>3</th>\n",
       "      <td>(+1/0)</td>\n",
       "      <td>0.187063</td>\n",
       "      <td>0.550364</td>\n",
       "    </tr>\n",
       "    <tr>\n",
       "      <th>4</th>\n",
       "      <td>(0/-1)</td>\n",
       "      <td>0.170332</td>\n",
       "      <td>0.490597</td>\n",
       "    </tr>\n",
       "    <tr>\n",
       "      <th>5</th>\n",
       "      <td>(-1/-2)</td>\n",
       "      <td>0.127100</td>\n",
       "      <td>0.344000</td>\n",
       "    </tr>\n",
       "  </tbody>\n",
       "</table>\n",
       "</div>"
      ],
      "text/plain": [
       "        output  train rmse  test rmse\n",
       "0  ∆H (A-rich)    0.521188   1.711316\n",
       "1  ∆H (B-rich)    0.668668   1.969930\n",
       "2      (+2/+1)    0.180982   0.627352\n",
       "3       (+1/0)    0.187063   0.550364\n",
       "4       (0/-1)    0.170332   0.490597\n",
       "5      (-1/-2)    0.127100   0.344000"
      ]
     },
     "execution_count": 81,
     "metadata": {},
     "output_type": "execute_result"
    }
   ],
   "source": [
    "RFR_abbr(df_pca_in_tar)"
   ]
  },
  {
   "cell_type": "code",
   "execution_count": 83,
   "metadata": {
    "scrolled": false
   },
   "outputs": [
    {
     "data": {
      "text/plain": [
       "{\"['II-VI']\":         output  train rmse  test rmse\n",
       " 0  ∆H (A-rich)    0.398731   1.165730\n",
       " 1  ∆H (B-rich)    0.532737   1.600196\n",
       " 2      (+2/+1)    0.170987   0.421911\n",
       " 3       (+1/0)    0.174467   0.430523\n",
       " 4       (0/-1)    0.159486   0.408324\n",
       " 5      (-1/-2)    0.122719   0.319528,\n",
       " \"['III-V']\":         output  train rmse  test rmse\n",
       " 0  ∆H (A-rich)    0.742813   1.975805\n",
       " 1  ∆H (B-rich)    0.960489   2.639330\n",
       " 2      (+2/+1)    0.193675   0.749402\n",
       " 3       (+1/0)    0.193055   0.584927\n",
       " 4       (0/-1)    0.201011   0.646550\n",
       " 5      (-1/-2)    0.119188   0.393656,\n",
       " \"['IV-IV']\":         output  train rmse  test rmse\n",
       " 0  ∆H (A-rich)    0.645091   2.680194\n",
       " 1  ∆H (B-rich)    0.761205   2.294364\n",
       " 2      (+2/+1)    0.204237   0.972028\n",
       " 3       (+1/0)    0.225625   0.808873\n",
       " 4       (0/-1)    0.175561   0.560239\n",
       " 5      (-1/-2)    0.150858   0.369650}"
      ]
     },
     "execution_count": 83,
     "metadata": {},
     "output_type": "execute_result"
    }
   ],
   "source": [
    "RFR_type(df_pca_in_tar)"
   ]
  },
  {
   "cell_type": "markdown",
   "metadata": {},
   "source": [
    "### PCA descriptors"
   ]
  },
  {
   "cell_type": "code",
   "execution_count": 84,
   "metadata": {
    "scrolled": true
   },
   "outputs": [
    {
     "data": {
      "text/html": [
       "<div>\n",
       "<style scoped>\n",
       "    .dataframe tbody tr th:only-of-type {\n",
       "        vertical-align: middle;\n",
       "    }\n",
       "\n",
       "    .dataframe tbody tr th {\n",
       "        vertical-align: top;\n",
       "    }\n",
       "\n",
       "    .dataframe thead th {\n",
       "        text-align: right;\n",
       "    }\n",
       "</style>\n",
       "<table border=\"1\" class=\"dataframe\">\n",
       "  <thead>\n",
       "    <tr style=\"text-align: right;\">\n",
       "      <th></th>\n",
       "      <th>output</th>\n",
       "      <th>train rmse</th>\n",
       "      <th>test rmse</th>\n",
       "    </tr>\n",
       "  </thead>\n",
       "  <tbody>\n",
       "    <tr>\n",
       "      <th>0</th>\n",
       "      <td>∆H (A-rich)</td>\n",
       "      <td>0.690964</td>\n",
       "      <td>2.052092</td>\n",
       "    </tr>\n",
       "    <tr>\n",
       "      <th>1</th>\n",
       "      <td>∆H (B-rich)</td>\n",
       "      <td>0.804967</td>\n",
       "      <td>2.739747</td>\n",
       "    </tr>\n",
       "    <tr>\n",
       "      <th>2</th>\n",
       "      <td>(+2/+1)</td>\n",
       "      <td>0.215243</td>\n",
       "      <td>0.580923</td>\n",
       "    </tr>\n",
       "    <tr>\n",
       "      <th>3</th>\n",
       "      <td>(+1/0)</td>\n",
       "      <td>0.204297</td>\n",
       "      <td>0.532751</td>\n",
       "    </tr>\n",
       "    <tr>\n",
       "      <th>4</th>\n",
       "      <td>(0/-1)</td>\n",
       "      <td>0.163685</td>\n",
       "      <td>0.419417</td>\n",
       "    </tr>\n",
       "    <tr>\n",
       "      <th>5</th>\n",
       "      <td>(-1/-2)</td>\n",
       "      <td>0.118267</td>\n",
       "      <td>0.340651</td>\n",
       "    </tr>\n",
       "  </tbody>\n",
       "</table>\n",
       "</div>"
      ],
      "text/plain": [
       "        output  train rmse  test rmse\n",
       "0  ∆H (A-rich)    0.690964   2.052092\n",
       "1  ∆H (B-rich)    0.804967   2.739747\n",
       "2      (+2/+1)    0.215243   0.580923\n",
       "3       (+1/0)    0.204297   0.532751\n",
       "4       (0/-1)    0.163685   0.419417\n",
       "5      (-1/-2)    0.118267   0.340651"
      ]
     },
     "execution_count": 84,
     "metadata": {},
     "output_type": "execute_result"
    }
   ],
   "source": [
    "RFR_abbr(df_pca_in_des)"
   ]
  },
  {
   "cell_type": "code",
   "execution_count": 85,
   "metadata": {},
   "outputs": [
    {
     "data": {
      "text/plain": [
       "{\"['II-VI']\":         output  train rmse  test rmse\n",
       " 0  ∆H (A-rich)    0.445371   1.025345\n",
       " 1  ∆H (B-rich)    0.650307   1.494498\n",
       " 2      (+2/+1)    0.181521   0.390340\n",
       " 3       (+1/0)    0.174682   0.446580\n",
       " 4       (0/-1)    0.151340   0.380506\n",
       " 5      (-1/-2)    0.110798   0.324668,\n",
       " \"['III-V']\":         output  train rmse  test rmse\n",
       " 0  ∆H (A-rich)    0.840807   2.217076\n",
       " 1  ∆H (B-rich)    0.983819   2.706248\n",
       " 2      (+2/+1)    0.251696   0.622941\n",
       " 3       (+1/0)    0.288901   0.491263\n",
       " 4       (0/-1)    0.208790   0.451170\n",
       " 5      (-1/-2)    0.125104   0.274852,\n",
       " \"['IV-IV']\":         output  train rmse  test rmse\n",
       " 0  ∆H (A-rich)    1.057928   3.114466\n",
       " 1  ∆H (B-rich)    1.028863   4.197471\n",
       " 2      (+2/+1)    0.268930   0.807760\n",
       " 3       (+1/0)    0.204346   0.688082\n",
       " 4       (0/-1)    0.157925   0.464156\n",
       " 5      (-1/-2)    0.133105   0.405730}"
      ]
     },
     "execution_count": 85,
     "metadata": {},
     "output_type": "execute_result"
    }
   ],
   "source": [
    "RFR_type(df_pca_in_des)"
   ]
  },
  {
   "cell_type": "markdown",
   "metadata": {},
   "source": [
    "### df_nooutliers (formation energy values > 10 eV removed)"
   ]
  },
  {
   "cell_type": "code",
   "execution_count": 86,
   "metadata": {},
   "outputs": [
    {
     "data": {
      "text/html": [
       "<div>\n",
       "<style scoped>\n",
       "    .dataframe tbody tr th:only-of-type {\n",
       "        vertical-align: middle;\n",
       "    }\n",
       "\n",
       "    .dataframe tbody tr th {\n",
       "        vertical-align: top;\n",
       "    }\n",
       "\n",
       "    .dataframe thead th {\n",
       "        text-align: right;\n",
       "    }\n",
       "</style>\n",
       "<table border=\"1\" class=\"dataframe\">\n",
       "  <thead>\n",
       "    <tr style=\"text-align: right;\">\n",
       "      <th></th>\n",
       "      <th>output</th>\n",
       "      <th>train rmse</th>\n",
       "      <th>test rmse</th>\n",
       "    </tr>\n",
       "  </thead>\n",
       "  <tbody>\n",
       "    <tr>\n",
       "      <th>0</th>\n",
       "      <td>∆H (A-rich)</td>\n",
       "      <td>0.453549</td>\n",
       "      <td>1.239188</td>\n",
       "    </tr>\n",
       "    <tr>\n",
       "      <th>1</th>\n",
       "      <td>∆H (B-rich)</td>\n",
       "      <td>0.524834</td>\n",
       "      <td>1.490647</td>\n",
       "    </tr>\n",
       "    <tr>\n",
       "      <th>2</th>\n",
       "      <td>(+2/+1)</td>\n",
       "      <td>0.177215</td>\n",
       "      <td>0.509280</td>\n",
       "    </tr>\n",
       "    <tr>\n",
       "      <th>3</th>\n",
       "      <td>(+1/0)</td>\n",
       "      <td>0.201798</td>\n",
       "      <td>0.488115</td>\n",
       "    </tr>\n",
       "    <tr>\n",
       "      <th>4</th>\n",
       "      <td>(0/-1)</td>\n",
       "      <td>0.164993</td>\n",
       "      <td>0.451035</td>\n",
       "    </tr>\n",
       "    <tr>\n",
       "      <th>5</th>\n",
       "      <td>(-1/-2)</td>\n",
       "      <td>0.119997</td>\n",
       "      <td>0.329110</td>\n",
       "    </tr>\n",
       "  </tbody>\n",
       "</table>\n",
       "</div>"
      ],
      "text/plain": [
       "        output  train rmse  test rmse\n",
       "0  ∆H (A-rich)    0.453549   1.239188\n",
       "1  ∆H (B-rich)    0.524834   1.490647\n",
       "2      (+2/+1)    0.177215   0.509280\n",
       "3       (+1/0)    0.201798   0.488115\n",
       "4       (0/-1)    0.164993   0.451035\n",
       "5      (-1/-2)    0.119997   0.329110"
      ]
     },
     "execution_count": 86,
     "metadata": {},
     "output_type": "execute_result"
    }
   ],
   "source": [
    "RFR_abbr(dfnout_pca_in_tar)"
   ]
  },
  {
   "cell_type": "code",
   "execution_count": 87,
   "metadata": {},
   "outputs": [
    {
     "data": {
      "text/plain": [
       "{\"['II-VI']\":         output  train rmse  test rmse\n",
       " 0  ∆H (A-rich)    0.351041   0.937208\n",
       " 1  ∆H (B-rich)    0.439929   1.313003\n",
       " 2      (+2/+1)    0.166860   0.438792\n",
       " 3       (+1/0)    0.178266   0.407402\n",
       " 4       (0/-1)    0.152526   0.463214\n",
       " 5      (-1/-2)    0.116928   0.332916,\n",
       " \"['III-V']\":         output  train rmse  test rmse\n",
       " 0  ∆H (A-rich)    0.612832   2.080744\n",
       " 1  ∆H (B-rich)    0.739946   2.172493\n",
       " 2      (+2/+1)    0.198038   0.711526\n",
       " 3       (+1/0)    0.212959   0.690511\n",
       " 4       (0/-1)    0.186090   0.443661\n",
       " 5      (-1/-2)    0.127007   0.298336,\n",
       " \"['IV-IV']\":         output  train rmse  test rmse\n",
       " 0  ∆H (A-rich)    0.659473   1.071020\n",
       " 1  ∆H (B-rich)    0.596540   1.231551\n",
       " 2      (+2/+1)    0.201566   0.509922\n",
       " 3       (+1/0)    0.291917   0.519368\n",
       " 4       (0/-1)    0.198201   0.407455\n",
       " 5      (-1/-2)    0.126832   0.345094}"
      ]
     },
     "execution_count": 87,
     "metadata": {},
     "output_type": "execute_result"
    }
   ],
   "source": [
    "RFR_type(dfnout_pca_in_tar)"
   ]
  },
  {
   "cell_type": "code",
   "execution_count": 88,
   "metadata": {},
   "outputs": [
    {
     "data": {
      "text/html": [
       "<div>\n",
       "<style scoped>\n",
       "    .dataframe tbody tr th:only-of-type {\n",
       "        vertical-align: middle;\n",
       "    }\n",
       "\n",
       "    .dataframe tbody tr th {\n",
       "        vertical-align: top;\n",
       "    }\n",
       "\n",
       "    .dataframe thead th {\n",
       "        text-align: right;\n",
       "    }\n",
       "</style>\n",
       "<table border=\"1\" class=\"dataframe\">\n",
       "  <thead>\n",
       "    <tr style=\"text-align: right;\">\n",
       "      <th></th>\n",
       "      <th>output</th>\n",
       "      <th>train rmse</th>\n",
       "      <th>test rmse</th>\n",
       "    </tr>\n",
       "  </thead>\n",
       "  <tbody>\n",
       "    <tr>\n",
       "      <th>0</th>\n",
       "      <td>∆H (A-rich)</td>\n",
       "      <td>0.483860</td>\n",
       "      <td>1.360507</td>\n",
       "    </tr>\n",
       "    <tr>\n",
       "      <th>1</th>\n",
       "      <td>∆H (B-rich)</td>\n",
       "      <td>0.543609</td>\n",
       "      <td>1.492331</td>\n",
       "    </tr>\n",
       "    <tr>\n",
       "      <th>2</th>\n",
       "      <td>(+2/+1)</td>\n",
       "      <td>0.197292</td>\n",
       "      <td>0.713207</td>\n",
       "    </tr>\n",
       "    <tr>\n",
       "      <th>3</th>\n",
       "      <td>(+1/0)</td>\n",
       "      <td>0.194802</td>\n",
       "      <td>0.487206</td>\n",
       "    </tr>\n",
       "    <tr>\n",
       "      <th>4</th>\n",
       "      <td>(0/-1)</td>\n",
       "      <td>0.167198</td>\n",
       "      <td>0.455665</td>\n",
       "    </tr>\n",
       "    <tr>\n",
       "      <th>5</th>\n",
       "      <td>(-1/-2)</td>\n",
       "      <td>0.117659</td>\n",
       "      <td>0.322446</td>\n",
       "    </tr>\n",
       "  </tbody>\n",
       "</table>\n",
       "</div>"
      ],
      "text/plain": [
       "        output  train rmse  test rmse\n",
       "0  ∆H (A-rich)    0.483860   1.360507\n",
       "1  ∆H (B-rich)    0.543609   1.492331\n",
       "2      (+2/+1)    0.197292   0.713207\n",
       "3       (+1/0)    0.194802   0.487206\n",
       "4       (0/-1)    0.167198   0.455665\n",
       "5      (-1/-2)    0.117659   0.322446"
      ]
     },
     "execution_count": 88,
     "metadata": {},
     "output_type": "execute_result"
    }
   ],
   "source": [
    "RFR_abbr(dfnout_pca_in_des)"
   ]
  },
  {
   "cell_type": "code",
   "execution_count": 89,
   "metadata": {},
   "outputs": [
    {
     "data": {
      "text/plain": [
       "{\"['II-VI']\":         output  train rmse  test rmse\n",
       " 0  ∆H (A-rich)    0.377965   1.107437\n",
       " 1  ∆H (B-rich)    0.450525   1.388783\n",
       " 2      (+2/+1)    0.169078   0.509091\n",
       " 3       (+1/0)    0.174737   0.486724\n",
       " 4       (0/-1)    0.160910   0.467613\n",
       " 5      (-1/-2)    0.115325   0.332616,\n",
       " \"['III-V']\":         output  train rmse  test rmse\n",
       " 0  ∆H (A-rich)    0.684610   1.770361\n",
       " 1  ∆H (B-rich)    0.798284   1.812151\n",
       " 2      (+2/+1)    0.260531   0.443706\n",
       " 3       (+1/0)    0.237212   0.453829\n",
       " 4       (0/-1)    0.193921   0.449996\n",
       " 5      (-1/-2)    0.129856   0.312493,\n",
       " \"['IV-IV']\":         output  train rmse  test rmse\n",
       " 0  ∆H (A-rich)    0.594868   1.582138\n",
       " 1  ∆H (B-rich)    0.574017   1.496213\n",
       " 2      (+2/+1)    0.224681   1.151608\n",
       " 3       (+1/0)    0.219765   0.509642\n",
       " 4       (0/-1)    0.164330   0.429263\n",
       " 5      (-1/-2)    0.114858   0.303376}"
      ]
     },
     "execution_count": 89,
     "metadata": {},
     "output_type": "execute_result"
    }
   ],
   "source": [
    "RFR_type(dfnout_pca_in_des)"
   ]
  }
 ],
 "metadata": {
  "kernelspec": {
   "display_name": "Python 3",
   "language": "python",
   "name": "python3"
  },
  "language_info": {
   "codemirror_mode": {
    "name": "ipython",
    "version": 3
   },
   "file_extension": ".py",
   "mimetype": "text/x-python",
   "name": "python",
   "nbconvert_exporter": "python",
   "pygments_lexer": "ipython3",
   "version": "3.7.7"
  }
 },
 "nbformat": 4,
 "nbformat_minor": 4
}
