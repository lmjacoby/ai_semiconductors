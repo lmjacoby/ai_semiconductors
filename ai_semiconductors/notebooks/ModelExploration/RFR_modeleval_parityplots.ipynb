{
 "cells": [
  {
   "cell_type": "code",
   "execution_count": 58,
   "metadata": {},
   "outputs": [],
   "source": [
    "import pandas as pd\n",
    "import numpy as np\n",
    "\n",
    "import rfr_remote\n",
    "import rfr_ipynb\n",
    "\n",
    "import matplotlib.pyplot as plt"
   ]
  },
  {
   "cell_type": "markdown",
   "metadata": {},
   "source": [
    "## Data  loading and analysis\n",
    "There are separate files for each of the targets being predicted. There are 8 targets total, so there are 8 separate data sets.\n",
    "\n",
    "- These data sets contain the descriptors and targets for the training data. There are ~1500 points in the formation energy sets (a, b) and ~1000 points in the transition level sets (p32-m23). \n",
    "- The descriptors in each set are different, and were selected through expanding an original set of features (SISSO) and then using LASSO to select those most highly correlated with outputs."
   ]
  },
  {
   "cell_type": "markdown",
   "metadata": {},
   "source": [
    "**Formation Energies**"
   ]
  },
  {
   "cell_type": "code",
   "execution_count": 59,
   "metadata": {},
   "outputs": [],
   "source": [
    "lasso_a = pd.read_csv('./xiaofeng_lasso/dataset_7p7/Lasso_HA_7.7.csv')"
   ]
  },
  {
   "cell_type": "code",
   "execution_count": 60,
   "metadata": {},
   "outputs": [],
   "source": [
    "lasso_b = pd.read_csv('./xiaofeng_lasso/dataset_7p7/Lasso_HB_7.7.csv')"
   ]
  },
  {
   "cell_type": "markdown",
   "metadata": {},
   "source": [
    "The formation energy training sets by semiconductor type are:\n",
    "- ~71 % II-VI semicondcutors\n",
    "- ~15 % III-V semiconductors\n",
    "- ~14 % IV-IV semicondcutors\n",
    "\n",
    "\n",
    "The formation energy training sets by semiconductor site are:\n",
    "- ~63 % interstitial defect sites\n",
    "- ~37 % substitutional defect sites"
   ]
  },
  {
   "cell_type": "code",
   "execution_count": 61,
   "metadata": {
    "scrolled": true
   },
   "outputs": [
    {
     "name": "stdout",
     "output_type": "stream",
     "text": [
      "Total entries:  1494\n"
     ]
    },
    {
     "data": {
      "text/html": [
       "<div>\n",
       "<style scoped>\n",
       "    .dataframe tbody tr th:only-of-type {\n",
       "        vertical-align: middle;\n",
       "    }\n",
       "\n",
       "    .dataframe tbody tr th {\n",
       "        vertical-align: top;\n",
       "    }\n",
       "\n",
       "    .dataframe thead th {\n",
       "        text-align: right;\n",
       "    }\n",
       "</style>\n",
       "<table border=\"1\" class=\"dataframe\">\n",
       "  <thead>\n",
       "    <tr style=\"text-align: right;\">\n",
       "      <th></th>\n",
       "      <th>Type</th>\n",
       "      <th>percent</th>\n",
       "    </tr>\n",
       "  </thead>\n",
       "  <tbody>\n",
       "    <tr>\n",
       "      <th>II-VI</th>\n",
       "      <td>1067</td>\n",
       "      <td>71.42</td>\n",
       "    </tr>\n",
       "    <tr>\n",
       "      <th>III-V</th>\n",
       "      <td>218</td>\n",
       "      <td>14.59</td>\n",
       "    </tr>\n",
       "    <tr>\n",
       "      <th>IV-IV</th>\n",
       "      <td>209</td>\n",
       "      <td>13.99</td>\n",
       "    </tr>\n",
       "  </tbody>\n",
       "</table>\n",
       "</div>"
      ],
      "text/plain": [
       "       Type  percent\n",
       "II-VI  1067    71.42\n",
       "III-V   218    14.59\n",
       "IV-IV   209    13.99"
      ]
     },
     "execution_count": 61,
     "metadata": {},
     "output_type": "execute_result"
    }
   ],
   "source": [
    "rfr_ipynb.counter(lasso_a, 'Type')"
   ]
  },
  {
   "cell_type": "code",
   "execution_count": 62,
   "metadata": {},
   "outputs": [
    {
     "name": "stdout",
     "output_type": "stream",
     "text": [
      "Total entries:  1494\n"
     ]
    },
    {
     "data": {
      "text/html": [
       "<div>\n",
       "<style scoped>\n",
       "    .dataframe tbody tr th:only-of-type {\n",
       "        vertical-align: middle;\n",
       "    }\n",
       "\n",
       "    .dataframe tbody tr th {\n",
       "        vertical-align: top;\n",
       "    }\n",
       "\n",
       "    .dataframe thead th {\n",
       "        text-align: right;\n",
       "    }\n",
       "</style>\n",
       "<table border=\"1\" class=\"dataframe\">\n",
       "  <thead>\n",
       "    <tr style=\"text-align: right;\">\n",
       "      <th></th>\n",
       "      <th>Site</th>\n",
       "      <th>percent</th>\n",
       "    </tr>\n",
       "  </thead>\n",
       "  <tbody>\n",
       "    <tr>\n",
       "      <th>M_i_A</th>\n",
       "      <td>320</td>\n",
       "      <td>21.42</td>\n",
       "    </tr>\n",
       "    <tr>\n",
       "      <th>M_i_neut</th>\n",
       "      <td>316</td>\n",
       "      <td>21.15</td>\n",
       "    </tr>\n",
       "    <tr>\n",
       "      <th>M_i_B</th>\n",
       "      <td>306</td>\n",
       "      <td>20.48</td>\n",
       "    </tr>\n",
       "    <tr>\n",
       "      <th>M_A</th>\n",
       "      <td>293</td>\n",
       "      <td>19.61</td>\n",
       "    </tr>\n",
       "    <tr>\n",
       "      <th>M_B</th>\n",
       "      <td>259</td>\n",
       "      <td>17.34</td>\n",
       "    </tr>\n",
       "  </tbody>\n",
       "</table>\n",
       "</div>"
      ],
      "text/plain": [
       "          Site  percent\n",
       "M_i_A      320    21.42\n",
       "M_i_neut   316    21.15\n",
       "M_i_B      306    20.48\n",
       "M_A        293    19.61\n",
       "M_B        259    17.34"
      ]
     },
     "execution_count": 62,
     "metadata": {},
     "output_type": "execute_result"
    }
   ],
   "source": [
    "rfr_ipynb.counter(lasso_a, 'Site')"
   ]
  },
  {
   "cell_type": "markdown",
   "metadata": {},
   "source": [
    "------"
   ]
  },
  {
   "cell_type": "markdown",
   "metadata": {},
   "source": [
    "**Transition Energy Levels**"
   ]
  },
  {
   "cell_type": "code",
   "execution_count": 43,
   "metadata": {},
   "outputs": [],
   "source": [
    "lasso_p32 = pd.read_csv('./xiaofeng_lasso/dataset_7p7/Lasso_(+3,+2)_7.7.csv')"
   ]
  },
  {
   "cell_type": "code",
   "execution_count": 44,
   "metadata": {},
   "outputs": [],
   "source": [
    "lasso_p21 = pd.read_csv('./xiaofeng_lasso/dataset_7p7/Lasso_(+2,+1)_7.7.csv')"
   ]
  },
  {
   "cell_type": "code",
   "execution_count": 45,
   "metadata": {},
   "outputs": [],
   "source": [
    "lasso_0p1 = pd.read_csv('./xiaofeng_lasso/dataset_7p7/Lasso_(+1,0)_7.7.csv')"
   ]
  },
  {
   "cell_type": "code",
   "execution_count": 46,
   "metadata": {},
   "outputs": [],
   "source": [
    "lasso_0m1 = pd.read_csv('./xiaofeng_lasso/dataset_7p7/Lasso_(0,-1)_7.7.csv')"
   ]
  },
  {
   "cell_type": "code",
   "execution_count": 47,
   "metadata": {},
   "outputs": [],
   "source": [
    "lasso_m12 = pd.read_csv('./xiaofeng_lasso/dataset_7p7/Lasso_(-1,-2)_7.7.csv')"
   ]
  },
  {
   "cell_type": "code",
   "execution_count": 48,
   "metadata": {},
   "outputs": [],
   "source": [
    "lasso_m23 = pd.read_csv('./xiaofeng_lasso/dataset_7p7/Lasso_(-2,-3)_7.7.csv')"
   ]
  },
  {
   "cell_type": "markdown",
   "metadata": {},
   "source": [
    "The formation energy sets are:\n",
    "- ~53 % II-VI semicondcutors\n",
    "- ~23 % IV-IV semicondcutors\n",
    "- ~23 % III-V semiconductors\n",
    "\n",
    "The formation energy training sets by semiconductor site are:\n",
    "- ~64 % interstitial defect sites\n",
    "- ~36 % substitutional defect sites"
   ]
  },
  {
   "cell_type": "code",
   "execution_count": 63,
   "metadata": {
    "scrolled": false
   },
   "outputs": [
    {
     "name": "stdout",
     "output_type": "stream",
     "text": [
      "Total entries:  983\n"
     ]
    },
    {
     "data": {
      "text/html": [
       "<div>\n",
       "<style scoped>\n",
       "    .dataframe tbody tr th:only-of-type {\n",
       "        vertical-align: middle;\n",
       "    }\n",
       "\n",
       "    .dataframe tbody tr th {\n",
       "        vertical-align: top;\n",
       "    }\n",
       "\n",
       "    .dataframe thead th {\n",
       "        text-align: right;\n",
       "    }\n",
       "</style>\n",
       "<table border=\"1\" class=\"dataframe\">\n",
       "  <thead>\n",
       "    <tr style=\"text-align: right;\">\n",
       "      <th></th>\n",
       "      <th>Type</th>\n",
       "      <th>percent</th>\n",
       "    </tr>\n",
       "  </thead>\n",
       "  <tbody>\n",
       "    <tr>\n",
       "      <th>II-VI</th>\n",
       "      <td>523</td>\n",
       "      <td>53.2</td>\n",
       "    </tr>\n",
       "    <tr>\n",
       "      <th>III-V</th>\n",
       "      <td>230</td>\n",
       "      <td>23.4</td>\n",
       "    </tr>\n",
       "    <tr>\n",
       "      <th>IV-IV</th>\n",
       "      <td>230</td>\n",
       "      <td>23.4</td>\n",
       "    </tr>\n",
       "  </tbody>\n",
       "</table>\n",
       "</div>"
      ],
      "text/plain": [
       "       Type  percent\n",
       "II-VI   523     53.2\n",
       "III-V   230     23.4\n",
       "IV-IV   230     23.4"
      ]
     },
     "execution_count": 63,
     "metadata": {},
     "output_type": "execute_result"
    }
   ],
   "source": [
    "rfr_ipynb.counter(lasso_p32, 'Type')"
   ]
  },
  {
   "cell_type": "code",
   "execution_count": 64,
   "metadata": {
    "scrolled": false
   },
   "outputs": [
    {
     "name": "stdout",
     "output_type": "stream",
     "text": [
      "Total entries:  983\n"
     ]
    },
    {
     "data": {
      "text/html": [
       "<div>\n",
       "<style scoped>\n",
       "    .dataframe tbody tr th:only-of-type {\n",
       "        vertical-align: middle;\n",
       "    }\n",
       "\n",
       "    .dataframe tbody tr th {\n",
       "        vertical-align: top;\n",
       "    }\n",
       "\n",
       "    .dataframe thead th {\n",
       "        text-align: right;\n",
       "    }\n",
       "</style>\n",
       "<table border=\"1\" class=\"dataframe\">\n",
       "  <thead>\n",
       "    <tr style=\"text-align: right;\">\n",
       "      <th></th>\n",
       "      <th>Site</th>\n",
       "      <th>percent</th>\n",
       "    </tr>\n",
       "  </thead>\n",
       "  <tbody>\n",
       "    <tr>\n",
       "      <th>M_i_A</th>\n",
       "      <td>217</td>\n",
       "      <td>22.08</td>\n",
       "    </tr>\n",
       "    <tr>\n",
       "      <th>M_i_neut</th>\n",
       "      <td>214</td>\n",
       "      <td>21.77</td>\n",
       "    </tr>\n",
       "    <tr>\n",
       "      <th>M_i_B</th>\n",
       "      <td>199</td>\n",
       "      <td>20.24</td>\n",
       "    </tr>\n",
       "    <tr>\n",
       "      <th>M_A</th>\n",
       "      <td>188</td>\n",
       "      <td>19.13</td>\n",
       "    </tr>\n",
       "    <tr>\n",
       "      <th>M_B</th>\n",
       "      <td>165</td>\n",
       "      <td>16.79</td>\n",
       "    </tr>\n",
       "  </tbody>\n",
       "</table>\n",
       "</div>"
      ],
      "text/plain": [
       "          Site  percent\n",
       "M_i_A      217    22.08\n",
       "M_i_neut   214    21.77\n",
       "M_i_B      199    20.24\n",
       "M_A        188    19.13\n",
       "M_B        165    16.79"
      ]
     },
     "execution_count": 64,
     "metadata": {},
     "output_type": "execute_result"
    }
   ],
   "source": [
    "rfr_ipynb.counter(lasso_p32, 'Site')"
   ]
  },
  {
   "cell_type": "markdown",
   "metadata": {},
   "source": [
    "-----"
   ]
  },
  {
   "cell_type": "markdown",
   "metadata": {},
   "source": [
    "### Best random forest regression model parameters for each output \n",
    "**(determined through Bayesian optimization)**\n",
    "- **∆H (A-rich)\t:** num_trees=600, max_depth=10, max_feat='auto', min_samp_leaf=2, min_samples_split=15\n",
    "- **∆H (B-rich)\t:** num_trees=1000, max_depth=10, max_feat='auto', min_samp_leaf=3, min_samples_split=15\n",
    "- **(+3/+2) :** num_trees=450, max_depth=7, max_feat='auto', min_samp_leaf=3, min_samples_split=3\n",
    "- **(+2/+1) :** num_trees=600, max_depth=9, max_feat='auto', min_samp_leaf=7, min_samples_split=2\n",
    "- **(+1/0) :** num_trees=150, max_depth=10, max_feat='auto', min_samp_leaf=8, min_samples_split=12\n",
    "- **(0/-1) :** num_trees=150, max_depth=8, max_feat='auto', min_samp_leaf=5, min_samples_split=3\n",
    "- **(-1/-2) :** num_trees=750, max_depth=10, max_feat='auto', min_samp_leaf=8, min_samples_split=12\n",
    "- **(-2/-3) :** num_trees=450, max_depth=10, max_feat='sqrt', min_samp_leaf=2, min_samples_split=14"
   ]
  },
  {
   "cell_type": "markdown",
   "metadata": {},
   "source": [
    "--------\n",
    "------\n",
    "## How to use the functions:\n",
    "### 1. Find out how well the model is predicting (for each output)\n",
    "**RFR model:**\n",
    "Random forest regression models with  with cross validation can be run using the function ``rfr_predictor``. The function takes in a data set (lasso_a, lasso_p32, etc) and performs RFR n-folds times, using a different train and test set in each fold. This function will return train and test dictionaries where the key is the fold of CV, and the value is a dataframe containing type, ab, ipmurity, site, dft values, and predicted values for every point in the train/test set in that fold. \n",
    "\n",
    "**RMSE of model:**\n",
    "A root mean squared error (RMSE), a metric for how well a ML model is predicting, can be calculated for each fold of the cross validation using ``rmse_calculator``. The dictionaries returned from ``rfr_predictor`` are the inputs, and the function returns a table where each row is the training and testing set RMSE values for each fold of the cross validation. The last row of the table is the mean and standard deviation across all the folds. By changing the arguement \"output_type\" to \"type\" or \"site\", the function can output values for how the model predicted specific types of compounds, ie a II-VI, or compounds with an interstitial defect. In these cases the function will output 3 (type) or 2 (defect site) tables. The tables are for type: II-VI, III-V, IV-IV and for site: substitutional, interstitial defect site.\n",
    "\n",
    "---------\n",
    "OR\n",
    "### 2. Find the average prediction (w/ uncertainty) + parity plot\n",
    "**Average Prediction:**\n",
    "The average prediction (plus uncertainty) for each point in the total set as both a train and test point. The average and uncertainty come from the n-folds of cross validation performed n-folds times. The tables returned (train/test) have the actual dft points, the mean of the predicted points, and the standard deviation of that prediction which from each interation of the model. Use ``rfr_pp_predictor`` to get these averages.\n",
    "\n",
    "\n",
    "**Parity plots:**\n",
    "The parity plots are a visual check of how the model is predicting. The axes are the true output values vs the predicted output values, and each point represents an impurity doped semiconductor compound. If the model is predicting perfectly the points would fall on a line of slope 1. The function used to plot these is ``parity_plot``. The dataframes returned from ``rfr_pp_predictor`` are the inputs, and this function returns parity plots which can show points differentiated by type and defect site (as above) by changing 'output_type'."
   ]
  },
  {
   "cell_type": "markdown",
   "metadata": {},
   "source": [
    "## Formation Energies"
   ]
  },
  {
   "cell_type": "markdown",
   "metadata": {},
   "source": [
    "### ∆H (A-rich)\t"
   ]
  },
  {
   "cell_type": "markdown",
   "metadata": {},
   "source": [
    "#### RMSE table"
   ]
  },
  {
   "cell_type": "markdown",
   "metadata": {},
   "source": [
    "dHA_traindic, dHA_testdic= \\\n",
    "    rfr_remote.rfr_predictor(lasso_a, d_start=5, max_depth=10, max_feat='auto', \n",
    "                             min_samp_leaf=2, min_samples_split=15,\n",
    "                             num_trees=600, folds=10)"
   ]
  },
  {
   "cell_type": "markdown",
   "metadata": {},
   "source": [
    "This is OVERALL how the model predicts for the ∆H (A-rich), formation energy of the dopant in A-rich chemical potential, target. The RMSE values are in eV, and can be read as the amount of uncertainty of all the predictions for this target. The closer this value is to 0, the better the model is predicting. The test RMSE is describes how the model predicts on \"never before seen data\", while the train RMSE is used to ensure the model is not overfitting and giving falsely confident predictions."
   ]
  },
  {
   "cell_type": "code",
   "execution_count": 66,
   "metadata": {
    "scrolled": true
   },
   "outputs": [],
   "source": [
    "#output_type = 'none' returns the overall RMSE of train and test\n",
    "dHA_rmse = rfr_remote.rmse_calculator(dHA_traindic, dHA_testdic,\n",
    "                                      output_type='none')\n",
    "\n",
    "#output_type = 'type' returns the RMSE of train and test separated by type\n",
    "dHA_rmse_26, dHA_rmse_35, dHA_rmse_44 = \\\n",
    "    rfr_remote.rmse_calculator(dHA_traindic, dHA_testdic,\n",
    "                                      output_type='type')\n",
    "\n",
    "#output_type = 'site' returns the RMSE of train and test separated by site\n",
    "dHA_rmse_sub, dHA_rmse_int = \\\n",
    "    rfr_remote.rmse_calculator(dHA_traindic, dHA_testdic,\n",
    "                                      output_type='site')"
   ]
  },
  {
   "cell_type": "code",
   "execution_count": 67,
   "metadata": {},
   "outputs": [
    {
     "data": {
      "text/html": [
       "<div>\n",
       "<style scoped>\n",
       "    .dataframe tbody tr th:only-of-type {\n",
       "        vertical-align: middle;\n",
       "    }\n",
       "\n",
       "    .dataframe tbody tr th {\n",
       "        vertical-align: top;\n",
       "    }\n",
       "\n",
       "    .dataframe thead th {\n",
       "        text-align: right;\n",
       "    }\n",
       "</style>\n",
       "<table border=\"1\" class=\"dataframe\">\n",
       "  <thead>\n",
       "    <tr style=\"text-align: right;\">\n",
       "      <th></th>\n",
       "      <th>train rmse</th>\n",
       "      <th>test rmse</th>\n",
       "    </tr>\n",
       "  </thead>\n",
       "  <tbody>\n",
       "    <tr>\n",
       "      <th>0</th>\n",
       "      <td>0.63925</td>\n",
       "      <td>1.05946</td>\n",
       "    </tr>\n",
       "    <tr>\n",
       "      <th>1</th>\n",
       "      <td>0.63301</td>\n",
       "      <td>1.12319</td>\n",
       "    </tr>\n",
       "    <tr>\n",
       "      <th>2</th>\n",
       "      <td>0.638934</td>\n",
       "      <td>1.10377</td>\n",
       "    </tr>\n",
       "    <tr>\n",
       "      <th>3</th>\n",
       "      <td>0.631445</td>\n",
       "      <td>0.997664</td>\n",
       "    </tr>\n",
       "    <tr>\n",
       "      <th>4</th>\n",
       "      <td>0.619726</td>\n",
       "      <td>1.18414</td>\n",
       "    </tr>\n",
       "    <tr>\n",
       "      <th>5</th>\n",
       "      <td>0.635581</td>\n",
       "      <td>1.00834</td>\n",
       "    </tr>\n",
       "    <tr>\n",
       "      <th>6</th>\n",
       "      <td>0.641014</td>\n",
       "      <td>0.894301</td>\n",
       "    </tr>\n",
       "    <tr>\n",
       "      <th>7</th>\n",
       "      <td>0.632608</td>\n",
       "      <td>1.01759</td>\n",
       "    </tr>\n",
       "    <tr>\n",
       "      <th>8</th>\n",
       "      <td>0.633081</td>\n",
       "      <td>1.16947</td>\n",
       "    </tr>\n",
       "    <tr>\n",
       "      <th>9</th>\n",
       "      <td>0.648237</td>\n",
       "      <td>0.82359</td>\n",
       "    </tr>\n",
       "    <tr>\n",
       "      <th>10</th>\n",
       "      <td>0.64 +/- 0.007</td>\n",
       "      <td>1.04 +/- 0.116</td>\n",
       "    </tr>\n",
       "  </tbody>\n",
       "</table>\n",
       "</div>"
      ],
      "text/plain": [
       "        train rmse       test rmse\n",
       "0          0.63925         1.05946\n",
       "1          0.63301         1.12319\n",
       "2         0.638934         1.10377\n",
       "3         0.631445        0.997664\n",
       "4         0.619726         1.18414\n",
       "5         0.635581         1.00834\n",
       "6         0.641014        0.894301\n",
       "7         0.632608         1.01759\n",
       "8         0.633081         1.16947\n",
       "9         0.648237         0.82359\n",
       "10  0.64 +/- 0.007  1.04 +/- 0.116"
      ]
     },
     "execution_count": 67,
     "metadata": {},
     "output_type": "execute_result"
    }
   ],
   "source": [
    "# what an overall dataframe looks like\n",
    "dHA_rmse"
   ]
  },
  {
   "cell_type": "code",
   "execution_count": 68,
   "metadata": {},
   "outputs": [
    {
     "data": {
      "text/html": [
       "<div>\n",
       "<style scoped>\n",
       "    .dataframe tbody tr th:only-of-type {\n",
       "        vertical-align: middle;\n",
       "    }\n",
       "\n",
       "    .dataframe tbody tr th {\n",
       "        vertical-align: top;\n",
       "    }\n",
       "\n",
       "    .dataframe thead th {\n",
       "        text-align: right;\n",
       "    }\n",
       "</style>\n",
       "<table border=\"1\" class=\"dataframe\">\n",
       "  <thead>\n",
       "    <tr style=\"text-align: right;\">\n",
       "      <th></th>\n",
       "      <th>train rmse II-VI</th>\n",
       "      <th>test rmse II-VI</th>\n",
       "    </tr>\n",
       "  </thead>\n",
       "  <tbody>\n",
       "    <tr>\n",
       "      <th>0</th>\n",
       "      <td>0.451901</td>\n",
       "      <td>0.66517</td>\n",
       "    </tr>\n",
       "    <tr>\n",
       "      <th>1</th>\n",
       "      <td>0.441393</td>\n",
       "      <td>0.68818</td>\n",
       "    </tr>\n",
       "    <tr>\n",
       "      <th>2</th>\n",
       "      <td>0.44959</td>\n",
       "      <td>0.621957</td>\n",
       "    </tr>\n",
       "    <tr>\n",
       "      <th>3</th>\n",
       "      <td>0.444567</td>\n",
       "      <td>0.579457</td>\n",
       "    </tr>\n",
       "    <tr>\n",
       "      <th>4</th>\n",
       "      <td>0.436638</td>\n",
       "      <td>0.670683</td>\n",
       "    </tr>\n",
       "    <tr>\n",
       "      <th>5</th>\n",
       "      <td>0.44376</td>\n",
       "      <td>0.717792</td>\n",
       "    </tr>\n",
       "    <tr>\n",
       "      <th>6</th>\n",
       "      <td>0.443944</td>\n",
       "      <td>0.702528</td>\n",
       "    </tr>\n",
       "    <tr>\n",
       "      <th>7</th>\n",
       "      <td>0.447241</td>\n",
       "      <td>0.658303</td>\n",
       "    </tr>\n",
       "    <tr>\n",
       "      <th>8</th>\n",
       "      <td>0.451755</td>\n",
       "      <td>0.612518</td>\n",
       "    </tr>\n",
       "    <tr>\n",
       "      <th>9</th>\n",
       "      <td>0.44901</td>\n",
       "      <td>0.609857</td>\n",
       "    </tr>\n",
       "    <tr>\n",
       "      <th>10</th>\n",
       "      <td>0.45 +/- 0.005</td>\n",
       "      <td>0.65 +/- 0.045</td>\n",
       "    </tr>\n",
       "  </tbody>\n",
       "</table>\n",
       "</div>"
      ],
      "text/plain": [
       "   train rmse II-VI test rmse II-VI\n",
       "0          0.451901         0.66517\n",
       "1          0.441393         0.68818\n",
       "2           0.44959        0.621957\n",
       "3          0.444567        0.579457\n",
       "4          0.436638        0.670683\n",
       "5           0.44376        0.717792\n",
       "6          0.443944        0.702528\n",
       "7          0.447241        0.658303\n",
       "8          0.451755        0.612518\n",
       "9           0.44901        0.609857\n",
       "10   0.45 +/- 0.005  0.65 +/- 0.045"
      ]
     },
     "execution_count": 68,
     "metadata": {},
     "output_type": "execute_result"
    }
   ],
   "source": [
    "# what an dataframe by site looks like\n",
    "dHA_rmse_26"
   ]
  },
  {
   "cell_type": "markdown",
   "metadata": {},
   "source": [
    "The dataset used to train the model was made up of overwhelmingly II-VI semiconductor data, so it's interesting to look at how the model predicts each type of semiconductor separately. From the results, it's clear that the model predicts II-VI semiconductors with much higher accuracy than the III-V or IV-IV semiconductor types."
   ]
  },
  {
   "cell_type": "code",
   "execution_count": 69,
   "metadata": {
    "scrolled": true
   },
   "outputs": [
    {
     "data": {
      "text/html": [
       "<div>\n",
       "<style scoped>\n",
       "    .dataframe tbody tr th:only-of-type {\n",
       "        vertical-align: middle;\n",
       "    }\n",
       "\n",
       "    .dataframe tbody tr th {\n",
       "        vertical-align: top;\n",
       "    }\n",
       "\n",
       "    .dataframe thead th {\n",
       "        text-align: right;\n",
       "    }\n",
       "</style>\n",
       "<table border=\"1\" class=\"dataframe\">\n",
       "  <thead>\n",
       "    <tr style=\"text-align: right;\">\n",
       "      <th></th>\n",
       "      <th>output</th>\n",
       "      <th>train rmse</th>\n",
       "      <th>test rmse</th>\n",
       "    </tr>\n",
       "  </thead>\n",
       "  <tbody>\n",
       "    <tr>\n",
       "      <th>0</th>\n",
       "      <td>II-VI</td>\n",
       "      <td>0.45 +/- 0.005</td>\n",
       "      <td>0.65 +/- 0.045</td>\n",
       "    </tr>\n",
       "    <tr>\n",
       "      <th>1</th>\n",
       "      <td>III-V</td>\n",
       "      <td>0.86 +/- 0.017</td>\n",
       "      <td>1.44 +/- 0.297</td>\n",
       "    </tr>\n",
       "    <tr>\n",
       "      <th>2</th>\n",
       "      <td>IV-IV</td>\n",
       "      <td>1.05 +/- 0.024</td>\n",
       "      <td>1.79 +/- 0.386</td>\n",
       "    </tr>\n",
       "  </tbody>\n",
       "</table>\n",
       "</div>"
      ],
      "text/plain": [
       "  output      train rmse       test rmse\n",
       "0  II-VI  0.45 +/- 0.005  0.65 +/- 0.045\n",
       "1  III-V  0.86 +/- 0.017  1.44 +/- 0.297\n",
       "2  IV-IV  1.05 +/- 0.024  1.79 +/- 0.386"
      ]
     },
     "execution_count": 69,
     "metadata": {},
     "output_type": "execute_result"
    }
   ],
   "source": [
    "rfr_ipynb.type_site_df('type', [dHA_rmse_26, dHA_rmse_35, dHA_rmse_44], 10)"
   ]
  },
  {
   "cell_type": "markdown",
   "metadata": {},
   "source": [
    "The dataset used to train the model has more compounds with interstitial defect sites versus substitutional. From the results, it's clear that the model predicts compounds with defects at interstitial sites more accurately than substitutional sites."
   ]
  },
  {
   "cell_type": "code",
   "execution_count": 70,
   "metadata": {
    "scrolled": true
   },
   "outputs": [
    {
     "data": {
      "text/html": [
       "<div>\n",
       "<style scoped>\n",
       "    .dataframe tbody tr th:only-of-type {\n",
       "        vertical-align: middle;\n",
       "    }\n",
       "\n",
       "    .dataframe tbody tr th {\n",
       "        vertical-align: top;\n",
       "    }\n",
       "\n",
       "    .dataframe thead th {\n",
       "        text-align: right;\n",
       "    }\n",
       "</style>\n",
       "<table border=\"1\" class=\"dataframe\">\n",
       "  <thead>\n",
       "    <tr style=\"text-align: right;\">\n",
       "      <th></th>\n",
       "      <th>output</th>\n",
       "      <th>train rmse</th>\n",
       "      <th>test rmse</th>\n",
       "    </tr>\n",
       "  </thead>\n",
       "  <tbody>\n",
       "    <tr>\n",
       "      <th>0</th>\n",
       "      <td>sub</td>\n",
       "      <td>0.7 +/- 0.012</td>\n",
       "      <td>1.19 +/- 0.219</td>\n",
       "    </tr>\n",
       "    <tr>\n",
       "      <th>1</th>\n",
       "      <td>int</td>\n",
       "      <td>0.6 +/- 0.013</td>\n",
       "      <td>0.92 +/- 0.138</td>\n",
       "    </tr>\n",
       "  </tbody>\n",
       "</table>\n",
       "</div>"
      ],
      "text/plain": [
       "  output     train rmse       test rmse\n",
       "0    sub  0.7 +/- 0.012  1.19 +/- 0.219\n",
       "1    int  0.6 +/- 0.013  0.92 +/- 0.138"
      ]
     },
     "execution_count": 70,
     "metadata": {},
     "output_type": "execute_result"
    }
   ],
   "source": [
    "rfr_ipynb.type_site_df('site', [dHA_rmse_sub, dHA_rmse_int], 10)"
   ]
  },
  {
   "cell_type": "markdown",
   "metadata": {},
   "source": [
    "#### Parity Plots\n",
    "For the plots I have added a timer (thanks to tqdm) that updates a progress bar for every time the cv is repeated."
   ]
  },
  {
   "cell_type": "code",
   "execution_count": 71,
   "metadata": {},
   "outputs": [
    {
     "data": {
      "application/vnd.jupyter.widget-view+json": {
       "model_id": "f24b87b541514a5cad8daa2ef21647fb",
       "version_major": 2,
       "version_minor": 0
      },
      "text/plain": [
       "HBox(children=(FloatProgress(value=0.0, max=5.0), HTML(value='')))"
      ]
     },
     "metadata": {},
     "output_type": "display_data"
    },
    {
     "name": "stdout",
     "output_type": "stream",
     "text": [
      "\n"
     ]
    }
   ],
   "source": [
    "dHA_traindf, dHA_testdf = \\\n",
    "    rfr_remote.rfr_pp_predictor(lasso_a, d_start=5, max_depth=10, max_feat='auto', \n",
    "                                min_samp_leaf=2, min_samples_split=15, num_trees=600,\n",
    "                                folds=5)"
   ]
  },
  {
   "cell_type": "markdown",
   "metadata": {},
   "source": [
    "The parity plot for ∆H (A-rich)\tclearly shows that at higher values, the model does a worse job predicting. The data seems to lean off the parity line as the predicted formation energies get higher in value. Evaluating the training dataset I found that <100 points had formation energy values above ~6.5 eV, maybe explaining the bad predictions."
   ]
  },
  {
   "cell_type": "code",
   "execution_count": 72,
   "metadata": {},
   "outputs": [
    {
     "data": {
      "image/png": "[encoded data removed]",
      "text/plain": [
       "<Figure size 360x360 with 1 Axes>"
      ]
     },
     "metadata": {
      "needs_background": "light"
     },
     "output_type": "display_data"
    }
   ],
   "source": [
    "rfr_remote.parity_plot(dHA_traindf, dHA_testdf, 'none', '∆H (A-rich)')"
   ]
  },
  {
   "cell_type": "markdown",
   "metadata": {},
   "source": [
    "Mirroring the information from the RMSE tables, the II-VI values are predicted the most accurately (they stay closest to the parity line). The III-V and IV-IV points stray sometimes far from the line."
   ]
  },
  {
   "cell_type": "code",
   "execution_count": 73,
   "metadata": {},
   "outputs": [
    {
     "data": {
      "image/png": "[encoded data removed]",
      "text/plain": [
       "<Figure size 360x360 with 1 Axes>"
      ]
     },
     "metadata": {
      "needs_background": "light"
     },
     "output_type": "display_data"
    }
   ],
   "source": [
    "rfr_remote.parity_plot(dHA_traindf, dHA_testdf, 'type', '∆H (A-rich)')"
   ]
  },
  {
   "cell_type": "markdown",
   "metadata": {},
   "source": [
    "Interestingly, the parity plot doesn't obviously show that the interstitial sites are predicted much better than the substitutional defect sites. Both seem to have points that stray far from parity line."
   ]
  },
  {
   "cell_type": "code",
   "execution_count": 74,
   "metadata": {
    "scrolled": false
   },
   "outputs": [
    {
     "data": {
      "image/png": "[encoded data removed]",
      "text/plain": [
       "<Figure size 360x360 with 1 Axes>"
      ]
     },
     "metadata": {
      "needs_background": "light"
     },
     "output_type": "display_data"
    }
   ],
   "source": [
    "rfr_remote.parity_plot(dHA_traindf, dHA_testdf, 'site', '∆H (A-rich)')"
   ]
  },
  {
   "cell_type": "markdown",
   "metadata": {},
   "source": [
    "This plots the deviation in prediction from the real value (prediction error), vs the standard deviation from the folds of CV. Ideally, these two would have a positive and linear relationship, where a greater standard deviation would indicate a very incorrect prediction. Though there seems to be some positive correlation, it appears that most of the test points that have a large error do not have a large standard deviation and most are clustered toward the bottom left of the plot"
   ]
  },
  {
   "cell_type": "code",
   "execution_count": 76,
   "metadata": {
    "scrolled": true
   },
   "outputs": [
    {
     "data": {
      "image/png": "[encoded data removed]",
      "text/plain": [
       "<Figure size 360x360 with 1 Axes>"
      ]
     },
     "metadata": {
      "needs_background": "light"
     },
     "output_type": "display_data"
    }
   ],
   "source": [
    "pred_stddev_plot(dHA_traindf, dHA_testdf, '∆H (A-rich)')"
   ]
  },
  {
   "cell_type": "markdown",
   "metadata": {},
   "source": [
    "### ∆H (B-rich)\t"
   ]
  },
  {
   "cell_type": "code",
   "execution_count": 77,
   "metadata": {},
   "outputs": [],
   "source": [
    "dHB_traindic, dHB_testdic= \\\n",
    "    rfr_remote.rfr_predictor(lasso_b, d_start=5,  max_depth=10, max_feat='auto', \n",
    "                             min_samp_leaf=3, min_samples_split=15,\n",
    "                             num_trees=1000, folds=10)"
   ]
  },
  {
   "cell_type": "code",
   "execution_count": 78,
   "metadata": {
    "scrolled": true
   },
   "outputs": [],
   "source": [
    "#output_type = 'none' returns the overall RMSE of train and test\n",
    "dHB_rmse = rfr_remote.rmse_calculator(dHB_traindic, dHB_testdic,\n",
    "                                      output_type='none')\n",
    "\n",
    "#output_type = 'type' returns the RMSE of train and test separated by type\n",
    "dHB_rmse_26, dHB_rmse_35, dHB_rmse_44 = \\\n",
    "    rfr_remote.rmse_calculator(dHB_traindic, dHB_testdic,\n",
    "                                      output_type='type')\n",
    "\n",
    "#output_type = 'site' returns the RMSE of train and test separated by site\n",
    "dHB_rmse_sub, dHB_rmse_int = \\\n",
    "    rfr_remote.rmse_calculator(dHB_traindic, dHB_testdic,\n",
    "                                      output_type='site')"
   ]
  },
  {
   "cell_type": "markdown",
   "metadata": {},
   "source": [
    "This is overall prediction for the ∆H (B-rich), formation energy of the dopant in B-rich chemical potential, target. The range of possible for this target is larger than ∆H (A-rich), which could be why the RMSE is slightly higher."
   ]
  },
  {
   "cell_type": "code",
   "execution_count": 79,
   "metadata": {},
   "outputs": [
    {
     "data": {
      "text/html": [
       "<div>\n",
       "<style scoped>\n",
       "    .dataframe tbody tr th:only-of-type {\n",
       "        vertical-align: middle;\n",
       "    }\n",
       "\n",
       "    .dataframe tbody tr th {\n",
       "        vertical-align: top;\n",
       "    }\n",
       "\n",
       "    .dataframe thead th {\n",
       "        text-align: right;\n",
       "    }\n",
       "</style>\n",
       "<table border=\"1\" class=\"dataframe\">\n",
       "  <thead>\n",
       "    <tr style=\"text-align: right;\">\n",
       "      <th></th>\n",
       "      <th>train rmse</th>\n",
       "      <th>test rmse</th>\n",
       "    </tr>\n",
       "  </thead>\n",
       "  <tbody>\n",
       "    <tr>\n",
       "      <th>0</th>\n",
       "      <td>0.704148</td>\n",
       "      <td>1.37882</td>\n",
       "    </tr>\n",
       "    <tr>\n",
       "      <th>1</th>\n",
       "      <td>0.713478</td>\n",
       "      <td>1.26268</td>\n",
       "    </tr>\n",
       "    <tr>\n",
       "      <th>2</th>\n",
       "      <td>0.72995</td>\n",
       "      <td>1.05076</td>\n",
       "    </tr>\n",
       "    <tr>\n",
       "      <th>3</th>\n",
       "      <td>0.706851</td>\n",
       "      <td>1.25005</td>\n",
       "    </tr>\n",
       "    <tr>\n",
       "      <th>4</th>\n",
       "      <td>0.714602</td>\n",
       "      <td>1.1642</td>\n",
       "    </tr>\n",
       "    <tr>\n",
       "      <th>5</th>\n",
       "      <td>0.713145</td>\n",
       "      <td>1.16007</td>\n",
       "    </tr>\n",
       "    <tr>\n",
       "      <th>6</th>\n",
       "      <td>0.724459</td>\n",
       "      <td>0.999179</td>\n",
       "    </tr>\n",
       "    <tr>\n",
       "      <th>7</th>\n",
       "      <td>0.711601</td>\n",
       "      <td>1.10943</td>\n",
       "    </tr>\n",
       "    <tr>\n",
       "      <th>8</th>\n",
       "      <td>0.71495</td>\n",
       "      <td>1.27934</td>\n",
       "    </tr>\n",
       "    <tr>\n",
       "      <th>9</th>\n",
       "      <td>0.730334</td>\n",
       "      <td>1.04857</td>\n",
       "    </tr>\n",
       "    <tr>\n",
       "      <th>10</th>\n",
       "      <td>0.72 +/- 0.009</td>\n",
       "      <td>1.17 +/- 0.121</td>\n",
       "    </tr>\n",
       "  </tbody>\n",
       "</table>\n",
       "</div>"
      ],
      "text/plain": [
       "        train rmse       test rmse\n",
       "0         0.704148         1.37882\n",
       "1         0.713478         1.26268\n",
       "2          0.72995         1.05076\n",
       "3         0.706851         1.25005\n",
       "4         0.714602          1.1642\n",
       "5         0.713145         1.16007\n",
       "6         0.724459        0.999179\n",
       "7         0.711601         1.10943\n",
       "8          0.71495         1.27934\n",
       "9         0.730334         1.04857\n",
       "10  0.72 +/- 0.009  1.17 +/- 0.121"
      ]
     },
     "execution_count": 79,
     "metadata": {},
     "output_type": "execute_result"
    }
   ],
   "source": [
    "dHB_rmse"
   ]
  },
  {
   "cell_type": "markdown",
   "metadata": {},
   "source": [
    "As in the formation energy for A-rich sites, it's clear that the model predicts II-VI semiconductors with much higher accuracy than the III-V or IV-IV semiconductor types."
   ]
  },
  {
   "cell_type": "code",
   "execution_count": 81,
   "metadata": {
    "scrolled": true
   },
   "outputs": [
    {
     "data": {
      "text/html": [
       "<div>\n",
       "<style scoped>\n",
       "    .dataframe tbody tr th:only-of-type {\n",
       "        vertical-align: middle;\n",
       "    }\n",
       "\n",
       "    .dataframe tbody tr th {\n",
       "        vertical-align: top;\n",
       "    }\n",
       "\n",
       "    .dataframe thead th {\n",
       "        text-align: right;\n",
       "    }\n",
       "</style>\n",
       "<table border=\"1\" class=\"dataframe\">\n",
       "  <thead>\n",
       "    <tr style=\"text-align: right;\">\n",
       "      <th></th>\n",
       "      <th>output</th>\n",
       "      <th>train rmse</th>\n",
       "      <th>test rmse</th>\n",
       "    </tr>\n",
       "  </thead>\n",
       "  <tbody>\n",
       "    <tr>\n",
       "      <th>0</th>\n",
       "      <td>II-VI</td>\n",
       "      <td>0.56 +/- 0.011</td>\n",
       "      <td>0.86 +/- 0.118</td>\n",
       "    </tr>\n",
       "    <tr>\n",
       "      <th>1</th>\n",
       "      <td>III-V</td>\n",
       "      <td>0.93 +/- 0.034</td>\n",
       "      <td>1.56 +/- 0.431</td>\n",
       "    </tr>\n",
       "    <tr>\n",
       "      <th>2</th>\n",
       "      <td>IV-IV</td>\n",
       "      <td>1.07 +/- 0.019</td>\n",
       "      <td>1.79 +/- 0.368</td>\n",
       "    </tr>\n",
       "  </tbody>\n",
       "</table>\n",
       "</div>"
      ],
      "text/plain": [
       "  output      train rmse       test rmse\n",
       "0  II-VI  0.56 +/- 0.011  0.86 +/- 0.118\n",
       "1  III-V  0.93 +/- 0.034  1.56 +/- 0.431\n",
       "2  IV-IV  1.07 +/- 0.019  1.79 +/- 0.368"
      ]
     },
     "execution_count": 81,
     "metadata": {},
     "output_type": "execute_result"
    }
   ],
   "source": [
    "rfr_ipynb.type_site_df('type', [dHB_rmse_26, dHB_rmse_35, dHB_rmse_44], 10)"
   ]
  },
  {
   "cell_type": "markdown",
   "metadata": {},
   "source": [
    "As in the formation energy for A-rich sites, it's clear that the model predicts compounds with defects at interstitial sites more accurately than substitutional sites."
   ]
  },
  {
   "cell_type": "code",
   "execution_count": 82,
   "metadata": {
    "scrolled": true
   },
   "outputs": [
    {
     "data": {
      "text/html": [
       "<div>\n",
       "<style scoped>\n",
       "    .dataframe tbody tr th:only-of-type {\n",
       "        vertical-align: middle;\n",
       "    }\n",
       "\n",
       "    .dataframe tbody tr th {\n",
       "        vertical-align: top;\n",
       "    }\n",
       "\n",
       "    .dataframe thead th {\n",
       "        text-align: right;\n",
       "    }\n",
       "</style>\n",
       "<table border=\"1\" class=\"dataframe\">\n",
       "  <thead>\n",
       "    <tr style=\"text-align: right;\">\n",
       "      <th></th>\n",
       "      <th>output</th>\n",
       "      <th>train rmse</th>\n",
       "      <th>test rmse</th>\n",
       "    </tr>\n",
       "  </thead>\n",
       "  <tbody>\n",
       "    <tr>\n",
       "      <th>0</th>\n",
       "      <td>sub</td>\n",
       "      <td>0.79 +/- 0.016</td>\n",
       "      <td>1.34 +/- 0.2</td>\n",
       "    </tr>\n",
       "    <tr>\n",
       "      <th>1</th>\n",
       "      <td>int</td>\n",
       "      <td>0.67 +/- 0.009</td>\n",
       "      <td>1.05 +/- 0.101</td>\n",
       "    </tr>\n",
       "  </tbody>\n",
       "</table>\n",
       "</div>"
      ],
      "text/plain": [
       "  output      train rmse       test rmse\n",
       "0    sub  0.79 +/- 0.016    1.34 +/- 0.2\n",
       "1    int  0.67 +/- 0.009  1.05 +/- 0.101"
      ]
     },
     "execution_count": 82,
     "metadata": {},
     "output_type": "execute_result"
    }
   ],
   "source": [
    "rfr_ipynb.type_site_df('site', [dHB_rmse_sub, dHB_rmse_int], 10)"
   ]
  },
  {
   "cell_type": "markdown",
   "metadata": {},
   "source": [
    "### Parity Plots\n",
    "The parity plots for the B-rich site show very similar results to the A-rich sites with higher values not being predicted as well."
   ]
  },
  {
   "cell_type": "code",
   "execution_count": 83,
   "metadata": {},
   "outputs": [
    {
     "data": {
      "application/vnd.jupyter.widget-view+json": {
       "model_id": "66f79a5189dd41ec9e87dc98966d1b62",
       "version_major": 2,
       "version_minor": 0
      },
      "text/plain": [
       "HBox(children=(FloatProgress(value=0.0, max=5.0), HTML(value='')))"
      ]
     },
     "metadata": {},
     "output_type": "display_data"
    },
    {
     "name": "stdout",
     "output_type": "stream",
     "text": [
      "\n"
     ]
    }
   ],
   "source": [
    "dHB_traindf, dHB_testdf = \\\n",
    "    rfr_remote.rfr_pp_predictor(lasso_b, d_start=5,  max_depth=10, max_feat='auto', \n",
    "                                min_samp_leaf=3, min_samples_split=15,\n",
    "                                num_trees=1000, folds=5)"
   ]
  },
  {
   "cell_type": "code",
   "execution_count": 84,
   "metadata": {},
   "outputs": [
    {
     "data": {
      "image/png": "[encoded data removed]",
      "text/plain": [
       "<Figure size 360x360 with 1 Axes>"
      ]
     },
     "metadata": {
      "needs_background": "light"
     },
     "output_type": "display_data"
    }
   ],
   "source": [
    "rfr_remote.parity_plot(dHB_traindf, dHB_testdf, 'type', '∆H (B-rich)')"
   ]
  },
  {
   "cell_type": "markdown",
   "metadata": {},
   "source": [
    "Interestingly, the parity plot doesn't obviously show that the interstitial sites are predicted much better than the substitutional defect sites. Both seem to have points that stray far from parity line."
   ]
  },
  {
   "cell_type": "code",
   "execution_count": 85,
   "metadata": {
    "scrolled": false
   },
   "outputs": [
    {
     "data": {
      "image/png": "[encoded data removed]",
      "text/plain": [
       "<Figure size 360x360 with 1 Axes>"
      ]
     },
     "metadata": {
      "needs_background": "light"
     },
     "output_type": "display_data"
    }
   ],
   "source": [
    "rfr_remote.parity_plot(dHB_traindf, dHB_testdf, 'site', '∆H (B-rich)')"
   ]
  },
  {
   "cell_type": "markdown",
   "metadata": {},
   "source": [
    "----\n",
    "----\n",
    "## Transition Levels"
   ]
  },
  {
   "cell_type": "markdown",
   "metadata": {},
   "source": [
    "### (+3/+2)"
   ]
  },
  {
   "cell_type": "markdown",
   "metadata": {},
   "source": [
    "#### RMSE table"
   ]
  },
  {
   "cell_type": "code",
   "execution_count": 87,
   "metadata": {},
   "outputs": [],
   "source": [
    "p32_traindic, p32_testdic= \\\n",
    "    rfr_remote.rfr_predictor(lasso_p32, d_start=5, max_depth=7, max_feat='auto', \n",
    "                             min_samp_leaf=3, min_samples_split=3,\n",
    "                             num_trees=450, folds=10)"
   ]
  },
  {
   "cell_type": "code",
   "execution_count": 88,
   "metadata": {},
   "outputs": [],
   "source": [
    "#output_type = 'none' returns the overall RMSE of train and test\n",
    "p32_rmse = rfr_remote.rmse_calculator(p32_traindic, p32_testdic,\n",
    "                                      output_type='none')\n",
    "\n",
    "#output_type = 'type' returns the RMSE of train and test separated by type\n",
    "p32_rmse_26, p32_rmse_35, p32_rmse_44 = \\\n",
    "    rfr_remote.rmse_calculator(p32_traindic, p32_testdic,\n",
    "                                      output_type='type')\n",
    "\n",
    "#output_type = 'site' returns the RMSE of train and test separated by site\n",
    "p32_rmse_sub, p32_rmse_int = \\\n",
    "    rfr_remote.rmse_calculator(p32_traindic, p32_testdic,\n",
    "                                      output_type='site')"
   ]
  },
  {
   "cell_type": "markdown",
   "metadata": {},
   "source": [
    "The range of values for the transition values is much smaller than the formation energies, and the error in the predictions reflect that. "
   ]
  },
  {
   "cell_type": "code",
   "execution_count": 89,
   "metadata": {},
   "outputs": [
    {
     "data": {
      "text/html": [
       "<div>\n",
       "<style scoped>\n",
       "    .dataframe tbody tr th:only-of-type {\n",
       "        vertical-align: middle;\n",
       "    }\n",
       "\n",
       "    .dataframe tbody tr th {\n",
       "        vertical-align: top;\n",
       "    }\n",
       "\n",
       "    .dataframe thead th {\n",
       "        text-align: right;\n",
       "    }\n",
       "</style>\n",
       "<table border=\"1\" class=\"dataframe\">\n",
       "  <thead>\n",
       "    <tr style=\"text-align: right;\">\n",
       "      <th></th>\n",
       "      <th>train rmse</th>\n",
       "      <th>test rmse</th>\n",
       "    </tr>\n",
       "  </thead>\n",
       "  <tbody>\n",
       "    <tr>\n",
       "      <th>0</th>\n",
       "      <td>0.230805</td>\n",
       "      <td>0.331659</td>\n",
       "    </tr>\n",
       "    <tr>\n",
       "      <th>1</th>\n",
       "      <td>0.227808</td>\n",
       "      <td>0.312405</td>\n",
       "    </tr>\n",
       "    <tr>\n",
       "      <th>2</th>\n",
       "      <td>0.227099</td>\n",
       "      <td>0.391208</td>\n",
       "    </tr>\n",
       "    <tr>\n",
       "      <th>3</th>\n",
       "      <td>0.225072</td>\n",
       "      <td>0.406865</td>\n",
       "    </tr>\n",
       "    <tr>\n",
       "      <th>4</th>\n",
       "      <td>0.226384</td>\n",
       "      <td>0.381236</td>\n",
       "    </tr>\n",
       "    <tr>\n",
       "      <th>5</th>\n",
       "      <td>0.228389</td>\n",
       "      <td>0.347661</td>\n",
       "    </tr>\n",
       "    <tr>\n",
       "      <th>6</th>\n",
       "      <td>0.234774</td>\n",
       "      <td>0.313665</td>\n",
       "    </tr>\n",
       "    <tr>\n",
       "      <th>7</th>\n",
       "      <td>0.23266</td>\n",
       "      <td>0.331495</td>\n",
       "    </tr>\n",
       "    <tr>\n",
       "      <th>8</th>\n",
       "      <td>0.228958</td>\n",
       "      <td>0.316348</td>\n",
       "    </tr>\n",
       "    <tr>\n",
       "      <th>9</th>\n",
       "      <td>0.228365</td>\n",
       "      <td>0.298959</td>\n",
       "    </tr>\n",
       "    <tr>\n",
       "      <th>10</th>\n",
       "      <td>0.23 +/- 0.003</td>\n",
       "      <td>0.34 +/- 0.037</td>\n",
       "    </tr>\n",
       "  </tbody>\n",
       "</table>\n",
       "</div>"
      ],
      "text/plain": [
       "        train rmse       test rmse\n",
       "0         0.230805        0.331659\n",
       "1         0.227808        0.312405\n",
       "2         0.227099        0.391208\n",
       "3         0.225072        0.406865\n",
       "4         0.226384        0.381236\n",
       "5         0.228389        0.347661\n",
       "6         0.234774        0.313665\n",
       "7          0.23266        0.331495\n",
       "8         0.228958        0.316348\n",
       "9         0.228365        0.298959\n",
       "10  0.23 +/- 0.003  0.34 +/- 0.037"
      ]
     },
     "execution_count": 89,
     "metadata": {},
     "output_type": "execute_result"
    }
   ],
   "source": [
    "p32_rmse"
   ]
  },
  {
   "cell_type": "markdown",
   "metadata": {},
   "source": [
    "In the formation energy dataset, II-VI semiconductors make up a smaller (but still significant) portion of the data. Though, unlike the formation energies, the predicition across types of semiconductors are very similar to one another."
   ]
  },
  {
   "cell_type": "code",
   "execution_count": 90,
   "metadata": {
    "scrolled": true
   },
   "outputs": [
    {
     "data": {
      "text/html": [
       "<div>\n",
       "<style scoped>\n",
       "    .dataframe tbody tr th:only-of-type {\n",
       "        vertical-align: middle;\n",
       "    }\n",
       "\n",
       "    .dataframe tbody tr th {\n",
       "        vertical-align: top;\n",
       "    }\n",
       "\n",
       "    .dataframe thead th {\n",
       "        text-align: right;\n",
       "    }\n",
       "</style>\n",
       "<table border=\"1\" class=\"dataframe\">\n",
       "  <thead>\n",
       "    <tr style=\"text-align: right;\">\n",
       "      <th></th>\n",
       "      <th>output</th>\n",
       "      <th>train rmse</th>\n",
       "      <th>test rmse</th>\n",
       "    </tr>\n",
       "  </thead>\n",
       "  <tbody>\n",
       "    <tr>\n",
       "      <th>0</th>\n",
       "      <td>II-VI</td>\n",
       "      <td>0.22 +/- 0.004</td>\n",
       "      <td>0.32 +/- 0.04</td>\n",
       "    </tr>\n",
       "    <tr>\n",
       "      <th>1</th>\n",
       "      <td>III-V</td>\n",
       "      <td>0.27 +/- 0.007</td>\n",
       "      <td>0.41 +/- 0.07</td>\n",
       "    </tr>\n",
       "    <tr>\n",
       "      <th>2</th>\n",
       "      <td>IV-IV</td>\n",
       "      <td>0.21 +/- 0.005</td>\n",
       "      <td>0.31 +/- 0.069</td>\n",
       "    </tr>\n",
       "  </tbody>\n",
       "</table>\n",
       "</div>"
      ],
      "text/plain": [
       "  output      train rmse       test rmse\n",
       "0  II-VI  0.22 +/- 0.004   0.32 +/- 0.04\n",
       "1  III-V  0.27 +/- 0.007   0.41 +/- 0.07\n",
       "2  IV-IV  0.21 +/- 0.005  0.31 +/- 0.069"
      ]
     },
     "execution_count": 90,
     "metadata": {},
     "output_type": "execute_result"
    }
   ],
   "source": [
    "rfr_ipynb.type_site_df('type', [p32_rmse_26, p32_rmse_35, p32_rmse_44], 10)"
   ]
  },
  {
   "cell_type": "markdown",
   "metadata": {},
   "source": [
    "Predictions by type of defect site are also very similar for the (+3/+2) transition level"
   ]
  },
  {
   "cell_type": "code",
   "execution_count": 91,
   "metadata": {
    "scrolled": true
   },
   "outputs": [
    {
     "data": {
      "text/html": [
       "<div>\n",
       "<style scoped>\n",
       "    .dataframe tbody tr th:only-of-type {\n",
       "        vertical-align: middle;\n",
       "    }\n",
       "\n",
       "    .dataframe tbody tr th {\n",
       "        vertical-align: top;\n",
       "    }\n",
       "\n",
       "    .dataframe thead th {\n",
       "        text-align: right;\n",
       "    }\n",
       "</style>\n",
       "<table border=\"1\" class=\"dataframe\">\n",
       "  <thead>\n",
       "    <tr style=\"text-align: right;\">\n",
       "      <th></th>\n",
       "      <th>output</th>\n",
       "      <th>train rmse</th>\n",
       "      <th>test rmse</th>\n",
       "    </tr>\n",
       "  </thead>\n",
       "  <tbody>\n",
       "    <tr>\n",
       "      <th>0</th>\n",
       "      <td>sub</td>\n",
       "      <td>0.21 +/- 0.004</td>\n",
       "      <td>0.33 +/- 0.061</td>\n",
       "    </tr>\n",
       "    <tr>\n",
       "      <th>1</th>\n",
       "      <td>int</td>\n",
       "      <td>0.24 +/- 0.003</td>\n",
       "      <td>0.35 +/- 0.042</td>\n",
       "    </tr>\n",
       "  </tbody>\n",
       "</table>\n",
       "</div>"
      ],
      "text/plain": [
       "  output      train rmse       test rmse\n",
       "0    sub  0.21 +/- 0.004  0.33 +/- 0.061\n",
       "1    int  0.24 +/- 0.003  0.35 +/- 0.042"
      ]
     },
     "execution_count": 91,
     "metadata": {},
     "output_type": "execute_result"
    }
   ],
   "source": [
    "rfr_ipynb.type_site_df('site', [p32_rmse_sub, p32_rmse_int], 10)"
   ]
  },
  {
   "cell_type": "markdown",
   "metadata": {},
   "source": [
    "#### Parity Plot\n",
    "The interstitial sites predict better than the substitutional sites. This isn't very clear from the parity plot where the two seem to stay on the parity line for lower energy predictions and they start to deviate for higher energy predictions. As can be seen from the poitns, most of the values lie below -0.5 eV (where the strongest predictions are)."
   ]
  },
  {
   "cell_type": "code",
   "execution_count": 92,
   "metadata": {
    "scrolled": false
   },
   "outputs": [
    {
     "data": {
      "application/vnd.jupyter.widget-view+json": {
       "model_id": "d994a27c6d074ef293bb4e55cacb9e0a",
       "version_major": 2,
       "version_minor": 0
      },
      "text/plain": [
       "HBox(children=(FloatProgress(value=0.0, max=5.0), HTML(value='')))"
      ]
     },
     "metadata": {},
     "output_type": "display_data"
    },
    {
     "name": "stdout",
     "output_type": "stream",
     "text": [
      "\n"
     ]
    }
   ],
   "source": [
    "p32_traindf, p32_testdf = \\\n",
    "    rfr_remote.rfr_pp_predictor(lasso_p32, d_start=5, max_depth=7, max_feat='auto', \n",
    "                                min_samp_leaf=3, min_samples_split=3,\n",
    "                                num_trees=450, folds=5)"
   ]
  },
  {
   "cell_type": "code",
   "execution_count": 100,
   "metadata": {},
   "outputs": [
    {
     "data": {
      "image/png": "[encoded data removed]",
      "text/plain": [
       "<Figure size 360x360 with 1 Axes>"
      ]
     },
     "metadata": {
      "needs_background": "light"
     },
     "output_type": "display_data"
    }
   ],
   "source": [
    "rfr_remote.parity_plot(p32_traindf, p32_testdf, 'site', '(+3/+2)')"
   ]
  },
  {
   "cell_type": "markdown",
   "metadata": {},
   "source": [
    "### (+2/+1)"
   ]
  },
  {
   "cell_type": "markdown",
   "metadata": {},
   "source": [
    "#### RMSE table"
   ]
  },
  {
   "cell_type": "code",
   "execution_count": 94,
   "metadata": {},
   "outputs": [],
   "source": [
    "p21_traindic, p21_testdic= \\\n",
    "    rfr_remote.rfr_predictor(lasso_p21, d_start=5, max_depth=9, max_feat='auto', \n",
    "                             min_samp_leaf=7, min_samples_split=2,\n",
    "                             num_trees=600, folds=10)"
   ]
  },
  {
   "cell_type": "code",
   "execution_count": 95,
   "metadata": {},
   "outputs": [],
   "source": [
    "#output_type = 'none' returns the overall RMSE of train and test\n",
    "p21_rmse = rfr_remote.rmse_calculator(p21_traindic, p21_testdic,\n",
    "                                      output_type='none')\n",
    "\n",
    "#output_type = 'type' returns the RMSE of train and test separated by type\n",
    "p21_rmse_26, p21_rmse_35, p21_rmse_44 = \\\n",
    "    rfr_remote.rmse_calculator(p21_traindic, p21_testdic,\n",
    "                                      output_type='type')\n",
    "\n",
    "#output_type = 'site' returns the RMSE of train and test separated by site\n",
    "p21_rmse_sub, p21_rmse_int = \\\n",
    "    rfr_remote.rmse_calculator(p21_traindic, p21_testdic,\n",
    "                                      output_type='site')"
   ]
  },
  {
   "cell_type": "markdown",
   "metadata": {},
   "source": [
    "The range of values for the transition values is much smaller than the formation energies, and the error in the predictions reflect that. "
   ]
  },
  {
   "cell_type": "code",
   "execution_count": 96,
   "metadata": {},
   "outputs": [
    {
     "data": {
      "text/plain": [
       "train rmse    0.26 +/- 0.003\n",
       "test rmse      0.38 +/- 0.05\n",
       "Name: 10, dtype: object"
      ]
     },
     "execution_count": 96,
     "metadata": {},
     "output_type": "execute_result"
    }
   ],
   "source": [
    "p21_rmse.loc[10]"
   ]
  },
  {
   "cell_type": "markdown",
   "metadata": {},
   "source": [
    "As in the previous transition level, the predicition across types of semiconductors are very similar to one another."
   ]
  },
  {
   "cell_type": "code",
   "execution_count": 97,
   "metadata": {
    "scrolled": true
   },
   "outputs": [
    {
     "data": {
      "text/html": [
       "<div>\n",
       "<style scoped>\n",
       "    .dataframe tbody tr th:only-of-type {\n",
       "        vertical-align: middle;\n",
       "    }\n",
       "\n",
       "    .dataframe tbody tr th {\n",
       "        vertical-align: top;\n",
       "    }\n",
       "\n",
       "    .dataframe thead th {\n",
       "        text-align: right;\n",
       "    }\n",
       "</style>\n",
       "<table border=\"1\" class=\"dataframe\">\n",
       "  <thead>\n",
       "    <tr style=\"text-align: right;\">\n",
       "      <th></th>\n",
       "      <th>output</th>\n",
       "      <th>train rmse</th>\n",
       "      <th>test rmse</th>\n",
       "    </tr>\n",
       "  </thead>\n",
       "  <tbody>\n",
       "    <tr>\n",
       "      <th>0</th>\n",
       "      <td>II-VI</td>\n",
       "      <td>0.25 +/- 0.003</td>\n",
       "      <td>0.35 +/- 0.053</td>\n",
       "    </tr>\n",
       "    <tr>\n",
       "      <th>1</th>\n",
       "      <td>III-V</td>\n",
       "      <td>0.3 +/- 0.005</td>\n",
       "      <td>0.42 +/- 0.083</td>\n",
       "    </tr>\n",
       "    <tr>\n",
       "      <th>2</th>\n",
       "      <td>IV-IV</td>\n",
       "      <td>0.27 +/- 0.01</td>\n",
       "      <td>0.37 +/- 0.113</td>\n",
       "    </tr>\n",
       "  </tbody>\n",
       "</table>\n",
       "</div>"
      ],
      "text/plain": [
       "  output      train rmse       test rmse\n",
       "0  II-VI  0.25 +/- 0.003  0.35 +/- 0.053\n",
       "1  III-V   0.3 +/- 0.005  0.42 +/- 0.083\n",
       "2  IV-IV   0.27 +/- 0.01  0.37 +/- 0.113"
      ]
     },
     "execution_count": 97,
     "metadata": {},
     "output_type": "execute_result"
    }
   ],
   "source": [
    "rfr_ipynb.type_site_df('type', [p21_rmse_26, p21_rmse_35, p21_rmse_44], 10)"
   ]
  },
  {
   "cell_type": "markdown",
   "metadata": {},
   "source": [
    "Predictions by type of defect site are also very similar for the (+3/+2) transition level"
   ]
  },
  {
   "cell_type": "code",
   "execution_count": 98,
   "metadata": {
    "scrolled": true
   },
   "outputs": [
    {
     "data": {
      "text/html": [
       "<div>\n",
       "<style scoped>\n",
       "    .dataframe tbody tr th:only-of-type {\n",
       "        vertical-align: middle;\n",
       "    }\n",
       "\n",
       "    .dataframe tbody tr th {\n",
       "        vertical-align: top;\n",
       "    }\n",
       "\n",
       "    .dataframe thead th {\n",
       "        text-align: right;\n",
       "    }\n",
       "</style>\n",
       "<table border=\"1\" class=\"dataframe\">\n",
       "  <thead>\n",
       "    <tr style=\"text-align: right;\">\n",
       "      <th></th>\n",
       "      <th>output</th>\n",
       "      <th>train rmse</th>\n",
       "      <th>test rmse</th>\n",
       "    </tr>\n",
       "  </thead>\n",
       "  <tbody>\n",
       "    <tr>\n",
       "      <th>0</th>\n",
       "      <td>sub</td>\n",
       "      <td>0.29 +/- 0.004</td>\n",
       "      <td>0.44 +/- 0.074</td>\n",
       "    </tr>\n",
       "    <tr>\n",
       "      <th>1</th>\n",
       "      <td>int</td>\n",
       "      <td>0.25 +/- 0.005</td>\n",
       "      <td>0.33 +/- 0.059</td>\n",
       "    </tr>\n",
       "  </tbody>\n",
       "</table>\n",
       "</div>"
      ],
      "text/plain": [
       "  output      train rmse       test rmse\n",
       "0    sub  0.29 +/- 0.004  0.44 +/- 0.074\n",
       "1    int  0.25 +/- 0.005  0.33 +/- 0.059"
      ]
     },
     "execution_count": 98,
     "metadata": {},
     "output_type": "execute_result"
    }
   ],
   "source": [
    "rfr_ipynb.type_site_df('site', [p21_rmse_sub, p21_rmse_int], 10)"
   ]
  },
  {
   "cell_type": "markdown",
   "metadata": {},
   "source": [
    "#### Parity Plots"
   ]
  },
  {
   "cell_type": "code",
   "execution_count": 99,
   "metadata": {
    "scrolled": false
   },
   "outputs": [
    {
     "data": {
      "application/vnd.jupyter.widget-view+json": {
       "model_id": "25bcf9cc99e240d983f86bd6c47444c7",
       "version_major": 2,
       "version_minor": 0
      },
      "text/plain": [
       "HBox(children=(FloatProgress(value=0.0, max=5.0), HTML(value='')))"
      ]
     },
     "metadata": {},
     "output_type": "display_data"
    },
    {
     "name": "stdout",
     "output_type": "stream",
     "text": [
      "\n"
     ]
    }
   ],
   "source": [
    "p21_traindf, p21_testdf = \\\n",
    "    rfr_remote.rfr_pp_predictor(lasso_p21, d_start=5, max_depth=9, max_feat='auto', \n",
    "                                min_samp_leaf=7, min_samples_split=2,\n",
    "                                num_trees=600, folds=5)"
   ]
  },
  {
   "cell_type": "code",
   "execution_count": 102,
   "metadata": {},
   "outputs": [
    {
     "data": {
      "image/png": "[encoded data removed]",
      "text/plain": [
       "<Figure size 360x360 with 1 Axes>"
      ]
     },
     "metadata": {
      "needs_background": "light"
     },
     "output_type": "display_data"
    }
   ],
   "source": [
    "rfr_remote.parity_plot(p21_traindf, p21_testdf, 'none', '(+2/+1)')"
   ]
  },
  {
   "cell_type": "markdown",
   "metadata": {},
   "source": [
    "In this plot vs the dHA plot, the deviation in predictions seem to be less strongly correlated with the predictions with higher standard deviation. Higher levels of uncertainty are associated with lower prediction errors."
   ]
  },
  {
   "cell_type": "code",
   "execution_count": 104,
   "metadata": {
    "scrolled": true
   },
   "outputs": [
    {
     "data": {
      "image/png": "[encoded data removed]",
      "text/plain": [
       "<Figure size 360x360 with 1 Axes>"
      ]
     },
     "metadata": {
      "needs_background": "light"
     },
     "output_type": "display_data"
    }
   ],
   "source": [
    "pred_stddev_plot(p21_traindf, p21_testdf, '(+2/+1)')"
   ]
  },
  {
   "cell_type": "markdown",
   "metadata": {},
   "source": [
    "### (+1/0)"
   ]
  },
  {
   "cell_type": "markdown",
   "metadata": {},
   "source": [
    "#### RMSE table"
   ]
  },
  {
   "cell_type": "code",
   "execution_count": 106,
   "metadata": {},
   "outputs": [],
   "source": [
    "p01_traindic, p01_testdic= \\\n",
    "    rfr_remote.rfr_predictor(lasso_0p1, d_start=5, max_depth=10, max_feat='auto', \n",
    "                             min_samp_leaf=8, min_samples_split=12,\n",
    "                             num_trees=150, folds=10)"
   ]
  },
  {
   "cell_type": "code",
   "execution_count": 107,
   "metadata": {},
   "outputs": [],
   "source": [
    "#output_type = 'none' returns the overall RMSE of train and test\n",
    "p01_rmse = rfr_remote.rmse_calculator(p01_traindic, p01_testdic,\n",
    "                                      output_type='none')\n",
    "\n",
    "#output_type = 'type' returns the RMSE of train and test separated by type\n",
    "p01_rmse_26, p01_rmse_35, p01_rmse_44 = \\\n",
    "    rfr_remote.rmse_calculator(p01_traindic, p01_testdic,\n",
    "                                      output_type='type')\n",
    "\n",
    "#output_type = 'site' returns the RMSE of train and test separated by site\n",
    "p01_rmse_sub, p01_rmse_int = \\\n",
    "    rfr_remote.rmse_calculator(p01_traindic, p01_testdic,\n",
    "                                      output_type='site')"
   ]
  },
  {
   "cell_type": "markdown",
   "metadata": {},
   "source": [
    "The range of values for the transition values is much smaller than the formation energies, and the error in the predictions reflect that. "
   ]
  },
  {
   "cell_type": "code",
   "execution_count": 108,
   "metadata": {},
   "outputs": [
    {
     "data": {
      "text/plain": [
       "train rmse    0.26 +/- 0.003\n",
       "test rmse     0.37 +/- 0.034\n",
       "Name: 10, dtype: object"
      ]
     },
     "execution_count": 108,
     "metadata": {},
     "output_type": "execute_result"
    }
   ],
   "source": [
    "p01_rmse.loc[10]"
   ]
  },
  {
   "cell_type": "markdown",
   "metadata": {},
   "source": [
    "The predicition across types of semiconductors are fairly similar to one another, though the III-V semiconductor seems to predict worse than the other types."
   ]
  },
  {
   "cell_type": "code",
   "execution_count": 109,
   "metadata": {
    "scrolled": true
   },
   "outputs": [
    {
     "data": {
      "text/html": [
       "<div>\n",
       "<style scoped>\n",
       "    .dataframe tbody tr th:only-of-type {\n",
       "        vertical-align: middle;\n",
       "    }\n",
       "\n",
       "    .dataframe tbody tr th {\n",
       "        vertical-align: top;\n",
       "    }\n",
       "\n",
       "    .dataframe thead th {\n",
       "        text-align: right;\n",
       "    }\n",
       "</style>\n",
       "<table border=\"1\" class=\"dataframe\">\n",
       "  <thead>\n",
       "    <tr style=\"text-align: right;\">\n",
       "      <th></th>\n",
       "      <th>output</th>\n",
       "      <th>train rmse</th>\n",
       "      <th>test rmse</th>\n",
       "    </tr>\n",
       "  </thead>\n",
       "  <tbody>\n",
       "    <tr>\n",
       "      <th>0</th>\n",
       "      <td>II-VI</td>\n",
       "      <td>0.25 +/- 0.005</td>\n",
       "      <td>0.36 +/- 0.053</td>\n",
       "    </tr>\n",
       "    <tr>\n",
       "      <th>1</th>\n",
       "      <td>III-V</td>\n",
       "      <td>0.26 +/- 0.006</td>\n",
       "      <td>0.37 +/- 0.071</td>\n",
       "    </tr>\n",
       "    <tr>\n",
       "      <th>2</th>\n",
       "      <td>IV-IV</td>\n",
       "      <td>0.27 +/- 0.008</td>\n",
       "      <td>0.39 +/- 0.06</td>\n",
       "    </tr>\n",
       "  </tbody>\n",
       "</table>\n",
       "</div>"
      ],
      "text/plain": [
       "  output      train rmse       test rmse\n",
       "0  II-VI  0.25 +/- 0.005  0.36 +/- 0.053\n",
       "1  III-V  0.26 +/- 0.006  0.37 +/- 0.071\n",
       "2  IV-IV  0.27 +/- 0.008   0.39 +/- 0.06"
      ]
     },
     "execution_count": 109,
     "metadata": {},
     "output_type": "execute_result"
    }
   ],
   "source": [
    "rfr_ipynb.type_site_df('type', [p01_rmse_26, p01_rmse_35, p01_rmse_44], 10)"
   ]
  },
  {
   "cell_type": "markdown",
   "metadata": {},
   "source": [
    "Predictions by type of defect site are skewed toward interstitial defect sights (again, the training data set is ~60% interstitial, 40% substitutional)"
   ]
  },
  {
   "cell_type": "code",
   "execution_count": 110,
   "metadata": {
    "scrolled": true
   },
   "outputs": [
    {
     "data": {
      "text/html": [
       "<div>\n",
       "<style scoped>\n",
       "    .dataframe tbody tr th:only-of-type {\n",
       "        vertical-align: middle;\n",
       "    }\n",
       "\n",
       "    .dataframe tbody tr th {\n",
       "        vertical-align: top;\n",
       "    }\n",
       "\n",
       "    .dataframe thead th {\n",
       "        text-align: right;\n",
       "    }\n",
       "</style>\n",
       "<table border=\"1\" class=\"dataframe\">\n",
       "  <thead>\n",
       "    <tr style=\"text-align: right;\">\n",
       "      <th></th>\n",
       "      <th>output</th>\n",
       "      <th>train rmse</th>\n",
       "      <th>test rmse</th>\n",
       "    </tr>\n",
       "  </thead>\n",
       "  <tbody>\n",
       "    <tr>\n",
       "      <th>0</th>\n",
       "      <td>sub</td>\n",
       "      <td>0.33 +/- 0.007</td>\n",
       "      <td>0.48 +/- 0.085</td>\n",
       "    </tr>\n",
       "    <tr>\n",
       "      <th>1</th>\n",
       "      <td>int</td>\n",
       "      <td>0.21 +/- 0.004</td>\n",
       "      <td>0.29 +/- 0.035</td>\n",
       "    </tr>\n",
       "  </tbody>\n",
       "</table>\n",
       "</div>"
      ],
      "text/plain": [
       "  output      train rmse       test rmse\n",
       "0    sub  0.33 +/- 0.007  0.48 +/- 0.085\n",
       "1    int  0.21 +/- 0.004  0.29 +/- 0.035"
      ]
     },
     "execution_count": 110,
     "metadata": {},
     "output_type": "execute_result"
    }
   ],
   "source": [
    "rfr_ipynb.type_site_df('site', [p01_rmse_sub, p01_rmse_int], 10)"
   ]
  },
  {
   "cell_type": "markdown",
   "metadata": {},
   "source": [
    "#### Parity Plots"
   ]
  },
  {
   "cell_type": "markdown",
   "metadata": {},
   "source": [
    "From the RMSE table we would expect the III-V semiconductors to predic the worst. Though it seems that there are some of parity orange points, it's hard to tell the difference between the sc types."
   ]
  },
  {
   "cell_type": "code",
   "execution_count": 112,
   "metadata": {
    "scrolled": false
   },
   "outputs": [
    {
     "data": {
      "application/vnd.jupyter.widget-view+json": {
       "model_id": "f302bbe30e464f3a9d8743c0b55387c1",
       "version_major": 2,
       "version_minor": 0
      },
      "text/plain": [
       "HBox(children=(FloatProgress(value=0.0, max=5.0), HTML(value='')))"
      ]
     },
     "metadata": {},
     "output_type": "display_data"
    },
    {
     "name": "stdout",
     "output_type": "stream",
     "text": [
      "\n"
     ]
    }
   ],
   "source": [
    "p01_traindf, p01_testdf = \\\n",
    "    rfr_remote.rfr_pp_predictor(lasso_0p1, d_start=5, max_depth=10, max_feat='auto', \n",
    "                                min_samp_leaf=8, min_samples_split=12,\n",
    "                                num_trees=150, folds=5)"
   ]
  },
  {
   "cell_type": "code",
   "execution_count": 119,
   "metadata": {
    "scrolled": true
   },
   "outputs": [
    {
     "data": {
      "image/png": "[encoded data removed]",
      "text/plain": [
       "<Figure size 360x360 with 1 Axes>"
      ]
     },
     "metadata": {
      "needs_background": "light"
     },
     "output_type": "display_data"
    }
   ],
   "source": [
    "rfr_remote.parity_plot(p01_traindf, p01_testdf, 'type', '(+1/0)')"
   ]
  },
  {
   "cell_type": "markdown",
   "metadata": {},
   "source": [
    "### (0/-1)"
   ]
  },
  {
   "cell_type": "markdown",
   "metadata": {},
   "source": [
    "#### RMSE table"
   ]
  },
  {
   "cell_type": "code",
   "execution_count": 114,
   "metadata": {},
   "outputs": [],
   "source": [
    "m01_traindic, m01_testdic= \\\n",
    "    rfr_remote.rfr_predictor(lasso_0m1, d_start=5, max_depth=8, max_feat='auto', \n",
    "                             min_samp_leaf=5, min_samples_split=3,\n",
    "                             num_trees=150, folds=10)"
   ]
  },
  {
   "cell_type": "code",
   "execution_count": 115,
   "metadata": {},
   "outputs": [],
   "source": [
    "#output_type = 'none' returns the overall RMSE of train and test\n",
    "m01_rmse = rfr_remote.rmse_calculator(m01_traindic, m01_testdic,\n",
    "                                      output_type='none')\n",
    "\n",
    "#output_type = 'type' returns the RMSE of train and test separated by type\n",
    "m01_rmse_26, m01_rmse_35, m01_rmse_44 = \\\n",
    "    rfr_remote.rmse_calculator(m01_traindic, m01_testdic,\n",
    "                                      output_type='type')\n",
    "\n",
    "#output_type = 'site' returns the RMSE of train and test separated by site\n",
    "m01_rmse_sub, m01_rmse_int = \\\n",
    "    rfr_remote.rmse_calculator(m01_traindic, m01_testdic,\n",
    "                                      output_type='site')"
   ]
  },
  {
   "cell_type": "markdown",
   "metadata": {},
   "source": [
    "The variation between folds is much smaller than the formation energies."
   ]
  },
  {
   "cell_type": "code",
   "execution_count": 116,
   "metadata": {},
   "outputs": [
    {
     "data": {
      "text/html": [
       "<div>\n",
       "<style scoped>\n",
       "    .dataframe tbody tr th:only-of-type {\n",
       "        vertical-align: middle;\n",
       "    }\n",
       "\n",
       "    .dataframe tbody tr th {\n",
       "        vertical-align: top;\n",
       "    }\n",
       "\n",
       "    .dataframe thead th {\n",
       "        text-align: right;\n",
       "    }\n",
       "</style>\n",
       "<table border=\"1\" class=\"dataframe\">\n",
       "  <thead>\n",
       "    <tr style=\"text-align: right;\">\n",
       "      <th></th>\n",
       "      <th>train rmse</th>\n",
       "      <th>test rmse</th>\n",
       "    </tr>\n",
       "  </thead>\n",
       "  <tbody>\n",
       "    <tr>\n",
       "      <th>0</th>\n",
       "      <td>0.222186</td>\n",
       "      <td>0.359584</td>\n",
       "    </tr>\n",
       "    <tr>\n",
       "      <th>1</th>\n",
       "      <td>0.217534</td>\n",
       "      <td>0.378169</td>\n",
       "    </tr>\n",
       "    <tr>\n",
       "      <th>2</th>\n",
       "      <td>0.22011</td>\n",
       "      <td>0.346697</td>\n",
       "    </tr>\n",
       "    <tr>\n",
       "      <th>3</th>\n",
       "      <td>0.219159</td>\n",
       "      <td>0.355567</td>\n",
       "    </tr>\n",
       "    <tr>\n",
       "      <th>4</th>\n",
       "      <td>0.226031</td>\n",
       "      <td>0.310988</td>\n",
       "    </tr>\n",
       "    <tr>\n",
       "      <th>5</th>\n",
       "      <td>0.221264</td>\n",
       "      <td>0.342002</td>\n",
       "    </tr>\n",
       "    <tr>\n",
       "      <th>6</th>\n",
       "      <td>0.22894</td>\n",
       "      <td>0.293403</td>\n",
       "    </tr>\n",
       "    <tr>\n",
       "      <th>7</th>\n",
       "      <td>0.216169</td>\n",
       "      <td>0.411404</td>\n",
       "    </tr>\n",
       "    <tr>\n",
       "      <th>8</th>\n",
       "      <td>0.215824</td>\n",
       "      <td>0.439143</td>\n",
       "    </tr>\n",
       "    <tr>\n",
       "      <th>9</th>\n",
       "      <td>0.223028</td>\n",
       "      <td>0.289274</td>\n",
       "    </tr>\n",
       "    <tr>\n",
       "      <th>10</th>\n",
       "      <td>0.22 +/- 0.004</td>\n",
       "      <td>0.35 +/- 0.048</td>\n",
       "    </tr>\n",
       "  </tbody>\n",
       "</table>\n",
       "</div>"
      ],
      "text/plain": [
       "        train rmse       test rmse\n",
       "0         0.222186        0.359584\n",
       "1         0.217534        0.378169\n",
       "2          0.22011        0.346697\n",
       "3         0.219159        0.355567\n",
       "4         0.226031        0.310988\n",
       "5         0.221264        0.342002\n",
       "6          0.22894        0.293403\n",
       "7         0.216169        0.411404\n",
       "8         0.215824        0.439143\n",
       "9         0.223028        0.289274\n",
       "10  0.22 +/- 0.004  0.35 +/- 0.048"
      ]
     },
     "execution_count": 116,
     "metadata": {},
     "output_type": "execute_result"
    }
   ],
   "source": [
    "m01_rmse"
   ]
  },
  {
   "cell_type": "markdown",
   "metadata": {},
   "source": [
    "The predicition across types of semiconductors are fairly similar to one another, though the III-V semiconductor seems to predict worse than the other types."
   ]
  },
  {
   "cell_type": "code",
   "execution_count": 117,
   "metadata": {
    "scrolled": true
   },
   "outputs": [
    {
     "data": {
      "text/html": [
       "<div>\n",
       "<style scoped>\n",
       "    .dataframe tbody tr th:only-of-type {\n",
       "        vertical-align: middle;\n",
       "    }\n",
       "\n",
       "    .dataframe tbody tr th {\n",
       "        vertical-align: top;\n",
       "    }\n",
       "\n",
       "    .dataframe thead th {\n",
       "        text-align: right;\n",
       "    }\n",
       "</style>\n",
       "<table border=\"1\" class=\"dataframe\">\n",
       "  <thead>\n",
       "    <tr style=\"text-align: right;\">\n",
       "      <th></th>\n",
       "      <th>output</th>\n",
       "      <th>train rmse</th>\n",
       "      <th>test rmse</th>\n",
       "    </tr>\n",
       "  </thead>\n",
       "  <tbody>\n",
       "    <tr>\n",
       "      <th>0</th>\n",
       "      <td>II-VI</td>\n",
       "      <td>0.22 +/- 0.004</td>\n",
       "      <td>0.35 +/- 0.055</td>\n",
       "    </tr>\n",
       "    <tr>\n",
       "      <th>1</th>\n",
       "      <td>III-V</td>\n",
       "      <td>0.23 +/- 0.008</td>\n",
       "      <td>0.37 +/- 0.093</td>\n",
       "    </tr>\n",
       "    <tr>\n",
       "      <th>2</th>\n",
       "      <td>IV-IV</td>\n",
       "      <td>0.21 +/- 0.009</td>\n",
       "      <td>0.32 +/- 0.094</td>\n",
       "    </tr>\n",
       "  </tbody>\n",
       "</table>\n",
       "</div>"
      ],
      "text/plain": [
       "  output      train rmse       test rmse\n",
       "0  II-VI  0.22 +/- 0.004  0.35 +/- 0.055\n",
       "1  III-V  0.23 +/- 0.008  0.37 +/- 0.093\n",
       "2  IV-IV  0.21 +/- 0.009  0.32 +/- 0.094"
      ]
     },
     "execution_count": 117,
     "metadata": {},
     "output_type": "execute_result"
    }
   ],
   "source": [
    "rfr_ipynb.type_site_df('type', [m01_rmse_26, m01_rmse_35, m01_rmse_44], 10)"
   ]
  },
  {
   "cell_type": "markdown",
   "metadata": {},
   "source": [
    "Predictions by type of defect site are skewed toward interstitial defect sights (again, the training data set is ~60% interstitial, 40% substitutional)"
   ]
  },
  {
   "cell_type": "code",
   "execution_count": 118,
   "metadata": {
    "scrolled": true
   },
   "outputs": [
    {
     "data": {
      "text/html": [
       "<div>\n",
       "<style scoped>\n",
       "    .dataframe tbody tr th:only-of-type {\n",
       "        vertical-align: middle;\n",
       "    }\n",
       "\n",
       "    .dataframe tbody tr th {\n",
       "        vertical-align: top;\n",
       "    }\n",
       "\n",
       "    .dataframe thead th {\n",
       "        text-align: right;\n",
       "    }\n",
       "</style>\n",
       "<table border=\"1\" class=\"dataframe\">\n",
       "  <thead>\n",
       "    <tr style=\"text-align: right;\">\n",
       "      <th></th>\n",
       "      <th>output</th>\n",
       "      <th>train rmse</th>\n",
       "      <th>test rmse</th>\n",
       "    </tr>\n",
       "  </thead>\n",
       "  <tbody>\n",
       "    <tr>\n",
       "      <th>0</th>\n",
       "      <td>sub</td>\n",
       "      <td>0.29 +/- 0.008</td>\n",
       "      <td>0.47 +/- 0.088</td>\n",
       "    </tr>\n",
       "    <tr>\n",
       "      <th>1</th>\n",
       "      <td>int</td>\n",
       "      <td>0.17 +/- 0.004</td>\n",
       "      <td>0.27 +/- 0.038</td>\n",
       "    </tr>\n",
       "  </tbody>\n",
       "</table>\n",
       "</div>"
      ],
      "text/plain": [
       "  output      train rmse       test rmse\n",
       "0    sub  0.29 +/- 0.008  0.47 +/- 0.088\n",
       "1    int  0.17 +/- 0.004  0.27 +/- 0.038"
      ]
     },
     "execution_count": 118,
     "metadata": {},
     "output_type": "execute_result"
    }
   ],
   "source": [
    "rfr_ipynb.type_site_df('site', [m01_rmse_sub, m01_rmse_int], 10)"
   ]
  },
  {
   "cell_type": "markdown",
   "metadata": {},
   "source": [
    "#### Parity Plots"
   ]
  },
  {
   "cell_type": "markdown",
   "metadata": {},
   "source": [
    "From the RMSE table we would expect the substitutional defect compounds to predict the worse than interstitial. At lower energies (between -0.5 and 0.5) the predictions for the substitutional sights all seem high. Besides that, most points stick fairly close to the parity line."
   ]
  },
  {
   "cell_type": "code",
   "execution_count": 121,
   "metadata": {
    "scrolled": false
   },
   "outputs": [
    {
     "data": {
      "application/vnd.jupyter.widget-view+json": {
       "model_id": "8a2fc3412f794fc09c11f660f4a5fb3c",
       "version_major": 2,
       "version_minor": 0
      },
      "text/plain": [
       "HBox(children=(FloatProgress(value=0.0, max=5.0), HTML(value='')))"
      ]
     },
     "metadata": {},
     "output_type": "display_data"
    },
    {
     "name": "stdout",
     "output_type": "stream",
     "text": [
      "\n"
     ]
    }
   ],
   "source": [
    "m01_traindf, m01_testdf = \\\n",
    "    rfr_remote.rfr_pp_predictor(lasso_0m1, d_start=5, max_depth=8, max_feat='auto', \n",
    "                                min_samp_leaf=5, min_samples_split=3,\n",
    "                                num_trees=150, folds=5)"
   ]
  },
  {
   "cell_type": "code",
   "execution_count": 122,
   "metadata": {
    "scrolled": true
   },
   "outputs": [
    {
     "data": {
      "image/png": "[encoded data removed]",
      "text/plain": [
       "<Figure size 360x360 with 1 Axes>"
      ]
     },
     "metadata": {
      "needs_background": "light"
     },
     "output_type": "display_data"
    }
   ],
   "source": [
    "rfr_remote.parity_plot(m01_traindf, m01_testdf, 'site', '(0/-1)')"
   ]
  },
  {
   "cell_type": "markdown",
   "metadata": {},
   "source": [
    "### (-1/-2)"
   ]
  },
  {
   "cell_type": "markdown",
   "metadata": {},
   "source": [
    "#### RMSE table"
   ]
  },
  {
   "cell_type": "code",
   "execution_count": 123,
   "metadata": {},
   "outputs": [],
   "source": [
    "m12_traindic, m12_testdic= \\\n",
    "    rfr_remote.rfr_predictor(lasso_m12, d_start=5, max_depth=10, max_feat='auto', \n",
    "                             min_samp_leaf=8, min_samples_split=12,\n",
    "                             num_trees=750, folds=10)"
   ]
  },
  {
   "cell_type": "code",
   "execution_count": 124,
   "metadata": {},
   "outputs": [],
   "source": [
    "#output_type = 'none' returns the overall RMSE of train and test\n",
    "m12_rmse = rfr_remote.rmse_calculator(m12_traindic, m12_testdic,\n",
    "                                      output_type='none')\n",
    "\n",
    "#output_type = 'type' returns the RMSE of train and test separated by type\n",
    "m12_rmse_26, m12_rmse_35, m12_rmse_44 = \\\n",
    "    rfr_remote.rmse_calculator(m12_traindic, m12_testdic,\n",
    "                                      output_type='type')\n",
    "\n",
    "#output_type = 'site' returns the RMSE of train and test separated by site\n",
    "m12_rmse_sub, m12_rmse_int = \\\n",
    "    rfr_remote.rmse_calculator(m12_traindic, m12_testdic,\n",
    "                                      output_type='site')"
   ]
  },
  {
   "cell_type": "markdown",
   "metadata": {},
   "source": [
    "The predicition across types of semiconductors are fairly similar to one another, though the III-V semiconductor seems to predict worse than the other types (as in the previous 3 targets)."
   ]
  },
  {
   "cell_type": "code",
   "execution_count": 125,
   "metadata": {
    "scrolled": true
   },
   "outputs": [
    {
     "data": {
      "text/html": [
       "<div>\n",
       "<style scoped>\n",
       "    .dataframe tbody tr th:only-of-type {\n",
       "        vertical-align: middle;\n",
       "    }\n",
       "\n",
       "    .dataframe tbody tr th {\n",
       "        vertical-align: top;\n",
       "    }\n",
       "\n",
       "    .dataframe thead th {\n",
       "        text-align: right;\n",
       "    }\n",
       "</style>\n",
       "<table border=\"1\" class=\"dataframe\">\n",
       "  <thead>\n",
       "    <tr style=\"text-align: right;\">\n",
       "      <th></th>\n",
       "      <th>output</th>\n",
       "      <th>train rmse</th>\n",
       "      <th>test rmse</th>\n",
       "    </tr>\n",
       "  </thead>\n",
       "  <tbody>\n",
       "    <tr>\n",
       "      <th>0</th>\n",
       "      <td>II-VI</td>\n",
       "      <td>0.22 +/- 0.004</td>\n",
       "      <td>0.3 +/- 0.037</td>\n",
       "    </tr>\n",
       "    <tr>\n",
       "      <th>1</th>\n",
       "      <td>III-V</td>\n",
       "      <td>0.26 +/- 0.01</td>\n",
       "      <td>0.35 +/- 0.118</td>\n",
       "    </tr>\n",
       "    <tr>\n",
       "      <th>2</th>\n",
       "      <td>IV-IV</td>\n",
       "      <td>0.22 +/- 0.011</td>\n",
       "      <td>0.29 +/- 0.114</td>\n",
       "    </tr>\n",
       "  </tbody>\n",
       "</table>\n",
       "</div>"
      ],
      "text/plain": [
       "  output      train rmse       test rmse\n",
       "0  II-VI  0.22 +/- 0.004   0.3 +/- 0.037\n",
       "1  III-V   0.26 +/- 0.01  0.35 +/- 0.118\n",
       "2  IV-IV  0.22 +/- 0.011  0.29 +/- 0.114"
      ]
     },
     "execution_count": 125,
     "metadata": {},
     "output_type": "execute_result"
    }
   ],
   "source": [
    "rfr_ipynb.type_site_df('type', [m12_rmse_26, m12_rmse_35, m12_rmse_44], 10)"
   ]
  },
  {
   "cell_type": "markdown",
   "metadata": {},
   "source": [
    "Predictions by type of defect site are skewed toward interstitial defect sights (again, the training data set is ~60% interstitial, 40% substitutional)"
   ]
  },
  {
   "cell_type": "code",
   "execution_count": 126,
   "metadata": {
    "scrolled": true
   },
   "outputs": [
    {
     "data": {
      "text/html": [
       "<div>\n",
       "<style scoped>\n",
       "    .dataframe tbody tr th:only-of-type {\n",
       "        vertical-align: middle;\n",
       "    }\n",
       "\n",
       "    .dataframe tbody tr th {\n",
       "        vertical-align: top;\n",
       "    }\n",
       "\n",
       "    .dataframe thead th {\n",
       "        text-align: right;\n",
       "    }\n",
       "</style>\n",
       "<table border=\"1\" class=\"dataframe\">\n",
       "  <thead>\n",
       "    <tr style=\"text-align: right;\">\n",
       "      <th></th>\n",
       "      <th>output</th>\n",
       "      <th>train rmse</th>\n",
       "      <th>test rmse</th>\n",
       "    </tr>\n",
       "  </thead>\n",
       "  <tbody>\n",
       "    <tr>\n",
       "      <th>0</th>\n",
       "      <td>sub</td>\n",
       "      <td>0.28 +/- 0.006</td>\n",
       "      <td>0.39 +/- 0.069</td>\n",
       "    </tr>\n",
       "    <tr>\n",
       "      <th>1</th>\n",
       "      <td>int</td>\n",
       "      <td>0.2 +/- 0.005</td>\n",
       "      <td>0.27 +/- 0.046</td>\n",
       "    </tr>\n",
       "  </tbody>\n",
       "</table>\n",
       "</div>"
      ],
      "text/plain": [
       "  output      train rmse       test rmse\n",
       "0    sub  0.28 +/- 0.006  0.39 +/- 0.069\n",
       "1    int   0.2 +/- 0.005  0.27 +/- 0.046"
      ]
     },
     "execution_count": 126,
     "metadata": {},
     "output_type": "execute_result"
    }
   ],
   "source": [
    "rfr_ipynb.type_site_df('site', [m12_rmse_sub, m12_rmse_int], 10)"
   ]
  },
  {
   "cell_type": "markdown",
   "metadata": {},
   "source": [
    "#### Parity Plots"
   ]
  },
  {
   "cell_type": "markdown",
   "metadata": {},
   "source": [
    "As seen in the previous plot, the lower energy substitutional points (0-1.5 eV) are predicted to much higher than their actual values. The other points seem to stick close to the parity line."
   ]
  },
  {
   "cell_type": "code",
   "execution_count": 127,
   "metadata": {
    "scrolled": false
   },
   "outputs": [
    {
     "data": {
      "application/vnd.jupyter.widget-view+json": {
       "model_id": "8c1ff9785a6d4d138d8b5494fa0e6ebe",
       "version_major": 2,
       "version_minor": 0
      },
      "text/plain": [
       "HBox(children=(FloatProgress(value=0.0, max=5.0), HTML(value='')))"
      ]
     },
     "metadata": {},
     "output_type": "display_data"
    },
    {
     "name": "stdout",
     "output_type": "stream",
     "text": [
      "\n"
     ]
    }
   ],
   "source": [
    "m12_traindf, m12_testdf = \\\n",
    "    rfr_remote.rfr_pp_predictor(lasso_m12, d_start=5, max_depth=10, max_feat='auto', \n",
    "                                min_samp_leaf=8, min_samples_split=12,\n",
    "                                num_trees=750, folds=5)"
   ]
  },
  {
   "cell_type": "code",
   "execution_count": 128,
   "metadata": {
    "scrolled": false
   },
   "outputs": [
    {
     "data": {
      "image/png": "[encoded data removed]",
      "text/plain": [
       "<Figure size 360x360 with 1 Axes>"
      ]
     },
     "metadata": {
      "needs_background": "light"
     },
     "output_type": "display_data"
    }
   ],
   "source": [
    "rfr_remote.parity_plot(m12_traindf, m12_testdf, 'site', '(-1/-2)')"
   ]
  },
  {
   "cell_type": "markdown",
   "metadata": {},
   "source": [
    "### (-2/-3)"
   ]
  },
  {
   "cell_type": "markdown",
   "metadata": {},
   "source": [
    "#### RMSE table"
   ]
  },
  {
   "cell_type": "code",
   "execution_count": 129,
   "metadata": {},
   "outputs": [],
   "source": [
    "m23_traindic, m23_testdic= \\\n",
    "    rfr_remote.rfr_predictor(lasso_m23, d_start=5, max_depth=10, max_feat='sqrt', \n",
    "                             min_samp_leaf=2, min_samples_split=14,\n",
    "                             num_trees=450, folds=10)"
   ]
  },
  {
   "cell_type": "code",
   "execution_count": 130,
   "metadata": {},
   "outputs": [],
   "source": [
    "#output_type = 'none' returns the overall RMSE of train and test\n",
    "m23_rmse = rfr_remote.rmse_calculator(m23_traindic, m23_testdic,\n",
    "                                      output_type='none')\n",
    "\n",
    "#output_type = 'type' returns the RMSE of train and test separated by type\n",
    "m23_rmse_26, m23_rmse_35, m23_rmse_44 = \\\n",
    "    rfr_remote.rmse_calculator(m23_traindic, m23_testdic,\n",
    "                                      output_type='type')\n",
    "\n",
    "#output_type = 'site' returns the RMSE of train and test separated by site\n",
    "m23_rmse_sub, m23_rmse_int = \\\n",
    "    rfr_remote.rmse_calculator(m23_traindic, m23_testdic,\n",
    "                                      output_type='site')"
   ]
  },
  {
   "cell_type": "markdown",
   "metadata": {},
   "source": [
    "The variation between folds is much smaller than the formation energies."
   ]
  },
  {
   "cell_type": "code",
   "execution_count": 131,
   "metadata": {},
   "outputs": [
    {
     "data": {
      "text/html": [
       "<div>\n",
       "<style scoped>\n",
       "    .dataframe tbody tr th:only-of-type {\n",
       "        vertical-align: middle;\n",
       "    }\n",
       "\n",
       "    .dataframe tbody tr th {\n",
       "        vertical-align: top;\n",
       "    }\n",
       "\n",
       "    .dataframe thead th {\n",
       "        text-align: right;\n",
       "    }\n",
       "</style>\n",
       "<table border=\"1\" class=\"dataframe\">\n",
       "  <thead>\n",
       "    <tr style=\"text-align: right;\">\n",
       "      <th></th>\n",
       "      <th>train rmse</th>\n",
       "      <th>test rmse</th>\n",
       "    </tr>\n",
       "  </thead>\n",
       "  <tbody>\n",
       "    <tr>\n",
       "      <th>0</th>\n",
       "      <td>0.189047</td>\n",
       "      <td>0.259791</td>\n",
       "    </tr>\n",
       "    <tr>\n",
       "      <th>1</th>\n",
       "      <td>0.193049</td>\n",
       "      <td>0.223145</td>\n",
       "    </tr>\n",
       "    <tr>\n",
       "      <th>2</th>\n",
       "      <td>0.192485</td>\n",
       "      <td>0.2346</td>\n",
       "    </tr>\n",
       "    <tr>\n",
       "      <th>3</th>\n",
       "      <td>0.189493</td>\n",
       "      <td>0.275873</td>\n",
       "    </tr>\n",
       "    <tr>\n",
       "      <th>4</th>\n",
       "      <td>0.1943</td>\n",
       "      <td>0.199376</td>\n",
       "    </tr>\n",
       "    <tr>\n",
       "      <th>5</th>\n",
       "      <td>0.187495</td>\n",
       "      <td>0.288033</td>\n",
       "    </tr>\n",
       "    <tr>\n",
       "      <th>6</th>\n",
       "      <td>0.194586</td>\n",
       "      <td>0.208485</td>\n",
       "    </tr>\n",
       "    <tr>\n",
       "      <th>7</th>\n",
       "      <td>0.190267</td>\n",
       "      <td>0.249723</td>\n",
       "    </tr>\n",
       "    <tr>\n",
       "      <th>8</th>\n",
       "      <td>0.181685</td>\n",
       "      <td>0.319408</td>\n",
       "    </tr>\n",
       "    <tr>\n",
       "      <th>9</th>\n",
       "      <td>0.190755</td>\n",
       "      <td>0.225557</td>\n",
       "    </tr>\n",
       "    <tr>\n",
       "      <th>10</th>\n",
       "      <td>0.19 +/- 0.004</td>\n",
       "      <td>0.25 +/- 0.038</td>\n",
       "    </tr>\n",
       "  </tbody>\n",
       "</table>\n",
       "</div>"
      ],
      "text/plain": [
       "        train rmse       test rmse\n",
       "0         0.189047        0.259791\n",
       "1         0.193049        0.223145\n",
       "2         0.192485          0.2346\n",
       "3         0.189493        0.275873\n",
       "4           0.1943        0.199376\n",
       "5         0.187495        0.288033\n",
       "6         0.194586        0.208485\n",
       "7         0.190267        0.249723\n",
       "8         0.181685        0.319408\n",
       "9         0.190755        0.225557\n",
       "10  0.19 +/- 0.004  0.25 +/- 0.038"
      ]
     },
     "execution_count": 131,
     "metadata": {},
     "output_type": "execute_result"
    }
   ],
   "source": [
    "m23_rmse"
   ]
  },
  {
   "cell_type": "markdown",
   "metadata": {},
   "source": [
    "The predicition across types of semiconductors are fairly similar to one another, though the III-V semiconductor seems to predict worse than the other types."
   ]
  },
  {
   "cell_type": "code",
   "execution_count": 132,
   "metadata": {
    "scrolled": true
   },
   "outputs": [
    {
     "data": {
      "text/html": [
       "<div>\n",
       "<style scoped>\n",
       "    .dataframe tbody tr th:only-of-type {\n",
       "        vertical-align: middle;\n",
       "    }\n",
       "\n",
       "    .dataframe tbody tr th {\n",
       "        vertical-align: top;\n",
       "    }\n",
       "\n",
       "    .dataframe thead th {\n",
       "        text-align: right;\n",
       "    }\n",
       "</style>\n",
       "<table border=\"1\" class=\"dataframe\">\n",
       "  <thead>\n",
       "    <tr style=\"text-align: right;\">\n",
       "      <th></th>\n",
       "      <th>output</th>\n",
       "      <th>train rmse</th>\n",
       "      <th>test rmse</th>\n",
       "    </tr>\n",
       "  </thead>\n",
       "  <tbody>\n",
       "    <tr>\n",
       "      <th>0</th>\n",
       "      <td>II-VI</td>\n",
       "      <td>0.2 +/- 0.006</td>\n",
       "      <td>0.25 +/- 0.062</td>\n",
       "    </tr>\n",
       "    <tr>\n",
       "      <th>1</th>\n",
       "      <td>III-V</td>\n",
       "      <td>0.18 +/- 0.007</td>\n",
       "      <td>0.24 +/- 0.078</td>\n",
       "    </tr>\n",
       "    <tr>\n",
       "      <th>2</th>\n",
       "      <td>IV-IV</td>\n",
       "      <td>0.16 +/- 0.006</td>\n",
       "      <td>0.22 +/- 0.057</td>\n",
       "    </tr>\n",
       "  </tbody>\n",
       "</table>\n",
       "</div>"
      ],
      "text/plain": [
       "  output      train rmse       test rmse\n",
       "0  II-VI   0.2 +/- 0.006  0.25 +/- 0.062\n",
       "1  III-V  0.18 +/- 0.007  0.24 +/- 0.078\n",
       "2  IV-IV  0.16 +/- 0.006  0.22 +/- 0.057"
      ]
     },
     "execution_count": 132,
     "metadata": {},
     "output_type": "execute_result"
    }
   ],
   "source": [
    "rfr_ipynb.type_site_df('type', [m23_rmse_26, m23_rmse_35, m23_rmse_44], 10)"
   ]
  },
  {
   "cell_type": "markdown",
   "metadata": {},
   "source": [
    "Predictions by type of defect site are skewed toward interstitial defect sights (again, the training data set is ~60% interstitial, 40% substitutional)"
   ]
  },
  {
   "cell_type": "code",
   "execution_count": 133,
   "metadata": {
    "scrolled": true
   },
   "outputs": [
    {
     "data": {
      "text/html": [
       "<div>\n",
       "<style scoped>\n",
       "    .dataframe tbody tr th:only-of-type {\n",
       "        vertical-align: middle;\n",
       "    }\n",
       "\n",
       "    .dataframe tbody tr th {\n",
       "        vertical-align: top;\n",
       "    }\n",
       "\n",
       "    .dataframe thead th {\n",
       "        text-align: right;\n",
       "    }\n",
       "</style>\n",
       "<table border=\"1\" class=\"dataframe\">\n",
       "  <thead>\n",
       "    <tr style=\"text-align: right;\">\n",
       "      <th></th>\n",
       "      <th>output</th>\n",
       "      <th>train rmse</th>\n",
       "      <th>test rmse</th>\n",
       "    </tr>\n",
       "  </thead>\n",
       "  <tbody>\n",
       "    <tr>\n",
       "      <th>0</th>\n",
       "      <td>sub</td>\n",
       "      <td>0.2 +/- 0.004</td>\n",
       "      <td>0.26 +/- 0.049</td>\n",
       "    </tr>\n",
       "    <tr>\n",
       "      <th>1</th>\n",
       "      <td>int</td>\n",
       "      <td>0.19 +/- 0.006</td>\n",
       "      <td>0.24 +/- 0.064</td>\n",
       "    </tr>\n",
       "  </tbody>\n",
       "</table>\n",
       "</div>"
      ],
      "text/plain": [
       "  output      train rmse       test rmse\n",
       "0    sub   0.2 +/- 0.004  0.26 +/- 0.049\n",
       "1    int  0.19 +/- 0.006  0.24 +/- 0.064"
      ]
     },
     "execution_count": 133,
     "metadata": {},
     "output_type": "execute_result"
    }
   ],
   "source": [
    "rfr_ipynb.type_site_df('site', [m23_rmse_sub, m23_rmse_int], 10)"
   ]
  },
  {
   "cell_type": "markdown",
   "metadata": {},
   "source": [
    "#### Parity Plots"
   ]
  },
  {
   "cell_type": "markdown",
   "metadata": {},
   "source": [
    "There is very little standard deviation between folds in the cross validation leading to almost invisible error bars. But, the predictions stick on the parity line over the the whole energy range of predicted values."
   ]
  },
  {
   "cell_type": "code",
   "execution_count": 134,
   "metadata": {
    "scrolled": false
   },
   "outputs": [
    {
     "data": {
      "application/vnd.jupyter.widget-view+json": {
       "model_id": "74dd1c3668d74bb99d2b9fc60ed57218",
       "version_major": 2,
       "version_minor": 0
      },
      "text/plain": [
       "HBox(children=(FloatProgress(value=0.0, max=5.0), HTML(value='')))"
      ]
     },
     "metadata": {},
     "output_type": "display_data"
    },
    {
     "name": "stdout",
     "output_type": "stream",
     "text": [
      "\n"
     ]
    }
   ],
   "source": [
    "m23_traindf, m23_testdf = \\\n",
    "    rfr_remote.rfr_pp_predictor(lasso_m23, d_start=5, max_depth=10, max_feat='sqrt', \n",
    "                             min_samp_leaf=2, min_samples_split=14,\n",
    "                             num_trees=450, folds=5)"
   ]
  },
  {
   "cell_type": "code",
   "execution_count": 135,
   "metadata": {
    "scrolled": false
   },
   "outputs": [
    {
     "data": {
      "image/png": "[encoded data removed]",
      "text/plain": [
       "<Figure size 360x360 with 1 Axes>"
      ]
     },
     "metadata": {
      "needs_background": "light"
     },
     "output_type": "display_data"
    }
   ],
   "source": [
    "rfr_remote.parity_plot(m23_traindf, m23_testdf, 'none', '(-2/-3)')"
   ]
  },
  {
   "cell_type": "markdown",
   "metadata": {},
   "source": [
    "In this plot vs the dHA plot and the (+2/+1) plot, the deviation in predictions seem to have medium correlation with the standard deviation across folds of the predictions. As in (+2/+1), mostly lower prediction errors give high standard deviations."
   ]
  },
  {
   "cell_type": "code",
   "execution_count": 137,
   "metadata": {},
   "outputs": [
    {
     "data": {
      "image/png": "[encoded data removed]",
      "text/plain": [
       "<Figure size 360x360 with 1 Axes>"
      ]
     },
     "metadata": {
      "needs_background": "light"
     },
     "output_type": "display_data"
    }
   ],
   "source": [
    "pred_stddev_plot(m23_traindf, m23_testdf, '(-2/-3)')"
   ]
  },
  {
   "cell_type": "markdown",
   "metadata": {},
   "source": [
    "-----------\n",
    "Prediction error vs standard deviation uncertainty plotting function"
   ]
  },
  {
   "cell_type": "code",
   "execution_count": 75,
   "metadata": {},
   "outputs": [],
   "source": [
    "def pred_stddev_plot(df1, df2, plt_title):\n",
    "    \n",
    "   \n",
    "    diff_train = np.abs(df1['dft_train'] - df1['mean_train'])\n",
    "    std_train = df1['stddev_train']\n",
    "    diff_test = np.abs(df2['dft_test'] - df2['mean_test'])\n",
    "    std_test = df2['stddev_test']\n",
    "\n",
    "    fig, ax = plt.subplots(figsize=(5,5))\n",
    "    ax.scatter(diff_train, std_train, alpha = 0.5, label='train', color='blue', s = 20, zorder=2)\n",
    "    ax.scatter(diff_test, std_test, alpha = 0.5, label='test', s = 20, zorder=3)\n",
    "\n",
    "    ax.set_xlabel('Prediction Error (eV)')\n",
    "    ax.set_ylabel('Std Dev Uncertainty (eV)')\n",
    "    ax.set_title(plt_title)\n",
    "    ax.legend()\n",
    "    plt.show()"
   ]
  }
 ],
 "metadata": {
  "kernelspec": {
   "display_name": "Python 3",
   "language": "python",
   "name": "python3"
  },
  "language_info": {
   "codemirror_mode": {
    "name": "ipython",
    "version": 3
   },
   "file_extension": ".py",
   "mimetype": "text/x-python",
   "name": "python",
   "nbconvert_exporter": "python",
   "pygments_lexer": "ipython3",
   "version": "3.7.7"
  }
 },
 "nbformat": 4,
 "nbformat_minor": 4
}
