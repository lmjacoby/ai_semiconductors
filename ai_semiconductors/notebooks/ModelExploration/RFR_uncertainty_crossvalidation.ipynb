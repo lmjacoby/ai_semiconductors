{
 "cells": [
  {
   "cell_type": "code",
   "execution_count": 1,
   "metadata": {},
   "outputs": [],
   "source": [
    "import pandas as pd\n",
    "import matplotlib.pyplot as plt\n",
    "\n",
    "import RFR\n",
    "import uncertainty_rfr"
   ]
  },
  {
   "cell_type": "markdown",
   "metadata": {},
   "source": [
    "---"
   ]
  },
  {
   "cell_type": "markdown",
   "metadata": {},
   "source": [
    "## Loading data in to perform the uncertainty calculation\n",
    "There are separate files for each of the targets being predicted. There are 8 targets total, which makes 8 sets of training and predicting sets of data."
   ]
  },
  {
   "cell_type": "markdown",
   "metadata": {},
   "source": [
    "#### DFT data points (training data)\n",
    "- These data sets contain the descriptors and targets for the training data. There are ~1300 points in the formation energy sets (a, b) and ~750 points in the transition level sets (p32-m23). \n",
    "- The descriptors in each set are different, and were selected through expanding an original set of features and then using LASSO to select those most highly correlated with outputs."
   ]
  },
  {
   "cell_type": "code",
   "execution_count": 2,
   "metadata": {},
   "outputs": [],
   "source": [
    "a_dft = pd.read_csv('./xiaofeng_lasso/DFT_y_12k_X/Lasso_HA_dft_12k.csv')"
   ]
  },
  {
   "cell_type": "code",
   "execution_count": 3,
   "metadata": {},
   "outputs": [],
   "source": [
    "b_dft = pd.read_csv('./xiaofeng_lasso/DFT_y_12k_X/Lasso_HB_dft_12k.csv')"
   ]
  },
  {
   "cell_type": "code",
   "execution_count": 4,
   "metadata": {},
   "outputs": [],
   "source": [
    "p32_dft = pd.read_csv('./xiaofeng_lasso/DFT_y_12k_X/Lasso_(+3,+2)_dft_12k.csv')"
   ]
  },
  {
   "cell_type": "code",
   "execution_count": 5,
   "metadata": {},
   "outputs": [],
   "source": [
    "p21_dft = pd.read_csv('./xiaofeng_lasso/DFT_y_12k_X/Lasso_(+2,+1)_dft_12k.csv')"
   ]
  },
  {
   "cell_type": "code",
   "execution_count": 6,
   "metadata": {},
   "outputs": [],
   "source": [
    "p01_dft = pd.read_csv('./xiaofeng_lasso/DFT_y_12k_X/Lasso_(+1,0)_dft_12k.csv')"
   ]
  },
  {
   "cell_type": "code",
   "execution_count": 7,
   "metadata": {},
   "outputs": [],
   "source": [
    "m01_dft = pd.read_csv('./xiaofeng_lasso/DFT_y_12k_X/Lasso_(0,-1)_dft_12k.csv')"
   ]
  },
  {
   "cell_type": "code",
   "execution_count": 8,
   "metadata": {},
   "outputs": [],
   "source": [
    "m12_dft = pd.read_csv('./xiaofeng_lasso/DFT_y_12k_X/Lasso_(-1,-2)_dft_12k.csv')"
   ]
  },
  {
   "cell_type": "code",
   "execution_count": 9,
   "metadata": {},
   "outputs": [],
   "source": [
    "m23_dft = pd.read_csv('./xiaofeng_lasso/DFT_y_12k_X/Lasso_(-2,-3)_dft_12k.csv')"
   ]
  },
  {
   "cell_type": "markdown",
   "metadata": {},
   "source": [
    "The formation energy training sets are:\n",
    "- ~80 % II-VI semicondcutors\n",
    "- ~11 % IV-IV semicondcutors\n",
    "- ~9 % III-V semiconductors\n",
    "\n",
    "There is approximately equal distribution of the defect site among all the data points"
   ]
  },
  {
   "cell_type": "code",
   "execution_count": 10,
   "metadata": {},
   "outputs": [
    {
     "name": "stdout",
     "output_type": "stream",
     "text": [
      "Total entries:  1269\n"
     ]
    },
    {
     "data": {
      "text/html": [
       "<div>\n",
       "<style scoped>\n",
       "    .dataframe tbody tr th:only-of-type {\n",
       "        vertical-align: middle;\n",
       "    }\n",
       "\n",
       "    .dataframe tbody tr th {\n",
       "        vertical-align: top;\n",
       "    }\n",
       "\n",
       "    .dataframe thead th {\n",
       "        text-align: right;\n",
       "    }\n",
       "</style>\n",
       "<table border=\"1\" class=\"dataframe\">\n",
       "  <thead>\n",
       "    <tr style=\"text-align: right;\">\n",
       "      <th></th>\n",
       "      <th>Type</th>\n",
       "      <th>percent</th>\n",
       "    </tr>\n",
       "  </thead>\n",
       "  <tbody>\n",
       "    <tr>\n",
       "      <th>II-VI</th>\n",
       "      <td>1014</td>\n",
       "      <td>79.91</td>\n",
       "    </tr>\n",
       "    <tr>\n",
       "      <th>IV-IV</th>\n",
       "      <td>145</td>\n",
       "      <td>11.43</td>\n",
       "    </tr>\n",
       "    <tr>\n",
       "      <th>III-V</th>\n",
       "      <td>110</td>\n",
       "      <td>8.67</td>\n",
       "    </tr>\n",
       "  </tbody>\n",
       "</table>\n",
       "</div>"
      ],
      "text/plain": [
       "       Type  percent\n",
       "II-VI  1014    79.91\n",
       "IV-IV   145    11.43\n",
       "III-V   110     8.67"
      ]
     },
     "execution_count": 10,
     "metadata": {},
     "output_type": "execute_result"
    }
   ],
   "source": [
    "RFR.counter(a_dft, 'Type')"
   ]
  },
  {
   "cell_type": "code",
   "execution_count": 11,
   "metadata": {},
   "outputs": [
    {
     "name": "stdout",
     "output_type": "stream",
     "text": [
      "Total entries:  1269\n"
     ]
    },
    {
     "data": {
      "text/html": [
       "<div>\n",
       "<style scoped>\n",
       "    .dataframe tbody tr th:only-of-type {\n",
       "        vertical-align: middle;\n",
       "    }\n",
       "\n",
       "    .dataframe tbody tr th {\n",
       "        vertical-align: top;\n",
       "    }\n",
       "\n",
       "    .dataframe thead th {\n",
       "        text-align: right;\n",
       "    }\n",
       "</style>\n",
       "<table border=\"1\" class=\"dataframe\">\n",
       "  <thead>\n",
       "    <tr style=\"text-align: right;\">\n",
       "      <th></th>\n",
       "      <th>Site</th>\n",
       "      <th>percent</th>\n",
       "    </tr>\n",
       "  </thead>\n",
       "  <tbody>\n",
       "    <tr>\n",
       "      <th>M_i_neut</th>\n",
       "      <td>267</td>\n",
       "      <td>21.04</td>\n",
       "    </tr>\n",
       "    <tr>\n",
       "      <th>M_i_A</th>\n",
       "      <td>264</td>\n",
       "      <td>20.80</td>\n",
       "    </tr>\n",
       "    <tr>\n",
       "      <th>M_A</th>\n",
       "      <td>257</td>\n",
       "      <td>20.25</td>\n",
       "    </tr>\n",
       "    <tr>\n",
       "      <th>M_i_B</th>\n",
       "      <td>253</td>\n",
       "      <td>19.94</td>\n",
       "    </tr>\n",
       "    <tr>\n",
       "      <th>M_B</th>\n",
       "      <td>228</td>\n",
       "      <td>17.97</td>\n",
       "    </tr>\n",
       "  </tbody>\n",
       "</table>\n",
       "</div>"
      ],
      "text/plain": [
       "          Site  percent\n",
       "M_i_neut   267    21.04\n",
       "M_i_A      264    20.80\n",
       "M_A        257    20.25\n",
       "M_i_B      253    19.94\n",
       "M_B        228    17.97"
      ]
     },
     "execution_count": 11,
     "metadata": {},
     "output_type": "execute_result"
    }
   ],
   "source": [
    "RFR.counter(a_dft, 'Site')"
   ]
  },
  {
   "cell_type": "markdown",
   "metadata": {},
   "source": [
    "The formation energy sets are:\n",
    "- ~63 % II-VI semicondcutors\n",
    "- ~21 % IV-IV semicondcutors\n",
    "- ~16 % III-V semiconductors\n",
    "\n",
    "There is approximately equal distribution of the defect site among all the data points"
   ]
  },
  {
   "cell_type": "code",
   "execution_count": 12,
   "metadata": {
    "scrolled": false
   },
   "outputs": [
    {
     "name": "stdout",
     "output_type": "stream",
     "text": [
      "Total entries:  748\n"
     ]
    },
    {
     "data": {
      "text/html": [
       "<div>\n",
       "<style scoped>\n",
       "    .dataframe tbody tr th:only-of-type {\n",
       "        vertical-align: middle;\n",
       "    }\n",
       "\n",
       "    .dataframe tbody tr th {\n",
       "        vertical-align: top;\n",
       "    }\n",
       "\n",
       "    .dataframe thead th {\n",
       "        text-align: right;\n",
       "    }\n",
       "</style>\n",
       "<table border=\"1\" class=\"dataframe\">\n",
       "  <thead>\n",
       "    <tr style=\"text-align: right;\">\n",
       "      <th></th>\n",
       "      <th>Type</th>\n",
       "      <th>percent</th>\n",
       "    </tr>\n",
       "  </thead>\n",
       "  <tbody>\n",
       "    <tr>\n",
       "      <th>II-VI</th>\n",
       "      <td>471</td>\n",
       "      <td>62.97</td>\n",
       "    </tr>\n",
       "    <tr>\n",
       "      <th>IV-IV</th>\n",
       "      <td>160</td>\n",
       "      <td>21.39</td>\n",
       "    </tr>\n",
       "    <tr>\n",
       "      <th>III-V</th>\n",
       "      <td>117</td>\n",
       "      <td>15.64</td>\n",
       "    </tr>\n",
       "  </tbody>\n",
       "</table>\n",
       "</div>"
      ],
      "text/plain": [
       "       Type  percent\n",
       "II-VI   471    62.97\n",
       "IV-IV   160    21.39\n",
       "III-V   117    15.64"
      ]
     },
     "execution_count": 12,
     "metadata": {},
     "output_type": "execute_result"
    }
   ],
   "source": [
    "RFR.counter(p32_dft, 'Type')"
   ]
  },
  {
   "cell_type": "code",
   "execution_count": 13,
   "metadata": {
    "scrolled": true
   },
   "outputs": [
    {
     "name": "stdout",
     "output_type": "stream",
     "text": [
      "Total entries:  748\n"
     ]
    },
    {
     "data": {
      "text/html": [
       "<div>\n",
       "<style scoped>\n",
       "    .dataframe tbody tr th:only-of-type {\n",
       "        vertical-align: middle;\n",
       "    }\n",
       "\n",
       "    .dataframe tbody tr th {\n",
       "        vertical-align: top;\n",
       "    }\n",
       "\n",
       "    .dataframe thead th {\n",
       "        text-align: right;\n",
       "    }\n",
       "</style>\n",
       "<table border=\"1\" class=\"dataframe\">\n",
       "  <thead>\n",
       "    <tr style=\"text-align: right;\">\n",
       "      <th></th>\n",
       "      <th>Site</th>\n",
       "      <th>percent</th>\n",
       "    </tr>\n",
       "  </thead>\n",
       "  <tbody>\n",
       "    <tr>\n",
       "      <th>M_A</th>\n",
       "      <td>161</td>\n",
       "      <td>21.52</td>\n",
       "    </tr>\n",
       "    <tr>\n",
       "      <th>M_i_A</th>\n",
       "      <td>159</td>\n",
       "      <td>21.26</td>\n",
       "    </tr>\n",
       "    <tr>\n",
       "      <th>M_i_neut</th>\n",
       "      <td>154</td>\n",
       "      <td>20.59</td>\n",
       "    </tr>\n",
       "    <tr>\n",
       "      <th>M_i_B</th>\n",
       "      <td>143</td>\n",
       "      <td>19.12</td>\n",
       "    </tr>\n",
       "    <tr>\n",
       "      <th>M_B</th>\n",
       "      <td>131</td>\n",
       "      <td>17.51</td>\n",
       "    </tr>\n",
       "  </tbody>\n",
       "</table>\n",
       "</div>"
      ],
      "text/plain": [
       "          Site  percent\n",
       "M_A        161    21.52\n",
       "M_i_A      159    21.26\n",
       "M_i_neut   154    20.59\n",
       "M_i_B      143    19.12\n",
       "M_B        131    17.51"
      ]
     },
     "execution_count": 13,
     "metadata": {},
     "output_type": "execute_result"
    }
   ],
   "source": [
    "RFR.counter(p32_dft, 'Site')"
   ]
  },
  {
   "cell_type": "markdown",
   "metadata": {},
   "source": [
    "#### Full chemical space data points (predicting data)\n",
    "- These data sets contain the descriptors for ~12,500 points of data. Each data point is a unique semiconductor/impurity dopant/dopant site combination.\n",
    "- Each target value being predicted (2 formation energy values, 6 transition energy values) have a different set of descriptors, the same descriptors as the corresponding training datasets above."
   ]
  },
  {
   "cell_type": "code",
   "execution_count": 14,
   "metadata": {
    "scrolled": false
   },
   "outputs": [],
   "source": [
    "a_12k = pd.read_csv('./xiaofeng_lasso/full_chemspace/HA_fullchem_6.16.csv')"
   ]
  },
  {
   "cell_type": "code",
   "execution_count": 15,
   "metadata": {},
   "outputs": [],
   "source": [
    "b_12k = pd.read_csv('./xiaofeng_lasso/full_chemspace/HB_fullchem_6.16.csv')"
   ]
  },
  {
   "cell_type": "code",
   "execution_count": 16,
   "metadata": {},
   "outputs": [],
   "source": [
    "p32_12k = pd.read_csv('./xiaofeng_lasso/full_chemspace/(+3,+2)_fullchem_6.16.csv')"
   ]
  },
  {
   "cell_type": "code",
   "execution_count": 17,
   "metadata": {},
   "outputs": [],
   "source": [
    "p21_12k = pd.read_csv('./xiaofeng_lasso/full_chemspace/(+2,+1)_fullchem_6.16.csv')"
   ]
  },
  {
   "cell_type": "code",
   "execution_count": 18,
   "metadata": {},
   "outputs": [],
   "source": [
    "p01_12k = pd.read_csv('./xiaofeng_lasso/full_chemspace/(+1,0)_fullchem_6.16.csv')"
   ]
  },
  {
   "cell_type": "code",
   "execution_count": 19,
   "metadata": {},
   "outputs": [],
   "source": [
    "m01_12k = pd.read_csv('./xiaofeng_lasso/full_chemspace/(0,-1)_fullchem_6.16.csv')"
   ]
  },
  {
   "cell_type": "code",
   "execution_count": 20,
   "metadata": {},
   "outputs": [],
   "source": [
    "m12_12k = pd.read_csv('./xiaofeng_lasso/full_chemspace/(-1,-2)_fullchem_6.16.csv')"
   ]
  },
  {
   "cell_type": "code",
   "execution_count": 21,
   "metadata": {},
   "outputs": [],
   "source": [
    "m23_12k = pd.read_csv('./xiaofeng_lasso/full_chemspace/(-2,-3)_fullchem_6.16.csv')"
   ]
  },
  {
   "cell_type": "markdown",
   "metadata": {},
   "source": [
    "The full chemical space predicting sets are:\n",
    "- ~25 % II-VI semicondcutors\n",
    "- ~26 % IV-IV semicondcutors\n",
    "- ~49 % III-V semiconductors\n",
    "\n",
    "There is approximately equal distribution of the defect site among all the data points"
   ]
  },
  {
   "cell_type": "code",
   "execution_count": 22,
   "metadata": {},
   "outputs": [
    {
     "name": "stdout",
     "output_type": "stream",
     "text": [
      "Total entries:  12474\n"
     ]
    },
    {
     "data": {
      "text/html": [
       "<div>\n",
       "<style scoped>\n",
       "    .dataframe tbody tr th:only-of-type {\n",
       "        vertical-align: middle;\n",
       "    }\n",
       "\n",
       "    .dataframe tbody tr th {\n",
       "        vertical-align: top;\n",
       "    }\n",
       "\n",
       "    .dataframe thead th {\n",
       "        text-align: right;\n",
       "    }\n",
       "</style>\n",
       "<table border=\"1\" class=\"dataframe\">\n",
       "  <thead>\n",
       "    <tr style=\"text-align: right;\">\n",
       "      <th></th>\n",
       "      <th>Type</th>\n",
       "      <th>percent</th>\n",
       "    </tr>\n",
       "  </thead>\n",
       "  <tbody>\n",
       "    <tr>\n",
       "      <th>III-V</th>\n",
       "      <td>6160</td>\n",
       "      <td>49.38</td>\n",
       "    </tr>\n",
       "    <tr>\n",
       "      <th>IV-IV</th>\n",
       "      <td>3234</td>\n",
       "      <td>25.93</td>\n",
       "    </tr>\n",
       "    <tr>\n",
       "      <th>II-VI</th>\n",
       "      <td>3080</td>\n",
       "      <td>24.69</td>\n",
       "    </tr>\n",
       "  </tbody>\n",
       "</table>\n",
       "</div>"
      ],
      "text/plain": [
       "       Type  percent\n",
       "III-V  6160    49.38\n",
       "IV-IV  3234    25.93\n",
       "II-VI  3080    24.69"
      ]
     },
     "execution_count": 22,
     "metadata": {},
     "output_type": "execute_result"
    }
   ],
   "source": [
    "RFR.counter(a_12k, 'Type')"
   ]
  },
  {
   "cell_type": "code",
   "execution_count": 23,
   "metadata": {},
   "outputs": [
    {
     "name": "stdout",
     "output_type": "stream",
     "text": [
      "Total entries:  12474\n"
     ]
    },
    {
     "data": {
      "text/html": [
       "<div>\n",
       "<style scoped>\n",
       "    .dataframe tbody tr th:only-of-type {\n",
       "        vertical-align: middle;\n",
       "    }\n",
       "\n",
       "    .dataframe tbody tr th {\n",
       "        vertical-align: top;\n",
       "    }\n",
       "\n",
       "    .dataframe thead th {\n",
       "        text-align: right;\n",
       "    }\n",
       "</style>\n",
       "<table border=\"1\" class=\"dataframe\">\n",
       "  <thead>\n",
       "    <tr style=\"text-align: right;\">\n",
       "      <th></th>\n",
       "      <th>Site</th>\n",
       "      <th>percent</th>\n",
       "    </tr>\n",
       "  </thead>\n",
       "  <tbody>\n",
       "    <tr>\n",
       "      <th>M_A</th>\n",
       "      <td>2618</td>\n",
       "      <td>20.99</td>\n",
       "    </tr>\n",
       "    <tr>\n",
       "      <th>M_i_neut</th>\n",
       "      <td>2618</td>\n",
       "      <td>20.99</td>\n",
       "    </tr>\n",
       "    <tr>\n",
       "      <th>M_i_A</th>\n",
       "      <td>2618</td>\n",
       "      <td>20.99</td>\n",
       "    </tr>\n",
       "    <tr>\n",
       "      <th>M_i_B</th>\n",
       "      <td>2310</td>\n",
       "      <td>18.52</td>\n",
       "    </tr>\n",
       "    <tr>\n",
       "      <th>M_B</th>\n",
       "      <td>2310</td>\n",
       "      <td>18.52</td>\n",
       "    </tr>\n",
       "  </tbody>\n",
       "</table>\n",
       "</div>"
      ],
      "text/plain": [
       "          Site  percent\n",
       "M_A       2618    20.99\n",
       "M_i_neut  2618    20.99\n",
       "M_i_A     2618    20.99\n",
       "M_i_B     2310    18.52\n",
       "M_B       2310    18.52"
      ]
     },
     "execution_count": 23,
     "metadata": {},
     "output_type": "execute_result"
    }
   ],
   "source": [
    "RFR.counter(a_12k, 'Site')"
   ]
  },
  {
   "cell_type": "markdown",
   "metadata": {},
   "source": [
    "-----"
   ]
  },
  {
   "cell_type": "markdown",
   "metadata": {},
   "source": [
    "A sample data set ~(0.1% of the size of the original data set), to perform a sample calculation"
   ]
  },
  {
   "cell_type": "code",
   "execution_count": 24,
   "metadata": {},
   "outputs": [],
   "source": [
    "sample_a_12k = a_12k.sample(frac=0.001)\n",
    "#sample_a_12k"
   ]
  },
  {
   "cell_type": "markdown",
   "metadata": {},
   "source": [
    "## Prediction and uncertainty calculation (through cross validation)\n",
    "\n",
    "I am runnning a prediction calculation with cross validation using the function ``uncertainty_rfr_cv``. The function takes in a data set to train the model, here it is ``a_dft``, and then another data set to predict on, here it is ``sample_a_12k``. In each fold of a 5-fold of cross validation, ~80% of the DFT data is used to train the model which will then predict on the full chemical space points. This is repeated n-folds times to make n-folds predictions for every point point in full chemical space data set. The mean and standard deviation across these 5 predictions is returned in a table. On the actual full 12,500 points, this calculation can take ~2 hrs, so I have added a timer thanks to tqdm that updates a progress bar to let you know where the progress is!"
   ]
  },
  {
   "cell_type": "code",
   "execution_count": 25,
   "metadata": {},
   "outputs": [
    {
     "data": {
      "application/vnd.jupyter.widget-view+json": {
       "model_id": "681ae72d9510446da62e84a60d2d00aa",
       "version_major": 2,
       "version_minor": 0
      },
      "text/plain": [
       "HBox(children=(FloatProgress(value=0.0, max=12.0), HTML(value='')))"
      ]
     },
     "metadata": {},
     "output_type": "display_data"
    },
    {
     "name": "stdout",
     "output_type": "stream",
     "text": [
      "\n"
     ]
    },
    {
     "data": {
      "application/vnd.jupyter.widget-view+json": {
       "model_id": "3e34ec03e5c449c284f15cb9ec3189a9",
       "version_major": 2,
       "version_minor": 0
      },
      "text/plain": [
       "HBox(children=(FloatProgress(value=0.0, max=12.0), HTML(value='')))"
      ]
     },
     "metadata": {},
     "output_type": "display_data"
    },
    {
     "name": "stdout",
     "output_type": "stream",
     "text": [
      "\n"
     ]
    },
    {
     "data": {
      "application/vnd.jupyter.widget-view+json": {
       "model_id": "98d59262eb0540f3829adba14d1d0ded",
       "version_major": 2,
       "version_minor": 0
      },
      "text/plain": [
       "HBox(children=(FloatProgress(value=0.0, max=12.0), HTML(value='')))"
      ]
     },
     "metadata": {},
     "output_type": "display_data"
    },
    {
     "name": "stdout",
     "output_type": "stream",
     "text": [
      "\n"
     ]
    },
    {
     "data": {
      "application/vnd.jupyter.widget-view+json": {
       "model_id": "2e3763d6d6e3448e9a6564f01b0ffa9b",
       "version_major": 2,
       "version_minor": 0
      },
      "text/plain": [
       "HBox(children=(FloatProgress(value=0.0, max=12.0), HTML(value='')))"
      ]
     },
     "metadata": {},
     "output_type": "display_data"
    },
    {
     "name": "stdout",
     "output_type": "stream",
     "text": [
      "\n"
     ]
    },
    {
     "data": {
      "application/vnd.jupyter.widget-view+json": {
       "model_id": "0ab8db1fae0d4bedabc25a04bc6b8d21",
       "version_major": 2,
       "version_minor": 0
      },
      "text/plain": [
       "HBox(children=(FloatProgress(value=0.0, max=12.0), HTML(value='')))"
      ]
     },
     "metadata": {},
     "output_type": "display_data"
    },
    {
     "name": "stdout",
     "output_type": "stream",
     "text": [
      "\n"
     ]
    }
   ],
   "source": [
    "dHA_sample, uncertdf_dHA_sample = \\\n",
    "    uncertainty_rfr.uncertainty_rfr_cv(a_dft, sample_a_12k, Y='none', o = 0, d_start=5, x_start=4, true_y=False,\n",
    "                                        num_trees=300, max_depth=10, max_feat='auto', min_samp_leaf=11, min_samples_split=6)"
   ]
  },
  {
   "cell_type": "markdown",
   "metadata": {},
   "source": [
    "This is the table that the function returns. This is just a fraction of the size of the actual data set returned from this calculation if it is performed on the full chemical space. If the points being predicted on had actual (or DFT) values associated with them, the column 'true val' would have values. Because the full chemical space points do not have values associated with them, the column is just 0 values."
   ]
  },
  {
   "cell_type": "code",
   "execution_count": 26,
   "metadata": {
    "scrolled": true
   },
   "outputs": [
    {
     "data": {
      "text/html": [
       "<div>\n",
       "<style scoped>\n",
       "    .dataframe tbody tr th:only-of-type {\n",
       "        vertical-align: middle;\n",
       "    }\n",
       "\n",
       "    .dataframe tbody tr th {\n",
       "        vertical-align: top;\n",
       "    }\n",
       "\n",
       "    .dataframe thead th {\n",
       "        text-align: right;\n",
       "    }\n",
       "</style>\n",
       "<table border=\"1\" class=\"dataframe\">\n",
       "  <thead>\n",
       "    <tr style=\"text-align: right;\">\n",
       "      <th></th>\n",
       "      <th>Type</th>\n",
       "      <th>AB</th>\n",
       "      <th>Site</th>\n",
       "      <th>Impurity</th>\n",
       "      <th>mean</th>\n",
       "      <th>std</th>\n",
       "    </tr>\n",
       "    <tr>\n",
       "      <th>index</th>\n",
       "      <th></th>\n",
       "      <th></th>\n",
       "      <th></th>\n",
       "      <th></th>\n",
       "      <th></th>\n",
       "      <th></th>\n",
       "    </tr>\n",
       "  </thead>\n",
       "  <tbody>\n",
       "    <tr>\n",
       "      <th>7245</th>\n",
       "      <td>III-V</td>\n",
       "      <td>GaAs</td>\n",
       "      <td>M_i_neut</td>\n",
       "      <td>Ca</td>\n",
       "      <td>2.923963</td>\n",
       "      <td>0.060011</td>\n",
       "    </tr>\n",
       "    <tr>\n",
       "      <th>4030</th>\n",
       "      <td>III-V</td>\n",
       "      <td>BAs</td>\n",
       "      <td>M_i_A</td>\n",
       "      <td>S</td>\n",
       "      <td>5.808407</td>\n",
       "      <td>0.444007</td>\n",
       "    </tr>\n",
       "    <tr>\n",
       "      <th>6935</th>\n",
       "      <td>III-V</td>\n",
       "      <td>GaAs</td>\n",
       "      <td>M_A</td>\n",
       "      <td>Be</td>\n",
       "      <td>2.652174</td>\n",
       "      <td>0.144376</td>\n",
       "    </tr>\n",
       "    <tr>\n",
       "      <th>1611</th>\n",
       "      <td>II-VI</td>\n",
       "      <td>ZnO</td>\n",
       "      <td>M_A</td>\n",
       "      <td>Dy</td>\n",
       "      <td>1.957564</td>\n",
       "      <td>0.071284</td>\n",
       "    </tr>\n",
       "    <tr>\n",
       "      <th>1605</th>\n",
       "      <td>II-VI</td>\n",
       "      <td>ZnO</td>\n",
       "      <td>M_A</td>\n",
       "      <td>Nd</td>\n",
       "      <td>1.975039</td>\n",
       "      <td>0.071741</td>\n",
       "    </tr>\n",
       "    <tr>\n",
       "      <th>8654</th>\n",
       "      <td>III-V</td>\n",
       "      <td>InAs</td>\n",
       "      <td>M_i_A</td>\n",
       "      <td>Cl</td>\n",
       "      <td>4.311744</td>\n",
       "      <td>0.124126</td>\n",
       "    </tr>\n",
       "    <tr>\n",
       "      <th>10224</th>\n",
       "      <td>IV-IV</td>\n",
       "      <td>SiC</td>\n",
       "      <td>M_A</td>\n",
       "      <td>Pt</td>\n",
       "      <td>2.979475</td>\n",
       "      <td>0.308714</td>\n",
       "    </tr>\n",
       "    <tr>\n",
       "      <th>1627</th>\n",
       "      <td>II-VI</td>\n",
       "      <td>ZnO</td>\n",
       "      <td>M_B</td>\n",
       "      <td>B</td>\n",
       "      <td>3.752713</td>\n",
       "      <td>0.146211</td>\n",
       "    </tr>\n",
       "    <tr>\n",
       "      <th>11181</th>\n",
       "      <td>IV-IV</td>\n",
       "      <td>SnC</td>\n",
       "      <td>M_i_B</td>\n",
       "      <td>Si</td>\n",
       "      <td>4.868275</td>\n",
       "      <td>0.332018</td>\n",
       "    </tr>\n",
       "    <tr>\n",
       "      <th>11915</th>\n",
       "      <td>IV-IV</td>\n",
       "      <td>SiSn</td>\n",
       "      <td>M_i_A</td>\n",
       "      <td>Re</td>\n",
       "      <td>5.480953</td>\n",
       "      <td>0.116615</td>\n",
       "    </tr>\n",
       "    <tr>\n",
       "      <th>7700</th>\n",
       "      <td>III-V</td>\n",
       "      <td>InN</td>\n",
       "      <td>M_A</td>\n",
       "      <td>Li</td>\n",
       "      <td>2.632305</td>\n",
       "      <td>0.232069</td>\n",
       "    </tr>\n",
       "    <tr>\n",
       "      <th>1566</th>\n",
       "      <td>II-VI</td>\n",
       "      <td>ZnO</td>\n",
       "      <td>M_A</td>\n",
       "      <td>S</td>\n",
       "      <td>5.305943</td>\n",
       "      <td>0.076434</td>\n",
       "    </tr>\n",
       "  </tbody>\n",
       "</table>\n",
       "</div>"
      ],
      "text/plain": [
       "        Type    AB      Site Impurity      mean       std\n",
       "index                                                    \n",
       "7245   III-V  GaAs  M_i_neut       Ca  2.923963  0.060011\n",
       "4030   III-V   BAs     M_i_A        S  5.808407  0.444007\n",
       "6935   III-V  GaAs       M_A       Be  2.652174  0.144376\n",
       "1611   II-VI   ZnO       M_A       Dy  1.957564  0.071284\n",
       "1605   II-VI   ZnO       M_A       Nd  1.975039  0.071741\n",
       "8654   III-V  InAs     M_i_A       Cl  4.311744  0.124126\n",
       "10224  IV-IV   SiC       M_A       Pt  2.979475  0.308714\n",
       "1627   II-VI   ZnO       M_B        B  3.752713  0.146211\n",
       "11181  IV-IV   SnC     M_i_B       Si  4.868275  0.332018\n",
       "11915  IV-IV  SiSn     M_i_A       Re  5.480953  0.116615\n",
       "7700   III-V   InN       M_A       Li  2.632305  0.232069\n",
       "1566   II-VI   ZnO       M_A        S  5.305943  0.076434"
      ]
     },
     "execution_count": 26,
     "metadata": {},
     "output_type": "execute_result"
    }
   ],
   "source": [
    "uncertdf_dHA_sample.drop(['true val'], axis=1)"
   ]
  },
  {
   "cell_type": "markdown",
   "metadata": {},
   "source": [
    "-------\n",
    "---------\n",
    "# Plotting the uncertainties\n",
    "Below, we can load in the predicted value data sets and evaluate the uncertainty from training across folds of the cross validation. Predictions using a machine learning model are never absolute measurements, there is uncertainty in the prediction. Here, we have leveraged the difference in training data to determine uncertainty in the models predictions."
   ]
  },
  {
   "cell_type": "markdown",
   "metadata": {},
   "source": [
    "### Loading in uncertainty datasets that I made with the function above"
   ]
  },
  {
   "cell_type": "code",
   "execution_count": 27,
   "metadata": {},
   "outputs": [],
   "source": [
    "uncert_a = pd.read_csv('./uncertainty/CV_uncertainty/6.16_200619/uncertCV12_6p16_HA.csv')"
   ]
  },
  {
   "cell_type": "code",
   "execution_count": 28,
   "metadata": {},
   "outputs": [],
   "source": [
    "uncert_b = pd.read_csv('./uncertainty/CV_uncertainty/6.16_200619/uncertCV12_6p16_HB.csv')"
   ]
  },
  {
   "cell_type": "code",
   "execution_count": 29,
   "metadata": {},
   "outputs": [],
   "source": [
    "uncert_p32 = pd.read_csv('./uncertainty/CV_uncertainty/6.16_200619/uncertCV12_6p16_(+3,+2).csv')"
   ]
  },
  {
   "cell_type": "code",
   "execution_count": 30,
   "metadata": {},
   "outputs": [],
   "source": [
    "uncert_p21 = pd.read_csv('./uncertainty/CV_uncertainty/6.16_200619/uncertCV12_6p16_(+2,+1).csv')"
   ]
  },
  {
   "cell_type": "code",
   "execution_count": 31,
   "metadata": {},
   "outputs": [],
   "source": [
    "uncert_0p1 = pd.read_csv('./uncertainty/CV_uncertainty/6.16_200619/uncertCV12_6p16_(+1,0).csv')"
   ]
  },
  {
   "cell_type": "code",
   "execution_count": 32,
   "metadata": {},
   "outputs": [],
   "source": [
    "uncert_0m1 = pd.read_csv('./uncertainty/CV_uncertainty/6.16_200619/uncertCV12_6p16_(0,-1).csv')"
   ]
  },
  {
   "cell_type": "code",
   "execution_count": 33,
   "metadata": {},
   "outputs": [],
   "source": [
    "uncert_m12 = pd.read_csv('./uncertainty/CV_uncertainty/6.16_200619/uncertCV12_6p16_(-1,-2).csv')"
   ]
  },
  {
   "cell_type": "code",
   "execution_count": 34,
   "metadata": {},
   "outputs": [],
   "source": [
    "uncert_m23 = pd.read_csv('./uncertainty/CV_uncertainty/6.16_200619/uncertCV12_6p16_(-2,-3).csv')"
   ]
  },
  {
   "cell_type": "markdown",
   "metadata": {},
   "source": [
    "Function to visualize and evaluate the standard deviation in predicitons, per output"
   ]
  },
  {
   "cell_type": "code",
   "execution_count": 35,
   "metadata": {},
   "outputs": [],
   "source": [
    "def fullchem_describe(df, col='std', plt_title='dHA'):\n",
    "    '''\n",
    "    This function makes a dataframe of the mean, std dev, median, min and max\n",
    "    of a column of data from a dataframe, and also plots a hist of the points\n",
    "    in that column. \n",
    "    \n",
    "    Inputs\n",
    "        - df: pandas df. From the uncertainty_rfr_cv function above.\n",
    "        - col: str. column from df to calc the mean, std dev, median,\n",
    "        min and max. Default: std\n",
    "        - plt_title: str. Title for the plot, and for the x-axis. Default: dHA\n",
    "    Outputs\n",
    "        - descrip: pd df. mean, std dev, min, median, max of a column of data.\n",
    "    '''\n",
    "    count = pd.DataFrame(data= df[col].describe())\n",
    "    descrip = count.T.drop(['count', '25%', '75%'], axis=1)\n",
    "    descrip.insert(0, 'output', plt_title)\n",
    "    descrip.set_index('output', inplace=True)\n",
    "    \n",
    "    plt.hist(df[col], bins=300)\n",
    "    plt.title(plt_title, fontsize=18)\n",
    "    plt.xlabel('Std dev of predicted {} (eV)'.format(plt_title), fontsize=14)\n",
    "    plt.show()\n",
    "    \n",
    "    return descrip"
   ]
  },
  {
   "cell_type": "code",
   "execution_count": 36,
   "metadata": {
    "scrolled": true
   },
   "outputs": [],
   "source": [
    "def minmax_range(df, col):\n",
    "    '''\n",
    "    Finds the range of values in a column of data\n",
    "    Inputs\n",
    "        - df: pandas df. From the uncertainty_rfr_cv function above.\n",
    "        - col: str. column from df to caculate range on\n",
    "    Outputs\n",
    "        - delta: float. range value of the column.\n",
    "    '''\n",
    "    delta = df[col].max()-df[col].min()\n",
    "    \n",
    "    return round(delta,3)"
   ]
  },
  {
   "cell_type": "markdown",
   "metadata": {},
   "source": [
    "----\n",
    "For each output, the range of predicted values is first calculated to get a sense of the values for the energy predictions could be (this in eV). Then, uncertainty (determined by the standard deviation of the values across the folds of cross validation) is plotted and a table of the mean, standard devviation, minimum, median, and maximum of the cross validation standard deviation values is displayed."
   ]
  },
  {
   "cell_type": "markdown",
   "metadata": {},
   "source": [
    "### ∆H (A-rich)\t"
   ]
  },
  {
   "cell_type": "code",
   "execution_count": 37,
   "metadata": {
    "scrolled": true
   },
   "outputs": [
    {
     "data": {
      "text/plain": [
       "6.396"
      ]
     },
     "execution_count": 37,
     "metadata": {},
     "output_type": "execute_result"
    }
   ],
   "source": [
    "minmax_range(uncert_a, 'mean')"
   ]
  },
  {
   "cell_type": "code",
   "execution_count": 38,
   "metadata": {},
   "outputs": [
    {
     "data": {
      "image/png": "[encoded data removed]",
      "text/plain": [
       "<Figure size 432x288 with 1 Axes>"
      ]
     },
     "metadata": {
      "needs_background": "light"
     },
     "output_type": "display_data"
    },
    {
     "data": {
      "text/html": [
       "<div>\n",
       "<style scoped>\n",
       "    .dataframe tbody tr th:only-of-type {\n",
       "        vertical-align: middle;\n",
       "    }\n",
       "\n",
       "    .dataframe tbody tr th {\n",
       "        vertical-align: top;\n",
       "    }\n",
       "\n",
       "    .dataframe thead th {\n",
       "        text-align: right;\n",
       "    }\n",
       "</style>\n",
       "<table border=\"1\" class=\"dataframe\">\n",
       "  <thead>\n",
       "    <tr style=\"text-align: right;\">\n",
       "      <th></th>\n",
       "      <th>mean</th>\n",
       "      <th>std</th>\n",
       "      <th>min</th>\n",
       "      <th>50%</th>\n",
       "      <th>max</th>\n",
       "    </tr>\n",
       "    <tr>\n",
       "      <th>output</th>\n",
       "      <th></th>\n",
       "      <th></th>\n",
       "      <th></th>\n",
       "      <th></th>\n",
       "      <th></th>\n",
       "    </tr>\n",
       "  </thead>\n",
       "  <tbody>\n",
       "    <tr>\n",
       "      <th>∆H (A-rich)</th>\n",
       "      <td>0.191737</td>\n",
       "      <td>0.101286</td>\n",
       "      <td>0.010452</td>\n",
       "      <td>0.172821</td>\n",
       "      <td>0.766347</td>\n",
       "    </tr>\n",
       "  </tbody>\n",
       "</table>\n",
       "</div>"
      ],
      "text/plain": [
       "                 mean       std       min       50%       max\n",
       "output                                                       \n",
       "∆H (A-rich)  0.191737  0.101286  0.010452  0.172821  0.766347"
      ]
     },
     "execution_count": 38,
     "metadata": {},
     "output_type": "execute_result"
    }
   ],
   "source": [
    "a_sd_plot = fullchem_describe(uncert_a, 'std', '∆H (A-rich)')\n",
    "a_sd_plot"
   ]
  },
  {
   "cell_type": "markdown",
   "metadata": {},
   "source": [
    "### ∆H (B-rich)\t"
   ]
  },
  {
   "cell_type": "code",
   "execution_count": 39,
   "metadata": {},
   "outputs": [
    {
     "data": {
      "text/plain": [
       "8.584"
      ]
     },
     "execution_count": 39,
     "metadata": {},
     "output_type": "execute_result"
    }
   ],
   "source": [
    "minmax_range(uncert_b, 'mean')"
   ]
  },
  {
   "cell_type": "code",
   "execution_count": 54,
   "metadata": {},
   "outputs": [
    {
     "data": {
      "image/png": "[encoded data removed]",
      "text/plain": [
       "<Figure size 432x288 with 1 Axes>"
      ]
     },
     "metadata": {
      "needs_background": "light"
     },
     "output_type": "display_data"
    },
    {
     "data": {
      "text/html": [
       "<div>\n",
       "<style scoped>\n",
       "    .dataframe tbody tr th:only-of-type {\n",
       "        vertical-align: middle;\n",
       "    }\n",
       "\n",
       "    .dataframe tbody tr th {\n",
       "        vertical-align: top;\n",
       "    }\n",
       "\n",
       "    .dataframe thead th {\n",
       "        text-align: right;\n",
       "    }\n",
       "</style>\n",
       "<table border=\"1\" class=\"dataframe\">\n",
       "  <thead>\n",
       "    <tr style=\"text-align: right;\">\n",
       "      <th></th>\n",
       "      <th>mean</th>\n",
       "      <th>std</th>\n",
       "      <th>min</th>\n",
       "      <th>50%</th>\n",
       "      <th>max</th>\n",
       "    </tr>\n",
       "    <tr>\n",
       "      <th>output</th>\n",
       "      <th></th>\n",
       "      <th></th>\n",
       "      <th></th>\n",
       "      <th></th>\n",
       "      <th></th>\n",
       "    </tr>\n",
       "  </thead>\n",
       "  <tbody>\n",
       "    <tr>\n",
       "      <th>∆H (B-rich)</th>\n",
       "      <td>0.244152</td>\n",
       "      <td>0.143338</td>\n",
       "      <td>0.015137</td>\n",
       "      <td>0.216274</td>\n",
       "      <td>1.118624</td>\n",
       "    </tr>\n",
       "  </tbody>\n",
       "</table>\n",
       "</div>"
      ],
      "text/plain": [
       "                 mean       std       min       50%       max\n",
       "output                                                       \n",
       "∆H (B-rich)  0.244152  0.143338  0.015137  0.216274  1.118624"
      ]
     },
     "execution_count": 54,
     "metadata": {},
     "output_type": "execute_result"
    }
   ],
   "source": [
    "b_sd_plot = fullchem_describe(uncert_b, 'std', '∆H (B-rich)')\n",
    "b_sd_plot"
   ]
  },
  {
   "cell_type": "markdown",
   "metadata": {},
   "source": [
    "### (+3/+2)"
   ]
  },
  {
   "cell_type": "code",
   "execution_count": 41,
   "metadata": {},
   "outputs": [
    {
     "data": {
      "text/plain": [
       "1.778"
      ]
     },
     "execution_count": 41,
     "metadata": {},
     "output_type": "execute_result"
    }
   ],
   "source": [
    "minmax_range(uncert_p32, 'mean')"
   ]
  },
  {
   "cell_type": "code",
   "execution_count": 42,
   "metadata": {},
   "outputs": [
    {
     "data": {
      "image/png": "[encoded data removed]",
      "text/plain": [
       "<Figure size 432x288 with 1 Axes>"
      ]
     },
     "metadata": {
      "needs_background": "light"
     },
     "output_type": "display_data"
    },
    {
     "data": {
      "text/html": [
       "<div>\n",
       "<style scoped>\n",
       "    .dataframe tbody tr th:only-of-type {\n",
       "        vertical-align: middle;\n",
       "    }\n",
       "\n",
       "    .dataframe tbody tr th {\n",
       "        vertical-align: top;\n",
       "    }\n",
       "\n",
       "    .dataframe thead th {\n",
       "        text-align: right;\n",
       "    }\n",
       "</style>\n",
       "<table border=\"1\" class=\"dataframe\">\n",
       "  <thead>\n",
       "    <tr style=\"text-align: right;\">\n",
       "      <th></th>\n",
       "      <th>mean</th>\n",
       "      <th>std</th>\n",
       "      <th>min</th>\n",
       "      <th>50%</th>\n",
       "      <th>max</th>\n",
       "    </tr>\n",
       "    <tr>\n",
       "      <th>output</th>\n",
       "      <th></th>\n",
       "      <th></th>\n",
       "      <th></th>\n",
       "      <th></th>\n",
       "      <th></th>\n",
       "    </tr>\n",
       "  </thead>\n",
       "  <tbody>\n",
       "    <tr>\n",
       "      <th>(+3/+2)</th>\n",
       "      <td>0.05378</td>\n",
       "      <td>0.027507</td>\n",
       "      <td>0.002269</td>\n",
       "      <td>0.049573</td>\n",
       "      <td>0.190024</td>\n",
       "    </tr>\n",
       "  </tbody>\n",
       "</table>\n",
       "</div>"
      ],
      "text/plain": [
       "            mean       std       min       50%       max\n",
       "output                                                  \n",
       "(+3/+2)  0.05378  0.027507  0.002269  0.049573  0.190024"
      ]
     },
     "execution_count": 42,
     "metadata": {},
     "output_type": "execute_result"
    }
   ],
   "source": [
    "p32_sd_plot = fullchem_describe(uncert_p32, 'std', '(+3/+2)')\n",
    "p32_sd_plot"
   ]
  },
  {
   "cell_type": "markdown",
   "metadata": {},
   "source": [
    "### (+2/+1)"
   ]
  },
  {
   "cell_type": "code",
   "execution_count": 43,
   "metadata": {
    "scrolled": true
   },
   "outputs": [
    {
     "data": {
      "text/plain": [
       "1.679"
      ]
     },
     "execution_count": 43,
     "metadata": {},
     "output_type": "execute_result"
    }
   ],
   "source": [
    "minmax_range(uncert_p21, 'mean')"
   ]
  },
  {
   "cell_type": "code",
   "execution_count": 44,
   "metadata": {
    "scrolled": false
   },
   "outputs": [
    {
     "data": {
      "image/png": "[encoded data removed]",
      "text/plain": [
       "<Figure size 432x288 with 1 Axes>"
      ]
     },
     "metadata": {
      "needs_background": "light"
     },
     "output_type": "display_data"
    },
    {
     "data": {
      "text/html": [
       "<div>\n",
       "<style scoped>\n",
       "    .dataframe tbody tr th:only-of-type {\n",
       "        vertical-align: middle;\n",
       "    }\n",
       "\n",
       "    .dataframe tbody tr th {\n",
       "        vertical-align: top;\n",
       "    }\n",
       "\n",
       "    .dataframe thead th {\n",
       "        text-align: right;\n",
       "    }\n",
       "</style>\n",
       "<table border=\"1\" class=\"dataframe\">\n",
       "  <thead>\n",
       "    <tr style=\"text-align: right;\">\n",
       "      <th></th>\n",
       "      <th>mean</th>\n",
       "      <th>std</th>\n",
       "      <th>min</th>\n",
       "      <th>50%</th>\n",
       "      <th>max</th>\n",
       "    </tr>\n",
       "    <tr>\n",
       "      <th>output</th>\n",
       "      <th></th>\n",
       "      <th></th>\n",
       "      <th></th>\n",
       "      <th></th>\n",
       "      <th></th>\n",
       "    </tr>\n",
       "  </thead>\n",
       "  <tbody>\n",
       "    <tr>\n",
       "      <th>(+2/+1)</th>\n",
       "      <td>0.037406</td>\n",
       "      <td>0.018502</td>\n",
       "      <td>0.0018</td>\n",
       "      <td>0.034336</td>\n",
       "      <td>0.201429</td>\n",
       "    </tr>\n",
       "  </tbody>\n",
       "</table>\n",
       "</div>"
      ],
      "text/plain": [
       "             mean       std     min       50%       max\n",
       "output                                                 \n",
       "(+2/+1)  0.037406  0.018502  0.0018  0.034336  0.201429"
      ]
     },
     "execution_count": 44,
     "metadata": {},
     "output_type": "execute_result"
    }
   ],
   "source": [
    "p21_sd_plot = fullchem_describe(uncert_p21, 'std', '(+2/+1)')\n",
    "p21_sd_plot"
   ]
  },
  {
   "cell_type": "markdown",
   "metadata": {},
   "source": [
    "### (+1/0)"
   ]
  },
  {
   "cell_type": "code",
   "execution_count": 45,
   "metadata": {},
   "outputs": [
    {
     "data": {
      "text/plain": [
       "2.158"
      ]
     },
     "execution_count": 45,
     "metadata": {},
     "output_type": "execute_result"
    }
   ],
   "source": [
    "minmax_range(uncert_0p1, 'mean')"
   ]
  },
  {
   "cell_type": "code",
   "execution_count": 46,
   "metadata": {},
   "outputs": [
    {
     "data": {
      "image/png": "[encoded data removed]",
      "text/plain": [
       "<Figure size 432x288 with 1 Axes>"
      ]
     },
     "metadata": {
      "needs_background": "light"
     },
     "output_type": "display_data"
    },
    {
     "data": {
      "text/html": [
       "<div>\n",
       "<style scoped>\n",
       "    .dataframe tbody tr th:only-of-type {\n",
       "        vertical-align: middle;\n",
       "    }\n",
       "\n",
       "    .dataframe tbody tr th {\n",
       "        vertical-align: top;\n",
       "    }\n",
       "\n",
       "    .dataframe thead th {\n",
       "        text-align: right;\n",
       "    }\n",
       "</style>\n",
       "<table border=\"1\" class=\"dataframe\">\n",
       "  <thead>\n",
       "    <tr style=\"text-align: right;\">\n",
       "      <th></th>\n",
       "      <th>mean</th>\n",
       "      <th>std</th>\n",
       "      <th>min</th>\n",
       "      <th>50%</th>\n",
       "      <th>max</th>\n",
       "    </tr>\n",
       "    <tr>\n",
       "      <th>output</th>\n",
       "      <th></th>\n",
       "      <th></th>\n",
       "      <th></th>\n",
       "      <th></th>\n",
       "      <th></th>\n",
       "    </tr>\n",
       "  </thead>\n",
       "  <tbody>\n",
       "    <tr>\n",
       "      <th>(+1/0)</th>\n",
       "      <td>0.062867</td>\n",
       "      <td>0.029311</td>\n",
       "      <td>0.001726</td>\n",
       "      <td>0.058986</td>\n",
       "      <td>0.281389</td>\n",
       "    </tr>\n",
       "  </tbody>\n",
       "</table>\n",
       "</div>"
      ],
      "text/plain": [
       "            mean       std       min       50%       max\n",
       "output                                                  \n",
       "(+1/0)  0.062867  0.029311  0.001726  0.058986  0.281389"
      ]
     },
     "execution_count": 46,
     "metadata": {},
     "output_type": "execute_result"
    }
   ],
   "source": [
    "p01_sd_plot = fullchem_describe(uncert_0p1, 'std', '(+1/0)')\n",
    "p01_sd_plot"
   ]
  },
  {
   "cell_type": "markdown",
   "metadata": {},
   "source": [
    "### (0/-1)"
   ]
  },
  {
   "cell_type": "code",
   "execution_count": 47,
   "metadata": {},
   "outputs": [
    {
     "data": {
      "text/plain": [
       "2.641"
      ]
     },
     "execution_count": 47,
     "metadata": {},
     "output_type": "execute_result"
    }
   ],
   "source": [
    "minmax_range(uncert_0m1, 'mean')"
   ]
  },
  {
   "cell_type": "code",
   "execution_count": 48,
   "metadata": {},
   "outputs": [
    {
     "data": {
      "image/png": "[encoded data removed]",
      "text/plain": [
       "<Figure size 432x288 with 1 Axes>"
      ]
     },
     "metadata": {
      "needs_background": "light"
     },
     "output_type": "display_data"
    },
    {
     "data": {
      "text/html": [
       "<div>\n",
       "<style scoped>\n",
       "    .dataframe tbody tr th:only-of-type {\n",
       "        vertical-align: middle;\n",
       "    }\n",
       "\n",
       "    .dataframe tbody tr th {\n",
       "        vertical-align: top;\n",
       "    }\n",
       "\n",
       "    .dataframe thead th {\n",
       "        text-align: right;\n",
       "    }\n",
       "</style>\n",
       "<table border=\"1\" class=\"dataframe\">\n",
       "  <thead>\n",
       "    <tr style=\"text-align: right;\">\n",
       "      <th></th>\n",
       "      <th>mean</th>\n",
       "      <th>std</th>\n",
       "      <th>min</th>\n",
       "      <th>50%</th>\n",
       "      <th>max</th>\n",
       "    </tr>\n",
       "    <tr>\n",
       "      <th>output</th>\n",
       "      <th></th>\n",
       "      <th></th>\n",
       "      <th></th>\n",
       "      <th></th>\n",
       "      <th></th>\n",
       "    </tr>\n",
       "  </thead>\n",
       "  <tbody>\n",
       "    <tr>\n",
       "      <th>(0/-1)</th>\n",
       "      <td>0.046796</td>\n",
       "      <td>0.021664</td>\n",
       "      <td>0.002539</td>\n",
       "      <td>0.043814</td>\n",
       "      <td>0.28933</td>\n",
       "    </tr>\n",
       "  </tbody>\n",
       "</table>\n",
       "</div>"
      ],
      "text/plain": [
       "            mean       std       min       50%      max\n",
       "output                                                 \n",
       "(0/-1)  0.046796  0.021664  0.002539  0.043814  0.28933"
      ]
     },
     "execution_count": 48,
     "metadata": {},
     "output_type": "execute_result"
    }
   ],
   "source": [
    "m01_sd_plot = fullchem_describe(uncert_0m1, 'std', '(0/-1)')\n",
    "m01_sd_plot"
   ]
  },
  {
   "cell_type": "markdown",
   "metadata": {},
   "source": [
    "### (-1/-2)"
   ]
  },
  {
   "cell_type": "code",
   "execution_count": 49,
   "metadata": {},
   "outputs": [
    {
     "data": {
      "text/plain": [
       "3.275"
      ]
     },
     "execution_count": 49,
     "metadata": {},
     "output_type": "execute_result"
    }
   ],
   "source": [
    "minmax_range(uncert_m12, 'mean')"
   ]
  },
  {
   "cell_type": "code",
   "execution_count": 50,
   "metadata": {},
   "outputs": [
    {
     "data": {
      "image/png": "[encoded data removed]",
      "text/plain": [
       "<Figure size 432x288 with 1 Axes>"
      ]
     },
     "metadata": {
      "needs_background": "light"
     },
     "output_type": "display_data"
    },
    {
     "data": {
      "text/html": [
       "<div>\n",
       "<style scoped>\n",
       "    .dataframe tbody tr th:only-of-type {\n",
       "        vertical-align: middle;\n",
       "    }\n",
       "\n",
       "    .dataframe tbody tr th {\n",
       "        vertical-align: top;\n",
       "    }\n",
       "\n",
       "    .dataframe thead th {\n",
       "        text-align: right;\n",
       "    }\n",
       "</style>\n",
       "<table border=\"1\" class=\"dataframe\">\n",
       "  <thead>\n",
       "    <tr style=\"text-align: right;\">\n",
       "      <th></th>\n",
       "      <th>mean</th>\n",
       "      <th>std</th>\n",
       "      <th>min</th>\n",
       "      <th>50%</th>\n",
       "      <th>max</th>\n",
       "    </tr>\n",
       "    <tr>\n",
       "      <th>output</th>\n",
       "      <th></th>\n",
       "      <th></th>\n",
       "      <th></th>\n",
       "      <th></th>\n",
       "      <th></th>\n",
       "    </tr>\n",
       "  </thead>\n",
       "  <tbody>\n",
       "    <tr>\n",
       "      <th>(-1/-2)</th>\n",
       "      <td>0.051797</td>\n",
       "      <td>0.024461</td>\n",
       "      <td>0.004093</td>\n",
       "      <td>0.048222</td>\n",
       "      <td>0.220061</td>\n",
       "    </tr>\n",
       "  </tbody>\n",
       "</table>\n",
       "</div>"
      ],
      "text/plain": [
       "             mean       std       min       50%       max\n",
       "output                                                   \n",
       "(-1/-2)  0.051797  0.024461  0.004093  0.048222  0.220061"
      ]
     },
     "execution_count": 50,
     "metadata": {},
     "output_type": "execute_result"
    }
   ],
   "source": [
    "m12_sd_plot = fullchem_describe(uncert_m12, 'std', '(-1/-2)')\n",
    "m12_sd_plot"
   ]
  },
  {
   "cell_type": "markdown",
   "metadata": {},
   "source": [
    "### (-2/-3)"
   ]
  },
  {
   "cell_type": "code",
   "execution_count": 51,
   "metadata": {
    "scrolled": true
   },
   "outputs": [
    {
     "data": {
      "text/plain": [
       "3.662"
      ]
     },
     "execution_count": 51,
     "metadata": {},
     "output_type": "execute_result"
    }
   ],
   "source": [
    "minmax_range(uncert_m23, 'mean')"
   ]
  },
  {
   "cell_type": "code",
   "execution_count": 52,
   "metadata": {},
   "outputs": [
    {
     "data": {
      "image/png": "[encoded data removed]",
      "text/plain": [
       "<Figure size 432x288 with 1 Axes>"
      ]
     },
     "metadata": {
      "needs_background": "light"
     },
     "output_type": "display_data"
    },
    {
     "data": {
      "text/html": [
       "<div>\n",
       "<style scoped>\n",
       "    .dataframe tbody tr th:only-of-type {\n",
       "        vertical-align: middle;\n",
       "    }\n",
       "\n",
       "    .dataframe tbody tr th {\n",
       "        vertical-align: top;\n",
       "    }\n",
       "\n",
       "    .dataframe thead th {\n",
       "        text-align: right;\n",
       "    }\n",
       "</style>\n",
       "<table border=\"1\" class=\"dataframe\">\n",
       "  <thead>\n",
       "    <tr style=\"text-align: right;\">\n",
       "      <th></th>\n",
       "      <th>mean</th>\n",
       "      <th>std</th>\n",
       "      <th>min</th>\n",
       "      <th>50%</th>\n",
       "      <th>max</th>\n",
       "    </tr>\n",
       "    <tr>\n",
       "      <th>output</th>\n",
       "      <th></th>\n",
       "      <th></th>\n",
       "      <th></th>\n",
       "      <th></th>\n",
       "      <th></th>\n",
       "    </tr>\n",
       "  </thead>\n",
       "  <tbody>\n",
       "    <tr>\n",
       "      <th>(-2/-3)</th>\n",
       "      <td>0.039814</td>\n",
       "      <td>0.021945</td>\n",
       "      <td>0.003067</td>\n",
       "      <td>0.034897</td>\n",
       "      <td>0.140192</td>\n",
       "    </tr>\n",
       "  </tbody>\n",
       "</table>\n",
       "</div>"
      ],
      "text/plain": [
       "             mean       std       min       50%       max\n",
       "output                                                   \n",
       "(-2/-3)  0.039814  0.021945  0.003067  0.034897  0.140192"
      ]
     },
     "execution_count": 52,
     "metadata": {},
     "output_type": "execute_result"
    }
   ],
   "source": [
    "m23_sd_plot = fullchem_describe(uncert_m23, 'std', '(-2/-3)')\n",
    "m23_sd_plot"
   ]
  },
  {
   "cell_type": "markdown",
   "metadata": {},
   "source": [
    "Comparing all the results shows that the output values that span a larger range, the formation energies, are predicted with higher uncertainty. But, relatively speaking, the differences in predictions between folds of the cross validation are relatively low."
   ]
  },
  {
   "cell_type": "code",
   "execution_count": 55,
   "metadata": {},
   "outputs": [
    {
     "data": {
      "text/html": [
       "<div>\n",
       "<style scoped>\n",
       "    .dataframe tbody tr th:only-of-type {\n",
       "        vertical-align: middle;\n",
       "    }\n",
       "\n",
       "    .dataframe tbody tr th {\n",
       "        vertical-align: top;\n",
       "    }\n",
       "\n",
       "    .dataframe thead th {\n",
       "        text-align: right;\n",
       "    }\n",
       "</style>\n",
       "<table border=\"1\" class=\"dataframe\">\n",
       "  <thead>\n",
       "    <tr style=\"text-align: right;\">\n",
       "      <th></th>\n",
       "      <th>mean</th>\n",
       "      <th>std</th>\n",
       "      <th>min</th>\n",
       "      <th>50%</th>\n",
       "      <th>max</th>\n",
       "    </tr>\n",
       "    <tr>\n",
       "      <th>output</th>\n",
       "      <th></th>\n",
       "      <th></th>\n",
       "      <th></th>\n",
       "      <th></th>\n",
       "      <th></th>\n",
       "    </tr>\n",
       "  </thead>\n",
       "  <tbody>\n",
       "    <tr>\n",
       "      <th>∆H (A-rich)</th>\n",
       "      <td>0.191737</td>\n",
       "      <td>0.101286</td>\n",
       "      <td>0.010452</td>\n",
       "      <td>0.172821</td>\n",
       "      <td>0.766347</td>\n",
       "    </tr>\n",
       "    <tr>\n",
       "      <th>∆H (B-rich)</th>\n",
       "      <td>0.244152</td>\n",
       "      <td>0.143338</td>\n",
       "      <td>0.015137</td>\n",
       "      <td>0.216274</td>\n",
       "      <td>1.118624</td>\n",
       "    </tr>\n",
       "    <tr>\n",
       "      <th>(+3/+2)</th>\n",
       "      <td>0.053780</td>\n",
       "      <td>0.027507</td>\n",
       "      <td>0.002269</td>\n",
       "      <td>0.049573</td>\n",
       "      <td>0.190024</td>\n",
       "    </tr>\n",
       "    <tr>\n",
       "      <th>(+2/+1)</th>\n",
       "      <td>0.037406</td>\n",
       "      <td>0.018502</td>\n",
       "      <td>0.001800</td>\n",
       "      <td>0.034336</td>\n",
       "      <td>0.201429</td>\n",
       "    </tr>\n",
       "    <tr>\n",
       "      <th>(+1/0)</th>\n",
       "      <td>0.062867</td>\n",
       "      <td>0.029311</td>\n",
       "      <td>0.001726</td>\n",
       "      <td>0.058986</td>\n",
       "      <td>0.281389</td>\n",
       "    </tr>\n",
       "    <tr>\n",
       "      <th>(0/-1)</th>\n",
       "      <td>0.046796</td>\n",
       "      <td>0.021664</td>\n",
       "      <td>0.002539</td>\n",
       "      <td>0.043814</td>\n",
       "      <td>0.289330</td>\n",
       "    </tr>\n",
       "    <tr>\n",
       "      <th>(-1/-2)</th>\n",
       "      <td>0.051797</td>\n",
       "      <td>0.024461</td>\n",
       "      <td>0.004093</td>\n",
       "      <td>0.048222</td>\n",
       "      <td>0.220061</td>\n",
       "    </tr>\n",
       "    <tr>\n",
       "      <th>(-2/-3)</th>\n",
       "      <td>0.039814</td>\n",
       "      <td>0.021945</td>\n",
       "      <td>0.003067</td>\n",
       "      <td>0.034897</td>\n",
       "      <td>0.140192</td>\n",
       "    </tr>\n",
       "  </tbody>\n",
       "</table>\n",
       "</div>"
      ],
      "text/plain": [
       "                 mean       std       min       50%       max\n",
       "output                                                       \n",
       "∆H (A-rich)  0.191737  0.101286  0.010452  0.172821  0.766347\n",
       "∆H (B-rich)  0.244152  0.143338  0.015137  0.216274  1.118624\n",
       "(+3/+2)      0.053780  0.027507  0.002269  0.049573  0.190024\n",
       "(+2/+1)      0.037406  0.018502  0.001800  0.034336  0.201429\n",
       "(+1/0)       0.062867  0.029311  0.001726  0.058986  0.281389\n",
       "(0/-1)       0.046796  0.021664  0.002539  0.043814  0.289330\n",
       "(-1/-2)      0.051797  0.024461  0.004093  0.048222  0.220061\n",
       "(-2/-3)      0.039814  0.021945  0.003067  0.034897  0.140192"
      ]
     },
     "execution_count": 55,
     "metadata": {},
     "output_type": "execute_result"
    }
   ],
   "source": [
    "concat = pd.concat([a_sd_plot, b_sd_plot, p32_sd_plot,\n",
    "           p21_sd_plot, p01_sd_plot, m01_sd_plot,\n",
    "           m12_sd_plot, m23_sd_plot])\n",
    "concat"
   ]
  },
  {
   "cell_type": "markdown",
   "metadata": {},
   "source": [
    "------\n",
    "### Quantile Regression Forests\n",
    "There are other ways to evaluate uncertainty in Random Forest Regression. One way is called quantile regression forest (QRF). In this method, the prediction from every tree in the random forest is recorded (instead of the normal RFR method where a mean of all the trees gives the prediction in the end). Recording everyone of these predictions creates a gaussian distribution of vallues, and similar to this method, the mean and std deviation can be calculated. There is a function ``uncertainty_rfr_qfr`` that performs this calculation. I have found that the QFR method gives a much larger distribution of values. I think this is because some of the trees in the forest do not select good descriptors to make good predictions off of. In normal RFR, these trees would be given less when when the forest is being calculated, but in QFR it is given equal weight as every other point. "
   ]
  },
  {
   "cell_type": "code",
   "execution_count": null,
   "metadata": {},
   "outputs": [],
   "source": []
  }
 ],
 "metadata": {
  "kernelspec": {
   "display_name": "Python 3",
   "language": "python",
   "name": "python3"
  },
  "language_info": {
   "codemirror_mode": {
    "name": "ipython",
    "version": 3
   },
   "file_extension": ".py",
   "mimetype": "text/x-python",
   "name": "python",
   "nbconvert_exporter": "python",
   "pygments_lexer": "ipython3",
   "version": "3.7.7"
  }
 },
 "nbformat": 4,
 "nbformat_minor": 4
}
