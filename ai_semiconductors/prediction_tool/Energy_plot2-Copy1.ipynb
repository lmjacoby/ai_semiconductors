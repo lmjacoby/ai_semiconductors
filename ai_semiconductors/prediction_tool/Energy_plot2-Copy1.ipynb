{
 "cells": [
  {
   "cell_type": "code",
   "execution_count": 1,
   "metadata": {
    "ExecuteTime": {
     "end_time": "2020-06-22T22:56:57.909568Z",
     "start_time": "2020-06-22T22:56:56.899756Z"
    }
   },
   "outputs": [],
   "source": [
    "import numpy as np\n",
    "import matplotlib.pyplot as plt\n",
    "import pandas as pd\n",
    "from matplotlib.lines import Line2D \n",
    "%matplotlib inline\n",
    "from ipywidgets import widgets, interactive"
   ]
  },
  {
   "cell_type": "code",
   "execution_count": 2,
   "metadata": {
    "ExecuteTime": {
     "end_time": "2020-06-22T22:57:24.309162Z",
     "start_time": "2020-06-22T22:56:59.210078Z"
    },
    "code_folding": []
   },
   "outputs": [],
   "source": [
    "#read prediction data and DFT data\n",
    "KRR = pd.read_csv('Prediction_KRR.csv')\n",
    "RFR = pd.read_csv('Prediction_RFR.csv')\n",
    "NN = pd.read_csv('Prediction_NN.csv')\n",
    "DFT = pd.read_excel('ML_data_v2.xlsx', sheet_name='DFT_data')\n",
    "#DFT2 = pd.read_excel('pred_tool_total.xlsx', sheet_name='DFT_data')\n",
    "Fullchem = pd.read_excel('ML_data_v2.xlsx', sheet_name='Full_chem_space')"
   ]
  },
  {
   "cell_type": "code",
   "execution_count": 6,
   "metadata": {
    "ExecuteTime": {
     "end_time": "2020-06-22T22:57:24.585403Z",
     "start_time": "2020-06-22T22:57:24.566304Z"
    },
    "code_folding": [
     0
    ]
   },
   "outputs": [],
   "source": [
    "def preprocessing(Impurity, AB, Site):\n",
    "    '''\n",
    "    extract information from dataframe based on semiconductor impurity, compound, defect site \n",
    "    '''\n",
    "    values = ['dH (A-rich)', 'dH (B-rich)', '(+3/+2)', '(+2/+1)',\n",
    "          '(+1/0)', '(0/-1)', '(-1/-2)', '(-2/-3)']\n",
    "    std = ['dH (A-rich) std', 'dH (B-rich) std', '(+3/+2) std',\n",
    "           '(+2/+1) std', '(+1/0) std', '(0/-1) std', '(-1/-2) std',\n",
    "           '(-2/-3) std']\n",
    "    try: \n",
    "        KRR_output = np.array(KRR[(KRR['M']==Impurity) & (KRR['AB']==AB) & (KRR['Site']==Site)][values])[0]\n",
    "        KRR_std = np.array(KRR[(KRR['M']==Impurity) & (KRR['AB']==AB) & (KRR['Site']==Site)][std])[0]\n",
    "    except IndexError:\n",
    "            print(\"We can't calculate this semiconductor/impurity comopound yet\")\n",
    "            return\n",
    "    \n",
    "    RFR_output = np.array(RFR[(RFR['Impurity']==Impurity) & (RFR['AB']==AB) & (RFR['Site']==Site)][values])[0]\n",
    "    RFR_std = np.array(RFR[(RFR['Impurity']==Impurity) & (RFR['AB']==AB) & (RFR['Site']==Site)][std])[0]\n",
    "    \n",
    "    NN_output = np.array(NN[(NN['M']==Impurity) & (NN['AB']==AB) & (NN['Site']==Site)][values])[0]\n",
    "    NN_std = np.array(NN[(NN['M']==Impurity) & (NN['AB']==AB) & (NN['Site']==Site)][std])[0]\n",
    "    \n",
    "    try: \n",
    "        DFT_values = np.array(DFT[(DFT['Impurity']==Impurity) & (DFT['AB']==AB) & (DFT['Site']==Site)][values])[0]\n",
    "        DFT_std = np.zeros(len(DFT_values))\n",
    "        DFT_exist = True\n",
    "    except IndexError:\n",
    "            print(\"We don't have DFT values for this semiconductor/impurity compound yet\")\n",
    "            DFT_exist = False\n",
    "    PBE_gap = Fullchem[(Fullchem['M']==Impurity) & (Fullchem['AB']==AB)\\\n",
    "                       & (Fullchem['Site']==Site)]['PBE_gap'].tolist()[0]\n",
    "    TL_energies = []\n",
    "    TL_std = []\n",
    "    for i in range(2, len(KRR_output)):\n",
    "        if DFT_exist: \n",
    "            TL_energies.append(DFT_values[i])\n",
    "            TL_std.append(DFT_std[i])\n",
    "        TL_energies.append(KRR_output[i])\n",
    "        TL_energies.append(RFR_output[i])\n",
    "        TL_energies.append(NN_output[i])\n",
    "\n",
    "        TL_std.append(KRR_std[i])\n",
    "        TL_std.append(RFR_std[i])\n",
    "        TL_std.append(NN_std[i])\n",
    "    FM_energies = []\n",
    "    FM_std = [] \n",
    "    for i in range(0,2):\n",
    "        if DFT_exist:\n",
    "            FM_energies.append(DFT_values[i])\n",
    "            FM_std.append(DFT_std[i])\n",
    "        FM_energies.append(KRR_output[i])\n",
    "        FM_energies.append(RFR_output[i])\n",
    "        FM_energies.append(NN_output[i])\n",
    "        FM_std.append(KRR_std[i])\n",
    "        FM_std.append(RFR_std[i])\n",
    "        FM_std.append(NN_std[i])\n",
    "    return TL_energies, TL_std, FM_energies, FM_std, PBE_gap, DFT_exist"
   ]
  },
  {
   "cell_type": "code",
   "execution_count": 7,
   "metadata": {
    "ExecuteTime": {
     "end_time": "2020-06-22T23:04:21.536795Z",
     "start_time": "2020-06-22T23:04:21.489675Z"
    },
    "code_folding": []
   },
   "outputs": [],
   "source": [
    "def plot_energy(Impurity, AB, Site):\n",
    "    #Transition energy values\n",
    "    #create xticks and labels for each method\n",
    "    try: \n",
    "        TL_energies, TL_std, FM_energies, FM_std, PBE_gap, DFT_exist= preprocessing(Impurity, AB, Site)\n",
    "    except TypeError:\n",
    "        raise ValueError('Try to input again')\n",
    "    x = [i for i in range(len(TL_energies))]\n",
    "\n",
    "    minor_ticks = np.arange(np.min(TL_energies)-1, np.max(TL_energies)+1, 0.5)\n",
    "\n",
    "    if DFT_exist:\n",
    "        lab = ['DFT', 'KRR', 'RFR', 'NN']\n",
    "    else:\n",
    "        lab = ['KRR', 'RFR', 'NN']\n",
    "    #plot predicted or DFT values for each output\n",
    "    fig, ax = plt.subplots(figsize=(18,12))\n",
    "\n",
    "    if DFT_exist:\n",
    "        z = np.array([0,1,2,3]*6)\n",
    "    else: \n",
    "        z = np.array([1,2,3]*6)\n",
    "    colors = np.array(['black', 'green', 'orange', 'blue'])\n",
    "    ax.scatter(x, TL_energies, s=1444, marker=\"_\", linewidth=3, zorder=3, c=colors[z])\n",
    "    ax.set_yticks(minor_ticks, minor=False)\n",
    "\n",
    "    #plot uncertainty errorbar\n",
    "    ax.errorbar(x, TL_energies, yerr=TL_std, fmt='none', c=colors[z])\n",
    "    ax.plot(np.linspace(-1,24,100), [PBE_gap]*100, label='CBM', color='r', linewidth=3, alpha=0.2)\n",
    "    ax.plot(np.linspace(-1,24,100), [0]*100, label='VBM', color='r', linewidth=3, alpha=0.2)\n",
    "    ax.margins(0.2)\n",
    "    ax.set_ylabel('Transition level (ev)')\n",
    "    ax.set_title('Transition level Prediction')\n",
    "\n",
    "    #ylabel create\n",
    "    ax2 = ax.twinx()\n",
    "    ax2.set_ylim(ax.get_ylim())\n",
    "    ax2.set_yticks([PBE_gap, 0])\n",
    "    ax2.set_yticklabels(['CBM', 'VBM'])\n",
    "\n",
    "    #xlabel create\n",
    "    if DFT_exist:\n",
    "        ax2.set_xlim(ax.get_xlim())\n",
    "        ax2.set_xticks(ticks=[1.5, 5.5, 9.5, 13.5, 17.5, 21.5])\n",
    "        ax2.set_xticklabels(['(+3,+2)','(+2,+1)','(+1,0)','(0,-1)','(-1,-2)','(-2,-3)'])\n",
    "        ax2.set_xticks([3.5, 7.5, 11.5, 15.5, 19.5], minor=True)\n",
    "    else:\n",
    "        ax2.set_xlim(ax.get_xlim())\n",
    "        ax2.set_xticks(ticks=[1, 4, 7, 10, 13, 16])\n",
    "        ax2.set_xticklabels(['(+3,+2)','(+2,+1)','(+1,0)','(0,-1)','(-1,-2)','(-2,-3)'])\n",
    "        ax2.set_xticks([2.5, 5.5, 8.5, 11.5, 14.5], minor=True)\n",
    "    ax.grid(which='minor', alpha=0.8)\n",
    "    ax.set_xlim(-1,len(TL_energies))\n",
    "\n",
    "    #legend\n",
    "    if DFT_exist:\n",
    "        custom_lines = [Line2D([0], [0], color='black', lw=4),\n",
    "                        Line2D([0], [0], color='green', lw=4),\n",
    "                        Line2D([0], [0], color='orange', lw=4),\n",
    "                        Line2D([0], [0], color='blue', lw=4)]\n",
    "    else:\n",
    "        custom_lines = [Line2D([0], [0], color='green', lw=4),\n",
    "                        Line2D([0], [0], color='orange', lw=4),\n",
    "                        Line2D([0], [0], color='blue', lw=4)]\n",
    "    ax.legend(custom_lines, lab, loc='upper left', prop={'size': 15})\n",
    "\n",
    "\n",
    "    #Formation Energy\n",
    "    x = [i for i in range(len(FM_energies))]\n",
    "\n",
    "    minor_ticks = np.arange(np.min(FM_energies)-2, np.max(FM_energies)+1, 0.5)\n",
    "\n",
    "\n",
    "    #plot predicted or DFT values for each output\n",
    "    fig, ax = plt.subplots(figsize=(18,12))\n",
    "\n",
    "    if DFT_exist:\n",
    "        z = np.array([0,1,2,3]*2)\n",
    "    else: \n",
    "        z = np.array([1,2,3]*2)\n",
    "    colors = np.array(['black', 'green', 'orange', 'blue'])\n",
    "    ax.scatter(x, FM_energies, s=300, marker=\".\", linewidth=1, zorder=3, c=colors[z])\n",
    "    ax.set_yticks(minor_ticks, minor=False)\n",
    "\n",
    "    #plot uncertainty errorbar\n",
    "    ax.errorbar(x, FM_energies, yerr=FM_std, fmt='none', c=colors[z])\n",
    "    ax.margins(0.2)\n",
    "    ax.set_ylabel('Formation Energy (ev)')\n",
    "    ax.set_title('Formation Energy Prediction')\n",
    "\n",
    "    #xlabel create\n",
    "    if DFT_exist:\n",
    "        ax2 = ax.twinx()\n",
    "        ax2.set_xlim(ax.get_xlim())\n",
    "        ax2.set_xticks(ticks=[1, 6])\n",
    "        ax2.set_xticklabels(['dH (A-rich)', 'dH (B-rich)'])\n",
    "        ax2.set_xticks([3.5], minor=True)\n",
    "    else: \n",
    "        ax2 = ax.twinx()\n",
    "        ax2.set_xlim(ax.get_xlim())\n",
    "        ax2.set_xticks(ticks=[0.8, 4.2])\n",
    "        ax2.set_xticklabels(['dH (A-rich)', 'dH (B-rich)'])\n",
    "        ax2.set_xticks([2.5], minor=True)\n",
    "    ax2.axes.get_yaxis().set_visible(False)\n",
    "    ax.grid(which='minor', alpha=0.8)\n",
    "    ax.set_xlim(-1,len(FM_energies))\n",
    "\n",
    "    #legend\n",
    "    if DFT_exist:\n",
    "        custom_lines = [Line2D([0], [0], color='black', lw=4),\n",
    "                        Line2D([0], [0], color='green', lw=4),\n",
    "                        Line2D([0], [0], color='orange', lw=4),\n",
    "                        Line2D([0], [0], color='blue', lw=4)]\n",
    "    else:\n",
    "        custom_lines = [Line2D([0], [0], color='green', lw=4),\n",
    "                        Line2D([0], [0], color='orange', lw=4),\n",
    "                        Line2D([0], [0], color='blue', lw=4)]\n",
    "    ax.legend(custom_lines, lab, loc='upper left', prop={'size': 15})\n",
    "    plt.show()\n",
    "    \n",
    "    if DFT_exist:\n",
    "        summary = {'DFT':[],'KRR':[], 'RFR':[], 'NN':[]}\n",
    "        for i in range(0,2):\n",
    "            summary['DFT'].append(np.str(round(FM_energies[i*2],2)) + ' +/- ' + np.str(round(FM_std[i*2],2)))\n",
    "            summary['KRR'].append(np.str(round(FM_energies[i*2+1],2)) + ' +/- ' + np.str(round(FM_std[i*2+1],2)))\n",
    "            summary['RFR'].append(np.str(round(FM_energies[i*2+2],2)) + ' +/- ' + np.str(round(FM_std[i*2+2],2)))\n",
    "            summary['NN'].append(np.str(round(FM_energies[i*2+3],2)) + ' +/- ' + np.str(round(FM_std[i*2+3],2)))\n",
    "        for i in range(0,6):\n",
    "            summary['DFT'].append(np.str(round(TL_energies[i*4],2)) + ' +/- ' + np.str(round(TL_std[i*4],2)))\n",
    "            summary['KRR'].append(np.str(round(TL_energies[i*4+1],2)) + ' +/- ' + np.str(round(TL_std[i*4+1],2)))\n",
    "            summary['RFR'].append(np.str(round(TL_energies[i*4+2],2)) + ' +/- ' + np.str(round(TL_std[i*4+2],2)))\n",
    "            summary['NN'].append(np.str(round(TL_energies[i*4+3],2)) + ' +/- ' + np.str(round(TL_std[i*4+3],2)))\n",
    "    else:\n",
    "        summary = {'KRR':[], 'RFR':[], 'NN':[]}\n",
    "        for i in range(0,2):\n",
    "            summary['KRR'].append(np.str(round(FM_energies[i*2],2)) + ' +/- ' + np.str(round(FM_std[i*2],2)))\n",
    "            summary['RFR'].append(np.str(round(FM_energies[i*2+1],2)) + ' +/- ' + np.str(round(FM_std[i*2+1],2)))\n",
    "            summary['NN'].append(np.str(round(FM_energies[i*2+2],2)) + ' +/- ' + np.str(round(FM_std[i*2+2],2)))\n",
    "        for i in range(0,6):\n",
    "            summary['KRR'].append(np.str(round(TL_energies[i*3],2)) + ' +/- ' + np.str(round(TL_std[i*3],2)))\n",
    "            summary['RFR'].append(np.str(round(TL_energies[i*3+1],2)) + ' +/- ' + np.str(round(TL_std[i*3+1],2)))\n",
    "            summary['NN'].append(np.str(round(TL_energies[i*3+2],2)) + ' +/- ' + np.str(round(TL_std[i*3+2],2)))\n",
    "    print(pd.DataFrame(summary, index=['dHA', 'dHB', '(+3,+2)','(+2,+1)','(+1,0)',\n",
    "                                       '(0,-1)', '(-1,-2)', '(-2,-3)']))\n",
    "    return"
   ]
  },
  {
   "cell_type": "code",
   "execution_count": 8,
   "metadata": {
    "ExecuteTime": {
     "end_time": "2020-06-22T23:04:23.084839Z",
     "start_time": "2020-06-22T23:04:22.505002Z"
    },
    "code_folding": []
   },
   "outputs": [
    {
     "data": {
      "application/vnd.jupyter.widget-view+json": {
       "model_id": "28ce782e4d9e43cfa22e68bcc7292e93",
       "version_major": 2,
       "version_minor": 0
      },
      "text/plain": [
       "interactive(children=(Dropdown(description='Impurity', options=('Ag', 'Al', 'As', 'Au', 'B', 'Ba', 'Be', 'Bi',…"
      ]
     },
     "metadata": {},
     "output_type": "display_data"
    }
   ],
   "source": [
    "interactive(plot_energy, \n",
    "            Impurity=widgets.Dropdown(options=np.unique(Fullchem['M']), values='All', descriptions='Impurity: '), \n",
    "            AB=widgets.Dropdown(options=np.unique(Fullchem['AB']), values='All', descriptions='AB: '), \n",
    "            Site=widgets.Dropdown(options=np.unique(Fullchem['Site']), values='All', descriptions='AB: '))"
   ]
  },
  {
   "cell_type": "code",
   "execution_count": null,
   "metadata": {},
   "outputs": [],
   "source": []
  }
 ],
 "metadata": {
  "kernelspec": {
   "display_name": "Python 3",
   "language": "python",
   "name": "python3"
  },
  "language_info": {
   "codemirror_mode": {
    "name": "ipython",
    "version": 3
   },
   "file_extension": ".py",
   "mimetype": "text/x-python",
   "name": "python",
   "nbconvert_exporter": "python",
   "pygments_lexer": "ipython3",
   "version": "3.7.7"
  },
  "toc": {
   "base_numbering": 1,
   "nav_menu": {},
   "number_sections": true,
   "sideBar": true,
   "skip_h1_title": false,
   "title_cell": "Table of Contents",
   "title_sidebar": "Contents",
   "toc_cell": false,
   "toc_position": {},
   "toc_section_display": true,
   "toc_window_display": false
  },
  "varInspector": {
   "cols": {
    "lenName": 16,
    "lenType": 16,
    "lenVar": 40
   },
   "kernels_config": {
    "python": {
     "delete_cmd_postfix": "",
     "delete_cmd_prefix": "del ",
     "library": "var_list.py",
     "varRefreshCmd": "print(var_dic_list())"
    },
    "r": {
     "delete_cmd_postfix": ") ",
     "delete_cmd_prefix": "rm(",
     "library": "var_list.r",
     "varRefreshCmd": "cat(var_dic_list()) "
    }
   },
   "types_to_exclude": [
    "module",
    "function",
    "builtin_function_or_method",
    "instance",
    "_Feature"
   ],
   "window_display": false
  },
  "widgets": {
   "application/vnd.jupyter.widget-state+json": {
    "state": {
     "05dcef2dd0e54e95a9ca25cbc309cfb7": {
      "model_module": "@jupyter-widgets/output",
      "model_module_version": "1.0.0",
      "model_name": "OutputModel",
      "state": {
       "layout": "IPY_MODEL_8b5d9d37ca2248e0aa29500bddfacde2",
       "outputs": [
        {
         "name": "stdout",
         "output_type": "stream",
         "text": "We don't have DFT values for this semiconductor/impurity compound yet\n"
        },
        {
         "data": {
          "image/png": "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\n",
          "text/plain": "<Figure size 1296x864 with 2 Axes>"
         },
         "metadata": {
          "needs_background": "light"
         },
         "output_type": "display_data"
        },
        {
         "data": {
          "image/png": "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\n",
          "text/plain": "<Figure size 1296x864 with 2 Axes>"
         },
         "metadata": {
          "needs_background": "light"
         },
         "output_type": "display_data"
        },
        {
         "name": "stdout",
         "output_type": "stream",
         "text": "                    KRR             RFR             NN\ndHA        2.3 +/- 0.12   2.91 +/- 0.22  2.96 +/- 1.25\ndHB       2.96 +/- 1.25   1.87 +/- 0.19  2.09 +/- 0.21\n(+3,+2)  -0.86 +/- 0.01  -0.83 +/- 0.03  -0.42 +/- 0.1\n(+2,+1)  -0.35 +/- 0.02  -0.34 +/- 0.03  -0.1 +/- 0.15\n(+1,0)    0.56 +/- 0.05   0.39 +/- 0.07  0.22 +/- 0.14\n(0,-1)    1.38 +/- 0.04   1.18 +/- 0.04  0.52 +/- 0.12\n(-1,-2)   1.99 +/- 0.04   1.93 +/- 0.06    0.8 +/- 0.1\n(-2,-3)   2.67 +/- 0.01    2.6 +/- 0.02  1.08 +/- 0.07\n"
        }
       ]
      }
     },
     "0727e98cbd1f449aa883362f487d91ae": {
      "model_module": "@jupyter-widgets/controls",
      "model_module_version": "1.5.0",
      "model_name": "DropdownModel",
      "state": {
       "_options_labels": [
        "AlAs",
        "AlN",
        "AlP",
        "AlSb",
        "BAs",
        "BN",
        "BP",
        "BSb",
        "C",
        "CdO",
        "CdS",
        "CdSe",
        "CdTe",
        "GaAs",
        "GaN",
        "GaP",
        "GaSb",
        "Ge",
        "GeC",
        "GeSn",
        "InAs",
        "InN",
        "InP",
        "InSb",
        "Si",
        "SiC",
        "SiGe",
        "SiSn",
        "Sn",
        "SnC",
        "ZnO",
        "ZnS",
        "ZnSe",
        "ZnTe"
       ],
       "description": "AB",
       "index": 0,
       "layout": "IPY_MODEL_cca79ac6d89f484a9de88b385b0c4b6c",
       "style": "IPY_MODEL_7da4fa61594147c182a8bd5601fe6ec1"
      }
     },
     "0e0a6c4b327f4744a73cdea5c0dc561d": {
      "model_module": "@jupyter-widgets/controls",
      "model_module_version": "1.5.0",
      "model_name": "DropdownModel",
      "state": {
       "_options_labels": [
        "Ag",
        "Al",
        "As",
        "Au",
        "B",
        "Ba",
        "Be",
        "Bi",
        "Br",
        "C",
        "Ca",
        "Cd",
        "Ce",
        "Cl",
        "Co",
        "Cr",
        "Cs",
        "Cu",
        "Dy",
        "Er",
        "Eu",
        "F",
        "Fe",
        "Ga",
        "Gd",
        "Ge",
        "Hf",
        "Hg",
        "Ho",
        "I",
        "In",
        "Ir",
        "K",
        "La",
        "Li",
        "Lu",
        "Mg",
        "Mn",
        "Mo",
        "N",
        "Na",
        "Nb",
        "Nd",
        "Ni",
        "O",
        "Os",
        "P",
        "Pb",
        "Pd",
        "Pm",
        "Pr",
        "Pt",
        "Rb",
        "Re",
        "Rh",
        "Ru",
        "S",
        "Sb",
        "Sc",
        "Se",
        "Si",
        "Sm",
        "Sn",
        "Sr",
        "Ta",
        "Tb",
        "Tc",
        "Te",
        "Ti",
        "Tl",
        "Tm",
        "V",
        "W",
        "Y",
        "Yb",
        "Zn",
        "Zr"
       ],
       "description": "Impurity",
       "index": 0,
       "layout": "IPY_MODEL_39d28fe1e482406cb5667534e799a673",
       "style": "IPY_MODEL_d72ee2a26a824aed8e71f7d362959285"
      }
     },
     "14ff67e1a7574507a88f4bf8e3a994bb": {
      "model_module": "@jupyter-widgets/controls",
      "model_module_version": "1.5.0",
      "model_name": "DescriptionStyleModel",
      "state": {
       "description_width": ""
      }
     },
     "28ce782e4d9e43cfa22e68bcc7292e93": {
      "model_module": "@jupyter-widgets/controls",
      "model_module_version": "1.5.0",
      "model_name": "VBoxModel",
      "state": {
       "_dom_classes": [
        "widget-interact"
       ],
       "children": [
        "IPY_MODEL_0e0a6c4b327f4744a73cdea5c0dc561d",
        "IPY_MODEL_0727e98cbd1f449aa883362f487d91ae",
        "IPY_MODEL_91a5e283c54e4ba4b410b86ee70a2bba",
        "IPY_MODEL_05dcef2dd0e54e95a9ca25cbc309cfb7"
       ],
       "layout": "IPY_MODEL_862c92610865402b853dd50f3a35e047"
      }
     },
     "3090321805444f1da3aed431308f5180": {
      "model_module": "@jupyter-widgets/controls",
      "model_module_version": "1.5.0",
      "model_name": "VBoxModel",
      "state": {
       "_dom_classes": [
        "widget-interact"
       ],
       "children": [
        "IPY_MODEL_409484febac94582803a0862c70d6c3d",
        "IPY_MODEL_4db19f6563ed41ff8f8ee465a3d82dfd",
        "IPY_MODEL_515df29457ab4c279b3cae1437e47a2b",
        "IPY_MODEL_5a910041ed5840b6b87ea839b684f510"
       ],
       "layout": "IPY_MODEL_6f71ab26fb4a43f5a9058378333f42f5"
      }
     },
     "36c8e67c322e42f796869d1de6a3fcf1": {
      "model_module": "@jupyter-widgets/base",
      "model_module_version": "1.2.0",
      "model_name": "LayoutModel",
      "state": {}
     },
     "39d28fe1e482406cb5667534e799a673": {
      "model_module": "@jupyter-widgets/base",
      "model_module_version": "1.2.0",
      "model_name": "LayoutModel",
      "state": {}
     },
     "409484febac94582803a0862c70d6c3d": {
      "model_module": "@jupyter-widgets/controls",
      "model_module_version": "1.5.0",
      "model_name": "DropdownModel",
      "state": {
       "_options_labels": [
        "Ag",
        "Al",
        "As",
        "Au",
        "B",
        "Ba",
        "Be",
        "Bi",
        "Br",
        "C",
        "Ca",
        "Cd",
        "Ce",
        "Cl",
        "Co",
        "Cr",
        "Cs",
        "Cu",
        "Dy",
        "Er",
        "Eu",
        "F",
        "Fe",
        "Ga",
        "Gd",
        "Ge",
        "Hf",
        "Hg",
        "Ho",
        "I",
        "In",
        "Ir",
        "K",
        "La",
        "Li",
        "Lu",
        "Mg",
        "Mn",
        "Mo",
        "N",
        "Na",
        "Nb",
        "Nd",
        "Ni",
        "O",
        "Os",
        "P",
        "Pb",
        "Pd",
        "Pm",
        "Pr",
        "Pt",
        "Rb",
        "Re",
        "Rh",
        "Ru",
        "S",
        "Sb",
        "Sc",
        "Se",
        "Si",
        "Sm",
        "Sn",
        "Sr",
        "Ta",
        "Tb",
        "Tc",
        "Te",
        "Ti",
        "Tl",
        "Tm",
        "V",
        "W",
        "Y",
        "Yb",
        "Zn",
        "Zr"
       ],
       "description": "Impurity",
       "index": 0,
       "layout": "IPY_MODEL_d72095d69f0047dcb3486c0e139d1db7",
       "style": "IPY_MODEL_84a5940e81454ed097b389c0af77de98"
      }
     },
     "4db19f6563ed41ff8f8ee465a3d82dfd": {
      "model_module": "@jupyter-widgets/controls",
      "model_module_version": "1.5.0",
      "model_name": "DropdownModel",
      "state": {
       "_options_labels": [
        "AlAs",
        "AlN",
        "AlP",
        "AlSb",
        "BAs",
        "BN",
        "BP",
        "BSb",
        "C",
        "CdO",
        "CdS",
        "CdSe",
        "CdTe",
        "GaAs",
        "GaN",
        "GaP",
        "GaSb",
        "Ge",
        "GeC",
        "GeSn",
        "InAs",
        "InN",
        "InP",
        "InSb",
        "Si",
        "SiC",
        "SiGe",
        "SiSn",
        "Sn",
        "SnC",
        "ZnO",
        "ZnS",
        "ZnSe",
        "ZnTe"
       ],
       "description": "AB",
       "index": 0,
       "layout": "IPY_MODEL_36c8e67c322e42f796869d1de6a3fcf1",
       "style": "IPY_MODEL_14ff67e1a7574507a88f4bf8e3a994bb"
      }
     },
     "515df29457ab4c279b3cae1437e47a2b": {
      "model_module": "@jupyter-widgets/controls",
      "model_module_version": "1.5.0",
      "model_name": "DropdownModel",
      "state": {
       "_options_labels": [
        "M_A",
        "M_B",
        "M_i_A",
        "M_i_B",
        "M_i_neut"
       ],
       "description": "Site",
       "index": 0,
       "layout": "IPY_MODEL_a5033f4a9d35427485f8f353b64fc383",
       "style": "IPY_MODEL_8ed48ef6200a462e8075a665f1b8c2a0"
      }
     },
     "5a910041ed5840b6b87ea839b684f510": {
      "model_module": "@jupyter-widgets/output",
      "model_module_version": "1.0.0",
      "model_name": "OutputModel",
      "state": {
       "layout": "IPY_MODEL_7c2e303413ce43a4bba351a4a4d3dbc6",
       "outputs": [
        {
         "ename": "NameError",
         "evalue": "name 'DFT2' is not defined",
         "output_type": "error",
         "traceback": [
          "\u001b[0;31m---------------------------------------------------------------------------\u001b[0m",
          "\u001b[0;31mNameError\u001b[0m                                 Traceback (most recent call last)",
          "\u001b[0;32m~/anaconda3/lib/python3.7/site-packages/ipywidgets/widgets/interaction.py\u001b[0m in \u001b[0;36mupdate\u001b[0;34m(self, *args)\u001b[0m\n\u001b[1;32m    254\u001b[0m                     \u001b[0mvalue\u001b[0m \u001b[0;34m=\u001b[0m \u001b[0mwidget\u001b[0m\u001b[0;34m.\u001b[0m\u001b[0mget_interact_value\u001b[0m\u001b[0;34m(\u001b[0m\u001b[0;34m)\u001b[0m\u001b[0;34m\u001b[0m\u001b[0;34m\u001b[0m\u001b[0m\n\u001b[1;32m    255\u001b[0m                     \u001b[0mself\u001b[0m\u001b[0;34m.\u001b[0m\u001b[0mkwargs\u001b[0m\u001b[0;34m[\u001b[0m\u001b[0mwidget\u001b[0m\u001b[0;34m.\u001b[0m\u001b[0m_kwarg\u001b[0m\u001b[0;34m]\u001b[0m \u001b[0;34m=\u001b[0m \u001b[0mvalue\u001b[0m\u001b[0;34m\u001b[0m\u001b[0;34m\u001b[0m\u001b[0m\n\u001b[0;32m--> 256\u001b[0;31m                 \u001b[0mself\u001b[0m\u001b[0;34m.\u001b[0m\u001b[0mresult\u001b[0m \u001b[0;34m=\u001b[0m \u001b[0mself\u001b[0m\u001b[0;34m.\u001b[0m\u001b[0mf\u001b[0m\u001b[0;34m(\u001b[0m\u001b[0;34m**\u001b[0m\u001b[0mself\u001b[0m\u001b[0;34m.\u001b[0m\u001b[0mkwargs\u001b[0m\u001b[0;34m)\u001b[0m\u001b[0;34m\u001b[0m\u001b[0;34m\u001b[0m\u001b[0m\n\u001b[0m\u001b[1;32m    257\u001b[0m                 \u001b[0mshow_inline_matplotlib_plots\u001b[0m\u001b[0;34m(\u001b[0m\u001b[0;34m)\u001b[0m\u001b[0;34m\u001b[0m\u001b[0;34m\u001b[0m\u001b[0m\n\u001b[1;32m    258\u001b[0m                 \u001b[0;32mif\u001b[0m \u001b[0mself\u001b[0m\u001b[0;34m.\u001b[0m\u001b[0mauto_display\u001b[0m \u001b[0;32mand\u001b[0m \u001b[0mself\u001b[0m\u001b[0;34m.\u001b[0m\u001b[0mresult\u001b[0m \u001b[0;32mis\u001b[0m \u001b[0;32mnot\u001b[0m \u001b[0;32mNone\u001b[0m\u001b[0;34m:\u001b[0m\u001b[0;34m\u001b[0m\u001b[0;34m\u001b[0m\u001b[0m\n",
          "\u001b[0;32m<ipython-input-4-f46f7d55e893>\u001b[0m in \u001b[0;36mplot_energy\u001b[0;34m(Impurity, AB, Site)\u001b[0m\n\u001b[1;32m      3\u001b[0m     \u001b[0;31m#create xticks and labels for each method\u001b[0m\u001b[0;34m\u001b[0m\u001b[0;34m\u001b[0m\u001b[0;34m\u001b[0m\u001b[0m\n\u001b[1;32m      4\u001b[0m     \u001b[0;32mtry\u001b[0m\u001b[0;34m:\u001b[0m\u001b[0;34m\u001b[0m\u001b[0;34m\u001b[0m\u001b[0m\n\u001b[0;32m----> 5\u001b[0;31m         \u001b[0mTL_energies\u001b[0m\u001b[0;34m,\u001b[0m \u001b[0mTL_std\u001b[0m\u001b[0;34m,\u001b[0m \u001b[0mFM_energies\u001b[0m\u001b[0;34m,\u001b[0m \u001b[0mFM_std\u001b[0m\u001b[0;34m,\u001b[0m \u001b[0mPBE_gap\u001b[0m\u001b[0;34m,\u001b[0m \u001b[0mDFT_exist\u001b[0m\u001b[0;34m=\u001b[0m \u001b[0mpreprocessing\u001b[0m\u001b[0;34m(\u001b[0m\u001b[0mImpurity\u001b[0m\u001b[0;34m,\u001b[0m \u001b[0mAB\u001b[0m\u001b[0;34m,\u001b[0m \u001b[0mSite\u001b[0m\u001b[0;34m)\u001b[0m\u001b[0;34m\u001b[0m\u001b[0;34m\u001b[0m\u001b[0m\n\u001b[0m\u001b[1;32m      6\u001b[0m     \u001b[0;32mexcept\u001b[0m \u001b[0mTypeError\u001b[0m\u001b[0;34m:\u001b[0m\u001b[0;34m\u001b[0m\u001b[0;34m\u001b[0m\u001b[0m\n\u001b[1;32m      7\u001b[0m         \u001b[0;32mraise\u001b[0m \u001b[0mValueError\u001b[0m\u001b[0;34m(\u001b[0m\u001b[0;34m'Try to input again'\u001b[0m\u001b[0;34m)\u001b[0m\u001b[0;34m\u001b[0m\u001b[0;34m\u001b[0m\u001b[0m\n",
          "\u001b[0;32m<ipython-input-3-f0c650b3cdac>\u001b[0m in \u001b[0;36mpreprocessing\u001b[0;34m(Impurity, AB, Site)\u001b[0m\n\u001b[1;32m     22\u001b[0m \u001b[0;34m\u001b[0m\u001b[0m\n\u001b[1;32m     23\u001b[0m     \u001b[0;32mtry\u001b[0m\u001b[0;34m:\u001b[0m\u001b[0;34m\u001b[0m\u001b[0;34m\u001b[0m\u001b[0m\n\u001b[0;32m---> 24\u001b[0;31m         \u001b[0mDFT_values\u001b[0m \u001b[0;34m=\u001b[0m \u001b[0mnp\u001b[0m\u001b[0;34m.\u001b[0m\u001b[0marray\u001b[0m\u001b[0;34m(\u001b[0m\u001b[0mDFT2\u001b[0m\u001b[0;34m[\u001b[0m\u001b[0;34m(\u001b[0m\u001b[0mDFT2\u001b[0m\u001b[0;34m[\u001b[0m\u001b[0;34m'Impurity'\u001b[0m\u001b[0;34m]\u001b[0m\u001b[0;34m==\u001b[0m\u001b[0mImpurity\u001b[0m\u001b[0;34m)\u001b[0m \u001b[0;34m&\u001b[0m \u001b[0;34m(\u001b[0m\u001b[0mDFT2\u001b[0m\u001b[0;34m[\u001b[0m\u001b[0;34m'AB'\u001b[0m\u001b[0;34m]\u001b[0m\u001b[0;34m==\u001b[0m\u001b[0mAB\u001b[0m\u001b[0;34m)\u001b[0m \u001b[0;34m&\u001b[0m \u001b[0;34m(\u001b[0m\u001b[0mDFT2\u001b[0m\u001b[0;34m[\u001b[0m\u001b[0;34m'Site'\u001b[0m\u001b[0;34m]\u001b[0m\u001b[0;34m==\u001b[0m\u001b[0mSite\u001b[0m\u001b[0;34m)\u001b[0m\u001b[0;34m]\u001b[0m\u001b[0;34m[\u001b[0m\u001b[0mvalues\u001b[0m\u001b[0;34m]\u001b[0m\u001b[0;34m)\u001b[0m\u001b[0;34m[\u001b[0m\u001b[0;36m0\u001b[0m\u001b[0;34m]\u001b[0m\u001b[0;34m\u001b[0m\u001b[0;34m\u001b[0m\u001b[0m\n\u001b[0m\u001b[1;32m     25\u001b[0m         \u001b[0mDFT_std\u001b[0m \u001b[0;34m=\u001b[0m \u001b[0mnp\u001b[0m\u001b[0;34m.\u001b[0m\u001b[0mzeros\u001b[0m\u001b[0;34m(\u001b[0m\u001b[0mlen\u001b[0m\u001b[0;34m(\u001b[0m\u001b[0mDFT_values\u001b[0m\u001b[0;34m)\u001b[0m\u001b[0;34m)\u001b[0m\u001b[0;34m\u001b[0m\u001b[0;34m\u001b[0m\u001b[0m\n\u001b[1;32m     26\u001b[0m         \u001b[0mDFT_exist\u001b[0m \u001b[0;34m=\u001b[0m \u001b[0;32mTrue\u001b[0m\u001b[0;34m\u001b[0m\u001b[0;34m\u001b[0m\u001b[0m\n",
          "\u001b[0;31mNameError\u001b[0m: name 'DFT2' is not defined"
         ]
        }
       ]
      }
     },
     "6f71ab26fb4a43f5a9058378333f42f5": {
      "model_module": "@jupyter-widgets/base",
      "model_module_version": "1.2.0",
      "model_name": "LayoutModel",
      "state": {}
     },
     "7c2e303413ce43a4bba351a4a4d3dbc6": {
      "model_module": "@jupyter-widgets/base",
      "model_module_version": "1.2.0",
      "model_name": "LayoutModel",
      "state": {}
     },
     "7da4fa61594147c182a8bd5601fe6ec1": {
      "model_module": "@jupyter-widgets/controls",
      "model_module_version": "1.5.0",
      "model_name": "DescriptionStyleModel",
      "state": {
       "description_width": ""
      }
     },
     "84a5940e81454ed097b389c0af77de98": {
      "model_module": "@jupyter-widgets/controls",
      "model_module_version": "1.5.0",
      "model_name": "DescriptionStyleModel",
      "state": {
       "description_width": ""
      }
     },
     "862c92610865402b853dd50f3a35e047": {
      "model_module": "@jupyter-widgets/base",
      "model_module_version": "1.2.0",
      "model_name": "LayoutModel",
      "state": {}
     },
     "8b5d9d37ca2248e0aa29500bddfacde2": {
      "model_module": "@jupyter-widgets/base",
      "model_module_version": "1.2.0",
      "model_name": "LayoutModel",
      "state": {}
     },
     "8ed48ef6200a462e8075a665f1b8c2a0": {
      "model_module": "@jupyter-widgets/controls",
      "model_module_version": "1.5.0",
      "model_name": "DescriptionStyleModel",
      "state": {
       "description_width": ""
      }
     },
     "91a5e283c54e4ba4b410b86ee70a2bba": {
      "model_module": "@jupyter-widgets/controls",
      "model_module_version": "1.5.0",
      "model_name": "DropdownModel",
      "state": {
       "_options_labels": [
        "M_A",
        "M_B",
        "M_i_A",
        "M_i_B",
        "M_i_neut"
       ],
       "description": "Site",
       "index": 0,
       "layout": "IPY_MODEL_ced2fb3756ca4cdc8bdd76d3401680f7",
       "style": "IPY_MODEL_dc619ebc6d8843779094eb92a52aaa3a"
      }
     },
     "a5033f4a9d35427485f8f353b64fc383": {
      "model_module": "@jupyter-widgets/base",
      "model_module_version": "1.2.0",
      "model_name": "LayoutModel",
      "state": {}
     },
     "cca79ac6d89f484a9de88b385b0c4b6c": {
      "model_module": "@jupyter-widgets/base",
      "model_module_version": "1.2.0",
      "model_name": "LayoutModel",
      "state": {}
     },
     "ced2fb3756ca4cdc8bdd76d3401680f7": {
      "model_module": "@jupyter-widgets/base",
      "model_module_version": "1.2.0",
      "model_name": "LayoutModel",
      "state": {}
     },
     "d72095d69f0047dcb3486c0e139d1db7": {
      "model_module": "@jupyter-widgets/base",
      "model_module_version": "1.2.0",
      "model_name": "LayoutModel",
      "state": {}
     },
     "d72ee2a26a824aed8e71f7d362959285": {
      "model_module": "@jupyter-widgets/controls",
      "model_module_version": "1.5.0",
      "model_name": "DescriptionStyleModel",
      "state": {
       "description_width": ""
      }
     },
     "dc619ebc6d8843779094eb92a52aaa3a": {
      "model_module": "@jupyter-widgets/controls",
      "model_module_version": "1.5.0",
      "model_name": "DescriptionStyleModel",
      "state": {
       "description_width": ""
      }
     }
    },
    "version_major": 2,
    "version_minor": 0
   }
  }
 },
 "nbformat": 4,
 "nbformat_minor": 4
}
