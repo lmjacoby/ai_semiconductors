{
 "cells": [
  {
   "cell_type": "code",
   "execution_count": 1,
   "metadata": {
    "ExecuteTime": {
     "end_time": "2020-06-22T22:56:57.909568Z",
     "start_time": "2020-06-22T22:56:56.899756Z"
    }
   },
   "outputs": [],
   "source": [
    "import numpy as np\n",
    "import matplotlib.pyplot as plt\n",
    "import pandas as pd\n",
    "from matplotlib.lines import Line2D \n",
    "%matplotlib inline\n",
    "from ipywidgets import widgets, interactive"
   ]
  },
  {
   "cell_type": "code",
   "execution_count": 2,
   "metadata": {
    "ExecuteTime": {
     "end_time": "2020-06-22T22:57:24.309162Z",
     "start_time": "2020-06-22T22:56:59.210078Z"
    },
    "code_folding": []
   },
   "outputs": [],
   "source": [
    "#read prediction data and DFT data\n",
    "KRR = pd.read_csv('Prediction_KRR.csv')\n",
    "RFR = pd.read_csv('Prediction_RFR.csv')\n",
    "NN = pd.read_csv('Prediction_NN.csv')\n",
    "DFT = pd.read_excel('ML_data_v2.xlsx', sheet_name='DFT_data')\n",
    "Fullchem = pd.read_excel('ML_data_v2.xlsx', sheet_name='Full_chem_space')"
   ]
  },
  {
   "cell_type": "code",
   "execution_count": 3,
   "metadata": {
    "ExecuteTime": {
     "end_time": "2020-06-22T22:57:24.585403Z",
     "start_time": "2020-06-22T22:57:24.566304Z"
    },
    "code_folding": [
     0
    ]
   },
   "outputs": [],
   "source": [
    "def preprocessing(Impurity, AB, Site):\n",
    "    '''\n",
    "    extract information from dataframe based on semiconductor impurity, compound, defect site \n",
    "    '''\n",
    "    values = ['dH (A-rich)', 'dH (B-rich)', '(+3/+2)', '(+2/+1)',\n",
    "          '(+1/0)', '(0/-1)', '(-1/-2)', '(-2/-3)']\n",
    "    std = ['dH (A-rich) std', 'dH (B-rich) std', '(+3/+2) std',\n",
    "           '(+2/+1) std', '(+1/0) std', '(0/-1) std', '(-1/-2) std',\n",
    "           '(-2/-3) std']\n",
    "    try: \n",
    "        KRR_output = np.array(KRR[(KRR['M']==Impurity) & (KRR['AB']==AB) & (KRR['Site']==Site)][values])[0]\n",
    "        KRR_std = np.array(KRR[(KRR['M']==Impurity) & (KRR['AB']==AB) & (KRR['Site']==Site)][std])[0]\n",
    "    except IndexError:\n",
    "            print(\"We don't calculate this type of semiconductor/Impurity yet\")\n",
    "            return\n",
    "    RFR_output = np.array(RFR[(RFR['Impurity']==Impurity) & (RFR['AB']==AB) & (RFR['Site']==Site)][values])[0]\n",
    "    RFR_std = np.array(RFR[(RFR['Impurity']==Impurity) & (RFR['AB']==AB) & (RFR['Site']==Site)][std])[0]\n",
    "    NN_output = np.array(NN[(NN['M']==Impurity) & (NN['AB']==AB) & (NN['Site']==Site)][values])[0]\n",
    "    NN_std = np.array(NN[(NN['M']==Impurity) & (NN['AB']==AB) & (NN['Site']==Site)][std])[0]\n",
    "    try: \n",
    "        DFT_values = np.array(DFT[(DFT['Impurity']==Impurity) & (DFT['AB']==AB) & (DFT['Site']==Site)][values])[0]\n",
    "        DFT_std = np.zeros(len(DFT_values))\n",
    "        DFT_exist = True\n",
    "    except IndexError:\n",
    "            print(\"We don't have DFT values yet\")\n",
    "            DFT_exist = False\n",
    "    PBE_gap = Fullchem[(Fullchem['M']==Impurity) & (Fullchem['AB']==AB)\\\n",
    "                       & (Fullchem['Site']==Site)]['PBE_gap'].tolist()[0]\n",
    "    TL_energies = []\n",
    "    TL_std = []\n",
    "    for i in range(2, len(KRR_output)):\n",
    "        if DFT_exist: \n",
    "            TL_energies.append(DFT_values[i])\n",
    "            TL_std.append(DFT_std[i])\n",
    "        TL_energies.append(KRR_output[i])\n",
    "        TL_energies.append(RFR_output[i])\n",
    "        TL_energies.append(NN_output[i])\n",
    "\n",
    "        TL_std.append(KRR_std[i])\n",
    "        TL_std.append(RFR_std[i])\n",
    "        TL_std.append(NN_std[i])\n",
    "    FM_energies = []\n",
    "    FM_std = [] \n",
    "    for i in range(0,2):\n",
    "        if DFT_exist:\n",
    "            FM_energies.append(DFT_values[i])\n",
    "            FM_std.append(DFT_std[i])\n",
    "        FM_energies.append(KRR_output[i])\n",
    "        FM_energies.append(RFR_output[i])\n",
    "        FM_energies.append(NN_output[i])\n",
    "        FM_std.append(KRR_std[i])\n",
    "        FM_std.append(RFR_std[i])\n",
    "        FM_std.append(NN_std[i])\n",
    "    return TL_energies, TL_std, FM_energies, FM_std, PBE_gap, DFT_exist"
   ]
  },
  {
   "cell_type": "code",
   "execution_count": 11,
   "metadata": {
    "ExecuteTime": {
     "end_time": "2020-06-22T23:04:21.536795Z",
     "start_time": "2020-06-22T23:04:21.489675Z"
    },
    "code_folding": []
   },
   "outputs": [],
   "source": [
    "def plot_energy(Impurity, AB, Site):\n",
    "    #Transition energy values\n",
    "    #create xticks and labels for each method\n",
    "    try: \n",
    "        TL_energies, TL_std, FM_energies, FM_std, PBE_gap, DFT_exist= preprocessing(Impurity, AB, Site)\n",
    "    except TypeError:\n",
    "        raise ValueError('Try to input again')\n",
    "    x = [i for i in range(len(TL_energies))]\n",
    "\n",
    "    minor_ticks = np.arange(np.min(TL_energies)-1, np.max(TL_energies)+1, 0.5)\n",
    "\n",
    "    if DFT_exist:\n",
    "        lab = ['DFT', 'KRR', 'RFR', 'NN']\n",
    "    else:\n",
    "        lab = ['KRR', 'RFR', 'NN']\n",
    "    #plot predicted or DFT values for each output\n",
    "    fig, ax = plt.subplots(figsize=(18,12))\n",
    "\n",
    "    if DFT_exist:\n",
    "        z = np.array([0,1,2,3]*6)\n",
    "    else: \n",
    "        z = np.array([1,2,3]*6)\n",
    "    colors = np.array(['black', 'green', 'orange', 'blue'])\n",
    "    ax.scatter(x, TL_energies, s=1444, marker=\"_\", linewidth=3, zorder=3, c=colors[z])\n",
    "    ax.set_yticks(minor_ticks, minor=False)\n",
    "\n",
    "    #plot uncertainty errorbar\n",
    "    ax.errorbar(x, TL_energies, yerr=TL_std, fmt='none', c=colors[z])\n",
    "    ax.plot(np.linspace(-1,24,100), [PBE_gap]*100, label='CBM', color='r', linewidth=3, alpha=0.2)\n",
    "    ax.plot(np.linspace(-1,24,100), [0]*100, label='VBM', color='r', linewidth=3, alpha=0.2)\n",
    "    ax.margins(0.2)\n",
    "    ax.set_ylabel('Transition level (ev)')\n",
    "    ax.set_title('Transition level Prediction')\n",
    "\n",
    "    #ylabel create\n",
    "    ax2 = ax.twinx()\n",
    "    ax2.set_ylim(ax.get_ylim())\n",
    "    ax2.set_yticks([PBE_gap, 0])\n",
    "    ax2.set_yticklabels(['CBM', 'VBM'])\n",
    "\n",
    "    #xlabel create\n",
    "    if DFT_exist:\n",
    "        ax2.set_xlim(ax.get_xlim())\n",
    "        ax2.set_xticks(ticks=[1.5, 5.5, 9.5, 13.5, 17.5, 21.5])\n",
    "        ax2.set_xticklabels(['(+3,+2)','(+2,+1)','(+1,0)','(0,-1)','(-1,-2)','(-2,-3)'])\n",
    "        ax2.set_xticks([3.5, 7.5, 11.5, 15.5, 19.5], minor=True)\n",
    "    else:\n",
    "        ax2.set_xlim(ax.get_xlim())\n",
    "        ax2.set_xticks(ticks=[1, 4, 7, 10, 13, 16])\n",
    "        ax2.set_xticklabels(['(+3,+2)','(+2,+1)','(+1,0)','(0,-1)','(-1,-2)','(-2,-3)'])\n",
    "        ax2.set_xticks([2.5, 5.5, 8.5, 11.5, 14.5], minor=True)\n",
    "    ax.grid(which='minor', alpha=0.8)\n",
    "    ax.set_xlim(-1,len(TL_energies))\n",
    "\n",
    "    #legend\n",
    "    if DFT_exist:\n",
    "        custom_lines = [Line2D([0], [0], color='black', lw=4),\n",
    "                        Line2D([0], [0], color='green', lw=4),\n",
    "                        Line2D([0], [0], color='orange', lw=4),\n",
    "                        Line2D([0], [0], color='blue', lw=4)]\n",
    "    else:\n",
    "        custom_lines = [Line2D([0], [0], color='green', lw=4),\n",
    "                        Line2D([0], [0], color='orange', lw=4),\n",
    "                        Line2D([0], [0], color='blue', lw=4)]\n",
    "    ax.legend(custom_lines, lab, loc='upper left', prop={'size': 15})\n",
    "\n",
    "\n",
    "    #Formation Energy\n",
    "    x = [i for i in range(len(FM_energies))]\n",
    "\n",
    "    minor_ticks = np.arange(np.min(FM_energies)-2, np.max(FM_energies)+1, 0.5)\n",
    "\n",
    "\n",
    "    #plot predicted or DFT values for each output\n",
    "    fig, ax = plt.subplots(figsize=(18,12))\n",
    "\n",
    "    if DFT_exist:\n",
    "        z = np.array([0,1,2,3]*2)\n",
    "    else: \n",
    "        z = np.array([1,2,3]*2)\n",
    "    colors = np.array(['black', 'green', 'orange', 'blue'])\n",
    "    ax.scatter(x, FM_energies, s=300, marker=\".\", linewidth=1, zorder=3, c=colors[z])\n",
    "    ax.set_yticks(minor_ticks, minor=False)\n",
    "\n",
    "    #plot uncertainty errorbar\n",
    "    ax.errorbar(x, FM_energies, yerr=FM_std, fmt='none', c=colors[z])\n",
    "    ax.margins(0.2)\n",
    "    ax.set_ylabel('Formation Energy (ev)')\n",
    "    ax.set_title('Formation Energy Prediction')\n",
    "\n",
    "    #xlabel create\n",
    "    if DFT_exist:\n",
    "        ax2 = ax.twinx()\n",
    "        ax2.set_xlim(ax.get_xlim())\n",
    "        ax2.set_xticks(ticks=[1, 6])\n",
    "        ax2.set_xticklabels(['dH (A-rich)', 'dH (B-rich)'])\n",
    "        ax2.set_xticks([3.5], minor=True)\n",
    "    else: \n",
    "        ax2 = ax.twinx()\n",
    "        ax2.set_xlim(ax.get_xlim())\n",
    "        ax2.set_xticks(ticks=[0.8, 4.2])\n",
    "        ax2.set_xticklabels(['dH (A-rich)', 'dH (B-rich)'])\n",
    "        ax2.set_xticks([2.5], minor=True)\n",
    "    ax2.axes.get_yaxis().set_visible(False)\n",
    "    ax.grid(which='minor', alpha=0.8)\n",
    "    ax.set_xlim(-1,len(FM_energies))\n",
    "\n",
    "    #legend\n",
    "    if DFT_exist:\n",
    "        custom_lines = [Line2D([0], [0], color='black', lw=4),\n",
    "                        Line2D([0], [0], color='green', lw=4),\n",
    "                        Line2D([0], [0], color='orange', lw=4),\n",
    "                        Line2D([0], [0], color='blue', lw=4)]\n",
    "    else:\n",
    "        custom_lines = [Line2D([0], [0], color='green', lw=4),\n",
    "                        Line2D([0], [0], color='orange', lw=4),\n",
    "                        Line2D([0], [0], color='blue', lw=4)]\n",
    "    ax.legend(custom_lines, lab, loc='upper left', prop={'size': 15})\n",
    "    plt.show()\n",
    "    \n",
    "    if DFT_exist:\n",
    "        summary = {'DFT':[],'KRR':[], 'RFR':[], 'NN':[]}\n",
    "        for i in range(0,2):\n",
    "            summary['DFT'].append(np.str(round(FM_energies[i*2],2)) + ' +/- ' + np.str(round(FM_std[i*2],2)))\n",
    "            summary['KRR'].append(np.str(round(FM_energies[i*2+1],2)) + ' +/- ' + np.str(round(FM_std[i*2+1],2)))\n",
    "            summary['RFR'].append(np.str(round(FM_energies[i*2+2],2)) + ' +/- ' + np.str(round(FM_std[i*2+2],2)))\n",
    "            summary['NN'].append(np.str(round(FM_energies[i*2+3],2)) + ' +/- ' + np.str(round(FM_std[i*2+3],2)))\n",
    "        for i in range(0,6):\n",
    "            summary['DFT'].append(np.str(round(TL_energies[i*4],2)) + ' +/- ' + np.str(round(TL_std[i*4],2)))\n",
    "            summary['KRR'].append(np.str(round(TL_energies[i*4+1],2)) + ' +/- ' + np.str(round(TL_std[i*4+1],2)))\n",
    "            summary['RFR'].append(np.str(round(TL_energies[i*4+2],2)) + ' +/- ' + np.str(round(TL_std[i*4+2],2)))\n",
    "            summary['NN'].append(np.str(round(TL_energies[i*4+3],2)) + ' +/- ' + np.str(round(TL_std[i*4+3],2)))\n",
    "    else:\n",
    "        summary = {'KRR':[], 'RFR':[], 'NN':[]}\n",
    "        for i in range(0,2):\n",
    "            summary['KRR'].append(np.str(round(FM_energies[i*2],2)) + ' +/- ' + np.str(round(FM_std[i*2],2)))\n",
    "            summary['RFR'].append(np.str(round(FM_energies[i*2+1],2)) + ' +/- ' + np.str(round(FM_std[i*2+1],2)))\n",
    "            summary['NN'].append(np.str(round(FM_energies[i*2+2],2)) + ' +/- ' + np.str(round(FM_std[i*2+2],2)))\n",
    "        for i in range(0,6):\n",
    "            summary['KRR'].append(np.str(round(TL_energies[i*3],2)) + ' +/- ' + np.str(round(TL_std[i*3],2)))\n",
    "            summary['RFR'].append(np.str(round(TL_energies[i*3+1],2)) + ' +/- ' + np.str(round(TL_std[i*3+1],2)))\n",
    "            summary['NN'].append(np.str(round(TL_energies[i*3+2],2)) + ' +/- ' + np.str(round(TL_std[i*3+2],2)))\n",
    "    print(pd.DataFrame(summary, index=['dHA', 'dHB', '(+3,+2)','(+2,+1)','(+1,0)',\n",
    "                                       '(0,-1)', '(-1,-2)', '(-2,-3)']))\n",
    "    return"
   ]
  },
  {
   "cell_type": "code",
   "execution_count": 12,
   "metadata": {
    "ExecuteTime": {
     "end_time": "2020-06-22T23:04:23.084839Z",
     "start_time": "2020-06-22T23:04:22.505002Z"
    },
    "code_folding": []
   },
   "outputs": [
    {
     "data": {
      "application/vnd.jupyter.widget-view+json": {
       "model_id": "2748d7cacd9b4d24a1f3b113348fa192",
       "version_major": 2,
       "version_minor": 0
      },
      "text/plain": [
       "interactive(children=(Dropdown(description='Impurity', options=('Ag', 'Al', 'As', 'Au', 'B', 'Ba', 'Be', 'Bi',…"
      ]
     },
     "metadata": {},
     "output_type": "display_data"
    }
   ],
   "source": [
    "interactive(plot_energy, \n",
    "            Impurity=widgets.Dropdown(options=np.unique(Fullchem['M']), values='All', descriptions='Impurity: '), \n",
    "            AB=widgets.Dropdown(options=np.unique(Fullchem['AB']), values='All', descriptions='AB: '), \n",
    "            Site=widgets.Dropdown(options=np.unique(Fullchem['Site']), values='All', descriptions='AB: '))"
   ]
  },
  {
   "cell_type": "code",
   "execution_count": null,
   "metadata": {},
   "outputs": [],
   "source": []
  }
 ],
 "metadata": {
  "kernelspec": {
   "display_name": "Python 3",
   "language": "python",
   "name": "python3"
  },
  "toc": {
   "base_numbering": 1,
   "nav_menu": {},
   "number_sections": true,
   "sideBar": true,
   "skip_h1_title": false,
   "title_cell": "Table of Contents",
   "title_sidebar": "Contents",
   "toc_cell": false,
   "toc_position": {},
   "toc_section_display": true,
   "toc_window_display": false
  },
  "varInspector": {
   "cols": {
    "lenName": 16,
    "lenType": 16,
    "lenVar": 40
   },
   "kernels_config": {
    "python": {
     "delete_cmd_postfix": "",
     "delete_cmd_prefix": "del ",
     "library": "var_list.py",
     "varRefreshCmd": "print(var_dic_list())"
    },
    "r": {
     "delete_cmd_postfix": ") ",
     "delete_cmd_prefix": "rm(",
     "library": "var_list.r",
     "varRefreshCmd": "cat(var_dic_list()) "
    }
   },
   "types_to_exclude": [
    "module",
    "function",
    "builtin_function_or_method",
    "instance",
    "_Feature"
   ],
   "window_display": false
  }
 },
 "nbformat": 4,
 "nbformat_minor": 4
}
