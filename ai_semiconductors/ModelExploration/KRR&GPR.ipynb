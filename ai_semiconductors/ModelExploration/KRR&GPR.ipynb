{
 "cells": [
  {
   "cell_type": "code",
   "execution_count": 2,
   "metadata": {
    "ExecuteTime": {
     "end_time": "2020-05-04T19:47:52.840737Z",
     "start_time": "2020-05-04T19:47:52.835751Z"
    }
   },
   "outputs": [],
   "source": [
    "from sklearn.kernel_ridge import KernelRidge\n",
    "from sklearn.model_selection import train_test_split\n",
    "from sklearn.metrics import mean_squared_error\n",
    "from sklearn.metrics.pairwise import polynomial_kernel\n",
    "from sklearn.metrics.pairwise import rbf_kernel\n",
    "from sklearn.metrics.pairwise import laplacian_kernel\n",
    "import pandas as pd\n",
    "import math\n",
    "import numpy as np\n",
    "from matplotlib import pyplot as plt\n",
    "from sklearn.model_selection import GridSearchCV\n",
    "from sklearn.gaussian_process import GaussianProcessRegressor\n",
    "from sklearn.gaussian_process.kernels \\\n",
    "    import RBF, RationalQuadratic\n",
    "import os\n",
    "os.chdir('..\\ModelExploration') \n",
    "import standardize"
   ]
  },
  {
   "cell_type": "code",
   "execution_count": 75,
   "metadata": {
    "ExecuteTime": {
     "end_time": "2020-05-04T21:10:24.005074Z",
     "start_time": "2020-05-04T21:10:23.998117Z"
    }
   },
   "outputs": [],
   "source": [
    "def krr(X_train, y_train):\n",
    "    krr_result = []\n",
    "    for i in range(len(predictors)):\n",
    "        param_grid = {\"alpha\": np.logspace(-5, 10, num=16),\n",
    "                      \"kernel\": ['linear', 'poly', 'laplacian', 'rbf']}\n",
    "        kr = GridSearchCV(KernelRidge(), param_grid=param_grid, cv=5, scoring= \"neg_mean_squared_error\")\n",
    "        kr.fit(X_train, y_train[i])\n",
    "        rmse = np.sqrt(mean_squared_error(test[predictors[i]], kr.predict(test[all_features])))\n",
    "        krr_result.append({\n",
    "        'Predictor': predictors[i],\n",
    "        'Training RMSE': (-kr.best_score_)**0.5,\n",
    "        'Testing RMSE': rmse,\n",
    "        'Model': kr.best_estimator_,\n",
    "        'Best Parameter': kr.best_params_.values()\n",
    "        })\n",
    "    krr_result = pd.DataFrame(krr_result)\n",
    "    return krr_result"
   ]
  },
  {
   "cell_type": "markdown",
   "metadata": {},
   "source": [
    "# KRR"
   ]
  },
  {
   "cell_type": "markdown",
   "metadata": {},
   "source": [
    "## Original data trained via KRR"
   ]
  },
  {
   "cell_type": "code",
   "execution_count": 80,
   "metadata": {
    "ExecuteTime": {
     "end_time": "2020-05-04T21:20:00.841627Z",
     "start_time": "2020-05-04T21:20:00.801700Z"
    }
   },
   "outputs": [],
   "source": [
    "data = pd.read_csv('ML_data.csv')"
   ]
  },
  {
   "cell_type": "code",
   "execution_count": 113,
   "metadata": {
    "ExecuteTime": {
     "end_time": "2020-05-04T22:21:46.248865Z",
     "start_time": "2020-05-04T22:21:46.243877Z"
    }
   },
   "outputs": [],
   "source": [
    "predictors = list(data.columns[4:10])\n",
    "features = list(list(data.columns[14:19]) + list(data.columns[29:54]))"
   ]
  },
  {
   "cell_type": "code",
   "execution_count": 114,
   "metadata": {
    "ExecuteTime": {
     "end_time": "2020-05-04T22:21:46.751302Z",
     "start_time": "2020-05-04T22:21:46.748308Z"
    }
   },
   "outputs": [],
   "source": [
    "all_features = features"
   ]
  },
  {
   "cell_type": "code",
   "execution_count": 82,
   "metadata": {
    "ExecuteTime": {
     "end_time": "2020-05-04T21:20:02.063570Z",
     "start_time": "2020-05-04T21:20:02.003731Z"
    }
   },
   "outputs": [],
   "source": [
    "#all_features = []\n",
    "#for feat in features:\n",
    "#    square_feat = feat + '_square' \n",
    "#    data[square_feat] = data[feat] ** 2\n",
    "#    if data[feat].min() >= 0:\n",
    "#        sqrt_feat = feat + '_sqrt'\n",
    "#        data[sqrt_feat] = data[feat].apply(math.sqrt)\n",
    "#        all_features.extend([feat, square_feat, sqrt_feat])\n",
    "#    else:\n",
    "#        all_features.extend([feat, square_feat])"
   ]
  },
  {
   "cell_type": "code",
   "execution_count": 83,
   "metadata": {
    "ExecuteTime": {
     "end_time": "2020-05-04T21:20:03.043856Z",
     "start_time": "2020-05-04T21:20:02.981026Z"
    }
   },
   "outputs": [],
   "source": [
    "# Standardize each of the features\n",
    "for feature in all_features:\n",
    "    data[feature] = standardize.standardize(data[feature])\n",
    "# Make the predictors have mean 0 \n",
    "for predictor in predictors:\n",
    "    mean_pre = data[predictor].mean() \n",
    "    data[predictor] -= mean_pre"
   ]
  },
  {
   "cell_type": "code",
   "execution_count": 115,
   "metadata": {
    "ExecuteTime": {
     "end_time": "2020-05-04T22:21:57.563293Z",
     "start_time": "2020-05-04T22:21:57.556314Z"
    }
   },
   "outputs": [],
   "source": [
    "train, test = train_test_split(data, test_size=0.2, random_state=0)"
   ]
  },
  {
   "cell_type": "code",
   "execution_count": 116,
   "metadata": {
    "ExecuteTime": {
     "end_time": "2020-05-04T22:21:58.088920Z",
     "start_time": "2020-05-04T22:21:58.083933Z"
    }
   },
   "outputs": [],
   "source": [
    "X_train = train[all_features]\n",
    "y_train = [train['∆H (A-rich)'], train['∆H (B-rich)'], train['(+2/+1)'], train['(+1/0)'],\n",
    "           train['(0/-1)'], train['(-1/-2)']]"
   ]
  },
  {
   "cell_type": "code",
   "execution_count": 117,
   "metadata": {
    "ExecuteTime": {
     "end_time": "2020-05-04T22:22:54.846710Z",
     "start_time": "2020-05-04T22:21:58.640602Z"
    }
   },
   "outputs": [
    {
     "data": {
      "text/html": [
       "<div>\n",
       "<style scoped>\n",
       "    .dataframe tbody tr th:only-of-type {\n",
       "        vertical-align: middle;\n",
       "    }\n",
       "\n",
       "    .dataframe tbody tr th {\n",
       "        vertical-align: top;\n",
       "    }\n",
       "\n",
       "    .dataframe thead th {\n",
       "        text-align: right;\n",
       "    }\n",
       "</style>\n",
       "<table border=\"1\" class=\"dataframe\">\n",
       "  <thead>\n",
       "    <tr style=\"text-align: right;\">\n",
       "      <th></th>\n",
       "      <th>Predictor</th>\n",
       "      <th>Training RMSE</th>\n",
       "      <th>Testing RMSE</th>\n",
       "      <th>Model</th>\n",
       "      <th>Best Parameter</th>\n",
       "    </tr>\n",
       "  </thead>\n",
       "  <tbody>\n",
       "    <tr>\n",
       "      <th>0</th>\n",
       "      <td>∆H (A-rich)</td>\n",
       "      <td>2.002219</td>\n",
       "      <td>2.638377</td>\n",
       "      <td>KernelRidge(alpha=0.1, coef0=1, degree=3, gamm...</td>\n",
       "      <td>(0.1, laplacian)</td>\n",
       "    </tr>\n",
       "    <tr>\n",
       "      <th>1</th>\n",
       "      <td>∆H (B-rich)</td>\n",
       "      <td>2.510018</td>\n",
       "      <td>3.150153</td>\n",
       "      <td>KernelRidge(alpha=0.1, coef0=1, degree=3, gamm...</td>\n",
       "      <td>(0.1, laplacian)</td>\n",
       "    </tr>\n",
       "    <tr>\n",
       "      <th>2</th>\n",
       "      <td>(+2/+1)</td>\n",
       "      <td>0.778437</td>\n",
       "      <td>0.711157</td>\n",
       "      <td>KernelRidge(alpha=0.01, coef0=1, degree=3, gam...</td>\n",
       "      <td>(0.01, laplacian)</td>\n",
       "    </tr>\n",
       "    <tr>\n",
       "      <th>3</th>\n",
       "      <td>(+1/0)</td>\n",
       "      <td>0.727054</td>\n",
       "      <td>0.684512</td>\n",
       "      <td>KernelRidge(alpha=0.01, coef0=1, degree=3, gam...</td>\n",
       "      <td>(0.01, laplacian)</td>\n",
       "    </tr>\n",
       "    <tr>\n",
       "      <th>4</th>\n",
       "      <td>(0/-1)</td>\n",
       "      <td>0.664307</td>\n",
       "      <td>0.606917</td>\n",
       "      <td>KernelRidge(alpha=0.001, coef0=1, degree=3, ga...</td>\n",
       "      <td>(0.001, laplacian)</td>\n",
       "    </tr>\n",
       "    <tr>\n",
       "      <th>5</th>\n",
       "      <td>(-1/-2)</td>\n",
       "      <td>0.564937</td>\n",
       "      <td>0.519097</td>\n",
       "      <td>KernelRidge(alpha=0.0001, coef0=1, degree=3, g...</td>\n",
       "      <td>(0.0001, laplacian)</td>\n",
       "    </tr>\n",
       "  </tbody>\n",
       "</table>\n",
       "</div>"
      ],
      "text/plain": [
       "     Predictor  Training RMSE  Testing RMSE  \\\n",
       "0  ∆H (A-rich)       2.002219      2.638377   \n",
       "1  ∆H (B-rich)       2.510018      3.150153   \n",
       "2      (+2/+1)       0.778437      0.711157   \n",
       "3       (+1/0)       0.727054      0.684512   \n",
       "4       (0/-1)       0.664307      0.606917   \n",
       "5      (-1/-2)       0.564937      0.519097   \n",
       "\n",
       "                                               Model       Best Parameter  \n",
       "0  KernelRidge(alpha=0.1, coef0=1, degree=3, gamm...     (0.1, laplacian)  \n",
       "1  KernelRidge(alpha=0.1, coef0=1, degree=3, gamm...     (0.1, laplacian)  \n",
       "2  KernelRidge(alpha=0.01, coef0=1, degree=3, gam...    (0.01, laplacian)  \n",
       "3  KernelRidge(alpha=0.01, coef0=1, degree=3, gam...    (0.01, laplacian)  \n",
       "4  KernelRidge(alpha=0.001, coef0=1, degree=3, ga...   (0.001, laplacian)  \n",
       "5  KernelRidge(alpha=0.0001, coef0=1, degree=3, g...  (0.0001, laplacian)  "
      ]
     },
     "execution_count": 117,
     "metadata": {},
     "output_type": "execute_result"
    }
   ],
   "source": [
    "krr(X_train, y_train)"
   ]
  },
  {
   "cell_type": "markdown",
   "metadata": {},
   "source": [
    "## Remove outliers data trained via KRR"
   ]
  },
  {
   "cell_type": "code",
   "execution_count": 76,
   "metadata": {
    "ExecuteTime": {
     "end_time": "2020-05-04T21:14:31.194208Z",
     "start_time": "2020-05-04T21:14:31.150358Z"
    },
    "collapsed": true
   },
   "outputs": [
    {
     "data": {
      "text/html": [
       "<div>\n",
       "<style scoped>\n",
       "    .dataframe tbody tr th:only-of-type {\n",
       "        vertical-align: middle;\n",
       "    }\n",
       "\n",
       "    .dataframe tbody tr th {\n",
       "        vertical-align: top;\n",
       "    }\n",
       "\n",
       "    .dataframe thead th {\n",
       "        text-align: right;\n",
       "    }\n",
       "</style>\n",
       "<table border=\"1\" class=\"dataframe\">\n",
       "  <thead>\n",
       "    <tr style=\"text-align: right;\">\n",
       "      <th></th>\n",
       "      <th>Index</th>\n",
       "      <th>Type</th>\n",
       "      <th>AB</th>\n",
       "      <th>Site</th>\n",
       "      <th>Impurity</th>\n",
       "      <th>∆H (A-rich)</th>\n",
       "      <th>∆H (B-rich)</th>\n",
       "      <th>(+2/+1)</th>\n",
       "      <th>(+1/0)</th>\n",
       "      <th>(0/-1)</th>\n",
       "      <th>...</th>\n",
       "      <th>Therm_cond</th>\n",
       "      <th>Elec_cond</th>\n",
       "      <th>Heat_fusion</th>\n",
       "      <th>Heat_vap</th>\n",
       "      <th>Electronegativity</th>\n",
       "      <th>At_num</th>\n",
       "      <th>Period</th>\n",
       "      <th>Group</th>\n",
       "      <th>Valence</th>\n",
       "      <th>Ox_state</th>\n",
       "    </tr>\n",
       "  </thead>\n",
       "  <tbody>\n",
       "    <tr>\n",
       "      <th>0</th>\n",
       "      <td>6</td>\n",
       "      <td>III-V</td>\n",
       "      <td>BN</td>\n",
       "      <td>M_A</td>\n",
       "      <td>Pb</td>\n",
       "      <td>17.053</td>\n",
       "      <td>9.405</td>\n",
       "      <td>-0.954</td>\n",
       "      <td>4.167</td>\n",
       "      <td>5.413</td>\n",
       "      <td>...</td>\n",
       "      <td>35.30</td>\n",
       "      <td>4.8</td>\n",
       "      <td>4.77</td>\n",
       "      <td>177.90</td>\n",
       "      <td>2.33</td>\n",
       "      <td>82</td>\n",
       "      <td>6</td>\n",
       "      <td>14</td>\n",
       "      <td>4</td>\n",
       "      <td>2</td>\n",
       "    </tr>\n",
       "    <tr>\n",
       "      <th>1</th>\n",
       "      <td>14</td>\n",
       "      <td>III-V</td>\n",
       "      <td>AlN</td>\n",
       "      <td>M_i_A</td>\n",
       "      <td>Te</td>\n",
       "      <td>20.547</td>\n",
       "      <td>19.797</td>\n",
       "      <td>2.745</td>\n",
       "      <td>3.928</td>\n",
       "      <td>4.710</td>\n",
       "      <td>...</td>\n",
       "      <td>2.35</td>\n",
       "      <td>0.0</td>\n",
       "      <td>17.49</td>\n",
       "      <td>50.63</td>\n",
       "      <td>2.10</td>\n",
       "      <td>52</td>\n",
       "      <td>5</td>\n",
       "      <td>16</td>\n",
       "      <td>6</td>\n",
       "      <td>4</td>\n",
       "    </tr>\n",
       "    <tr>\n",
       "      <th>2</th>\n",
       "      <td>15</td>\n",
       "      <td>III-V</td>\n",
       "      <td>BN</td>\n",
       "      <td>M_A</td>\n",
       "      <td>As</td>\n",
       "      <td>14.244</td>\n",
       "      <td>5.391</td>\n",
       "      <td>2.977</td>\n",
       "      <td>3.900</td>\n",
       "      <td>5.197</td>\n",
       "      <td>...</td>\n",
       "      <td>50.00</td>\n",
       "      <td>3.8</td>\n",
       "      <td>27.70</td>\n",
       "      <td>32.40</td>\n",
       "      <td>2.16</td>\n",
       "      <td>33</td>\n",
       "      <td>4</td>\n",
       "      <td>15</td>\n",
       "      <td>5</td>\n",
       "      <td>3</td>\n",
       "    </tr>\n",
       "    <tr>\n",
       "      <th>3</th>\n",
       "      <td>17</td>\n",
       "      <td>III-V</td>\n",
       "      <td>AlN</td>\n",
       "      <td>M_B</td>\n",
       "      <td>Se</td>\n",
       "      <td>3.581</td>\n",
       "      <td>10.182</td>\n",
       "      <td>-0.155</td>\n",
       "      <td>3.860</td>\n",
       "      <td>4.759</td>\n",
       "      <td>...</td>\n",
       "      <td>2.04</td>\n",
       "      <td>8.0</td>\n",
       "      <td>5.54</td>\n",
       "      <td>26.32</td>\n",
       "      <td>2.55</td>\n",
       "      <td>34</td>\n",
       "      <td>4</td>\n",
       "      <td>16</td>\n",
       "      <td>6</td>\n",
       "      <td>4</td>\n",
       "    </tr>\n",
       "    <tr>\n",
       "      <th>4</th>\n",
       "      <td>21</td>\n",
       "      <td>III-V</td>\n",
       "      <td>BN</td>\n",
       "      <td>M_B</td>\n",
       "      <td>F</td>\n",
       "      <td>7.785</td>\n",
       "      <td>12.884</td>\n",
       "      <td>2.341</td>\n",
       "      <td>3.683</td>\n",
       "      <td>5.552</td>\n",
       "      <td>...</td>\n",
       "      <td>0.03</td>\n",
       "      <td>12.0</td>\n",
       "      <td>0.26</td>\n",
       "      <td>3.27</td>\n",
       "      <td>3.98</td>\n",
       "      <td>9</td>\n",
       "      <td>2</td>\n",
       "      <td>17</td>\n",
       "      <td>1</td>\n",
       "      <td>1</td>\n",
       "    </tr>\n",
       "  </tbody>\n",
       "</table>\n",
       "<p>5 rows × 56 columns</p>\n",
       "</div>"
      ],
      "text/plain": [
       "   Index   Type   AB   Site Impurity  ∆H (A-rich)  ∆H (B-rich)  (+2/+1)  \\\n",
       "0      6  III-V   BN    M_A       Pb       17.053        9.405   -0.954   \n",
       "1     14  III-V  AlN  M_i_A       Te       20.547       19.797    2.745   \n",
       "2     15  III-V   BN    M_A       As       14.244        5.391    2.977   \n",
       "3     17  III-V  AlN    M_B       Se        3.581       10.182   -0.155   \n",
       "4     21  III-V   BN    M_B        F        7.785       12.884    2.341   \n",
       "\n",
       "   (+1/0)  (0/-1)  ...  Therm_cond  Elec_cond  Heat_fusion  Heat_vap  \\\n",
       "0   4.167   5.413  ...       35.30        4.8         4.77    177.90   \n",
       "1   3.928   4.710  ...        2.35        0.0        17.49     50.63   \n",
       "2   3.900   5.197  ...       50.00        3.8        27.70     32.40   \n",
       "3   3.860   4.759  ...        2.04        8.0         5.54     26.32   \n",
       "4   3.683   5.552  ...        0.03       12.0         0.26      3.27   \n",
       "\n",
       "   Electronegativity  At_num  Period  Group  Valence  Ox_state  \n",
       "0               2.33      82       6     14        4         2  \n",
       "1               2.10      52       5     16        6         4  \n",
       "2               2.16      33       4     15        5         3  \n",
       "3               2.55      34       4     16        6         4  \n",
       "4               3.98       9       2     17        1         1  \n",
       "\n",
       "[5 rows x 56 columns]"
      ]
     },
     "execution_count": 76,
     "metadata": {},
     "output_type": "execute_result"
    }
   ],
   "source": [
    "outlier = pd.read_csv('../outlier_KNN_Type_10%.csv')\n",
    "outlier.rename(columns={'Unnamed: 0':'Index'}, inplace=True)\n",
    "outlier.head()"
   ]
  },
  {
   "cell_type": "code",
   "execution_count": 118,
   "metadata": {
    "ExecuteTime": {
     "end_time": "2020-05-04T22:22:55.120278Z",
     "start_time": "2020-05-04T22:22:55.116286Z"
    }
   },
   "outputs": [],
   "source": [
    "data1 = data.copy()"
   ]
  },
  {
   "cell_type": "code",
   "execution_count": 119,
   "metadata": {
    "ExecuteTime": {
     "end_time": "2020-05-04T22:22:55.351630Z",
     "start_time": "2020-05-04T22:22:55.346643Z"
    }
   },
   "outputs": [],
   "source": [
    "data1.drop(outlier['Index'], inplace=True)"
   ]
  },
  {
   "cell_type": "code",
   "execution_count": 120,
   "metadata": {
    "ExecuteTime": {
     "end_time": "2020-05-04T22:22:55.655323Z",
     "start_time": "2020-05-04T22:22:55.650336Z"
    }
   },
   "outputs": [
    {
     "data": {
      "text/plain": [
       "784"
      ]
     },
     "execution_count": 120,
     "metadata": {},
     "output_type": "execute_result"
    }
   ],
   "source": [
    "len(data1)"
   ]
  },
  {
   "cell_type": "code",
   "execution_count": 121,
   "metadata": {
    "ExecuteTime": {
     "end_time": "2020-05-04T22:23:44.524646Z",
     "start_time": "2020-05-04T22:22:55.885400Z"
    }
   },
   "outputs": [
    {
     "data": {
      "text/html": [
       "<div>\n",
       "<style scoped>\n",
       "    .dataframe tbody tr th:only-of-type {\n",
       "        vertical-align: middle;\n",
       "    }\n",
       "\n",
       "    .dataframe tbody tr th {\n",
       "        vertical-align: top;\n",
       "    }\n",
       "\n",
       "    .dataframe thead th {\n",
       "        text-align: right;\n",
       "    }\n",
       "</style>\n",
       "<table border=\"1\" class=\"dataframe\">\n",
       "  <thead>\n",
       "    <tr style=\"text-align: right;\">\n",
       "      <th></th>\n",
       "      <th>Predictor</th>\n",
       "      <th>Training RMSE</th>\n",
       "      <th>Testing RMSE</th>\n",
       "      <th>Model</th>\n",
       "      <th>Best Parameter</th>\n",
       "    </tr>\n",
       "  </thead>\n",
       "  <tbody>\n",
       "    <tr>\n",
       "      <th>0</th>\n",
       "      <td>∆H (A-rich)</td>\n",
       "      <td>1.718658</td>\n",
       "      <td>1.698420</td>\n",
       "      <td>KernelRidge(alpha=0.1, coef0=1, degree=3, gamm...</td>\n",
       "      <td>(0.1, laplacian)</td>\n",
       "    </tr>\n",
       "    <tr>\n",
       "      <th>1</th>\n",
       "      <td>∆H (B-rich)</td>\n",
       "      <td>2.018964</td>\n",
       "      <td>2.076280</td>\n",
       "      <td>KernelRidge(alpha=0.1, coef0=1, degree=3, gamm...</td>\n",
       "      <td>(0.1, laplacian)</td>\n",
       "    </tr>\n",
       "    <tr>\n",
       "      <th>2</th>\n",
       "      <td>(+2/+1)</td>\n",
       "      <td>0.729693</td>\n",
       "      <td>0.664053</td>\n",
       "      <td>KernelRidge(alpha=0.01, coef0=1, degree=3, gam...</td>\n",
       "      <td>(0.01, laplacian)</td>\n",
       "    </tr>\n",
       "    <tr>\n",
       "      <th>3</th>\n",
       "      <td>(+1/0)</td>\n",
       "      <td>0.708641</td>\n",
       "      <td>0.672146</td>\n",
       "      <td>KernelRidge(alpha=0.01, coef0=1, degree=3, gam...</td>\n",
       "      <td>(0.01, laplacian)</td>\n",
       "    </tr>\n",
       "    <tr>\n",
       "      <th>4</th>\n",
       "      <td>(0/-1)</td>\n",
       "      <td>0.619001</td>\n",
       "      <td>0.647361</td>\n",
       "      <td>KernelRidge(alpha=0.001, coef0=1, degree=3, ga...</td>\n",
       "      <td>(0.001, laplacian)</td>\n",
       "    </tr>\n",
       "    <tr>\n",
       "      <th>5</th>\n",
       "      <td>(-1/-2)</td>\n",
       "      <td>0.545307</td>\n",
       "      <td>0.527653</td>\n",
       "      <td>KernelRidge(alpha=1e-05, coef0=1, degree=3, ga...</td>\n",
       "      <td>(1e-05, laplacian)</td>\n",
       "    </tr>\n",
       "  </tbody>\n",
       "</table>\n",
       "</div>"
      ],
      "text/plain": [
       "     Predictor  Training RMSE  Testing RMSE  \\\n",
       "0  ∆H (A-rich)       1.718658      1.698420   \n",
       "1  ∆H (B-rich)       2.018964      2.076280   \n",
       "2      (+2/+1)       0.729693      0.664053   \n",
       "3       (+1/0)       0.708641      0.672146   \n",
       "4       (0/-1)       0.619001      0.647361   \n",
       "5      (-1/-2)       0.545307      0.527653   \n",
       "\n",
       "                                               Model      Best Parameter  \n",
       "0  KernelRidge(alpha=0.1, coef0=1, degree=3, gamm...    (0.1, laplacian)  \n",
       "1  KernelRidge(alpha=0.1, coef0=1, degree=3, gamm...    (0.1, laplacian)  \n",
       "2  KernelRidge(alpha=0.01, coef0=1, degree=3, gam...   (0.01, laplacian)  \n",
       "3  KernelRidge(alpha=0.01, coef0=1, degree=3, gam...   (0.01, laplacian)  \n",
       "4  KernelRidge(alpha=0.001, coef0=1, degree=3, ga...  (0.001, laplacian)  \n",
       "5  KernelRidge(alpha=1e-05, coef0=1, degree=3, ga...  (1e-05, laplacian)  "
      ]
     },
     "execution_count": 121,
     "metadata": {},
     "output_type": "execute_result"
    }
   ],
   "source": [
    "train, test = train_test_split(data1, test_size=0.2, random_state=0)\n",
    "X_train = train[all_features]\n",
    "y_train = [train['∆H (A-rich)'], train['∆H (B-rich)'], train['(+2/+1)'], train['(+1/0)'],\n",
    "           train['(0/-1)'], train['(-1/-2)']]\n",
    "krr(X_train, y_train)"
   ]
  },
  {
   "cell_type": "markdown",
   "metadata": {},
   "source": [
    "## Remove oulier (E>10ev) data trained via KRR"
   ]
  },
  {
   "cell_type": "code",
   "execution_count": 122,
   "metadata": {
    "ExecuteTime": {
     "end_time": "2020-05-04T22:23:44.869529Z",
     "start_time": "2020-05-04T22:23:44.864541Z"
    }
   },
   "outputs": [],
   "source": [
    "data2 = data.copy()"
   ]
  },
  {
   "cell_type": "code",
   "execution_count": 123,
   "metadata": {
    "ExecuteTime": {
     "end_time": "2020-05-04T22:23:45.115454Z",
     "start_time": "2020-05-04T22:23:45.108475Z"
    }
   },
   "outputs": [
    {
     "name": "stderr",
     "output_type": "stream",
     "text": [
      "C:\\Users\\xiang\\Anaconda3\\lib\\site-packages\\pandas\\core\\computation\\expressions.py:194: UserWarning: evaluating in Python space because the '+' operator is not supported by numexpr for the bool dtype, use '|' instead\n",
      "  op=op_str, alt_op=unsupported[op_str]\n"
     ]
    }
   ],
   "source": [
    "outlier2 = data[(data['∆H (A-rich)']>10) + (data['∆H (B-rich)']>10)].index"
   ]
  },
  {
   "cell_type": "code",
   "execution_count": 124,
   "metadata": {
    "ExecuteTime": {
     "end_time": "2020-05-04T22:23:45.436597Z",
     "start_time": "2020-05-04T22:23:45.432604Z"
    }
   },
   "outputs": [],
   "source": [
    "data2.drop(outlier2, inplace=True)"
   ]
  },
  {
   "cell_type": "code",
   "execution_count": 125,
   "metadata": {
    "ExecuteTime": {
     "end_time": "2020-05-04T22:23:45.755560Z",
     "start_time": "2020-05-04T22:23:45.750573Z"
    }
   },
   "outputs": [
    {
     "data": {
      "text/plain": [
       "820"
      ]
     },
     "execution_count": 125,
     "metadata": {},
     "output_type": "execute_result"
    }
   ],
   "source": [
    "len(data2)"
   ]
  },
  {
   "cell_type": "code",
   "execution_count": 126,
   "metadata": {
    "ExecuteTime": {
     "end_time": "2020-05-04T22:24:38.320119Z",
     "start_time": "2020-05-04T22:23:45.993511Z"
    }
   },
   "outputs": [
    {
     "data": {
      "text/html": [
       "<div>\n",
       "<style scoped>\n",
       "    .dataframe tbody tr th:only-of-type {\n",
       "        vertical-align: middle;\n",
       "    }\n",
       "\n",
       "    .dataframe tbody tr th {\n",
       "        vertical-align: top;\n",
       "    }\n",
       "\n",
       "    .dataframe thead th {\n",
       "        text-align: right;\n",
       "    }\n",
       "</style>\n",
       "<table border=\"1\" class=\"dataframe\">\n",
       "  <thead>\n",
       "    <tr style=\"text-align: right;\">\n",
       "      <th></th>\n",
       "      <th>Predictor</th>\n",
       "      <th>Training RMSE</th>\n",
       "      <th>Testing RMSE</th>\n",
       "      <th>Model</th>\n",
       "      <th>Best Parameter</th>\n",
       "    </tr>\n",
       "  </thead>\n",
       "  <tbody>\n",
       "    <tr>\n",
       "      <th>0</th>\n",
       "      <td>∆H (A-rich)</td>\n",
       "      <td>1.827212</td>\n",
       "      <td>1.525060</td>\n",
       "      <td>KernelRidge(alpha=0.1, coef0=1, degree=3, gamm...</td>\n",
       "      <td>(0.1, laplacian)</td>\n",
       "    </tr>\n",
       "    <tr>\n",
       "      <th>1</th>\n",
       "      <td>∆H (B-rich)</td>\n",
       "      <td>2.243164</td>\n",
       "      <td>2.229974</td>\n",
       "      <td>KernelRidge(alpha=0.1, coef0=1, degree=3, gamm...</td>\n",
       "      <td>(0.1, laplacian)</td>\n",
       "    </tr>\n",
       "    <tr>\n",
       "      <th>2</th>\n",
       "      <td>(+2/+1)</td>\n",
       "      <td>0.699878</td>\n",
       "      <td>0.750296</td>\n",
       "      <td>KernelRidge(alpha=0.01, coef0=1, degree=3, gam...</td>\n",
       "      <td>(0.01, laplacian)</td>\n",
       "    </tr>\n",
       "    <tr>\n",
       "      <th>3</th>\n",
       "      <td>(+1/0)</td>\n",
       "      <td>0.726809</td>\n",
       "      <td>0.754800</td>\n",
       "      <td>KernelRidge(alpha=0.01, coef0=1, degree=3, gam...</td>\n",
       "      <td>(0.01, laplacian)</td>\n",
       "    </tr>\n",
       "    <tr>\n",
       "      <th>4</th>\n",
       "      <td>(0/-1)</td>\n",
       "      <td>0.640826</td>\n",
       "      <td>0.760853</td>\n",
       "      <td>KernelRidge(alpha=0.01, coef0=1, degree=3, gam...</td>\n",
       "      <td>(0.01, laplacian)</td>\n",
       "    </tr>\n",
       "    <tr>\n",
       "      <th>5</th>\n",
       "      <td>(-1/-2)</td>\n",
       "      <td>0.506170</td>\n",
       "      <td>0.641492</td>\n",
       "      <td>KernelRidge(alpha=1e-05, coef0=1, degree=3, ga...</td>\n",
       "      <td>(1e-05, laplacian)</td>\n",
       "    </tr>\n",
       "  </tbody>\n",
       "</table>\n",
       "</div>"
      ],
      "text/plain": [
       "     Predictor  Training RMSE  Testing RMSE  \\\n",
       "0  ∆H (A-rich)       1.827212      1.525060   \n",
       "1  ∆H (B-rich)       2.243164      2.229974   \n",
       "2      (+2/+1)       0.699878      0.750296   \n",
       "3       (+1/0)       0.726809      0.754800   \n",
       "4       (0/-1)       0.640826      0.760853   \n",
       "5      (-1/-2)       0.506170      0.641492   \n",
       "\n",
       "                                               Model      Best Parameter  \n",
       "0  KernelRidge(alpha=0.1, coef0=1, degree=3, gamm...    (0.1, laplacian)  \n",
       "1  KernelRidge(alpha=0.1, coef0=1, degree=3, gamm...    (0.1, laplacian)  \n",
       "2  KernelRidge(alpha=0.01, coef0=1, degree=3, gam...   (0.01, laplacian)  \n",
       "3  KernelRidge(alpha=0.01, coef0=1, degree=3, gam...   (0.01, laplacian)  \n",
       "4  KernelRidge(alpha=0.01, coef0=1, degree=3, gam...   (0.01, laplacian)  \n",
       "5  KernelRidge(alpha=1e-05, coef0=1, degree=3, ga...  (1e-05, laplacian)  "
      ]
     },
     "execution_count": 126,
     "metadata": {},
     "output_type": "execute_result"
    }
   ],
   "source": [
    "train, test = train_test_split(data2, test_size=0.2, random_state=0)\n",
    "X_train = train[all_features]\n",
    "y_train = [train['∆H (A-rich)'], train['∆H (B-rich)'], train['(+2/+1)'], train['(+1/0)'],\n",
    "           train['(0/-1)'], train['(-1/-2)']]\n",
    "krr(X_train, y_train)"
   ]
  },
  {
   "cell_type": "markdown",
   "metadata": {},
   "source": [
    "# GPR"
   ]
  },
  {
   "cell_type": "code",
   "execution_count": null,
   "metadata": {},
   "outputs": [],
   "source": []
  }
 ],
 "metadata": {
  "kernelspec": {
   "display_name": "Python 3",
   "language": "python",
   "name": "python3"
  },
  "language_info": {
   "codemirror_mode": {
    "name": "ipython",
    "version": 3
   },
   "file_extension": ".py",
   "mimetype": "text/x-python",
   "name": "python",
   "nbconvert_exporter": "python",
   "pygments_lexer": "ipython3",
   "version": "3.7.3"
  },
  "toc": {
   "base_numbering": 1,
   "nav_menu": {},
   "number_sections": true,
   "sideBar": true,
   "skip_h1_title": false,
   "title_cell": "Table of Contents",
   "title_sidebar": "Contents",
   "toc_cell": false,
   "toc_position": {},
   "toc_section_display": true,
   "toc_window_display": false
  },
  "varInspector": {
   "cols": {
    "lenName": 16,
    "lenType": 16,
    "lenVar": 40
   },
   "kernels_config": {
    "python": {
     "delete_cmd_postfix": "",
     "delete_cmd_prefix": "del ",
     "library": "var_list.py",
     "varRefreshCmd": "print(var_dic_list())"
    },
    "r": {
     "delete_cmd_postfix": ") ",
     "delete_cmd_prefix": "rm(",
     "library": "var_list.r",
     "varRefreshCmd": "cat(var_dic_list()) "
    }
   },
   "types_to_exclude": [
    "module",
    "function",
    "builtin_function_or_method",
    "instance",
    "_Feature"
   ],
   "window_display": false
  }
 },
 "nbformat": 4,
 "nbformat_minor": 2
}
