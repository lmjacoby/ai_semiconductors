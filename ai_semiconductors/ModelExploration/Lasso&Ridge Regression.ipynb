{
 "cells": [
  {
   "cell_type": "code",
   "execution_count": 1,
   "metadata": {
    "ExecuteTime": {
     "end_time": "2020-04-26T22:59:03.382802Z",
     "start_time": "2020-04-26T22:59:01.686741Z"
    }
   },
   "outputs": [],
   "source": [
    "import pandas as pd\n",
    "import numpy as np\n",
    "from sklearn.feature_selection import SelectKBest\n",
    "from sklearn.feature_selection import chi2\n",
    "from sklearn import preprocessing"
   ]
  },
  {
   "cell_type": "code",
   "execution_count": 2,
   "metadata": {
    "ExecuteTime": {
     "end_time": "2020-04-26T22:59:03.387715Z",
     "start_time": "2020-04-26T22:59:03.383766Z"
    }
   },
   "outputs": [],
   "source": [
    "from math import sqrt"
   ]
  },
  {
   "cell_type": "markdown",
   "metadata": {},
   "source": [
    "# Lasso Regression"
   ]
  },
  {
   "cell_type": "code",
   "execution_count": 266,
   "metadata": {
    "ExecuteTime": {
     "end_time": "2020-04-27T06:11:35.915925Z",
     "start_time": "2020-04-27T06:11:35.866058Z"
    }
   },
   "outputs": [
    {
     "data": {
      "text/html": [
       "<div>\n",
       "<style scoped>\n",
       "    .dataframe tbody tr th:only-of-type {\n",
       "        vertical-align: middle;\n",
       "    }\n",
       "\n",
       "    .dataframe tbody tr th {\n",
       "        vertical-align: top;\n",
       "    }\n",
       "\n",
       "    .dataframe thead th {\n",
       "        text-align: right;\n",
       "    }\n",
       "</style>\n",
       "<table border=\"1\" class=\"dataframe\">\n",
       "  <thead>\n",
       "    <tr style=\"text-align: right;\">\n",
       "      <th></th>\n",
       "      <th>Type</th>\n",
       "      <th>AB</th>\n",
       "      <th>Site</th>\n",
       "      <th>Impurity</th>\n",
       "      <th>∆H (A-rich)</th>\n",
       "      <th>∆H (B-rich)</th>\n",
       "      <th>(+2/+1)</th>\n",
       "      <th>(+1/0)</th>\n",
       "      <th>(0/-1)</th>\n",
       "      <th>(-1/-2)</th>\n",
       "      <th>...</th>\n",
       "      <th>Therm_cond</th>\n",
       "      <th>Elec_cond</th>\n",
       "      <th>Heat_fusion</th>\n",
       "      <th>Heat_vap</th>\n",
       "      <th>Electronegativity</th>\n",
       "      <th>At_num</th>\n",
       "      <th>Period</th>\n",
       "      <th>Group</th>\n",
       "      <th>Valence</th>\n",
       "      <th>Ox_state</th>\n",
       "    </tr>\n",
       "  </thead>\n",
       "  <tbody>\n",
       "    <tr>\n",
       "      <th>0</th>\n",
       "      <td>IV-IV</td>\n",
       "      <td>SiC</td>\n",
       "      <td>M_i_A</td>\n",
       "      <td>In</td>\n",
       "      <td>15.963</td>\n",
       "      <td>15.963</td>\n",
       "      <td>3.891</td>\n",
       "      <td>4.660</td>\n",
       "      <td>5.109</td>\n",
       "      <td>5.629</td>\n",
       "      <td>...</td>\n",
       "      <td>81.60</td>\n",
       "      <td>3.4</td>\n",
       "      <td>3.26</td>\n",
       "      <td>226.34</td>\n",
       "      <td>1.78</td>\n",
       "      <td>49</td>\n",
       "      <td>5</td>\n",
       "      <td>13</td>\n",
       "      <td>3</td>\n",
       "      <td>3</td>\n",
       "    </tr>\n",
       "    <tr>\n",
       "      <th>1</th>\n",
       "      <td>IV-IV</td>\n",
       "      <td>SiC</td>\n",
       "      <td>M_i_B</td>\n",
       "      <td>La</td>\n",
       "      <td>19.972</td>\n",
       "      <td>19.554</td>\n",
       "      <td>3.863</td>\n",
       "      <td>4.539</td>\n",
       "      <td>4.991</td>\n",
       "      <td>5.556</td>\n",
       "      <td>...</td>\n",
       "      <td>13.50</td>\n",
       "      <td>1.9</td>\n",
       "      <td>11.30</td>\n",
       "      <td>399.57</td>\n",
       "      <td>1.10</td>\n",
       "      <td>57</td>\n",
       "      <td>6</td>\n",
       "      <td>3</td>\n",
       "      <td>3</td>\n",
       "      <td>3</td>\n",
       "    </tr>\n",
       "    <tr>\n",
       "      <th>2</th>\n",
       "      <td>IV-IV</td>\n",
       "      <td>SiC</td>\n",
       "      <td>M_i_neut</td>\n",
       "      <td>Zn</td>\n",
       "      <td>7.157</td>\n",
       "      <td>7.157</td>\n",
       "      <td>3.206</td>\n",
       "      <td>4.244</td>\n",
       "      <td>4.734</td>\n",
       "      <td>5.363</td>\n",
       "      <td>...</td>\n",
       "      <td>116.00</td>\n",
       "      <td>16.9</td>\n",
       "      <td>7.38</td>\n",
       "      <td>115.30</td>\n",
       "      <td>1.65</td>\n",
       "      <td>30</td>\n",
       "      <td>4</td>\n",
       "      <td>12</td>\n",
       "      <td>2</td>\n",
       "      <td>2</td>\n",
       "    </tr>\n",
       "    <tr>\n",
       "      <th>3</th>\n",
       "      <td>IV-IV</td>\n",
       "      <td>SiC</td>\n",
       "      <td>M_i_B</td>\n",
       "      <td>Al</td>\n",
       "      <td>6.951</td>\n",
       "      <td>7.110</td>\n",
       "      <td>3.503</td>\n",
       "      <td>4.242</td>\n",
       "      <td>4.650</td>\n",
       "      <td>5.319</td>\n",
       "      <td>...</td>\n",
       "      <td>237.00</td>\n",
       "      <td>37.7</td>\n",
       "      <td>10.70</td>\n",
       "      <td>290.80</td>\n",
       "      <td>1.61</td>\n",
       "      <td>13</td>\n",
       "      <td>3</td>\n",
       "      <td>13</td>\n",
       "      <td>3</td>\n",
       "      <td>3</td>\n",
       "    </tr>\n",
       "    <tr>\n",
       "      <th>4</th>\n",
       "      <td>IV-IV</td>\n",
       "      <td>SiC</td>\n",
       "      <td>M_B</td>\n",
       "      <td>I</td>\n",
       "      <td>8.783</td>\n",
       "      <td>9.201</td>\n",
       "      <td>3.614</td>\n",
       "      <td>4.221</td>\n",
       "      <td>5.058</td>\n",
       "      <td>5.608</td>\n",
       "      <td>...</td>\n",
       "      <td>0.45</td>\n",
       "      <td>0.0</td>\n",
       "      <td>7.76</td>\n",
       "      <td>20.90</td>\n",
       "      <td>2.66</td>\n",
       "      <td>53</td>\n",
       "      <td>5</td>\n",
       "      <td>17</td>\n",
       "      <td>7</td>\n",
       "      <td>1</td>\n",
       "    </tr>\n",
       "  </tbody>\n",
       "</table>\n",
       "<p>5 rows × 55 columns</p>\n",
       "</div>"
      ],
      "text/plain": [
       "    Type   AB      Site Impurity  ∆H (A-rich)  ∆H (B-rich)  (+2/+1)  (+1/0)  \\\n",
       "0  IV-IV  SiC     M_i_A       In       15.963       15.963    3.891   4.660   \n",
       "1  IV-IV  SiC     M_i_B       La       19.972       19.554    3.863   4.539   \n",
       "2  IV-IV  SiC  M_i_neut       Zn        7.157        7.157    3.206   4.244   \n",
       "3  IV-IV  SiC     M_i_B       Al        6.951        7.110    3.503   4.242   \n",
       "4  IV-IV  SiC       M_B        I        8.783        9.201    3.614   4.221   \n",
       "\n",
       "   (0/-1)  (-1/-2)  ...  Therm_cond  Elec_cond  Heat_fusion  Heat_vap  \\\n",
       "0   5.109    5.629  ...       81.60        3.4         3.26    226.34   \n",
       "1   4.991    5.556  ...       13.50        1.9        11.30    399.57   \n",
       "2   4.734    5.363  ...      116.00       16.9         7.38    115.30   \n",
       "3   4.650    5.319  ...      237.00       37.7        10.70    290.80   \n",
       "4   5.058    5.608  ...        0.45        0.0         7.76     20.90   \n",
       "\n",
       "   Electronegativity  At_num  Period  Group  Valence  Ox_state  \n",
       "0               1.78      49       5     13        3         3  \n",
       "1               1.10      57       6      3        3         3  \n",
       "2               1.65      30       4     12        2         2  \n",
       "3               1.61      13       3     13        3         3  \n",
       "4               2.66      53       5     17        7         1  \n",
       "\n",
       "[5 rows x 55 columns]"
      ]
     },
     "execution_count": 266,
     "metadata": {},
     "output_type": "execute_result"
    }
   ],
   "source": [
    "data = pd.read_csv('ML_data.csv')\n",
    "data.head()"
   ]
  },
  {
   "cell_type": "code",
   "execution_count": 267,
   "metadata": {
    "ExecuteTime": {
     "end_time": "2020-04-27T06:11:36.753421Z",
     "start_time": "2020-04-27T06:11:36.737464Z"
    }
   },
   "outputs": [],
   "source": [
    "data_1 = data[data['Type']=='II-VI']\n",
    "data_2 = data[data['Type']=='III-V']\n",
    "data_3 = data[data['Type']=='IV-IV']\n",
    "count_1, count_2, count_3 = data.Type.value_counts()\n",
    "data_1_under = data_1.sample(count_3, random_state=0)\n",
    "data_3_under = data_3.sample(count_3, random_state=0)\n",
    "data = pd.concat([data_1_under, data_2, data_3_under], axis=0)"
   ]
  },
  {
   "cell_type": "code",
   "execution_count": 268,
   "metadata": {
    "ExecuteTime": {
     "end_time": "2020-04-27T06:11:37.457443Z",
     "start_time": "2020-04-27T06:11:37.436500Z"
    }
   },
   "outputs": [
    {
     "data": {
      "text/html": [
       "<div>\n",
       "<style scoped>\n",
       "    .dataframe tbody tr th:only-of-type {\n",
       "        vertical-align: middle;\n",
       "    }\n",
       "\n",
       "    .dataframe tbody tr th {\n",
       "        vertical-align: top;\n",
       "    }\n",
       "\n",
       "    .dataframe thead th {\n",
       "        text-align: right;\n",
       "    }\n",
       "</style>\n",
       "<table border=\"1\" class=\"dataframe\">\n",
       "  <thead>\n",
       "    <tr style=\"text-align: right;\">\n",
       "      <th></th>\n",
       "      <th>Type</th>\n",
       "      <th>AB</th>\n",
       "      <th>Site</th>\n",
       "      <th>Impurity</th>\n",
       "      <th>∆H (A-rich)</th>\n",
       "      <th>∆H (B-rich)</th>\n",
       "      <th>(+2/+1)</th>\n",
       "      <th>(+1/0)</th>\n",
       "      <th>(0/-1)</th>\n",
       "      <th>(-1/-2)</th>\n",
       "      <th>...</th>\n",
       "      <th>Therm_cond</th>\n",
       "      <th>Elec_cond</th>\n",
       "      <th>Heat_fusion</th>\n",
       "      <th>Heat_vap</th>\n",
       "      <th>Electronegativity</th>\n",
       "      <th>At_num</th>\n",
       "      <th>Period</th>\n",
       "      <th>Group</th>\n",
       "      <th>Valence</th>\n",
       "      <th>Ox_state</th>\n",
       "    </tr>\n",
       "  </thead>\n",
       "  <tbody>\n",
       "    <tr>\n",
       "      <th>450</th>\n",
       "      <td>II-VI</td>\n",
       "      <td>CdTe</td>\n",
       "      <td>M_A</td>\n",
       "      <td>Mo</td>\n",
       "      <td>3.513</td>\n",
       "      <td>3.375</td>\n",
       "      <td>0.258</td>\n",
       "      <td>0.698</td>\n",
       "      <td>1.185</td>\n",
       "      <td>1.873</td>\n",
       "      <td>...</td>\n",
       "      <td>138.00</td>\n",
       "      <td>17.3</td>\n",
       "      <td>36.0</td>\n",
       "      <td>590.4</td>\n",
       "      <td>2.16</td>\n",
       "      <td>42</td>\n",
       "      <td>5</td>\n",
       "      <td>6</td>\n",
       "      <td>6</td>\n",
       "      <td>6</td>\n",
       "    </tr>\n",
       "    <tr>\n",
       "      <th>504</th>\n",
       "      <td>II-VI</td>\n",
       "      <td>CdSe</td>\n",
       "      <td>M_B</td>\n",
       "      <td>Ge</td>\n",
       "      <td>2.157</td>\n",
       "      <td>4.241</td>\n",
       "      <td>-0.236</td>\n",
       "      <td>0.459</td>\n",
       "      <td>0.812</td>\n",
       "      <td>1.213</td>\n",
       "      <td>...</td>\n",
       "      <td>59.90</td>\n",
       "      <td>0.0</td>\n",
       "      <td>31.8</td>\n",
       "      <td>334.3</td>\n",
       "      <td>2.01</td>\n",
       "      <td>32</td>\n",
       "      <td>4</td>\n",
       "      <td>14</td>\n",
       "      <td>4</td>\n",
       "      <td>4</td>\n",
       "    </tr>\n",
       "    <tr>\n",
       "      <th>321</th>\n",
       "      <td>II-VI</td>\n",
       "      <td>CdTe</td>\n",
       "      <td>M_i_B</td>\n",
       "      <td>Nb</td>\n",
       "      <td>4.417</td>\n",
       "      <td>6.057</td>\n",
       "      <td>0.838</td>\n",
       "      <td>1.188</td>\n",
       "      <td>1.633</td>\n",
       "      <td>2.008</td>\n",
       "      <td>...</td>\n",
       "      <td>53.70</td>\n",
       "      <td>6.6</td>\n",
       "      <td>26.9</td>\n",
       "      <td>690.1</td>\n",
       "      <td>1.60</td>\n",
       "      <td>41</td>\n",
       "      <td>5</td>\n",
       "      <td>5</td>\n",
       "      <td>5</td>\n",
       "      <td>5</td>\n",
       "    </tr>\n",
       "    <tr>\n",
       "      <th>564</th>\n",
       "      <td>II-VI</td>\n",
       "      <td>CdTe</td>\n",
       "      <td>M_A</td>\n",
       "      <td>Tc</td>\n",
       "      <td>3.311</td>\n",
       "      <td>3.315</td>\n",
       "      <td>0.135</td>\n",
       "      <td>0.214</td>\n",
       "      <td>1.302</td>\n",
       "      <td>1.742</td>\n",
       "      <td>...</td>\n",
       "      <td>50.60</td>\n",
       "      <td>0.0</td>\n",
       "      <td>23.0</td>\n",
       "      <td>502.0</td>\n",
       "      <td>1.90</td>\n",
       "      <td>43</td>\n",
       "      <td>5</td>\n",
       "      <td>7</td>\n",
       "      <td>7</td>\n",
       "      <td>7</td>\n",
       "    </tr>\n",
       "    <tr>\n",
       "      <th>167</th>\n",
       "      <td>II-VI</td>\n",
       "      <td>CdSe</td>\n",
       "      <td>M_i_A</td>\n",
       "      <td>Bi</td>\n",
       "      <td>3.953</td>\n",
       "      <td>4.913</td>\n",
       "      <td>1.182</td>\n",
       "      <td>1.564</td>\n",
       "      <td>1.809</td>\n",
       "      <td>2.247</td>\n",
       "      <td>...</td>\n",
       "      <td>7.87</td>\n",
       "      <td>0.9</td>\n",
       "      <td>11.0</td>\n",
       "      <td>179.0</td>\n",
       "      <td>2.02</td>\n",
       "      <td>83</td>\n",
       "      <td>6</td>\n",
       "      <td>15</td>\n",
       "      <td>5</td>\n",
       "      <td>3</td>\n",
       "    </tr>\n",
       "  </tbody>\n",
       "</table>\n",
       "<p>5 rows × 55 columns</p>\n",
       "</div>"
      ],
      "text/plain": [
       "      Type    AB   Site Impurity  ∆H (A-rich)  ∆H (B-rich)  (+2/+1)  (+1/0)  \\\n",
       "450  II-VI  CdTe    M_A       Mo        3.513        3.375    0.258   0.698   \n",
       "504  II-VI  CdSe    M_B       Ge        2.157        4.241   -0.236   0.459   \n",
       "321  II-VI  CdTe  M_i_B       Nb        4.417        6.057    0.838   1.188   \n",
       "564  II-VI  CdTe    M_A       Tc        3.311        3.315    0.135   0.214   \n",
       "167  II-VI  CdSe  M_i_A       Bi        3.953        4.913    1.182   1.564   \n",
       "\n",
       "     (0/-1)  (-1/-2)  ...  Therm_cond  Elec_cond  Heat_fusion  Heat_vap  \\\n",
       "450   1.185    1.873  ...      138.00       17.3         36.0     590.4   \n",
       "504   0.812    1.213  ...       59.90        0.0         31.8     334.3   \n",
       "321   1.633    2.008  ...       53.70        6.6         26.9     690.1   \n",
       "564   1.302    1.742  ...       50.60        0.0         23.0     502.0   \n",
       "167   1.809    2.247  ...        7.87        0.9         11.0     179.0   \n",
       "\n",
       "     Electronegativity  At_num  Period  Group  Valence  Ox_state  \n",
       "450               2.16      42       5      6        6         6  \n",
       "504               2.01      32       4     14        4         4  \n",
       "321               1.60      41       5      5        5         5  \n",
       "564               1.90      43       5      7        7         7  \n",
       "167               2.02      83       6     15        5         3  \n",
       "\n",
       "[5 rows x 55 columns]"
      ]
     },
     "execution_count": 268,
     "metadata": {},
     "output_type": "execute_result"
    }
   ],
   "source": [
    "data_no = data.copy()\n",
    "data_no.head()"
   ]
  },
  {
   "cell_type": "code",
   "execution_count": 269,
   "metadata": {
    "ExecuteTime": {
     "end_time": "2020-04-27T06:11:38.263845Z",
     "start_time": "2020-04-27T06:11:38.258828Z"
    }
   },
   "outputs": [
    {
     "data": {
      "text/plain": [
       "41"
      ]
     },
     "execution_count": 269,
     "metadata": {},
     "output_type": "execute_result"
    }
   ],
   "source": [
    "predictors = list(data.columns[4:10])\n",
    "features = list(data.columns[14:])\n",
    "feature_no = list(data_no.columns[14:])\n",
    "len(feature_no)"
   ]
  },
  {
   "cell_type": "code",
   "execution_count": 270,
   "metadata": {
    "ExecuteTime": {
     "end_time": "2020-04-27T06:11:39.692944Z",
     "start_time": "2020-04-27T06:11:39.690834Z"
    }
   },
   "outputs": [],
   "source": [
    "all_features = features"
   ]
  },
  {
   "cell_type": "code",
   "execution_count": 338,
   "metadata": {
    "ExecuteTime": {
     "end_time": "2020-04-27T07:01:52.943592Z",
     "start_time": "2020-04-27T07:01:52.881176Z"
    }
   },
   "outputs": [],
   "source": [
    "all_features = []\n",
    "for feat in features:\n",
    "    square_feat = feat + '_square' \n",
    "    data[square_feat] = data[feat] ** 2\n",
    "    data_no[square_feat] = data_no[feat] ** 2\n",
    "    if data[feat].min() >= 0:\n",
    "        sqrt_feat = feat + '_sqrt'\n",
    "        data_no[sqrt_feat] = data_no[feat].apply(sqrt)\n",
    "        data[sqrt_feat] = data[feat].apply(sqrt)\n",
    "        all_features.extend([feat, square_feat, sqrt_feat])\n",
    "    else:\n",
    "        all_features.extend([feat, square_feat])"
   ]
  },
  {
   "cell_type": "code",
   "execution_count": 339,
   "metadata": {
    "ExecuteTime": {
     "end_time": "2020-04-27T07:01:54.086078Z",
     "start_time": "2020-04-27T07:01:54.081093Z"
    }
   },
   "outputs": [
    {
     "data": {
      "text/plain": [
       "(96, 96)"
      ]
     },
     "execution_count": 339,
     "metadata": {},
     "output_type": "execute_result"
    }
   ],
   "source": [
    "len(data_no.columns), len(data.columns)"
   ]
  },
  {
   "cell_type": "markdown",
   "metadata": {},
   "source": [
    "We first need to do a little bit more pre-processing to prepare the data for model training. Models like Ridge and LASSO assume the input features are standardized (mean 0, std. dev. 1) and the target values are centered (mean 0). If we do not do this, we might get some unpredictable results since we violate the assumption of the models!"
   ]
  },
  {
   "cell_type": "code",
   "execution_count": 340,
   "metadata": {
    "ExecuteTime": {
     "end_time": "2020-04-27T07:01:55.832730Z",
     "start_time": "2020-04-27T07:01:55.748947Z"
    },
    "code_folding": [],
    "scrolled": true
   },
   "outputs": [],
   "source": [
    "def standardize(v):\n",
    "    \"\"\"\n",
    "    Takes a single column of a DataFrame and returns a new column \n",
    "    with the data standardized (mean 0, std deviation 1)\n",
    "    \"\"\"\n",
    "    std = v.std()\n",
    "    if std == 0:\n",
    "        return np.zeros(len(v))\n",
    "    else:\n",
    "        return (v - v.mean()) / std\n",
    "def normalize(v):\n",
    "    \"\"\"\n",
    "    Takes a single column of a DataFrame and returns a new column \n",
    "    with the data normalized (data range[0,1])\n",
    "    \"\"\"\n",
    "    max_ = v.max()\n",
    "    min_ = v.min()\n",
    "    if max_ == min_:\n",
    "        return np.ones(len(v))\n",
    "    else:\n",
    "        return (v/(max_ - min_))\n",
    "    \n",
    "# Standardize each of the features\n",
    "for feature in all_features:\n",
    "    data[feature] = standardize(data[feature])\n",
    "    data_no[feature] = normalize(data_no[feature])\n",
    "    \n",
    "# Make the predictors have mean 0 \n",
    "for predictor in predictors:\n",
    "    mean_pre = data[predictor].mean() \n",
    "    data[predictor] -= mean_pre\n",
    "\n",
    "# Preview"
   ]
  },
  {
   "cell_type": "code",
   "execution_count": 341,
   "metadata": {
    "ExecuteTime": {
     "end_time": "2020-04-27T07:01:56.573328Z",
     "start_time": "2020-04-27T07:01:56.554379Z"
    }
   },
   "outputs": [
    {
     "data": {
      "text/plain": [
       "(array(['II-VI', 'III-V', 'IV-IV'], dtype=object),\n",
       " array([124, 124, 124], dtype=int64))"
      ]
     },
     "execution_count": 341,
     "metadata": {},
     "output_type": "execute_result"
    }
   ],
   "source": [
    "from sklearn.model_selection import train_test_split\n",
    "from sklearn.model_selection import StratifiedShuffleSplit\n",
    "#train, test = train_test_split(data, test_size=0.2, random_state=0)\n",
    "#train_no, test_no = train_test_split(data_no, test_size=0.3, random_state=0)\n",
    "#train, test\n",
    "sss = StratifiedShuffleSplit(n_splits=5, test_size=0.2, random_state=100)\n",
    "sss.get_n_splits(data, data['Type'])\n",
    "#train_no, test_no\n",
    "for train_index, test_index in sss.split(data, data['Type']):\n",
    "    train, test = data.iloc[train_index], data.iloc[test_index]\n",
    "np.unique(train['Type'], return_counts=True)"
   ]
  },
  {
   "cell_type": "code",
   "execution_count": 342,
   "metadata": {
    "ExecuteTime": {
     "end_time": "2020-04-27T07:01:57.359128Z",
     "start_time": "2020-04-27T07:01:57.342175Z"
    }
   },
   "outputs": [
    {
     "data": {
      "text/plain": [
       "(array(['II-VI', 'III-V', 'IV-IV'], dtype=object),\n",
       " array([124, 124, 124], dtype=int64))"
      ]
     },
     "execution_count": 342,
     "metadata": {},
     "output_type": "execute_result"
    }
   ],
   "source": [
    "sss.get_n_splits(data_no, data_no['Type'])\n",
    "for train_index, test_index in sss.split(data_no, data_no['Type']):\n",
    "    train_no, test_no = data_no.iloc[train_index], data_no.iloc[test_index]\n",
    "np.unique(train_no['Type'], return_counts=True)"
   ]
  },
  {
   "cell_type": "code",
   "execution_count": 343,
   "metadata": {
    "ExecuteTime": {
     "end_time": "2020-04-27T07:01:58.268997Z",
     "start_time": "2020-04-27T07:01:58.263014Z"
    }
   },
   "outputs": [],
   "source": [
    "X = train[all_features]\n",
    "y = train['∆H (A-rich)']\n",
    "y2 = train['∆H (B-rich)']\n",
    "y3 = train['(+2/+1)']\n",
    "y4 = train['(+1/0)']\n",
    "y5 = train['(0/-1)']\n",
    "y6 = train['(-1/-2)']\n",
    "X_no = train_no[all_features]\n",
    "y_no = train_no['∆H (A-rich)']\n",
    "y2_no = train_no['∆H (B-rich)']\n",
    "y3_no = train_no['(+2/+1)']\n",
    "y4_no = train_no['(+1/0)']\n",
    "y5_no = train_no['(0/-1)']\n",
    "y6_no = train_no['(-1/-2)']"
   ]
  },
  {
   "cell_type": "markdown",
   "metadata": {},
   "source": [
    "**Simple Regression Model, create a baseline for advanced regression models**"
   ]
  },
  {
   "cell_type": "code",
   "execution_count": 344,
   "metadata": {
    "ExecuteTime": {
     "end_time": "2020-04-27T07:02:00.066144Z",
     "start_time": "2020-04-27T07:01:59.778946Z"
    }
   },
   "outputs": [
    {
     "name": "stdout",
     "output_type": "stream",
     "text": [
      "RMSE1 for Standardized LinearRegression is 2.5934793876038236\n",
      "RMSE2 for Standardized LinearRegression is 2.9859413628345823\n",
      "RMSE3 for Standardized LinearRegression is 1.3414735169182084\n",
      "RMSE4 for Standardized LinearRegression is 1.2991365793815175\n",
      "RMSE5 for Standardized LinearRegression is 1.2430546763642127\n",
      "RMSE6 for Standardized LinearRegression is 1.173441626280955\n",
      "RMSE1 for Normalized LinearRegression is 2.5964968183839927\n",
      "RMSE2 for Normalized LinearRegression is 3.0069013411372234\n",
      "RMSE3 for Normalized LinearRegression is 1.333059756310052\n",
      "RMSE4 for Normalized LinearRegression is 1.2836660772436372\n",
      "RMSE5 for Normalized LinearRegression is 1.2394681004689452\n",
      "RMSE6 for Normalized LinearRegression is 1.1651130483958834\n"
     ]
    }
   ],
   "source": [
    "#Compare of standardized dataset and non-standardized\n",
    "from sklearn.linear_model import LinearRegression\n",
    "from sklearn.metrics import mean_squared_error\n",
    "from sklearn.model_selection import cross_val_score\n",
    "# Standardized LinearRegression\n",
    "reg_LR = LinearRegression()\n",
    "MSEs = cross_val_score(reg_LR, X, y, scoring = \"neg_mean_squared_error\", cv = 5)\n",
    "MSEs_2 = cross_val_score(reg_LR, X, y2, scoring = \"neg_mean_squared_error\", cv = 5)\n",
    "MSEs_3 = cross_val_score(reg_LR, X, y3, scoring = \"neg_mean_squared_error\", cv = 5)\n",
    "MSEs_4 = cross_val_score(reg_LR, X, y4, scoring = \"neg_mean_squared_error\", cv = 5)\n",
    "MSEs_5 = cross_val_score(reg_LR, X, y5, scoring = \"neg_mean_squared_error\", cv = 5)\n",
    "MSEs_6 = cross_val_score(reg_LR, X, y6, scoring = \"neg_mean_squared_error\", cv = 5)\n",
    "print(\"RMSE1 for Standardized LinearRegression is\", np.mean((-MSEs)**0.5))\n",
    "print(\"RMSE2 for Standardized LinearRegression is\", np.mean((-MSEs_2)**0.5))\n",
    "print(\"RMSE3 for Standardized LinearRegression is\", np.mean((-MSEs_3)**0.5))\n",
    "print(\"RMSE4 for Standardized LinearRegression is\", np.mean((-MSEs_4)**0.5))\n",
    "print(\"RMSE5 for Standardized LinearRegression is\", np.mean((-MSEs_5)**0.5))\n",
    "print(\"RMSE6 for Standardized LinearRegression is\", np.mean((-MSEs_6)**0.5))\n",
    "# Normalized LinearRegression\n",
    "MSEs_no = cross_val_score(reg_LR, X_no, y_no, scoring = \"neg_mean_squared_error\", cv = 5)\n",
    "MSEs_no_2 = cross_val_score(reg_LR, X_no, y2_no, scoring = \"neg_mean_squared_error\", cv = 5)\n",
    "MSEs_no_3 = cross_val_score(reg_LR, X_no, y3_no, scoring = \"neg_mean_squared_error\", cv = 5)\n",
    "MSEs_no_4 = cross_val_score(reg_LR, X_no, y4_no, scoring = \"neg_mean_squared_error\", cv = 5)\n",
    "MSEs_no_5 = cross_val_score(reg_LR, X_no, y5_no, scoring = \"neg_mean_squared_error\", cv = 5)\n",
    "MSEs_no_6 = cross_val_score(reg_LR, X_no, y6_no, scoring = \"neg_mean_squared_error\", cv = 5)\n",
    "print(\"RMSE1 for Normalized LinearRegression is\", np.mean((-MSEs_no)**0.5))\n",
    "print(\"RMSE2 for Normalized LinearRegression is\", np.mean((-MSEs_no_2)**0.5))\n",
    "print(\"RMSE3 for Normalized LinearRegression is\", np.mean((-MSEs_no_3)**0.5))\n",
    "print(\"RMSE4 for Normalized LinearRegression is\", np.mean((-MSEs_no_4)**0.5))\n",
    "print(\"RMSE5 for Normalized LinearRegression is\", np.mean((-MSEs_no_5)**0.5))\n",
    "print(\"RMSE6 for Normalized LinearRegression is\", np.mean((-MSEs_no_6)**0.5))"
   ]
  },
  {
   "cell_type": "code",
   "execution_count": 345,
   "metadata": {
    "ExecuteTime": {
     "end_time": "2020-04-27T07:02:00.930324Z",
     "start_time": "2020-04-27T07:02:00.927365Z"
    }
   },
   "outputs": [],
   "source": [
    "from sklearn.linear_model import Lasso"
   ]
  },
  {
   "cell_type": "code",
   "execution_count": 346,
   "metadata": {
    "ExecuteTime": {
     "end_time": "2020-04-27T07:02:06.592402Z",
     "start_time": "2020-04-27T07:02:02.531079Z"
    }
   },
   "outputs": [],
   "source": [
    "reg = Lasso(random_state=0)\n",
    "parameters = {'alpha': np.logspace(-7, 7, num=15)}\n",
    "clf_no = GridSearchCV(reg, parameters, cv = 5, scoring= \"neg_mean_squared_error\")\n",
    "clf_no_2 = GridSearchCV(reg, parameters, cv = 5, scoring= \"neg_mean_squared_error\")\n",
    "clf_no_3 = GridSearchCV(reg, parameters, cv = 5, scoring= \"neg_mean_squared_error\")\n",
    "clf_no_4 = GridSearchCV(reg, parameters, cv = 5, scoring= \"neg_mean_squared_error\")\n",
    "clf_no_5 = GridSearchCV(reg, parameters, cv = 5, scoring= \"neg_mean_squared_error\")\n",
    "clf_no_6 = GridSearchCV(reg, parameters, cv = 5, scoring= \"neg_mean_squared_error\")\n",
    "clf_no.fit(X_no, y_no)\n",
    "clf_no_2.fit(X_no, y2_no)\n",
    "clf_no_3.fit(X_no, y3_no)\n",
    "clf_no_4.fit(X_no, y4_no)\n",
    "clf_no_5.fit(X_no, y5_no)\n",
    "clf_no_6.fit(X_no, y6_no)\n",
    "Lasso_no_model = [clf_no, clf_no_2, clf_no_3, \n",
    "              clf_no_4, clf_no_5, clf_no_6]"
   ]
  },
  {
   "cell_type": "code",
   "execution_count": 347,
   "metadata": {
    "ExecuteTime": {
     "end_time": "2020-04-27T07:02:12.796443Z",
     "start_time": "2020-04-27T07:02:07.352735Z"
    }
   },
   "outputs": [],
   "source": [
    "reg = Lasso(random_state=0)\n",
    "parameters = {'alpha': np.logspace(-7, 7, num=15)}\n",
    "clf = GridSearchCV(reg, parameters, cv = 5, scoring= \"neg_mean_squared_error\")\n",
    "clf_2 = GridSearchCV(reg, parameters, cv = 5, scoring= \"neg_mean_squared_error\")\n",
    "clf_3 = GridSearchCV(reg, parameters, cv = 5, scoring= \"neg_mean_squared_error\")\n",
    "clf_4 = GridSearchCV(reg, parameters, cv = 5, scoring= \"neg_mean_squared_error\")\n",
    "clf_5 = GridSearchCV(reg, parameters, cv = 5, scoring= \"neg_mean_squared_error\")\n",
    "clf_6 = GridSearchCV(reg, parameters, cv = 5, scoring= \"neg_mean_squared_error\")\n",
    "clf.fit(X, y)\n",
    "clf_2.fit(X, y2)\n",
    "clf_3.fit(X, y3)\n",
    "clf_4.fit(X, y4)\n",
    "clf_5.fit(X, y5)\n",
    "clf_6.fit(X, y6)\n",
    "Lasso_model = [clf, clf_2, clf_3, \n",
    "              clf_4, clf_5, clf_6]"
   ]
  },
  {
   "cell_type": "code",
   "execution_count": 348,
   "metadata": {
    "ExecuteTime": {
     "end_time": "2020-04-27T07:02:13.749020Z",
     "start_time": "2020-04-27T07:02:13.738051Z"
    },
    "code_folding": [
     0
    ]
   },
   "outputs": [],
   "source": [
    "def print_coefficients(model, features):\n",
    "    \"\"\"\n",
    "    This function takes in a model column and a features column. \n",
    "    And prints the coefficient along with its feature name.\n",
    "    \"\"\"\n",
    "    feats = list(zip(model.coef_, features))\n",
    "    print(*feats, sep = \"\\n\")"
   ]
  },
  {
   "cell_type": "code",
   "execution_count": 349,
   "metadata": {
    "ExecuteTime": {
     "end_time": "2020-04-27T07:02:14.690817Z",
     "start_time": "2020-04-27T07:02:14.628977Z"
    },
    "scrolled": true
   },
   "outputs": [
    {
     "data": {
      "text/html": [
       "<div>\n",
       "<style scoped>\n",
       "    .dataframe tbody tr th:only-of-type {\n",
       "        vertical-align: middle;\n",
       "    }\n",
       "\n",
       "    .dataframe tbody tr th {\n",
       "        vertical-align: top;\n",
       "    }\n",
       "\n",
       "    .dataframe thead th {\n",
       "        text-align: right;\n",
       "    }\n",
       "</style>\n",
       "<table border=\"1\" class=\"dataframe\">\n",
       "  <thead>\n",
       "    <tr style=\"text-align: right;\">\n",
       "      <th></th>\n",
       "      <th>Predictor</th>\n",
       "      <th>Selected Features</th>\n",
       "      <th>Total Features Num</th>\n",
       "      <th>Training RMSE</th>\n",
       "      <th>Testing RMSE</th>\n",
       "      <th>Model</th>\n",
       "      <th>l1 penalty</th>\n",
       "    </tr>\n",
       "  </thead>\n",
       "  <tbody>\n",
       "    <tr>\n",
       "      <th>0</th>\n",
       "      <td>∆H (A-rich)</td>\n",
       "      <td>[Z_B, Z_B_square, PBE_delta_H, PBE_delta_H_squ...</td>\n",
       "      <td>55</td>\n",
       "      <td>2.488111</td>\n",
       "      <td>2.307819</td>\n",
       "      <td>Lasso(alpha=0.001, copy_X=True, fit_intercept=...</td>\n",
       "      <td>(0.001)</td>\n",
       "    </tr>\n",
       "    <tr>\n",
       "      <th>1</th>\n",
       "      <td>∆H (B-rich)</td>\n",
       "      <td>[Z_B, Z_B_square, PBE_delta_H, PBE_delta_H_squ...</td>\n",
       "      <td>55</td>\n",
       "      <td>2.947878</td>\n",
       "      <td>2.977163</td>\n",
       "      <td>Lasso(alpha=0.001, copy_X=True, fit_intercept=...</td>\n",
       "      <td>(0.001)</td>\n",
       "    </tr>\n",
       "    <tr>\n",
       "      <th>2</th>\n",
       "      <td>(+2/+1)</td>\n",
       "      <td>[Z_B, Z_B_square, PBE_delta_H, PBE_delta_H_squ...</td>\n",
       "      <td>47</td>\n",
       "      <td>1.232584</td>\n",
       "      <td>0.993623</td>\n",
       "      <td>Lasso(alpha=0.001, copy_X=True, fit_intercept=...</td>\n",
       "      <td>(0.001)</td>\n",
       "    </tr>\n",
       "    <tr>\n",
       "      <th>3</th>\n",
       "      <td>(+1/0)</td>\n",
       "      <td>[Z_B, Z_B_square, PBE_delta_H, PBE_delta_H_squ...</td>\n",
       "      <td>44</td>\n",
       "      <td>1.212771</td>\n",
       "      <td>1.086696</td>\n",
       "      <td>Lasso(alpha=0.001, copy_X=True, fit_intercept=...</td>\n",
       "      <td>(0.001)</td>\n",
       "    </tr>\n",
       "    <tr>\n",
       "      <th>4</th>\n",
       "      <td>(0/-1)</td>\n",
       "      <td>[Z_B, Z_B_square, PBE_delta_H, PBE_delta_H_squ...</td>\n",
       "      <td>44</td>\n",
       "      <td>1.154134</td>\n",
       "      <td>0.998769</td>\n",
       "      <td>Lasso(alpha=0.001, copy_X=True, fit_intercept=...</td>\n",
       "      <td>(0.001)</td>\n",
       "    </tr>\n",
       "    <tr>\n",
       "      <th>5</th>\n",
       "      <td>(-1/-2)</td>\n",
       "      <td>[Z_B, Z_B_square, PBE_delta_H, PBE_delta_H_squ...</td>\n",
       "      <td>40</td>\n",
       "      <td>1.095870</td>\n",
       "      <td>0.962392</td>\n",
       "      <td>Lasso(alpha=0.001, copy_X=True, fit_intercept=...</td>\n",
       "      <td>(0.001)</td>\n",
       "    </tr>\n",
       "  </tbody>\n",
       "</table>\n",
       "</div>"
      ],
      "text/plain": [
       "     Predictor                                  Selected Features  \\\n",
       "0  ∆H (A-rich)  [Z_B, Z_B_square, PBE_delta_H, PBE_delta_H_squ...   \n",
       "1  ∆H (B-rich)  [Z_B, Z_B_square, PBE_delta_H, PBE_delta_H_squ...   \n",
       "2      (+2/+1)  [Z_B, Z_B_square, PBE_delta_H, PBE_delta_H_squ...   \n",
       "3       (+1/0)  [Z_B, Z_B_square, PBE_delta_H, PBE_delta_H_squ...   \n",
       "4       (0/-1)  [Z_B, Z_B_square, PBE_delta_H, PBE_delta_H_squ...   \n",
       "5      (-1/-2)  [Z_B, Z_B_square, PBE_delta_H, PBE_delta_H_squ...   \n",
       "\n",
       "   Total Features Num  Training RMSE  Testing RMSE  \\\n",
       "0                  55       2.488111      2.307819   \n",
       "1                  55       2.947878      2.977163   \n",
       "2                  47       1.232584      0.993623   \n",
       "3                  44       1.212771      1.086696   \n",
       "4                  44       1.154134      0.998769   \n",
       "5                  40       1.095870      0.962392   \n",
       "\n",
       "                                               Model l1 penalty  \n",
       "0  Lasso(alpha=0.001, copy_X=True, fit_intercept=...    (0.001)  \n",
       "1  Lasso(alpha=0.001, copy_X=True, fit_intercept=...    (0.001)  \n",
       "2  Lasso(alpha=0.001, copy_X=True, fit_intercept=...    (0.001)  \n",
       "3  Lasso(alpha=0.001, copy_X=True, fit_intercept=...    (0.001)  \n",
       "4  Lasso(alpha=0.001, copy_X=True, fit_intercept=...    (0.001)  \n",
       "5  Lasso(alpha=0.001, copy_X=True, fit_intercept=...    (0.001)  "
      ]
     },
     "execution_count": 349,
     "metadata": {},
     "output_type": "execute_result"
    }
   ],
   "source": [
    "Lasso_no_data = []\n",
    "for i in range(len(Lasso_no_model)):\n",
    "    number = 0\n",
    "    select = (Lasso_no_model[i].best_estimator_).coef_\n",
    "    feature2 = []\n",
    "    for j in range(len(select)):\n",
    "        if select[j]: \n",
    "            feature2.append(all_features[j])\n",
    "            number += 1\n",
    "    Lasso_no_data.append({\n",
    "    'Predictor': predictors[i],\n",
    "    'Selected Features': feature2,\n",
    "    'Total Features Num': number,\n",
    "    'Training RMSE': (-Lasso_no_model[i].best_score_)**0.5,\n",
    "    'Testing RMSE': (mean_squared_error(test_no[predictors[i]], Lasso_no_model[i].predict(test_no[all_features])))**0.5,\n",
    "    'Model': Lasso_no_model[i].best_estimator_,\n",
    "    'l1 penalty': Lasso_no_model[i].best_params_.values()\n",
    "    })\n",
    "Lasso_no_df = pd.DataFrame(Lasso_no_data)\n",
    "Lasso_no_df\n",
    "#Lasso_no_df.to_csv(r'./normalized_all_feature.csv', index = False)"
   ]
  },
  {
   "cell_type": "code",
   "execution_count": 350,
   "metadata": {
    "ExecuteTime": {
     "end_time": "2020-04-27T07:02:15.594799Z",
     "start_time": "2020-04-27T07:02:15.543983Z"
    }
   },
   "outputs": [
    {
     "data": {
      "text/html": [
       "<div>\n",
       "<style scoped>\n",
       "    .dataframe tbody tr th:only-of-type {\n",
       "        vertical-align: middle;\n",
       "    }\n",
       "\n",
       "    .dataframe tbody tr th {\n",
       "        vertical-align: top;\n",
       "    }\n",
       "\n",
       "    .dataframe thead th {\n",
       "        text-align: right;\n",
       "    }\n",
       "</style>\n",
       "<table border=\"1\" class=\"dataframe\">\n",
       "  <thead>\n",
       "    <tr style=\"text-align: right;\">\n",
       "      <th></th>\n",
       "      <th>Predictor</th>\n",
       "      <th>Selected Features</th>\n",
       "      <th>Total Features Num</th>\n",
       "      <th>Training RMSE</th>\n",
       "      <th>Testing RMSE</th>\n",
       "      <th>Model</th>\n",
       "      <th>l1 penalty</th>\n",
       "    </tr>\n",
       "  </thead>\n",
       "  <tbody>\n",
       "    <tr>\n",
       "      <th>0</th>\n",
       "      <td>∆H (A-rich)</td>\n",
       "      <td>[Z_B, Z_B_square, PBE_delta_H, PBE_delta_H_squ...</td>\n",
       "      <td>56</td>\n",
       "      <td>2.458576</td>\n",
       "      <td>2.329445</td>\n",
       "      <td>Lasso(alpha=0.01, copy_X=True, fit_intercept=T...</td>\n",
       "      <td>(0.01)</td>\n",
       "    </tr>\n",
       "    <tr>\n",
       "      <th>1</th>\n",
       "      <td>∆H (B-rich)</td>\n",
       "      <td>[Z_B, Z_B_square, PBE_delta_H, PBE_latt_const,...</td>\n",
       "      <td>57</td>\n",
       "      <td>2.947753</td>\n",
       "      <td>2.971056</td>\n",
       "      <td>Lasso(alpha=0.01, copy_X=True, fit_intercept=T...</td>\n",
       "      <td>(0.01)</td>\n",
       "    </tr>\n",
       "    <tr>\n",
       "      <th>2</th>\n",
       "      <td>(+2/+1)</td>\n",
       "      <td>[Z_B_square, PBE_delta_H, PBE_delta_H_square, ...</td>\n",
       "      <td>42</td>\n",
       "      <td>1.192281</td>\n",
       "      <td>0.960712</td>\n",
       "      <td>Lasso(alpha=0.01, copy_X=True, fit_intercept=T...</td>\n",
       "      <td>(0.01)</td>\n",
       "    </tr>\n",
       "    <tr>\n",
       "      <th>3</th>\n",
       "      <td>(+1/0)</td>\n",
       "      <td>[PBE_delta_H, PBE_delta_H_square, PBE_latt_con...</td>\n",
       "      <td>44</td>\n",
       "      <td>1.166847</td>\n",
       "      <td>1.062388</td>\n",
       "      <td>Lasso(alpha=0.01, copy_X=True, fit_intercept=T...</td>\n",
       "      <td>(0.01)</td>\n",
       "    </tr>\n",
       "    <tr>\n",
       "      <th>4</th>\n",
       "      <td>(0/-1)</td>\n",
       "      <td>[PBE_delta_H, PBE_delta_H_square, PBE_latt_con...</td>\n",
       "      <td>38</td>\n",
       "      <td>1.112226</td>\n",
       "      <td>0.950040</td>\n",
       "      <td>Lasso(alpha=0.01, copy_X=True, fit_intercept=T...</td>\n",
       "      <td>(0.01)</td>\n",
       "    </tr>\n",
       "    <tr>\n",
       "      <th>5</th>\n",
       "      <td>(-1/-2)</td>\n",
       "      <td>[Z_B_square, PBE_delta_H, PBE_delta_H_square, ...</td>\n",
       "      <td>38</td>\n",
       "      <td>1.057042</td>\n",
       "      <td>0.904971</td>\n",
       "      <td>Lasso(alpha=0.01, copy_X=True, fit_intercept=T...</td>\n",
       "      <td>(0.01)</td>\n",
       "    </tr>\n",
       "  </tbody>\n",
       "</table>\n",
       "</div>"
      ],
      "text/plain": [
       "     Predictor                                  Selected Features  \\\n",
       "0  ∆H (A-rich)  [Z_B, Z_B_square, PBE_delta_H, PBE_delta_H_squ...   \n",
       "1  ∆H (B-rich)  [Z_B, Z_B_square, PBE_delta_H, PBE_latt_const,...   \n",
       "2      (+2/+1)  [Z_B_square, PBE_delta_H, PBE_delta_H_square, ...   \n",
       "3       (+1/0)  [PBE_delta_H, PBE_delta_H_square, PBE_latt_con...   \n",
       "4       (0/-1)  [PBE_delta_H, PBE_delta_H_square, PBE_latt_con...   \n",
       "5      (-1/-2)  [Z_B_square, PBE_delta_H, PBE_delta_H_square, ...   \n",
       "\n",
       "   Total Features Num  Training RMSE  Testing RMSE  \\\n",
       "0                  56       2.458576      2.329445   \n",
       "1                  57       2.947753      2.971056   \n",
       "2                  42       1.192281      0.960712   \n",
       "3                  44       1.166847      1.062388   \n",
       "4                  38       1.112226      0.950040   \n",
       "5                  38       1.057042      0.904971   \n",
       "\n",
       "                                               Model l1 penalty  \n",
       "0  Lasso(alpha=0.01, copy_X=True, fit_intercept=T...     (0.01)  \n",
       "1  Lasso(alpha=0.01, copy_X=True, fit_intercept=T...     (0.01)  \n",
       "2  Lasso(alpha=0.01, copy_X=True, fit_intercept=T...     (0.01)  \n",
       "3  Lasso(alpha=0.01, copy_X=True, fit_intercept=T...     (0.01)  \n",
       "4  Lasso(alpha=0.01, copy_X=True, fit_intercept=T...     (0.01)  \n",
       "5  Lasso(alpha=0.01, copy_X=True, fit_intercept=T...     (0.01)  "
      ]
     },
     "execution_count": 350,
     "metadata": {},
     "output_type": "execute_result"
    }
   ],
   "source": [
    "Lasso_data = []\n",
    "for i in range(len(Lasso_model)):\n",
    "    number = 0\n",
    "    select = (Lasso_model[i].best_estimator_).coef_\n",
    "    feature2 = []\n",
    "    for j in range(len(select)):\n",
    "        if select[j]: \n",
    "            feature2.append(all_features[j])\n",
    "            number += 1\n",
    "    Lasso_data.append({\n",
    "    'Predictor': predictors[i],\n",
    "    'Selected Features': feature2,\n",
    "    'Total Features Num': number,\n",
    "    'Training RMSE': (-Lasso_model[i].best_score_)**0.5,\n",
    "    'Testing RMSE': (mean_squared_error(test[predictors[i]], Lasso_model[i].predict(test[all_features])))**0.5,\n",
    "    'Model': Lasso_model[i].best_estimator_,\n",
    "    'l1 penalty': Lasso_model[i].best_params_.values()\n",
    "    })\n",
    "Lasso_df = pd.DataFrame(Lasso_data)\n",
    "Lasso_df\n",
    "#Lasso_df.to_csv(r'./standardized_all_feature.csv', index = False)"
   ]
  },
  {
   "cell_type": "code",
   "execution_count": 61,
   "metadata": {
    "ExecuteTime": {
     "end_time": "2020-04-26T23:52:58.879020Z",
     "start_time": "2020-04-26T23:52:57.946763Z"
    },
    "code_folding": [
     0
    ],
    "collapsed": true
   },
   "outputs": [
    {
     "name": "stderr",
     "output_type": "stream",
     "text": [
      "C:\\Users\\xiang\\Anaconda3\\lib\\site-packages\\sklearn\\linear_model\\coordinate_descent.py:492: ConvergenceWarning: Objective did not converge. You might want to increase the number of iterations. Fitting data with very small alpha may cause precision problems.\n",
      "  ConvergenceWarning)\n",
      "C:\\Users\\xiang\\Anaconda3\\lib\\site-packages\\sklearn\\linear_model\\coordinate_descent.py:492: ConvergenceWarning: Objective did not converge. You might want to increase the number of iterations. Fitting data with very small alpha may cause precision problems.\n",
      "  ConvergenceWarning)\n",
      "C:\\Users\\xiang\\Anaconda3\\lib\\site-packages\\sklearn\\linear_model\\coordinate_descent.py:492: ConvergenceWarning: Objective did not converge. You might want to increase the number of iterations. Fitting data with very small alpha may cause precision problems.\n",
      "  ConvergenceWarning)\n",
      "C:\\Users\\xiang\\Anaconda3\\lib\\site-packages\\sklearn\\linear_model\\coordinate_descent.py:492: ConvergenceWarning: Objective did not converge. You might want to increase the number of iterations. Fitting data with very small alpha may cause precision problems.\n",
      "  ConvergenceWarning)\n",
      "C:\\Users\\xiang\\Anaconda3\\lib\\site-packages\\sklearn\\linear_model\\coordinate_descent.py:492: ConvergenceWarning: Objective did not converge. You might want to increase the number of iterations. Fitting data with very small alpha may cause precision problems.\n",
      "  ConvergenceWarning)\n"
     ]
    }
   ],
   "source": [
    "#Validation of smallest MSE\n",
    "from sklearn.linear_model import LassoCV\n",
    "storege = np.zeros((100,2))\n",
    "point = 0\n",
    "for limit in np.linspace(0, abs(clf_3.best_estimator_.coef_).max(), 100):\n",
    "    feature2 = []\n",
    "    select = abs(clf_3.best_estimator_.coef_) >= limit\n",
    "    for j in range(len(select)):\n",
    "        if select[j]!=0: \n",
    "            feature2.append(all_features[j])\n",
    "    X_temp = data[feature2]\n",
    "    y_temp = data['(+2/+1)'] \n",
    "    reg_temp = LassoCV(cv = 5, random_state = 0, n_alphas=1, alphas=[0.0001]).fit(X_temp, y_temp)\n",
    "    temp = reg_temp.predict(X_temp)\n",
    "    MSEs_Lasso = mean_squared_error(temp, y_temp)\n",
    "    RMSE_Lasso = np.mean((MSEs_Lasso)**0.5) \n",
    "    storege[point][0] = limit\n",
    "    storege[point][1] = RMSE_Lasso\n",
    "    point +=1"
   ]
  },
  {
   "cell_type": "code",
   "execution_count": 63,
   "metadata": {
    "ExecuteTime": {
     "end_time": "2020-04-26T23:53:04.158143Z",
     "start_time": "2020-04-26T23:53:04.131215Z"
    },
    "code_folding": [
     0
    ]
   },
   "outputs": [
    {
     "data": {
      "text/plain": [
       "(1.0238041026846507, 12)"
      ]
     },
     "execution_count": 63,
     "metadata": {},
     "output_type": "execute_result"
    }
   ],
   "source": [
    "#Select feature based on threshold\n",
    "feature2 = []\n",
    "select = []\n",
    "select = abs(Lasso_df.Model[2].coef_) >= 0.04\n",
    "for j in range(len(select)):\n",
    "    if select[j] == True: \n",
    "        feature2.append(all_features[j])\n",
    "X_temp = train[feature2]\n",
    "y_temp = train[predictors[2]] \n",
    "clf_temp = LassoCV(cv = 3, random_state = 0, n_alphas=1, alphas=[0.0001]).fit(X_temp, y_temp)\n",
    "temp = clf_temp.predict(X_temp)\n",
    "MSEs_Lasso = mean_squared_error(temp, y_temp)\n",
    "RMSE_Lasso = np.mean((MSEs_Lasso)**0.5) \n",
    "#RMSE_Lasso, print_coefficients(clf_temp, feature2)\n",
    "test_1 = clf_temp.predict(test[feature2])\n",
    "temp_x = test[predictors[2]]\n",
    "mean_squared_error(temp_x, test_1)**0.5, len(feature2)"
   ]
  },
  {
   "cell_type": "code",
   "execution_count": 48,
   "metadata": {
    "ExecuteTime": {
     "end_time": "2020-04-26T23:51:11.267114Z",
     "start_time": "2020-04-26T23:51:11.261099Z"
    },
    "code_folding": [
     0
    ],
    "collapsed": true
   },
   "outputs": [
    {
     "data": {
      "text/plain": [
       "['PBE_latt_const_sqrt',\n",
       " 'PBE_latt_const_square',\n",
       " 'CM8_sqrt',\n",
       " 'Eps_ion',\n",
       " 'CM4_sqrt',\n",
       " 'PBE_latt_const',\n",
       " 'PBE_gap',\n",
       " 'CM1',\n",
       " 'CM2',\n",
       " 'Eps_ion_square',\n",
       " 'CM3',\n",
       " 'PBE_gap_sqrt',\n",
       " 'Eps_ion_sqrt',\n",
       " 'CM8',\n",
       " 'CM4',\n",
       " 'CM6_sqrt',\n",
       " 'CM1_sqrt',\n",
       " 'Eps_elec',\n",
       " 'At_vol',\n",
       " 'CM7_sqrt',\n",
       " 'At_wt',\n",
       " 'CM7',\n",
       " 'ICSD_vol_sqrt',\n",
       " 'At_num',\n",
       " 'Eps_elec_square',\n",
       " 'CM3_sqrt',\n",
       " 'CM2_sqrt',\n",
       " 'At_vol_square',\n",
       " 'PBE_delta_H_square',\n",
       " 'Sp_heat_cap',\n",
       " 'Mend_num_sqrt',\n",
       " 'PBE_delta_H',\n",
       " 'Z_B_sqrt',\n",
       " 'CM1_square',\n",
       " 'Mend_num_square',\n",
       " 'Density_sqrt',\n",
       " 'Ox_state_square',\n",
       " 'Period',\n",
       " 'CM2_square',\n",
       " 'CM3_square',\n",
       " 'Ox_state_sqrt',\n",
       " 'Cov_rad_sqrt']"
      ]
     },
     "execution_count": 48,
     "metadata": {},
     "output_type": "execute_result"
    }
   ],
   "source": [
    "#Top n feature based on coefficient\n",
    "import heapq\n",
    "a = abs((Lasso_df.Model[3]).coef_)\n",
    "num = heapq.nlargest(42, range(len(a)), a.__getitem__)\n",
    "type(all_features)\n",
    "[all_features[i] for i in num]"
   ]
  },
  {
   "cell_type": "markdown",
   "metadata": {},
   "source": [
    "# Ridge Regression"
   ]
  },
  {
   "cell_type": "code",
   "execution_count": 351,
   "metadata": {
    "ExecuteTime": {
     "end_time": "2020-04-27T07:02:16.358986Z",
     "start_time": "2020-04-27T07:02:16.354998Z"
    }
   },
   "outputs": [],
   "source": [
    "from sklearn.linear_model import Ridge"
   ]
  },
  {
   "cell_type": "code",
   "execution_count": 352,
   "metadata": {
    "ExecuteTime": {
     "end_time": "2020-04-27T07:02:19.161216Z",
     "start_time": "2020-04-27T07:02:17.242286Z"
    }
   },
   "outputs": [],
   "source": [
    "reg = Ridge(random_state=0)\n",
    "parameters = {'alpha': np.logspace(-7, 7, num=15)}\n",
    "rig_no = GridSearchCV(reg, parameters, cv = 5, scoring= \"neg_mean_squared_error\")\n",
    "rig_no_2 = GridSearchCV(reg, parameters, cv = 5, scoring= \"neg_mean_squared_error\")\n",
    "rig_no_3 = GridSearchCV(reg, parameters, cv = 5, scoring= \"neg_mean_squared_error\")\n",
    "rig_no_4 = GridSearchCV(reg, parameters, cv = 5, scoring= \"neg_mean_squared_error\")\n",
    "rig_no_5 = GridSearchCV(reg, parameters, cv = 5, scoring= \"neg_mean_squared_error\")\n",
    "rig_no_6 = GridSearchCV(reg, parameters, cv = 5, scoring= \"neg_mean_squared_error\")\n",
    "rig_no.fit(X_no, y_no)\n",
    "rig_no_2.fit(X_no, y2_no)\n",
    "rig_no_3.fit(X_no, y3_no)\n",
    "rig_no_4.fit(X_no, y4_no)\n",
    "rig_no_5.fit(X_no, y5_no)\n",
    "rig_no_6.fit(X_no, y6_no)\n",
    "Ridge_no_model = [rig_no, rig_no_2, rig_no_3, \n",
    "              rig_no_4, rig_no_5, rig_no_6]"
   ]
  },
  {
   "cell_type": "code",
   "execution_count": 353,
   "metadata": {
    "ExecuteTime": {
     "end_time": "2020-04-27T07:02:21.814845Z",
     "start_time": "2020-04-27T07:02:19.960700Z"
    }
   },
   "outputs": [],
   "source": [
    "reg = Ridge(random_state=0)\n",
    "parameters = {'alpha': np.logspace(-7, 7, num=15)}\n",
    "rig = GridSearchCV(reg, parameters, cv = 5, scoring= \"neg_mean_squared_error\")\n",
    "rig_2 = GridSearchCV(reg, parameters, cv = 5, scoring= \"neg_mean_squared_error\")\n",
    "rig_3 = GridSearchCV(reg, parameters, cv = 5, scoring= \"neg_mean_squared_error\")\n",
    "rig_4 = GridSearchCV(reg, parameters, cv = 5, scoring= \"neg_mean_squared_error\")\n",
    "rig_5 = GridSearchCV(reg, parameters, cv = 5, scoring= \"neg_mean_squared_error\")\n",
    "rig_6 = GridSearchCV(reg, parameters, cv = 5, scoring= \"neg_mean_squared_error\")\n",
    "rig.fit(X, y)\n",
    "rig_2.fit(X, y2)\n",
    "rig_3.fit(X, y3)\n",
    "rig_4.fit(X, y4)\n",
    "rig_5.fit(X, y5)\n",
    "rig_6.fit(X, y6)\n",
    "Ridge_model = [rig, rig_2, rig_3, \n",
    "              rig_4, rig_5, rig_6]"
   ]
  },
  {
   "cell_type": "code",
   "execution_count": 354,
   "metadata": {
    "ExecuteTime": {
     "end_time": "2020-04-27T07:02:22.612353Z",
     "start_time": "2020-04-27T07:02:22.567441Z"
    }
   },
   "outputs": [
    {
     "data": {
      "text/html": [
       "<div>\n",
       "<style scoped>\n",
       "    .dataframe tbody tr th:only-of-type {\n",
       "        vertical-align: middle;\n",
       "    }\n",
       "\n",
       "    .dataframe tbody tr th {\n",
       "        vertical-align: top;\n",
       "    }\n",
       "\n",
       "    .dataframe thead th {\n",
       "        text-align: right;\n",
       "    }\n",
       "</style>\n",
       "<table border=\"1\" class=\"dataframe\">\n",
       "  <thead>\n",
       "    <tr style=\"text-align: right;\">\n",
       "      <th></th>\n",
       "      <th>Predictor</th>\n",
       "      <th>Selected Features</th>\n",
       "      <th>Total Features Num</th>\n",
       "      <th>Training RMSE</th>\n",
       "      <th>Testing RMSE</th>\n",
       "      <th>Model</th>\n",
       "      <th>l2 penalty</th>\n",
       "    </tr>\n",
       "  </thead>\n",
       "  <tbody>\n",
       "    <tr>\n",
       "      <th>0</th>\n",
       "      <td>∆H (A-rich)</td>\n",
       "      <td>[Z_B, Z_B_square, PBE_delta_H, PBE_delta_H_squ...</td>\n",
       "      <td>82</td>\n",
       "      <td>2.493707</td>\n",
       "      <td>2.323938</td>\n",
       "      <td>Ridge(alpha=0.1, copy_X=True, fit_intercept=Tr...</td>\n",
       "      <td>(0.1)</td>\n",
       "    </tr>\n",
       "    <tr>\n",
       "      <th>1</th>\n",
       "      <td>∆H (B-rich)</td>\n",
       "      <td>[Z_B, Z_B_square, PBE_delta_H, PBE_delta_H_squ...</td>\n",
       "      <td>82</td>\n",
       "      <td>2.920380</td>\n",
       "      <td>2.977708</td>\n",
       "      <td>Ridge(alpha=0.1, copy_X=True, fit_intercept=Tr...</td>\n",
       "      <td>(0.1)</td>\n",
       "    </tr>\n",
       "    <tr>\n",
       "      <th>2</th>\n",
       "      <td>(+2/+1)</td>\n",
       "      <td>[Z_B, Z_B_square, PBE_delta_H, PBE_delta_H_squ...</td>\n",
       "      <td>82</td>\n",
       "      <td>1.237515</td>\n",
       "      <td>1.054229</td>\n",
       "      <td>Ridge(alpha=1.0, copy_X=True, fit_intercept=Tr...</td>\n",
       "      <td>(1.0)</td>\n",
       "    </tr>\n",
       "    <tr>\n",
       "      <th>3</th>\n",
       "      <td>(+1/0)</td>\n",
       "      <td>[Z_B, Z_B_square, PBE_delta_H, PBE_delta_H_squ...</td>\n",
       "      <td>82</td>\n",
       "      <td>1.245851</td>\n",
       "      <td>1.090824</td>\n",
       "      <td>Ridge(alpha=0.1, copy_X=True, fit_intercept=Tr...</td>\n",
       "      <td>(0.1)</td>\n",
       "    </tr>\n",
       "    <tr>\n",
       "      <th>4</th>\n",
       "      <td>(0/-1)</td>\n",
       "      <td>[Z_B, Z_B_square, PBE_delta_H, PBE_delta_H_squ...</td>\n",
       "      <td>82</td>\n",
       "      <td>1.208371</td>\n",
       "      <td>1.025943</td>\n",
       "      <td>Ridge(alpha=0.1, copy_X=True, fit_intercept=Tr...</td>\n",
       "      <td>(0.1)</td>\n",
       "    </tr>\n",
       "    <tr>\n",
       "      <th>5</th>\n",
       "      <td>(-1/-2)</td>\n",
       "      <td>[Z_B, Z_B_square, PBE_delta_H, PBE_delta_H_squ...</td>\n",
       "      <td>82</td>\n",
       "      <td>1.151594</td>\n",
       "      <td>1.002613</td>\n",
       "      <td>Ridge(alpha=0.1, copy_X=True, fit_intercept=Tr...</td>\n",
       "      <td>(0.1)</td>\n",
       "    </tr>\n",
       "  </tbody>\n",
       "</table>\n",
       "</div>"
      ],
      "text/plain": [
       "     Predictor                                  Selected Features  \\\n",
       "0  ∆H (A-rich)  [Z_B, Z_B_square, PBE_delta_H, PBE_delta_H_squ...   \n",
       "1  ∆H (B-rich)  [Z_B, Z_B_square, PBE_delta_H, PBE_delta_H_squ...   \n",
       "2      (+2/+1)  [Z_B, Z_B_square, PBE_delta_H, PBE_delta_H_squ...   \n",
       "3       (+1/0)  [Z_B, Z_B_square, PBE_delta_H, PBE_delta_H_squ...   \n",
       "4       (0/-1)  [Z_B, Z_B_square, PBE_delta_H, PBE_delta_H_squ...   \n",
       "5      (-1/-2)  [Z_B, Z_B_square, PBE_delta_H, PBE_delta_H_squ...   \n",
       "\n",
       "   Total Features Num  Training RMSE  Testing RMSE  \\\n",
       "0                  82       2.493707      2.323938   \n",
       "1                  82       2.920380      2.977708   \n",
       "2                  82       1.237515      1.054229   \n",
       "3                  82       1.245851      1.090824   \n",
       "4                  82       1.208371      1.025943   \n",
       "5                  82       1.151594      1.002613   \n",
       "\n",
       "                                               Model l2 penalty  \n",
       "0  Ridge(alpha=0.1, copy_X=True, fit_intercept=Tr...      (0.1)  \n",
       "1  Ridge(alpha=0.1, copy_X=True, fit_intercept=Tr...      (0.1)  \n",
       "2  Ridge(alpha=1.0, copy_X=True, fit_intercept=Tr...      (1.0)  \n",
       "3  Ridge(alpha=0.1, copy_X=True, fit_intercept=Tr...      (0.1)  \n",
       "4  Ridge(alpha=0.1, copy_X=True, fit_intercept=Tr...      (0.1)  \n",
       "5  Ridge(alpha=0.1, copy_X=True, fit_intercept=Tr...      (0.1)  "
      ]
     },
     "execution_count": 354,
     "metadata": {},
     "output_type": "execute_result"
    }
   ],
   "source": [
    "Ridge_no_data = []\n",
    "for i in range(len(Ridge_no_model)):\n",
    "    number = 0\n",
    "    select = (Ridge_no_model[i].best_estimator_).coef_\n",
    "    feature2 = []\n",
    "    for j in range(len(select)):\n",
    "        if select[j]: \n",
    "            feature2.append(all_features[j])\n",
    "            number += 1\n",
    "    Ridge_no_data.append({\n",
    "    'Predictor': predictors[i],\n",
    "    'Selected Features': feature2,\n",
    "    'Total Features Num': number,\n",
    "    'Training RMSE': (-Ridge_no_model[i].best_score_)**0.5,\n",
    "    'Testing RMSE': (mean_squared_error(test_no[predictors[i]], Ridge_no_model[i].predict(test_no[all_features])))**0.5,\n",
    "    'Model': Ridge_no_model[i].best_estimator_,\n",
    "    'l2 penalty': Ridge_no_model[i].best_params_.values()\n",
    "    })\n",
    "Ridge_no_df = pd.DataFrame(Ridge_no_data)\n",
    "Ridge_no_df"
   ]
  },
  {
   "cell_type": "code",
   "execution_count": 355,
   "metadata": {
    "ExecuteTime": {
     "end_time": "2020-04-27T07:02:23.396223Z",
     "start_time": "2020-04-27T07:02:23.357359Z"
    }
   },
   "outputs": [
    {
     "data": {
      "text/html": [
       "<div>\n",
       "<style scoped>\n",
       "    .dataframe tbody tr th:only-of-type {\n",
       "        vertical-align: middle;\n",
       "    }\n",
       "\n",
       "    .dataframe tbody tr th {\n",
       "        vertical-align: top;\n",
       "    }\n",
       "\n",
       "    .dataframe thead th {\n",
       "        text-align: right;\n",
       "    }\n",
       "</style>\n",
       "<table border=\"1\" class=\"dataframe\">\n",
       "  <thead>\n",
       "    <tr style=\"text-align: right;\">\n",
       "      <th></th>\n",
       "      <th>Predictor</th>\n",
       "      <th>Selected Features</th>\n",
       "      <th>Total Features Num</th>\n",
       "      <th>Training RMSE</th>\n",
       "      <th>Testing RMSE</th>\n",
       "      <th>Model</th>\n",
       "      <th>l2 penalty</th>\n",
       "    </tr>\n",
       "  </thead>\n",
       "  <tbody>\n",
       "    <tr>\n",
       "      <th>0</th>\n",
       "      <td>∆H (A-rich)</td>\n",
       "      <td>[Z_B, Z_B_square, PBE_delta_H, PBE_delta_H_squ...</td>\n",
       "      <td>82</td>\n",
       "      <td>2.446211</td>\n",
       "      <td>2.313514</td>\n",
       "      <td>Ridge(alpha=10.0, copy_X=True, fit_intercept=T...</td>\n",
       "      <td>(10.0)</td>\n",
       "    </tr>\n",
       "    <tr>\n",
       "      <th>1</th>\n",
       "      <td>∆H (B-rich)</td>\n",
       "      <td>[Z_B, Z_B_square, PBE_delta_H, PBE_delta_H_squ...</td>\n",
       "      <td>82</td>\n",
       "      <td>2.901861</td>\n",
       "      <td>3.003040</td>\n",
       "      <td>Ridge(alpha=10.0, copy_X=True, fit_intercept=T...</td>\n",
       "      <td>(10.0)</td>\n",
       "    </tr>\n",
       "    <tr>\n",
       "      <th>2</th>\n",
       "      <td>(+2/+1)</td>\n",
       "      <td>[Z_B, Z_B_square, PBE_delta_H, PBE_delta_H_squ...</td>\n",
       "      <td>82</td>\n",
       "      <td>1.218103</td>\n",
       "      <td>0.957563</td>\n",
       "      <td>Ridge(alpha=10.0, copy_X=True, fit_intercept=T...</td>\n",
       "      <td>(10.0)</td>\n",
       "    </tr>\n",
       "    <tr>\n",
       "      <th>3</th>\n",
       "      <td>(+1/0)</td>\n",
       "      <td>[Z_B, Z_B_square, PBE_delta_H, PBE_delta_H_squ...</td>\n",
       "      <td>82</td>\n",
       "      <td>1.200635</td>\n",
       "      <td>1.049866</td>\n",
       "      <td>Ridge(alpha=10.0, copy_X=True, fit_intercept=T...</td>\n",
       "      <td>(10.0)</td>\n",
       "    </tr>\n",
       "    <tr>\n",
       "      <th>4</th>\n",
       "      <td>(0/-1)</td>\n",
       "      <td>[Z_B, Z_B_square, PBE_delta_H, PBE_delta_H_squ...</td>\n",
       "      <td>82</td>\n",
       "      <td>1.161645</td>\n",
       "      <td>0.956235</td>\n",
       "      <td>Ridge(alpha=10.0, copy_X=True, fit_intercept=T...</td>\n",
       "      <td>(10.0)</td>\n",
       "    </tr>\n",
       "    <tr>\n",
       "      <th>5</th>\n",
       "      <td>(-1/-2)</td>\n",
       "      <td>[Z_B, Z_B_square, PBE_delta_H, PBE_delta_H_squ...</td>\n",
       "      <td>82</td>\n",
       "      <td>1.096198</td>\n",
       "      <td>0.913508</td>\n",
       "      <td>Ridge(alpha=10.0, copy_X=True, fit_intercept=T...</td>\n",
       "      <td>(10.0)</td>\n",
       "    </tr>\n",
       "  </tbody>\n",
       "</table>\n",
       "</div>"
      ],
      "text/plain": [
       "     Predictor                                  Selected Features  \\\n",
       "0  ∆H (A-rich)  [Z_B, Z_B_square, PBE_delta_H, PBE_delta_H_squ...   \n",
       "1  ∆H (B-rich)  [Z_B, Z_B_square, PBE_delta_H, PBE_delta_H_squ...   \n",
       "2      (+2/+1)  [Z_B, Z_B_square, PBE_delta_H, PBE_delta_H_squ...   \n",
       "3       (+1/0)  [Z_B, Z_B_square, PBE_delta_H, PBE_delta_H_squ...   \n",
       "4       (0/-1)  [Z_B, Z_B_square, PBE_delta_H, PBE_delta_H_squ...   \n",
       "5      (-1/-2)  [Z_B, Z_B_square, PBE_delta_H, PBE_delta_H_squ...   \n",
       "\n",
       "   Total Features Num  Training RMSE  Testing RMSE  \\\n",
       "0                  82       2.446211      2.313514   \n",
       "1                  82       2.901861      3.003040   \n",
       "2                  82       1.218103      0.957563   \n",
       "3                  82       1.200635      1.049866   \n",
       "4                  82       1.161645      0.956235   \n",
       "5                  82       1.096198      0.913508   \n",
       "\n",
       "                                               Model l2 penalty  \n",
       "0  Ridge(alpha=10.0, copy_X=True, fit_intercept=T...     (10.0)  \n",
       "1  Ridge(alpha=10.0, copy_X=True, fit_intercept=T...     (10.0)  \n",
       "2  Ridge(alpha=10.0, copy_X=True, fit_intercept=T...     (10.0)  \n",
       "3  Ridge(alpha=10.0, copy_X=True, fit_intercept=T...     (10.0)  \n",
       "4  Ridge(alpha=10.0, copy_X=True, fit_intercept=T...     (10.0)  \n",
       "5  Ridge(alpha=10.0, copy_X=True, fit_intercept=T...     (10.0)  "
      ]
     },
     "execution_count": 355,
     "metadata": {},
     "output_type": "execute_result"
    }
   ],
   "source": [
    "Ridge_data = []\n",
    "for i in range(len(Ridge_model)):\n",
    "    number = 0\n",
    "    select = (Ridge_model[i].best_estimator_).coef_\n",
    "    feature2 = []\n",
    "    for j in range(len(select)):\n",
    "        if select[j]: \n",
    "            feature2.append(all_features[j])\n",
    "            number += 1\n",
    "    Ridge_data.append({\n",
    "    'Predictor': predictors[i],\n",
    "    'Selected Features': feature2,\n",
    "    'Total Features Num': number,\n",
    "    'Training RMSE': (-Ridge_model[i].best_score_)**0.5,\n",
    "    'Testing RMSE': (mean_squared_error(test[predictors[i]], Ridge_model[i].predict(test[all_features])))**0.5,\n",
    "    'Model': Ridge_model[i].best_estimator_,\n",
    "    'l2 penalty': Ridge_model[i].best_params_.values()\n",
    "    })\n",
    "Ridge_df = pd.DataFrame(Ridge_data)\n",
    "Ridge_df"
   ]
  },
  {
   "cell_type": "markdown",
   "metadata": {},
   "source": [
    "# Elastic Net"
   ]
  },
  {
   "cell_type": "code",
   "execution_count": 356,
   "metadata": {
    "ExecuteTime": {
     "end_time": "2020-04-27T07:02:24.100668Z",
     "start_time": "2020-04-27T07:02:24.096680Z"
    }
   },
   "outputs": [],
   "source": [
    "from sklearn.linear_model import ElasticNet\n",
    "from sklearn.model_selection import GridSearchCV\n",
    "import warnings\n",
    "warnings.filterwarnings('ignore')"
   ]
  },
  {
   "cell_type": "code",
   "execution_count": 357,
   "metadata": {
    "ExecuteTime": {
     "end_time": "2020-04-27T07:03:19.089565Z",
     "start_time": "2020-04-27T07:02:24.825130Z"
    }
   },
   "outputs": [],
   "source": [
    "reg = ElasticNet(random_state=0)\n",
    "parameters = {'alpha': np.logspace(-7, 7, num=15),\n",
    "              'l1_ratio': np.linspace(0,1,10)}\n",
    "EN_no = GridSearchCV(reg, parameters, cv = 5, scoring= \"neg_mean_squared_error\")\n",
    "EN_no_2 = GridSearchCV(reg, parameters, cv = 5, scoring= \"neg_mean_squared_error\")\n",
    "EN_no_3 = GridSearchCV(reg, parameters, cv = 5, scoring= \"neg_mean_squared_error\")\n",
    "EN_no_4 = GridSearchCV(reg, parameters, cv = 5, scoring= \"neg_mean_squared_error\")\n",
    "EN_no_5 = GridSearchCV(reg, parameters, cv = 5, scoring= \"neg_mean_squared_error\")\n",
    "EN_no_6 = GridSearchCV(reg, parameters, cv = 5, scoring= \"neg_mean_squared_error\")\n",
    "EN_no.fit(X_no, y_no)\n",
    "EN_no_2.fit(X_no, y2_no)\n",
    "EN_no_3.fit(X_no, y3_no)\n",
    "EN_no_4.fit(X_no, y4_no)\n",
    "EN_no_5.fit(X_no, y5_no)\n",
    "EN_no_6.fit(X_no, y6_no)\n",
    "EN_no_model = [EN_no, EN_no_2, EN_no_3, \n",
    "              EN_no_4, EN_no_5, EN_no_6]"
   ]
  },
  {
   "cell_type": "code",
   "execution_count": 358,
   "metadata": {
    "ExecuteTime": {
     "end_time": "2020-04-27T07:04:20.384673Z",
     "start_time": "2020-04-27T07:03:19.797430Z"
    }
   },
   "outputs": [],
   "source": [
    "reg = ElasticNet(random_state=0)\n",
    "parameters = {'alpha': np.logspace(-7, 7, num=15),\n",
    "              'l1_ratio': np.linspace(0,1,10)}\n",
    "EN = GridSearchCV(reg, parameters, cv = 5, scoring= \"neg_mean_squared_error\")\n",
    "EN_2 = GridSearchCV(reg, parameters, cv = 5, scoring= \"neg_mean_squared_error\")\n",
    "EN_3 = GridSearchCV(reg, parameters, cv = 5, scoring= \"neg_mean_squared_error\")\n",
    "EN_4 = GridSearchCV(reg, parameters, cv = 5, scoring= \"neg_mean_squared_error\")\n",
    "EN_5 = GridSearchCV(reg, parameters, cv = 5, scoring= \"neg_mean_squared_error\")\n",
    "EN_6 = GridSearchCV(reg, parameters, cv = 5, scoring= \"neg_mean_squared_error\")\n",
    "EN.fit(X, y)\n",
    "EN_2.fit(X, y2)\n",
    "EN_3.fit(X, y3)\n",
    "EN_4.fit(X, y4)\n",
    "EN_5.fit(X, y5)\n",
    "EN_6.fit(X, y6)\n",
    "EN_model = [EN, EN_2, EN_3, \n",
    "              EN_4, EN_5, EN_6]"
   ]
  },
  {
   "cell_type": "code",
   "execution_count": 359,
   "metadata": {
    "ExecuteTime": {
     "end_time": "2020-04-27T07:04:21.339618Z",
     "start_time": "2020-04-27T07:04:21.310659Z"
    }
   },
   "outputs": [
    {
     "data": {
      "text/html": [
       "<div>\n",
       "<style scoped>\n",
       "    .dataframe tbody tr th:only-of-type {\n",
       "        vertical-align: middle;\n",
       "    }\n",
       "\n",
       "    .dataframe tbody tr th {\n",
       "        vertical-align: top;\n",
       "    }\n",
       "\n",
       "    .dataframe thead th {\n",
       "        text-align: right;\n",
       "    }\n",
       "</style>\n",
       "<table border=\"1\" class=\"dataframe\">\n",
       "  <thead>\n",
       "    <tr style=\"text-align: right;\">\n",
       "      <th></th>\n",
       "      <th>Predictor</th>\n",
       "      <th>Selected Features</th>\n",
       "      <th>Total Features Num</th>\n",
       "      <th>Training RMSE</th>\n",
       "      <th>Testing RMSE</th>\n",
       "      <th>Model</th>\n",
       "      <th>𝛼/𝜌</th>\n",
       "    </tr>\n",
       "  </thead>\n",
       "  <tbody>\n",
       "    <tr>\n",
       "      <th>0</th>\n",
       "      <td>∆H (A-rich)</td>\n",
       "      <td>[Z_B, Z_B_square, PBE_delta_H, PBE_delta_H_squ...</td>\n",
       "      <td>55</td>\n",
       "      <td>2.488111</td>\n",
       "      <td>2.307819</td>\n",
       "      <td>ElasticNet(alpha=0.001, copy_X=True, fit_inter...</td>\n",
       "      <td>(0.001, 1.0)</td>\n",
       "    </tr>\n",
       "    <tr>\n",
       "      <th>1</th>\n",
       "      <td>∆H (B-rich)</td>\n",
       "      <td>[Z_B, Z_B_square, PBE_delta_H, PBE_delta_H_squ...</td>\n",
       "      <td>82</td>\n",
       "      <td>2.913741</td>\n",
       "      <td>3.036732</td>\n",
       "      <td>ElasticNet(alpha=0.001, copy_X=True, fit_inter...</td>\n",
       "      <td>(0.001, 0.1111111111111111)</td>\n",
       "    </tr>\n",
       "    <tr>\n",
       "      <th>2</th>\n",
       "      <td>(+2/+1)</td>\n",
       "      <td>[Z_B, Z_B_square, PBE_delta_H, PBE_delta_H_squ...</td>\n",
       "      <td>54</td>\n",
       "      <td>1.231587</td>\n",
       "      <td>1.000032</td>\n",
       "      <td>ElasticNet(alpha=0.001, copy_X=True, fit_inter...</td>\n",
       "      <td>(0.001, 0.6666666666666666)</td>\n",
       "    </tr>\n",
       "    <tr>\n",
       "      <th>3</th>\n",
       "      <td>(+1/0)</td>\n",
       "      <td>[Z_B, Z_B_square, PBE_delta_H, PBE_delta_H_squ...</td>\n",
       "      <td>44</td>\n",
       "      <td>1.212771</td>\n",
       "      <td>1.086696</td>\n",
       "      <td>ElasticNet(alpha=0.001, copy_X=True, fit_inter...</td>\n",
       "      <td>(0.001, 1.0)</td>\n",
       "    </tr>\n",
       "    <tr>\n",
       "      <th>4</th>\n",
       "      <td>(0/-1)</td>\n",
       "      <td>[Z_B, Z_B_square, PBE_delta_H, PBE_delta_H_squ...</td>\n",
       "      <td>44</td>\n",
       "      <td>1.154134</td>\n",
       "      <td>0.998769</td>\n",
       "      <td>ElasticNet(alpha=0.001, copy_X=True, fit_inter...</td>\n",
       "      <td>(0.001, 1.0)</td>\n",
       "    </tr>\n",
       "    <tr>\n",
       "      <th>5</th>\n",
       "      <td>(-1/-2)</td>\n",
       "      <td>[Z_B, Z_B_square, PBE_delta_H, PBE_delta_H_squ...</td>\n",
       "      <td>40</td>\n",
       "      <td>1.095870</td>\n",
       "      <td>0.962392</td>\n",
       "      <td>ElasticNet(alpha=0.001, copy_X=True, fit_inter...</td>\n",
       "      <td>(0.001, 1.0)</td>\n",
       "    </tr>\n",
       "  </tbody>\n",
       "</table>\n",
       "</div>"
      ],
      "text/plain": [
       "     Predictor                                  Selected Features  \\\n",
       "0  ∆H (A-rich)  [Z_B, Z_B_square, PBE_delta_H, PBE_delta_H_squ...   \n",
       "1  ∆H (B-rich)  [Z_B, Z_B_square, PBE_delta_H, PBE_delta_H_squ...   \n",
       "2      (+2/+1)  [Z_B, Z_B_square, PBE_delta_H, PBE_delta_H_squ...   \n",
       "3       (+1/0)  [Z_B, Z_B_square, PBE_delta_H, PBE_delta_H_squ...   \n",
       "4       (0/-1)  [Z_B, Z_B_square, PBE_delta_H, PBE_delta_H_squ...   \n",
       "5      (-1/-2)  [Z_B, Z_B_square, PBE_delta_H, PBE_delta_H_squ...   \n",
       "\n",
       "   Total Features Num  Training RMSE  Testing RMSE  \\\n",
       "0                  55       2.488111      2.307819   \n",
       "1                  82       2.913741      3.036732   \n",
       "2                  54       1.231587      1.000032   \n",
       "3                  44       1.212771      1.086696   \n",
       "4                  44       1.154134      0.998769   \n",
       "5                  40       1.095870      0.962392   \n",
       "\n",
       "                                               Model  \\\n",
       "0  ElasticNet(alpha=0.001, copy_X=True, fit_inter...   \n",
       "1  ElasticNet(alpha=0.001, copy_X=True, fit_inter...   \n",
       "2  ElasticNet(alpha=0.001, copy_X=True, fit_inter...   \n",
       "3  ElasticNet(alpha=0.001, copy_X=True, fit_inter...   \n",
       "4  ElasticNet(alpha=0.001, copy_X=True, fit_inter...   \n",
       "5  ElasticNet(alpha=0.001, copy_X=True, fit_inter...   \n",
       "\n",
       "                           𝛼/𝜌  \n",
       "0                 (0.001, 1.0)  \n",
       "1  (0.001, 0.1111111111111111)  \n",
       "2  (0.001, 0.6666666666666666)  \n",
       "3                 (0.001, 1.0)  \n",
       "4                 (0.001, 1.0)  \n",
       "5                 (0.001, 1.0)  "
      ]
     },
     "execution_count": 359,
     "metadata": {},
     "output_type": "execute_result"
    }
   ],
   "source": [
    "EN_no_data = []\n",
    "for i in range(len(EN_no_model)):\n",
    "    number = 0\n",
    "    select = (EN_no_model[i].best_estimator_).coef_\n",
    "    feature2 = []\n",
    "    for j in range(len(select)):\n",
    "        if select[j]: \n",
    "            feature2.append(all_features[j])\n",
    "            number += 1\n",
    "    EN_no_data.append({\n",
    "    'Predictor': predictors[i],\n",
    "    'Selected Features': feature2,\n",
    "    'Total Features Num': number,\n",
    "    'Training RMSE': (-EN_no_model[i].best_score_)**0.5,\n",
    "    'Testing RMSE': (mean_squared_error(test_no[predictors[i]], EN_no_model[i].predict(test_no[all_features])))**0.5,\n",
    "    'Model': EN_no_model[i].best_estimator_,\n",
    "    '𝛼/𝜌': EN_no_model[i].best_params_.values()\n",
    "    })\n",
    "EN_no_df = pd.DataFrame(EN_no_data)\n",
    "EN_no_df"
   ]
  },
  {
   "cell_type": "code",
   "execution_count": 360,
   "metadata": {
    "ExecuteTime": {
     "end_time": "2020-04-27T07:04:22.311823Z",
     "start_time": "2020-04-27T07:04:22.263403Z"
    }
   },
   "outputs": [
    {
     "data": {
      "text/html": [
       "<div>\n",
       "<style scoped>\n",
       "    .dataframe tbody tr th:only-of-type {\n",
       "        vertical-align: middle;\n",
       "    }\n",
       "\n",
       "    .dataframe tbody tr th {\n",
       "        vertical-align: top;\n",
       "    }\n",
       "\n",
       "    .dataframe thead th {\n",
       "        text-align: right;\n",
       "    }\n",
       "</style>\n",
       "<table border=\"1\" class=\"dataframe\">\n",
       "  <thead>\n",
       "    <tr style=\"text-align: right;\">\n",
       "      <th></th>\n",
       "      <th>Predictor</th>\n",
       "      <th>Selected Features</th>\n",
       "      <th>Total Features Num</th>\n",
       "      <th>Training RMSE</th>\n",
       "      <th>Testing RMSE</th>\n",
       "      <th>Model</th>\n",
       "      <th>𝛼/𝜌</th>\n",
       "    </tr>\n",
       "  </thead>\n",
       "  <tbody>\n",
       "    <tr>\n",
       "      <th>0</th>\n",
       "      <td>∆H (A-rich)</td>\n",
       "      <td>[Z_B, Z_B_square, PBE_delta_H, PBE_delta_H_squ...</td>\n",
       "      <td>67</td>\n",
       "      <td>2.454953</td>\n",
       "      <td>2.310309</td>\n",
       "      <td>ElasticNet(alpha=0.01, copy_X=True, fit_interc...</td>\n",
       "      <td>(0.01, 0.5555555555555556)</td>\n",
       "    </tr>\n",
       "    <tr>\n",
       "      <th>1</th>\n",
       "      <td>∆H (B-rich)</td>\n",
       "      <td>[Z_B, Z_B_square, PBE_delta_H, PBE_delta_H_squ...</td>\n",
       "      <td>82</td>\n",
       "      <td>2.907085</td>\n",
       "      <td>3.099438</td>\n",
       "      <td>ElasticNet(alpha=0.1, copy_X=True, fit_interce...</td>\n",
       "      <td>(0.1, 0.0)</td>\n",
       "    </tr>\n",
       "    <tr>\n",
       "      <th>2</th>\n",
       "      <td>(+2/+1)</td>\n",
       "      <td>[Z_B_square, PBE_delta_H, PBE_delta_H_square, ...</td>\n",
       "      <td>42</td>\n",
       "      <td>1.192281</td>\n",
       "      <td>0.960712</td>\n",
       "      <td>ElasticNet(alpha=0.01, copy_X=True, fit_interc...</td>\n",
       "      <td>(0.01, 1.0)</td>\n",
       "    </tr>\n",
       "    <tr>\n",
       "      <th>3</th>\n",
       "      <td>(+1/0)</td>\n",
       "      <td>[PBE_delta_H, PBE_delta_H_square, PBE_latt_con...</td>\n",
       "      <td>44</td>\n",
       "      <td>1.166847</td>\n",
       "      <td>1.062388</td>\n",
       "      <td>ElasticNet(alpha=0.01, copy_X=True, fit_interc...</td>\n",
       "      <td>(0.01, 1.0)</td>\n",
       "    </tr>\n",
       "    <tr>\n",
       "      <th>4</th>\n",
       "      <td>(0/-1)</td>\n",
       "      <td>[PBE_delta_H, PBE_delta_H_square, PBE_latt_con...</td>\n",
       "      <td>38</td>\n",
       "      <td>1.112226</td>\n",
       "      <td>0.950040</td>\n",
       "      <td>ElasticNet(alpha=0.01, copy_X=True, fit_interc...</td>\n",
       "      <td>(0.01, 1.0)</td>\n",
       "    </tr>\n",
       "    <tr>\n",
       "      <th>5</th>\n",
       "      <td>(-1/-2)</td>\n",
       "      <td>[Z_B_square, PBE_delta_H, PBE_delta_H_square, ...</td>\n",
       "      <td>38</td>\n",
       "      <td>1.057042</td>\n",
       "      <td>0.904971</td>\n",
       "      <td>ElasticNet(alpha=0.01, copy_X=True, fit_interc...</td>\n",
       "      <td>(0.01, 1.0)</td>\n",
       "    </tr>\n",
       "  </tbody>\n",
       "</table>\n",
       "</div>"
      ],
      "text/plain": [
       "     Predictor                                  Selected Features  \\\n",
       "0  ∆H (A-rich)  [Z_B, Z_B_square, PBE_delta_H, PBE_delta_H_squ...   \n",
       "1  ∆H (B-rich)  [Z_B, Z_B_square, PBE_delta_H, PBE_delta_H_squ...   \n",
       "2      (+2/+1)  [Z_B_square, PBE_delta_H, PBE_delta_H_square, ...   \n",
       "3       (+1/0)  [PBE_delta_H, PBE_delta_H_square, PBE_latt_con...   \n",
       "4       (0/-1)  [PBE_delta_H, PBE_delta_H_square, PBE_latt_con...   \n",
       "5      (-1/-2)  [Z_B_square, PBE_delta_H, PBE_delta_H_square, ...   \n",
       "\n",
       "   Total Features Num  Training RMSE  Testing RMSE  \\\n",
       "0                  67       2.454953      2.310309   \n",
       "1                  82       2.907085      3.099438   \n",
       "2                  42       1.192281      0.960712   \n",
       "3                  44       1.166847      1.062388   \n",
       "4                  38       1.112226      0.950040   \n",
       "5                  38       1.057042      0.904971   \n",
       "\n",
       "                                               Model  \\\n",
       "0  ElasticNet(alpha=0.01, copy_X=True, fit_interc...   \n",
       "1  ElasticNet(alpha=0.1, copy_X=True, fit_interce...   \n",
       "2  ElasticNet(alpha=0.01, copy_X=True, fit_interc...   \n",
       "3  ElasticNet(alpha=0.01, copy_X=True, fit_interc...   \n",
       "4  ElasticNet(alpha=0.01, copy_X=True, fit_interc...   \n",
       "5  ElasticNet(alpha=0.01, copy_X=True, fit_interc...   \n",
       "\n",
       "                          𝛼/𝜌  \n",
       "0  (0.01, 0.5555555555555556)  \n",
       "1                  (0.1, 0.0)  \n",
       "2                 (0.01, 1.0)  \n",
       "3                 (0.01, 1.0)  \n",
       "4                 (0.01, 1.0)  \n",
       "5                 (0.01, 1.0)  "
      ]
     },
     "execution_count": 360,
     "metadata": {},
     "output_type": "execute_result"
    }
   ],
   "source": [
    "EN_data = []\n",
    "for i in range(len(EN_model)):\n",
    "    number = 0\n",
    "    select = (EN_model[i].best_estimator_).coef_\n",
    "    feature2 = []\n",
    "    for j in range(len(select)):\n",
    "        if select[j]: \n",
    "            feature2.append(all_features[j])\n",
    "            number += 1\n",
    "    EN_data.append({\n",
    "    'Predictor': predictors[i],\n",
    "    'Selected Features': feature2,\n",
    "    'Total Features Num': number,\n",
    "    'Training RMSE': (-EN_model[i].best_score_)**0.5,\n",
    "    'Testing RMSE': (mean_squared_error(test[predictors[i]], EN_model[i].predict(test[all_features])))**0.5,\n",
    "    'Model': EN_model[i].best_estimator_,\n",
    "    '𝛼/𝜌': EN_model[i].best_params_.values()\n",
    "    })\n",
    "EN_df = pd.DataFrame(EN_data)\n",
    "EN_df"
   ]
  },
  {
   "cell_type": "code",
   "execution_count": null,
   "metadata": {},
   "outputs": [],
   "source": []
  }
 ],
 "metadata": {
  "kernelspec": {
   "display_name": "Python 3",
   "language": "python",
   "name": "python3"
  },
  "language_info": {
   "codemirror_mode": {
    "name": "ipython",
    "version": 3
   },
   "file_extension": ".py",
   "mimetype": "text/x-python",
   "name": "python",
   "nbconvert_exporter": "python",
   "pygments_lexer": "ipython3",
   "version": "3.7.3"
  },
  "toc": {
   "base_numbering": 1,
   "nav_menu": {},
   "number_sections": true,
   "sideBar": true,
   "skip_h1_title": false,
   "title_cell": "Table of Contents",
   "title_sidebar": "Contents",
   "toc_cell": false,
   "toc_position": {},
   "toc_section_display": true,
   "toc_window_display": false
  },
  "varInspector": {
   "cols": {
    "lenName": 16,
    "lenType": 16,
    "lenVar": 40
   },
   "kernels_config": {
    "python": {
     "delete_cmd_postfix": "",
     "delete_cmd_prefix": "del ",
     "library": "var_list.py",
     "varRefreshCmd": "print(var_dic_list())"
    },
    "r": {
     "delete_cmd_postfix": ") ",
     "delete_cmd_prefix": "rm(",
     "library": "var_list.r",
     "varRefreshCmd": "cat(var_dic_list()) "
    }
   },
   "types_to_exclude": [
    "module",
    "function",
    "builtin_function_or_method",
    "instance",
    "_Feature"
   ],
   "window_display": false
  }
 },
 "nbformat": 4,
 "nbformat_minor": 2
}
